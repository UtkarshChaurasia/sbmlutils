{
 "cells": [
  {
   "cell_type": "markdown",
   "metadata": {},
   "source": [
    "# SBML manipulation\n",
    "`sbmlutils` provides functionality for manipulating existing models. Examples are the merging of multiple SBML models in a combined model.\n",
    "\n",
    "## Model merging\n",
    "Merge multiple models into a combined model using the `comp` package."
   ]
  },
  {
   "cell_type": "code",
   "execution_count": 1,
   "metadata": {},
   "outputs": [
    {
     "name": "stdout",
     "output_type": "stream",
     "text": [
      "{'BIOMD0000000001': '/home/mkoenig/git/sbmlutils/sbmlutils/tests/data/manipulation/merge/BIOMD0000000001.xml',\n",
      " 'BIOMD0000000002': '/home/mkoenig/git/sbmlutils/sbmlutils/tests/data/manipulation/merge/BIOMD0000000002.xml',\n",
      " 'BIOMD0000000003': '/home/mkoenig/git/sbmlutils/sbmlutils/tests/data/manipulation/merge/BIOMD0000000003.xml',\n",
      " 'BIOMD0000000004': '/home/mkoenig/git/sbmlutils/sbmlutils/tests/data/manipulation/merge/BIOMD0000000004.xml'}\n",
      "\u001b[1m\u001b[92m\n",
      "--------------------------------------------------------------------------------\n",
      "<SBMLDocument>\n",
      "valid                    : TRUE\n",
      "check time (s)           : 0.032\n",
      "--------------------------------------------------------------------------------\n",
      "\u001b[0m\u001b[0m\n",
      "<?xml version=\"1.0\" encoding=\"UTF-8\"?>\n",
      "<sbml xmlns=\"http://www.sbml.org/sbml/level3/version1/core\" xmlns:comp=\"http://www.sbml.org/sbml/level3/version1/comp/version1\" level=\"3\" version=\"1\" comp:required=\"true\">\n",
      "  <model id=\"merged\">\n",
      "    <comp:listOfSubmodels>\n",
      "      <comp:submodel comp:id=\"BIOMD0000000001\" comp:modelRef=\"BIOMD0000000001\"/>\n",
      "      <comp:submodel comp:id=\"BIOMD0000000002\" comp:modelRef=\"BIOMD0000000002\"/>\n",
      "      <comp:submodel comp:id=\"BIOMD0000000003\" comp:modelRef=\"BIOMD0000000003\"/>\n",
      "      <comp:submodel comp:id=\"BIOMD0000000004\" comp:modelRef=\"BIOMD0000000004\"/>\n",
      "    </comp:listOfSubmodels>\n",
      "  </model>\n",
      "  <comp:listOfExternalModelDefinitions>\n",
      "    <comp:externalModelDefinition comp:id=\"BIOMD0000000001\" comp:name=\"BIOMD0000000001\" comp:source=\"/home/mkoenig/git/sbmlutils/sbmlutils/tests/data/manipulation/merge/output/BIOMD0000000001_L3.xml\" comp:modelRef=\"BIOMD0000000001\"/>\n",
      "    <comp:externalModelDefinition comp:id=\"BIOMD0000000002\" comp:name=\"BIOMD0000000002\" comp:source=\"/home/mkoenig/git/sbmlutils/sbmlutils/tests/data/manipulation/merge/output/BIOMD0000000002_L3.xml\" comp:modelRef=\"BIOMD0000000002\"/>\n",
      "    <comp:externalModelDefinition comp:id=\"BIOMD0000000003\" comp:name=\"BIOMD0000000003\" comp:source=\"/home/mkoenig/git/sbmlutils/sbmlutils/tests/data/manipulation/merge/output/BIOMD0000000003_L3.xml\" comp:modelRef=\"BIOMD0000000003\"/>\n",
      "    <comp:externalModelDefinition comp:id=\"BIOMD0000000004\" comp:name=\"BIOMD0000000004\" comp:source=\"/home/mkoenig/git/sbmlutils/sbmlutils/tests/data/manipulation/merge/output/BIOMD0000000004_L3.xml\" comp:modelRef=\"BIOMD0000000004\"/>\n",
      "  </comp:listOfExternalModelDefinitions>\n",
      "</sbml>\n",
      "\n",
      "\u001b[1m\u001b[92m\n",
      "--------------------------------------------------------------------------------\n",
      "<SBMLDocument>\n",
      "valid                    : TRUE\n",
      "check time (s)           : 0.028\n",
      "--------------------------------------------------------------------------------\n",
      "\u001b[0m\u001b[0m\n"
     ]
    }
   ],
   "source": [
    "import os\n",
    "import libsbml\n",
    "from pprint import pprint\n",
    "\n",
    "from sbmlutils import comp\n",
    "from sbmlutils import validation\n",
    "from sbmlutils import manipulation\n",
    "from sbmlutils.tests.data import data_dir\n",
    "\n",
    "merge_dir = os.path.join(data_dir, 'manipulation', 'merge')\n",
    "\n",
    "# dictionary of ids & paths of models which should be combined\n",
    "# here we just bring together the first Biomodels\n",
    "model_ids = [\"BIOMD000000000{}\".format(k) for k in range(1, 5)]\n",
    "model_paths = dict(zip(model_ids,\n",
    "                       [os.path.join(merge_dir, \"{}.xml\".format(mid)) for mid in model_ids])\n",
    "                   )\n",
    "pprint(model_paths)\n",
    "\n",
    "# create merged model\n",
    "output_dir = os.path.join(merge_dir, 'output')\n",
    "doc = manipulation.merge_models(model_paths, out_dir=output_dir, validate=False)\n",
    "\n",
    "# validate\n",
    "Nall, Nerr, Nwarn = validation.check_doc(doc, units_consistency=False)\n",
    "assert Nerr == 0\n",
    "assert Nwarn == 0\n",
    "assert Nall == 0\n",
    "\n",
    "# write the merged model\n",
    "print(libsbml.writeSBMLToString(doc))\n",
    "libsbml.writeSBMLToFile(doc, os.path.join(output_dir, \"merged.xml\"))\n",
    "\n",
    "# flatten the merged model\n",
    "doc_flat = comp.flattenSBMLDocument(doc)\n",
    "Nall, Nerr, Nwarn = validation.check_doc(doc_flat, units_consistency=False)\n",
    "libsbml.writeSBMLToFile(doc_flat, os.path.join(output_dir, \"merged_flat.xml\"));"
   ]
  },
  {
   "cell_type": "code",
   "execution_count": null,
   "metadata": {},
   "outputs": [],
   "source": []
  }
 ],
 "metadata": {
  "kernelspec": {
   "display_name": "sbmlutils",
   "language": "python",
   "name": "sbmlutils"
  },
  "language_info": {
   "codemirror_mode": {
    "name": "ipython",
    "version": 3
   },
   "file_extension": ".py",
   "mimetype": "text/x-python",
   "name": "python",
   "nbconvert_exporter": "python",
   "pygments_lexer": "ipython3",
   "version": "3.6.8"
  }
 },
 "nbformat": 4,
 "nbformat_minor": 4
}
