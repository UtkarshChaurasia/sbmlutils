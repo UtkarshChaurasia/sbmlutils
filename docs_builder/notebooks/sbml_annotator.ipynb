{
 "cells": [
  {
   "cell_type": "markdown",
   "metadata": {},
   "source": [
    "# SBML annotation\n",
    "Annotation of model components with meta-information is an important step during model building. Annotation is the process of adding metadata to the model and model components. These metadata are mostly from biological ontologies or biological databases.\n",
    "\n",
    "`sbmlutils` provides functionality for annotating SBML models which can be used during model creation or later on to add annotations to SBML models. Annotations have the form of RDF triples consisting of the model component to annotate (subject), the relationship between model component and annotation term (predicate), and a term which describes the meaning of the component (object), which often comes from an ontology of defined terms.\n",
    "\n",
    "The predicates come from a clearly defined set of predicates, the MIRIAM qualifiers (https://co.mbine.org/standards/qualifiers).\n",
    "Ideally the objects, i.e. annotations, are defined in an ontology which is registered at https://identifiers.org (see https://registry.identifiers.org/registry for available resources).\n",
    "\n",
    "For more information of the importance of model annotations and best practises we refer to\n",
    "\n",
    "> Neal, M.L., König, M., Nickerson, D., Mısırlı, G., Kalbasi, R., Dräger, A., Atalag, K., Chelliah, V., Cooling, M.T., Cook, D.L. and Crook, S., 2019. Harmonizing semantic annotations for computational models in biology. Briefings in bioinformatics, 20(2), pp.540-550. [10.1093/bib/bby087](https://doi.org/10.1093/bib/bby087)\n",
    "\n",
    "> Le Novère, N., Finney, A., Hucka, M., Bhalla, U.S., Campagne, F., Collado-Vides, J., Crampin, E.J., Halstead, M., Klipp, E., Mendes, P. and Nielsen, P., 2005. Minimum information requested in the annotation of biochemical models (MIRIAM). Nature biotechnology, 23(12), pp.1509-1515. https://www.nature.com/articles/nbt1156\n",
    "\n",
    "Annotations in `sbmlutils` consist of associating `(predictate, object)` tuples to model components. For instance to describe that a `species` in the model is a certain entry from CHEBI, we associate `(BQB.IS, \"chebi/CHEBI:28061\")` with the species. In addition the special subset of annotations to the Systems Biology Ontology (SBO) can be directly set on all model components via the `sboTerm` attribute."
   ]
  },
  {
   "cell_type": "code",
   "execution_count": 1,
   "metadata": {},
   "outputs": [],
   "source": [
    "%load_ext autoreload\n",
    "%autoreload 2"
   ]
  },
  {
   "cell_type": "markdown",
   "metadata": {},
   "source": [
    "### Annotate during model creation\n",
    "In the example the model is annotated during the model creation process. Annotations are encoded as simple tuples consisting of MIRIAM identifiers terms and identifiers.org parts. The list of tuples is provided on object creation. In the example we annotate a `species`"
   ]
  },
  {
   "cell_type": "code",
   "execution_count": 2,
   "metadata": {},
   "outputs": [
    {
     "data": {
      "text/html": [
       "<pre style=\"white-space:pre;overflow-x:auto;line-height:normal;font-family:Menlo,'DejaVu Sans Mono',consolas,'Courier New',monospace\"><span style=\"color: #000080; text-decoration-color: #000080\">INFO    </span> Create SBML for model <span style=\"color: #008000; text-decoration-color: #008000\">'example_annotation'</span>                           <a href=\"file:///home/mkoenig/git/sbmlutils/src/sbmlutils/factory.py\"><span style=\"color: #7f7f7f; text-decoration-color: #7f7f7f\">factory.py</span></a><span style=\"color: #7f7f7f; text-decoration-color: #7f7f7f\">:2896</span>\n",
       "</pre>\n"
      ],
      "text/plain": [
       "\u001b[34mINFO    \u001b[0m Create SBML for model \u001b[32m'example_annotation'\u001b[0m                           \u001b]8;id=45992;file:///home/mkoenig/git/sbmlutils/src/sbmlutils/factory.py\u001b\\\u001b[2mfactory.py\u001b[0m\u001b]8;;\u001b\\\u001b[2m:2896\u001b[0m\n"
      ]
     },
     "metadata": {},
     "output_type": "display_data"
    },
    {
     "data": {
      "text/html": [
       "<pre style=\"white-space:pre;overflow-x:auto;line-height:normal;font-family:Menlo,'DejaVu Sans Mono',consolas,'Courier New',monospace\"><span style=\"color: #800000; text-decoration-color: #800000\">WARNING </span> <span style=\"color: #008000; text-decoration-color: #008000\">'name'</span> should be set on <span style=\"color: #008000; text-decoration-color: #008000\">'&lt;Model example_annotation&gt;'</span>                  <a href=\"file:///home/mkoenig/git/sbmlutils/src/sbmlutils/factory.py\"><span style=\"color: #7f7f7f; text-decoration-color: #7f7f7f\">factory.py</span></a><span style=\"color: #7f7f7f; text-decoration-color: #7f7f7f\">:436</span>\n",
       "</pre>\n"
      ],
      "text/plain": [
       "\u001b[31mWARNING \u001b[0m \u001b[32m'name'\u001b[0m should be set on \u001b[32m'\u001b[0m\u001b[32m<\u001b[0m\u001b[32mModel\u001b[0m\u001b[32m example_annotation\u001b[0m\u001b[32m>\u001b[0m\u001b[32m'\u001b[0m                  \u001b]8;id=726887;file:///home/mkoenig/git/sbmlutils/src/sbmlutils/factory.py\u001b\\\u001b[2mfactory.py\u001b[0m\u001b]8;;\u001b\\\u001b[2m:436\u001b[0m\n"
      ]
     },
     "metadata": {},
     "output_type": "display_data"
    },
    {
     "data": {
      "text/html": [
       "<pre style=\"white-space:pre;overflow-x:auto;line-height:normal;font-family:Menlo,'DejaVu Sans Mono',consolas,'Courier New',monospace\"><span style=\"color: #800000; text-decoration-color: #800000\">WARNING </span> <span style=\"color: #008000; text-decoration-color: #008000\">'name'</span> should be set on <span style=\"color: #008000; text-decoration-color: #008000\">'&lt;Compartment C&gt;'</span>                             <a href=\"file:///home/mkoenig/git/sbmlutils/src/sbmlutils/factory.py\"><span style=\"color: #7f7f7f; text-decoration-color: #7f7f7f\">factory.py</span></a><span style=\"color: #7f7f7f; text-decoration-color: #7f7f7f\">:436</span>\n",
       "</pre>\n"
      ],
      "text/plain": [
       "\u001b[31mWARNING \u001b[0m \u001b[32m'name'\u001b[0m should be set on \u001b[32m'\u001b[0m\u001b[32m<\u001b[0m\u001b[32mCompartment\u001b[0m\u001b[32m C\u001b[0m\u001b[32m>\u001b[0m\u001b[32m'\u001b[0m                             \u001b]8;id=849468;file:///home/mkoenig/git/sbmlutils/src/sbmlutils/factory.py\u001b\\\u001b[2mfactory.py\u001b[0m\u001b]8;;\u001b\\\u001b[2m:436\u001b[0m\n"
      ]
     },
     "metadata": {},
     "output_type": "display_data"
    },
    {
     "name": "stdout",
     "output_type": "stream",
     "text": [
      "<?xml version=\"1.0\" encoding=\"UTF-8\"?>\n",
      "<sbml xmlns=\"http://www.sbml.org/sbml/level3/version1/core\" xmlns:comp=\"http://www.sbml.org/sbml/level3/version1/comp/version1\" level=\"3\" version=\"1\" comp:required=\"true\">\n",
      "  <notes>\n",
      "    <body xmlns=\"http://www.w3.org/1999/xhtml\">\n",
      "      <p>Created with <a href=\"https://github.com/matthiaskoenig/sbmlutils\">https://github.com/matthiaskoenig/sbmlutils</a>.\n",
      "<a href=\"https://doi.org/10.5281/zenodo.5525390\">\n",
      "        <img src=\"https://zenodo.org/badge/DOI/10.5281/zenodo.5525390.svg\" alt=\"DOI\"/></a></p>\n",
      "      </body>\n",
      "    </notes>\n",
      "  <model id=\"example_annotation\">\n",
      "    <listOfCompartments>\n",
      "      <compartment metaid=\"meta_C\" sboTerm=\"SBO:0000290\" id=\"C\" spatialDimensions=\"3\" size=\"1\" constant=\"true\">\n",
      "        <annotation>\n",
      "          <rdf:RDF xmlns:rdf=\"http://www.w3.org/1999/02/22-rdf-syntax-ns#\" xmlns:dcterms=\"http://purl.org/dc/terms/\" xmlns:vCard=\"http://www.w3.org/2001/vcard-rdf/3.0#\" xmlns:vCard4=\"http://www.w3.org/2006/vcard/ns#\" xmlns:bqbiol=\"http://biomodels.net/biology-qualifiers/\" xmlns:bqmodel=\"http://biomodels.net/model-qualifiers/\">\n",
      "            <rdf:Description rdf:about=\"#meta_C\">\n",
      "              <bqbiol:is>\n",
      "                <rdf:Bag>\n",
      "                  <rdf:li rdf:resource=\"https://identifiers.org/SBO:0000290\"/>\n",
      "                </rdf:Bag>\n",
      "              </bqbiol:is>\n",
      "            </rdf:Description>\n",
      "          </rdf:RDF>\n",
      "        </annotation>\n",
      "      </compartment>\n",
      "    </listOfCompartments>\n",
      "    <listOfSpecies>\n",
      "      <species metaid=\"meta_gal\" sboTerm=\"SBO:0000247\" id=\"gal\" name=\"D-galactose\" compartment=\"C\" initialConcentration=\"3\" hasOnlySubstanceUnits=\"false\" boundaryCondition=\"false\" constant=\"false\">\n",
      "        <annotation>\n",
      "          <rdf:RDF xmlns:rdf=\"http://www.w3.org/1999/02/22-rdf-syntax-ns#\" xmlns:dcterms=\"http://purl.org/dc/terms/\" xmlns:vCard=\"http://www.w3.org/2001/vcard-rdf/3.0#\" xmlns:vCard4=\"http://www.w3.org/2006/vcard/ns#\" xmlns:bqbiol=\"http://biomodels.net/biology-qualifiers/\" xmlns:bqmodel=\"http://biomodels.net/model-qualifiers/\">\n",
      "            <rdf:Description rdf:about=\"#meta_gal\">\n",
      "              <bqbiol:is>\n",
      "                <rdf:Bag>\n",
      "                  <rdf:li rdf:resource=\"https://identifiers.org/SBO:0000247\"/>\n",
      "                  <rdf:li rdf:resource=\"https://identifiers.org/bigg.metabolite/gal\"/>\n",
      "                  <rdf:li rdf:resource=\"https://identifiers.org/CHEBI:28061\"/>\n",
      "                  <rdf:li rdf:resource=\"https://identifiers.org/vmhmetabolite/gal\"/>\n",
      "                </rdf:Bag>\n",
      "              </bqbiol:is>\n",
      "            </rdf:Description>\n",
      "          </rdf:RDF>\n",
      "        </annotation>\n",
      "      </species>\n",
      "    </listOfSpecies>\n",
      "  </model>\n",
      "</sbml>\n",
      "\n"
     ]
    },
    {
     "data": {
      "text/html": [
       "<pre style=\"white-space:pre;overflow-x:auto;line-height:normal;font-family:Menlo,'DejaVu Sans Mono',consolas,'Courier New',monospace\"><span style=\"color: #000080; text-decoration-color: #000080\">INFO    </span> Create SBML for model <span style=\"color: #008000; text-decoration-color: #008000\">'example_annotation'</span>                           <a href=\"file:///home/mkoenig/git/sbmlutils/src/sbmlutils/factory.py\"><span style=\"color: #7f7f7f; text-decoration-color: #7f7f7f\">factory.py</span></a><span style=\"color: #7f7f7f; text-decoration-color: #7f7f7f\">:2896</span>\n",
       "</pre>\n"
      ],
      "text/plain": [
       "\u001b[34mINFO    \u001b[0m Create SBML for model \u001b[32m'example_annotation'\u001b[0m                           \u001b]8;id=466647;file:///home/mkoenig/git/sbmlutils/src/sbmlutils/factory.py\u001b\\\u001b[2mfactory.py\u001b[0m\u001b]8;;\u001b\\\u001b[2m:2896\u001b[0m\n"
      ]
     },
     "metadata": {},
     "output_type": "display_data"
    },
    {
     "data": {
      "text/html": [
       "<pre style=\"white-space:pre;overflow-x:auto;line-height:normal;font-family:Menlo,'DejaVu Sans Mono',consolas,'Courier New',monospace\"><span style=\"color: #800000; text-decoration-color: #800000\">WARNING </span> <span style=\"color: #008000; text-decoration-color: #008000\">'name'</span> should be set on <span style=\"color: #008000; text-decoration-color: #008000\">'&lt;Model example_annotation&gt;'</span>                  <a href=\"file:///home/mkoenig/git/sbmlutils/src/sbmlutils/factory.py\"><span style=\"color: #7f7f7f; text-decoration-color: #7f7f7f\">factory.py</span></a><span style=\"color: #7f7f7f; text-decoration-color: #7f7f7f\">:436</span>\n",
       "</pre>\n"
      ],
      "text/plain": [
       "\u001b[31mWARNING \u001b[0m \u001b[32m'name'\u001b[0m should be set on \u001b[32m'\u001b[0m\u001b[32m<\u001b[0m\u001b[32mModel\u001b[0m\u001b[32m example_annotation\u001b[0m\u001b[32m>\u001b[0m\u001b[32m'\u001b[0m                  \u001b]8;id=102289;file:///home/mkoenig/git/sbmlutils/src/sbmlutils/factory.py\u001b\\\u001b[2mfactory.py\u001b[0m\u001b]8;;\u001b\\\u001b[2m:436\u001b[0m\n"
      ]
     },
     "metadata": {},
     "output_type": "display_data"
    },
    {
     "data": {
      "text/html": [
       "<pre style=\"white-space:pre;overflow-x:auto;line-height:normal;font-family:Menlo,'DejaVu Sans Mono',consolas,'Courier New',monospace\"><span style=\"color: #800000; text-decoration-color: #800000\">WARNING </span> <span style=\"color: #008000; text-decoration-color: #008000\">'name'</span> should be set on <span style=\"color: #008000; text-decoration-color: #008000\">'&lt;Compartment C&gt;'</span>                             <a href=\"file:///home/mkoenig/git/sbmlutils/src/sbmlutils/factory.py\"><span style=\"color: #7f7f7f; text-decoration-color: #7f7f7f\">factory.py</span></a><span style=\"color: #7f7f7f; text-decoration-color: #7f7f7f\">:436</span>\n",
       "</pre>\n"
      ],
      "text/plain": [
       "\u001b[31mWARNING \u001b[0m \u001b[32m'name'\u001b[0m should be set on \u001b[32m'\u001b[0m\u001b[32m<\u001b[0m\u001b[32mCompartment\u001b[0m\u001b[32m C\u001b[0m\u001b[32m>\u001b[0m\u001b[32m'\u001b[0m                             \u001b]8;id=737906;file:///home/mkoenig/git/sbmlutils/src/sbmlutils/factory.py\u001b\\\u001b[2mfactory.py\u001b[0m\u001b]8;;\u001b\\\u001b[2m:436\u001b[0m\n"
      ]
     },
     "metadata": {},
     "output_type": "display_data"
    },
    {
     "data": {
      "text/html": [
       "<pre style=\"white-space:pre;overflow-x:auto;line-height:normal;font-family:Menlo,'DejaVu Sans Mono',consolas,'Courier New',monospace\">\n",
       "</pre>\n"
      ],
      "text/plain": [
       "\n"
      ]
     },
     "metadata": {},
     "output_type": "display_data"
    },
    {
     "data": {
      "text/html": [
       "<pre style=\"white-space:pre;overflow-x:auto;line-height:normal;font-family:Menlo,'DejaVu Sans Mono',consolas,'Courier New',monospace\"><span style=\"color: #008000; text-decoration-color: #008000\">─────────────────────────────────────── </span>Validate SBML<span style=\"color: #008000; text-decoration-color: #008000\"> ───────────────────────────────────────</span>\n",
       "</pre>\n"
      ],
      "text/plain": [
       "\u001b[32m─────────────────────────────────────── \u001b[0mValidate SBML\u001b[32m ───────────────────────────────────────\u001b[0m\n"
      ]
     },
     "metadata": {},
     "output_type": "display_data"
    },
    {
     "data": {
      "text/html": [
       "<pre style=\"white-space:pre;overflow-x:auto;line-height:normal;font-family:Menlo,'DejaVu Sans Mono',consolas,'Courier New',monospace\"><span style=\"color: #008000; text-decoration-color: #008000; font-weight: bold\">&lt;</span><span style=\"color: #ff00ff; text-decoration-color: #ff00ff; font-weight: bold\">SBMLDocument</span><span style=\"color: #008000; text-decoration-color: #008000; font-weight: bold\">&gt;</span>\n",
       "<span style=\"color: #008000; text-decoration-color: #008000\">valid                    : TRUE</span>\n",
       "<span style=\"color: #008000; text-decoration-color: #008000\">check time </span><span style=\"color: #008000; text-decoration-color: #008000; font-weight: bold\">(</span><span style=\"color: #008000; text-decoration-color: #008000\">s</span><span style=\"color: #008000; text-decoration-color: #008000; font-weight: bold\">)</span><span style=\"color: #008000; text-decoration-color: #008000\">           : </span><span style=\"color: #008080; text-decoration-color: #008080; font-weight: bold\">0.003</span>\n",
       "</pre>\n"
      ],
      "text/plain": [
       "\u001b[1;32m<\u001b[0m\u001b[1;95mSBMLDocument\u001b[0m\u001b[1;32m>\u001b[0m\n",
       "\u001b[32mvalid                    : TRUE\u001b[0m\n",
       "\u001b[32mcheck time \u001b[0m\u001b[1;32m(\u001b[0m\u001b[32ms\u001b[0m\u001b[1;32m)\u001b[0m\u001b[32m           : \u001b[0m\u001b[1;36m0.003\u001b[0m\n"
      ]
     },
     "metadata": {},
     "output_type": "display_data"
    },
    {
     "data": {
      "text/html": [
       "<pre style=\"white-space:pre;overflow-x:auto;line-height:normal;font-family:Menlo,'DejaVu Sans Mono',consolas,'Courier New',monospace\"><span style=\"color: #008000; text-decoration-color: #008000\">─────────────────────────────────────────────────────────────────────────────────────────────</span>\n",
       "</pre>\n"
      ],
      "text/plain": [
       "\u001b[32m─────────────────────────────────────────────────────────────────────────────────────────────\u001b[0m\n"
      ]
     },
     "metadata": {},
     "output_type": "display_data"
    },
    {
     "data": {
      "text/html": [
       "<pre style=\"white-space:pre;overflow-x:auto;line-height:normal;font-family:Menlo,'DejaVu Sans Mono',consolas,'Courier New',monospace\">\n",
       "</pre>\n"
      ],
      "text/plain": [
       "\n"
      ]
     },
     "metadata": {},
     "output_type": "display_data"
    }
   ],
   "source": [
    "from sbmlutils.factory import *\n",
    "from sbmlutils.metadata import *\n",
    "from sbmlutils.validation import validate_doc\n",
    "\n",
    "model = Model(\n",
    "    'example_annotation',\n",
    "    compartments=[\n",
    "        Compartment(sid=\"C\", value=1.0, sboTerm=SBO.PHYSICAL_COMPARTMENT)\n",
    "    ],\n",
    "    species = [\n",
    "        Species(sid='gal', compartment='C', initialConcentration=3.0,\n",
    "                name='D-galactose', sboTerm=SBO.SIMPLE_CHEMICAL,\n",
    "                annotations=[\n",
    "                    (BQB.IS, \"bigg.metabolite/gal\"),  # galactose\n",
    "                    (BQB.IS, \"chebi/CHEBI:28061\"),  # alpha-D-galactose\n",
    "                    (BQB.IS, \"vmhmetabolite/gal\"),\n",
    "                ]\n",
    "        )\n",
    "    ]\n",
    ")\n",
    "\n",
    "# create model and print SBML\n",
    "doc = Document(model)\n",
    "print(doc.get_sbml())\n",
    "\n",
    "# validate model\n",
    "validate_doc(doc.create_sbml(), units_consistency=False);"
   ]
  },
  {
   "cell_type": "markdown",
   "metadata": {},
   "source": [
    "For a more complete example see [model_with_annotations.py](./model_with_annotations.py) which creates annotations of the form\n",
    "```\n",
    "    Species(sid='e__gal', compartment='ext', initialConcentration=3.0,\n",
    "                substanceUnit=UNIT_KIND_MOLE, boundaryCondition=True,\n",
    "                name='D-galactose', sboTerm=SBO_SIMPLE_CHEMICAL,\n",
    "                annotations=[\n",
    "                    (BQB.IS, \"bigg.metabolite/gal\"),  # galactose\n",
    "                    (BQB.IS, \"chebi/CHEBI:28061\"),  # alpha-D-galactose\n",
    "                    (BQB.IS, \"vmhmetabolite/gal\"),\n",
    "                ]\n",
    "            ),\n",
    "```"
   ]
  },
  {
   "cell_type": "code",
   "execution_count": 3,
   "metadata": {},
   "outputs": [
    {
     "data": {
      "text/html": [
       "<pre style=\"white-space:pre;overflow-x:auto;line-height:normal;font-family:Menlo,'DejaVu Sans Mono',consolas,'Courier New',monospace\"><span style=\"color: #c0c0c0; text-decoration-color: #c0c0c0\">──────────────────────────────────────── </span>Create SBML<span style=\"color: #c0c0c0; text-decoration-color: #c0c0c0\"> ────────────────────────────────────────</span>\n",
       "</pre>\n"
      ],
      "text/plain": [
       "\u001b[37m──────────────────────────────────────── \u001b[0mCreate SBML\u001b[37m ────────────────────────────────────────\u001b[0m\n"
      ]
     },
     "metadata": {},
     "output_type": "display_data"
    },
    {
     "data": {
      "text/html": [
       "<pre style=\"white-space:pre;overflow-x:auto;line-height:normal;font-family:Menlo,'DejaVu Sans Mono',consolas,'Courier New',monospace\"><span style=\"color: #000080; text-decoration-color: #000080\">INFO    </span> Create SBML for model <span style=\"color: #008000; text-decoration-color: #008000\">'annotation_example'</span>                           <a href=\"file:///home/mkoenig/git/sbmlutils/src/sbmlutils/factory.py\"><span style=\"color: #7f7f7f; text-decoration-color: #7f7f7f\">factory.py</span></a><span style=\"color: #7f7f7f; text-decoration-color: #7f7f7f\">:2896</span>\n",
       "</pre>\n"
      ],
      "text/plain": [
       "\u001b[34mINFO    \u001b[0m Create SBML for model \u001b[32m'annotation_example'\u001b[0m                           \u001b]8;id=174631;file:///home/mkoenig/git/sbmlutils/src/sbmlutils/factory.py\u001b\\\u001b[2mfactory.py\u001b[0m\u001b]8;;\u001b\\\u001b[2m:2896\u001b[0m\n"
      ]
     },
     "metadata": {},
     "output_type": "display_data"
    },
    {
     "data": {
      "text/html": [
       "<pre style=\"white-space:pre;overflow-x:auto;line-height:normal;font-family:Menlo,'DejaVu Sans Mono',consolas,'Courier New',monospace\"><span style=\"color: #800000; text-decoration-color: #800000\">WARNING </span> <span style=\"color: #008000; text-decoration-color: #008000\">'name'</span> should be set on <span style=\"color: #008000; text-decoration-color: #008000\">'&lt;Model annotation_example&gt;'</span>                  <a href=\"file:///home/mkoenig/git/sbmlutils/src/sbmlutils/factory.py\"><span style=\"color: #7f7f7f; text-decoration-color: #7f7f7f\">factory.py</span></a><span style=\"color: #7f7f7f; text-decoration-color: #7f7f7f\">:436</span>\n",
       "</pre>\n"
      ],
      "text/plain": [
       "\u001b[31mWARNING \u001b[0m \u001b[32m'name'\u001b[0m should be set on \u001b[32m'\u001b[0m\u001b[32m<\u001b[0m\u001b[32mModel\u001b[0m\u001b[32m annotation_example\u001b[0m\u001b[32m>\u001b[0m\u001b[32m'\u001b[0m                  \u001b]8;id=368512;file:///home/mkoenig/git/sbmlutils/src/sbmlutils/factory.py\u001b\\\u001b[2mfactory.py\u001b[0m\u001b]8;;\u001b\\\u001b[2m:436\u001b[0m\n"
      ]
     },
     "metadata": {},
     "output_type": "display_data"
    },
    {
     "data": {
      "text/html": [
       "<pre style=\"white-space:pre;overflow-x:auto;line-height:normal;font-family:Menlo,'DejaVu Sans Mono',consolas,'Courier New',monospace\"><span style=\"color: #800000; text-decoration-color: #800000\">WARNING </span> <span style=\"color: #008000; text-decoration-color: #008000\">'sboTerm'</span> should be set on <span style=\"color: #008000; text-decoration-color: #008000\">'&lt;Parameter x_cell|cell diameter&gt;'</span>         <a href=\"file:///home/mkoenig/git/sbmlutils/src/sbmlutils/factory.py\"><span style=\"color: #7f7f7f; text-decoration-color: #7f7f7f\">factory.py</span></a><span style=\"color: #7f7f7f; text-decoration-color: #7f7f7f\">:461</span>\n",
       "</pre>\n"
      ],
      "text/plain": [
       "\u001b[31mWARNING \u001b[0m \u001b[32m'sboTerm'\u001b[0m should be set on \u001b[32m'\u001b[0m\u001b[32m<\u001b[0m\u001b[32mParameter\u001b[0m\u001b[32m x_cell|cell diameter\u001b[0m\u001b[32m>\u001b[0m\u001b[32m'\u001b[0m         \u001b]8;id=780060;file:///home/mkoenig/git/sbmlutils/src/sbmlutils/factory.py\u001b\\\u001b[2mfactory.py\u001b[0m\u001b]8;;\u001b\\\u001b[2m:461\u001b[0m\n"
      ]
     },
     "metadata": {},
     "output_type": "display_data"
    },
    {
     "data": {
      "text/html": [
       "<pre style=\"white-space:pre;overflow-x:auto;line-height:normal;font-family:Menlo,'DejaVu Sans Mono',consolas,'Courier New',monospace\"><span style=\"color: #800000; text-decoration-color: #800000\">WARNING </span> <span style=\"color: #008000; text-decoration-color: #008000\">'sboTerm'</span> should be set on <span style=\"color: #008000; text-decoration-color: #008000\">'&lt;Parameter Vol_e|external volume&gt;'</span>        <a href=\"file:///home/mkoenig/git/sbmlutils/src/sbmlutils/factory.py\"><span style=\"color: #7f7f7f; text-decoration-color: #7f7f7f\">factory.py</span></a><span style=\"color: #7f7f7f; text-decoration-color: #7f7f7f\">:461</span>\n",
       "</pre>\n"
      ],
      "text/plain": [
       "\u001b[31mWARNING \u001b[0m \u001b[32m'sboTerm'\u001b[0m should be set on \u001b[32m'\u001b[0m\u001b[32m<\u001b[0m\u001b[32mParameter\u001b[0m\u001b[32m Vol_e|external volume\u001b[0m\u001b[32m>\u001b[0m\u001b[32m'\u001b[0m        \u001b]8;id=471332;file:///home/mkoenig/git/sbmlutils/src/sbmlutils/factory.py\u001b\\\u001b[2mfactory.py\u001b[0m\u001b]8;;\u001b\\\u001b[2m:461\u001b[0m\n"
      ]
     },
     "metadata": {},
     "output_type": "display_data"
    },
    {
     "data": {
      "text/html": [
       "<pre style=\"white-space:pre;overflow-x:auto;line-height:normal;font-family:Menlo,'DejaVu Sans Mono',consolas,'Courier New',monospace\"><span style=\"color: #800000; text-decoration-color: #800000\">WARNING </span> <span style=\"color: #008000; text-decoration-color: #008000\">'sboTerm'</span> should be set on <span style=\"color: #008000; text-decoration-color: #008000\">'&lt;Parameter A_m|membrane area&gt;'</span>            <a href=\"file:///home/mkoenig/git/sbmlutils/src/sbmlutils/factory.py\"><span style=\"color: #7f7f7f; text-decoration-color: #7f7f7f\">factory.py</span></a><span style=\"color: #7f7f7f; text-decoration-color: #7f7f7f\">:461</span>\n",
       "</pre>\n"
      ],
      "text/plain": [
       "\u001b[31mWARNING \u001b[0m \u001b[32m'sboTerm'\u001b[0m should be set on \u001b[32m'\u001b[0m\u001b[32m<\u001b[0m\u001b[32mParameter\u001b[0m\u001b[32m A_m|membrane area\u001b[0m\u001b[32m>\u001b[0m\u001b[32m'\u001b[0m            \u001b]8;id=761897;file:///home/mkoenig/git/sbmlutils/src/sbmlutils/factory.py\u001b\\\u001b[2mfactory.py\u001b[0m\u001b]8;;\u001b\\\u001b[2m:461\u001b[0m\n"
      ]
     },
     "metadata": {},
     "output_type": "display_data"
    },
    {
     "data": {
      "text/html": [
       "<pre style=\"white-space:pre;overflow-x:auto;line-height:normal;font-family:Menlo,'DejaVu Sans Mono',consolas,'Courier New',monospace\"><span style=\"color: #800000; text-decoration-color: #800000\">WARNING </span> <span style=\"color: #008000; text-decoration-color: #008000\">'name'</span> should be set on <span style=\"color: #008000; text-decoration-color: #008000\">'&lt;InitialAssignment ext&gt;'</span>                     <a href=\"file:///home/mkoenig/git/sbmlutils/src/sbmlutils/factory.py\"><span style=\"color: #7f7f7f; text-decoration-color: #7f7f7f\">factory.py</span></a><span style=\"color: #7f7f7f; text-decoration-color: #7f7f7f\">:436</span>\n",
       "</pre>\n"
      ],
      "text/plain": [
       "\u001b[31mWARNING \u001b[0m \u001b[32m'name'\u001b[0m should be set on \u001b[32m'\u001b[0m\u001b[32m<\u001b[0m\u001b[32mInitialAssignment\u001b[0m\u001b[32m ext\u001b[0m\u001b[32m>\u001b[0m\u001b[32m'\u001b[0m                     \u001b]8;id=791372;file:///home/mkoenig/git/sbmlutils/src/sbmlutils/factory.py\u001b\\\u001b[2mfactory.py\u001b[0m\u001b]8;;\u001b\\\u001b[2m:436\u001b[0m\n"
      ]
     },
     "metadata": {},
     "output_type": "display_data"
    },
    {
     "data": {
      "text/html": [
       "<pre style=\"white-space:pre;overflow-x:auto;line-height:normal;font-family:Menlo,'DejaVu Sans Mono',consolas,'Courier New',monospace\"><span style=\"color: #800000; text-decoration-color: #800000\">WARNING </span> <span style=\"color: #008000; text-decoration-color: #008000\">'sboTerm'</span> should be set on <span style=\"color: #008000; text-decoration-color: #008000\">'&lt;InitialAssignment ext&gt;'</span>                  <a href=\"file:///home/mkoenig/git/sbmlutils/src/sbmlutils/factory.py\"><span style=\"color: #7f7f7f; text-decoration-color: #7f7f7f\">factory.py</span></a><span style=\"color: #7f7f7f; text-decoration-color: #7f7f7f\">:461</span>\n",
       "</pre>\n"
      ],
      "text/plain": [
       "\u001b[31mWARNING \u001b[0m \u001b[32m'sboTerm'\u001b[0m should be set on \u001b[32m'\u001b[0m\u001b[32m<\u001b[0m\u001b[32mInitialAssignment\u001b[0m\u001b[32m ext\u001b[0m\u001b[32m>\u001b[0m\u001b[32m'\u001b[0m                  \u001b]8;id=595706;file:///home/mkoenig/git/sbmlutils/src/sbmlutils/factory.py\u001b\\\u001b[2mfactory.py\u001b[0m\u001b]8;;\u001b\\\u001b[2m:461\u001b[0m\n"
      ]
     },
     "metadata": {},
     "output_type": "display_data"
    },
    {
     "data": {
      "text/html": [
       "<pre style=\"white-space:pre;overflow-x:auto;line-height:normal;font-family:Menlo,'DejaVu Sans Mono',consolas,'Courier New',monospace\"><span style=\"color: #800000; text-decoration-color: #800000\">WARNING </span> <span style=\"color: #008000; text-decoration-color: #008000\">'name'</span> should be set on <span style=\"color: #008000; text-decoration-color: #008000\">'&lt;InitialAssignment pm&gt;'</span>                      <a href=\"file:///home/mkoenig/git/sbmlutils/src/sbmlutils/factory.py\"><span style=\"color: #7f7f7f; text-decoration-color: #7f7f7f\">factory.py</span></a><span style=\"color: #7f7f7f; text-decoration-color: #7f7f7f\">:436</span>\n",
       "</pre>\n"
      ],
      "text/plain": [
       "\u001b[31mWARNING \u001b[0m \u001b[32m'name'\u001b[0m should be set on \u001b[32m'\u001b[0m\u001b[32m<\u001b[0m\u001b[32mInitialAssignment\u001b[0m\u001b[32m pm\u001b[0m\u001b[32m>\u001b[0m\u001b[32m'\u001b[0m                      \u001b]8;id=450125;file:///home/mkoenig/git/sbmlutils/src/sbmlutils/factory.py\u001b\\\u001b[2mfactory.py\u001b[0m\u001b]8;;\u001b\\\u001b[2m:436\u001b[0m\n"
      ]
     },
     "metadata": {},
     "output_type": "display_data"
    },
    {
     "data": {
      "text/html": [
       "<pre style=\"white-space:pre;overflow-x:auto;line-height:normal;font-family:Menlo,'DejaVu Sans Mono',consolas,'Courier New',monospace\"><span style=\"color: #800000; text-decoration-color: #800000\">WARNING </span> <span style=\"color: #008000; text-decoration-color: #008000\">'sboTerm'</span> should be set on <span style=\"color: #008000; text-decoration-color: #008000\">'&lt;InitialAssignment pm&gt;'</span>                   <a href=\"file:///home/mkoenig/git/sbmlutils/src/sbmlutils/factory.py\"><span style=\"color: #7f7f7f; text-decoration-color: #7f7f7f\">factory.py</span></a><span style=\"color: #7f7f7f; text-decoration-color: #7f7f7f\">:461</span>\n",
       "</pre>\n"
      ],
      "text/plain": [
       "\u001b[31mWARNING \u001b[0m \u001b[32m'sboTerm'\u001b[0m should be set on \u001b[32m'\u001b[0m\u001b[32m<\u001b[0m\u001b[32mInitialAssignment\u001b[0m\u001b[32m pm\u001b[0m\u001b[32m>\u001b[0m\u001b[32m'\u001b[0m                   \u001b]8;id=933697;file:///home/mkoenig/git/sbmlutils/src/sbmlutils/factory.py\u001b\\\u001b[2mfactory.py\u001b[0m\u001b]8;;\u001b\\\u001b[2m:461\u001b[0m\n"
      ]
     },
     "metadata": {},
     "output_type": "display_data"
    },
    {
     "data": {
      "text/html": [
       "<pre style=\"white-space:pre;overflow-x:auto;line-height:normal;font-family:Menlo,'DejaVu Sans Mono',consolas,'Courier New',monospace\"><span style=\"color: #800000; text-decoration-color: #800000\">WARNING </span> <span style=\"color: #008000; text-decoration-color: #008000\">'name'</span> should be set on <span style=\"color: #008000; text-decoration-color: #008000\">'&lt;Parameter Vol_c&gt;'</span>                           <a href=\"file:///home/mkoenig/git/sbmlutils/src/sbmlutils/factory.py\"><span style=\"color: #7f7f7f; text-decoration-color: #7f7f7f\">factory.py</span></a><span style=\"color: #7f7f7f; text-decoration-color: #7f7f7f\">:436</span>\n",
       "</pre>\n"
      ],
      "text/plain": [
       "\u001b[31mWARNING \u001b[0m \u001b[32m'name'\u001b[0m should be set on \u001b[32m'\u001b[0m\u001b[32m<\u001b[0m\u001b[32mParameter\u001b[0m\u001b[32m Vol_c\u001b[0m\u001b[32m>\u001b[0m\u001b[32m'\u001b[0m                           \u001b]8;id=345189;file:///home/mkoenig/git/sbmlutils/src/sbmlutils/factory.py\u001b\\\u001b[2mfactory.py\u001b[0m\u001b]8;;\u001b\\\u001b[2m:436\u001b[0m\n"
      ]
     },
     "metadata": {},
     "output_type": "display_data"
    },
    {
     "data": {
      "text/html": [
       "<pre style=\"white-space:pre;overflow-x:auto;line-height:normal;font-family:Menlo,'DejaVu Sans Mono',consolas,'Courier New',monospace\"><span style=\"color: #800000; text-decoration-color: #800000\">WARNING </span> <span style=\"color: #008000; text-decoration-color: #008000\">'sboTerm'</span> should be set on <span style=\"color: #008000; text-decoration-color: #008000\">'&lt;Parameter Vol_c&gt;'</span>                        <a href=\"file:///home/mkoenig/git/sbmlutils/src/sbmlutils/factory.py\"><span style=\"color: #7f7f7f; text-decoration-color: #7f7f7f\">factory.py</span></a><span style=\"color: #7f7f7f; text-decoration-color: #7f7f7f\">:461</span>\n",
       "</pre>\n"
      ],
      "text/plain": [
       "\u001b[31mWARNING \u001b[0m \u001b[32m'sboTerm'\u001b[0m should be set on \u001b[32m'\u001b[0m\u001b[32m<\u001b[0m\u001b[32mParameter\u001b[0m\u001b[32m Vol_c\u001b[0m\u001b[32m>\u001b[0m\u001b[32m'\u001b[0m                        \u001b]8;id=51300;file:///home/mkoenig/git/sbmlutils/src/sbmlutils/factory.py\u001b\\\u001b[2mfactory.py\u001b[0m\u001b]8;;\u001b\\\u001b[2m:461\u001b[0m\n"
      ]
     },
     "metadata": {},
     "output_type": "display_data"
    },
    {
     "data": {
      "text/html": [
       "<pre style=\"white-space:pre;overflow-x:auto;line-height:normal;font-family:Menlo,'DejaVu Sans Mono',consolas,'Courier New',monospace\"><span style=\"color: #800000; text-decoration-color: #800000\">WARNING </span> <span style=\"color: #008000; text-decoration-color: #008000\">'name'</span> should be set on <span style=\"color: #008000; text-decoration-color: #008000\">'&lt;InitialAssignment Vol_c&gt;'</span>                   <a href=\"file:///home/mkoenig/git/sbmlutils/src/sbmlutils/factory.py\"><span style=\"color: #7f7f7f; text-decoration-color: #7f7f7f\">factory.py</span></a><span style=\"color: #7f7f7f; text-decoration-color: #7f7f7f\">:436</span>\n",
       "</pre>\n"
      ],
      "text/plain": [
       "\u001b[31mWARNING \u001b[0m \u001b[32m'name'\u001b[0m should be set on \u001b[32m'\u001b[0m\u001b[32m<\u001b[0m\u001b[32mInitialAssignment\u001b[0m\u001b[32m Vol_c\u001b[0m\u001b[32m>\u001b[0m\u001b[32m'\u001b[0m                   \u001b]8;id=780182;file:///home/mkoenig/git/sbmlutils/src/sbmlutils/factory.py\u001b\\\u001b[2mfactory.py\u001b[0m\u001b]8;;\u001b\\\u001b[2m:436\u001b[0m\n"
      ]
     },
     "metadata": {},
     "output_type": "display_data"
    },
    {
     "data": {
      "text/html": [
       "<pre style=\"white-space:pre;overflow-x:auto;line-height:normal;font-family:Menlo,'DejaVu Sans Mono',consolas,'Courier New',monospace\"><span style=\"color: #800000; text-decoration-color: #800000\">WARNING </span> <span style=\"color: #008000; text-decoration-color: #008000\">'sboTerm'</span> should be set on <span style=\"color: #008000; text-decoration-color: #008000\">'&lt;InitialAssignment Vol_c&gt;'</span>                <a href=\"file:///home/mkoenig/git/sbmlutils/src/sbmlutils/factory.py\"><span style=\"color: #7f7f7f; text-decoration-color: #7f7f7f\">factory.py</span></a><span style=\"color: #7f7f7f; text-decoration-color: #7f7f7f\">:461</span>\n",
       "</pre>\n"
      ],
      "text/plain": [
       "\u001b[31mWARNING \u001b[0m \u001b[32m'sboTerm'\u001b[0m should be set on \u001b[32m'\u001b[0m\u001b[32m<\u001b[0m\u001b[32mInitialAssignment\u001b[0m\u001b[32m Vol_c\u001b[0m\u001b[32m>\u001b[0m\u001b[32m'\u001b[0m                \u001b]8;id=654128;file:///home/mkoenig/git/sbmlutils/src/sbmlutils/factory.py\u001b\\\u001b[2mfactory.py\u001b[0m\u001b]8;;\u001b\\\u001b[2m:461\u001b[0m\n"
      ]
     },
     "metadata": {},
     "output_type": "display_data"
    },
    {
     "data": {
      "text/html": [
       "<pre style=\"white-space:pre;overflow-x:auto;line-height:normal;font-family:Menlo,'DejaVu Sans Mono',consolas,'Courier New',monospace\"><span style=\"color: #800000; text-decoration-color: #800000\">WARNING </span> <span style=\"color: #008000; text-decoration-color: #008000\">'name'</span> should be set on <span style=\"color: #008000; text-decoration-color: #008000\">'&lt;Parameter GLUT2_Vmax&gt;'</span>                      <a href=\"file:///home/mkoenig/git/sbmlutils/src/sbmlutils/factory.py\"><span style=\"color: #7f7f7f; text-decoration-color: #7f7f7f\">factory.py</span></a><span style=\"color: #7f7f7f; text-decoration-color: #7f7f7f\">:436</span>\n",
       "</pre>\n"
      ],
      "text/plain": [
       "\u001b[31mWARNING \u001b[0m \u001b[32m'name'\u001b[0m should be set on \u001b[32m'\u001b[0m\u001b[32m<\u001b[0m\u001b[32mParameter\u001b[0m\u001b[32m GLUT2_Vmax\u001b[0m\u001b[32m>\u001b[0m\u001b[32m'\u001b[0m                      \u001b]8;id=642018;file:///home/mkoenig/git/sbmlutils/src/sbmlutils/factory.py\u001b\\\u001b[2mfactory.py\u001b[0m\u001b]8;;\u001b\\\u001b[2m:436\u001b[0m\n"
      ]
     },
     "metadata": {},
     "output_type": "display_data"
    },
    {
     "data": {
      "text/html": [
       "<pre style=\"white-space:pre;overflow-x:auto;line-height:normal;font-family:Menlo,'DejaVu Sans Mono',consolas,'Courier New',monospace\"><span style=\"color: #800000; text-decoration-color: #800000\">WARNING </span> <span style=\"color: #008000; text-decoration-color: #008000\">'sboTerm'</span> should be set on <span style=\"color: #008000; text-decoration-color: #008000\">'&lt;Parameter GLUT2_Vmax&gt;'</span>                   <a href=\"file:///home/mkoenig/git/sbmlutils/src/sbmlutils/factory.py\"><span style=\"color: #7f7f7f; text-decoration-color: #7f7f7f\">factory.py</span></a><span style=\"color: #7f7f7f; text-decoration-color: #7f7f7f\">:461</span>\n",
       "</pre>\n"
      ],
      "text/plain": [
       "\u001b[31mWARNING \u001b[0m \u001b[32m'sboTerm'\u001b[0m should be set on \u001b[32m'\u001b[0m\u001b[32m<\u001b[0m\u001b[32mParameter\u001b[0m\u001b[32m GLUT2_Vmax\u001b[0m\u001b[32m>\u001b[0m\u001b[32m'\u001b[0m                   \u001b]8;id=27060;file:///home/mkoenig/git/sbmlutils/src/sbmlutils/factory.py\u001b\\\u001b[2mfactory.py\u001b[0m\u001b]8;;\u001b\\\u001b[2m:461\u001b[0m\n"
      ]
     },
     "metadata": {},
     "output_type": "display_data"
    },
    {
     "data": {
      "text/html": [
       "<pre style=\"white-space:pre;overflow-x:auto;line-height:normal;font-family:Menlo,'DejaVu Sans Mono',consolas,'Courier New',monospace\"><span style=\"color: #800000; text-decoration-color: #800000\">WARNING </span> <span style=\"color: #008000; text-decoration-color: #008000\">'name'</span> should be set on <span style=\"color: #008000; text-decoration-color: #008000\">'&lt;Parameter GLUT2_k_gal&gt;'</span>                     <a href=\"file:///home/mkoenig/git/sbmlutils/src/sbmlutils/factory.py\"><span style=\"color: #7f7f7f; text-decoration-color: #7f7f7f\">factory.py</span></a><span style=\"color: #7f7f7f; text-decoration-color: #7f7f7f\">:436</span>\n",
       "</pre>\n"
      ],
      "text/plain": [
       "\u001b[31mWARNING \u001b[0m \u001b[32m'name'\u001b[0m should be set on \u001b[32m'\u001b[0m\u001b[32m<\u001b[0m\u001b[32mParameter\u001b[0m\u001b[32m GLUT2_k_gal\u001b[0m\u001b[32m>\u001b[0m\u001b[32m'\u001b[0m                     \u001b]8;id=354709;file:///home/mkoenig/git/sbmlutils/src/sbmlutils/factory.py\u001b\\\u001b[2mfactory.py\u001b[0m\u001b]8;;\u001b\\\u001b[2m:436\u001b[0m\n"
      ]
     },
     "metadata": {},
     "output_type": "display_data"
    },
    {
     "data": {
      "text/html": [
       "<pre style=\"white-space:pre;overflow-x:auto;line-height:normal;font-family:Menlo,'DejaVu Sans Mono',consolas,'Courier New',monospace\"><span style=\"color: #800000; text-decoration-color: #800000\">WARNING </span> <span style=\"color: #008000; text-decoration-color: #008000\">'sboTerm'</span> should be set on <span style=\"color: #008000; text-decoration-color: #008000\">'&lt;Parameter GLUT2_k_gal&gt;'</span>                  <a href=\"file:///home/mkoenig/git/sbmlutils/src/sbmlutils/factory.py\"><span style=\"color: #7f7f7f; text-decoration-color: #7f7f7f\">factory.py</span></a><span style=\"color: #7f7f7f; text-decoration-color: #7f7f7f\">:461</span>\n",
       "</pre>\n"
      ],
      "text/plain": [
       "\u001b[31mWARNING \u001b[0m \u001b[32m'sboTerm'\u001b[0m should be set on \u001b[32m'\u001b[0m\u001b[32m<\u001b[0m\u001b[32mParameter\u001b[0m\u001b[32m GLUT2_k_gal\u001b[0m\u001b[32m>\u001b[0m\u001b[32m'\u001b[0m                  \u001b]8;id=535852;file:///home/mkoenig/git/sbmlutils/src/sbmlutils/factory.py\u001b\\\u001b[2mfactory.py\u001b[0m\u001b]8;;\u001b\\\u001b[2m:461\u001b[0m\n"
      ]
     },
     "metadata": {},
     "output_type": "display_data"
    },
    {
     "data": {
      "text/html": [
       "<pre style=\"white-space:pre;overflow-x:auto;line-height:normal;font-family:Menlo,'DejaVu Sans Mono',consolas,'Courier New',monospace\"><span style=\"color: #800000; text-decoration-color: #800000\">WARNING </span> <span style=\"color: #008000; text-decoration-color: #008000\">'name'</span> should be set on <span style=\"color: #008000; text-decoration-color: #008000\">'&lt;Parameter GLUT2_keq&gt;'</span>                       <a href=\"file:///home/mkoenig/git/sbmlutils/src/sbmlutils/factory.py\"><span style=\"color: #7f7f7f; text-decoration-color: #7f7f7f\">factory.py</span></a><span style=\"color: #7f7f7f; text-decoration-color: #7f7f7f\">:436</span>\n",
       "</pre>\n"
      ],
      "text/plain": [
       "\u001b[31mWARNING \u001b[0m \u001b[32m'name'\u001b[0m should be set on \u001b[32m'\u001b[0m\u001b[32m<\u001b[0m\u001b[32mParameter\u001b[0m\u001b[32m GLUT2_keq\u001b[0m\u001b[32m>\u001b[0m\u001b[32m'\u001b[0m                       \u001b]8;id=775175;file:///home/mkoenig/git/sbmlutils/src/sbmlutils/factory.py\u001b\\\u001b[2mfactory.py\u001b[0m\u001b]8;;\u001b\\\u001b[2m:436\u001b[0m\n"
      ]
     },
     "metadata": {},
     "output_type": "display_data"
    },
    {
     "data": {
      "text/html": [
       "<pre style=\"white-space:pre;overflow-x:auto;line-height:normal;font-family:Menlo,'DejaVu Sans Mono',consolas,'Courier New',monospace\"><span style=\"color: #800000; text-decoration-color: #800000\">WARNING </span> <span style=\"color: #008000; text-decoration-color: #008000\">'sboTerm'</span> should be set on <span style=\"color: #008000; text-decoration-color: #008000\">'&lt;Parameter GLUT2_keq&gt;'</span>                    <a href=\"file:///home/mkoenig/git/sbmlutils/src/sbmlutils/factory.py\"><span style=\"color: #7f7f7f; text-decoration-color: #7f7f7f\">factory.py</span></a><span style=\"color: #7f7f7f; text-decoration-color: #7f7f7f\">:461</span>\n",
       "</pre>\n"
      ],
      "text/plain": [
       "\u001b[31mWARNING \u001b[0m \u001b[32m'sboTerm'\u001b[0m should be set on \u001b[32m'\u001b[0m\u001b[32m<\u001b[0m\u001b[32mParameter\u001b[0m\u001b[32m GLUT2_keq\u001b[0m\u001b[32m>\u001b[0m\u001b[32m'\u001b[0m                    \u001b]8;id=366262;file:///home/mkoenig/git/sbmlutils/src/sbmlutils/factory.py\u001b\\\u001b[2mfactory.py\u001b[0m\u001b]8;;\u001b\\\u001b[2m:461\u001b[0m\n"
      ]
     },
     "metadata": {},
     "output_type": "display_data"
    },
    {
     "data": {
      "text/html": [
       "<pre style=\"white-space:pre;overflow-x:auto;line-height:normal;font-family:Menlo,'DejaVu Sans Mono',consolas,'Courier New',monospace\">\n",
       "</pre>\n"
      ],
      "text/plain": [
       "\n"
      ]
     },
     "metadata": {},
     "output_type": "display_data"
    },
    {
     "data": {
      "text/html": [
       "<pre style=\"white-space:pre;overflow-x:auto;line-height:normal;font-family:Menlo,'DejaVu Sans Mono',consolas,'Courier New',monospace\"><span style=\"color: #008000; text-decoration-color: #008000\">─────────────────────────────────────── </span>Validate SBML<span style=\"color: #008000; text-decoration-color: #008000\"> ───────────────────────────────────────</span>\n",
       "</pre>\n"
      ],
      "text/plain": [
       "\u001b[32m─────────────────────────────────────── \u001b[0mValidate SBML\u001b[32m ───────────────────────────────────────\u001b[0m\n"
      ]
     },
     "metadata": {},
     "output_type": "display_data"
    },
    {
     "data": {
      "text/html": [
       "<pre style=\"white-space:pre;overflow-x:auto;line-height:normal;font-family:Menlo,'DejaVu Sans Mono',consolas,'Courier New',monospace\"><span style=\"color: #008000; text-decoration-color: #008000\">file:</span><span style=\"color: #800080; text-decoration-color: #800080\">///home/mkoenig/git/sbmlutils/docs_builder/notebooks/models/</span><span style=\"color: #ff00ff; text-decoration-color: #ff00ff\">annotation_example.xml</span>\n",
       "<span style=\"color: #008000; text-decoration-color: #008000\">valid                    : TRUE</span>\n",
       "<span style=\"color: #008000; text-decoration-color: #008000\">check time </span><span style=\"color: #008000; text-decoration-color: #008000; font-weight: bold\">(</span><span style=\"color: #008000; text-decoration-color: #008000\">s</span><span style=\"color: #008000; text-decoration-color: #008000; font-weight: bold\">)</span><span style=\"color: #008000; text-decoration-color: #008000\">           : </span><span style=\"color: #008080; text-decoration-color: #008080; font-weight: bold\">0.012</span>\n",
       "</pre>\n"
      ],
      "text/plain": [
       "\u001b[32mfile:\u001b[0m\u001b[35m/\u001b[0m\u001b[35m/\u001b[0m\u001b[35m/home/mkoenig/git/sbmlutils/docs_builder/notebooks/models/\u001b[0m\u001b[95mannotation_example.xml\u001b[0m\n",
       "\u001b[32mvalid                    : TRUE\u001b[0m\n",
       "\u001b[32mcheck time \u001b[0m\u001b[1;32m(\u001b[0m\u001b[32ms\u001b[0m\u001b[1;32m)\u001b[0m\u001b[32m           : \u001b[0m\u001b[1;36m0.012\u001b[0m\n"
      ]
     },
     "metadata": {},
     "output_type": "display_data"
    },
    {
     "data": {
      "text/html": [
       "<pre style=\"white-space:pre;overflow-x:auto;line-height:normal;font-family:Menlo,'DejaVu Sans Mono',consolas,'Courier New',monospace\"><span style=\"color: #008000; text-decoration-color: #008000\">─────────────────────────────────────────────────────────────────────────────────────────────</span>\n",
       "</pre>\n"
      ],
      "text/plain": [
       "\u001b[32m─────────────────────────────────────────────────────────────────────────────────────────────\u001b[0m\n"
      ]
     },
     "metadata": {},
     "output_type": "display_data"
    },
    {
     "data": {
      "text/html": [
       "<pre style=\"white-space:pre;overflow-x:auto;line-height:normal;font-family:Menlo,'DejaVu Sans Mono',consolas,'Courier New',monospace\">\n",
       "</pre>\n"
      ],
      "text/plain": [
       "\n"
      ]
     },
     "metadata": {},
     "output_type": "display_data"
    },
    {
     "data": {
      "text/html": [
       "<pre style=\"white-space:pre;overflow-x:auto;line-height:normal;font-family:Menlo,'DejaVu Sans Mono',consolas,'Courier New',monospace\"><span style=\"color: #000080; text-decoration-color: #000080\">INFO    </span> No support for <span style=\"color: #008000; text-decoration-color: #008000\">'create_report'</span> in sbmlutils-v0.<span style=\"color: #008080; text-decoration-color: #008080; font-weight: bold\">5.7</span>.                 <a href=\"file:///home/mkoenig/git/sbmlutils/src/sbmlutils/report/sbmlreport.py\"><span style=\"color: #7f7f7f; text-decoration-color: #7f7f7f\">sbmlreport.py</span></a><span style=\"color: #7f7f7f; text-decoration-color: #7f7f7f\">:41</span>\n",
       "</pre>\n"
      ],
      "text/plain": [
       "\u001b[34mINFO    \u001b[0m No support for \u001b[32m'create_report'\u001b[0m in sbmlutils-v0.\u001b[1;36m5.7\u001b[0m.                 \u001b]8;id=199024;file:///home/mkoenig/git/sbmlutils/src/sbmlutils/report/sbmlreport.py\u001b\\\u001b[2msbmlreport.py\u001b[0m\u001b]8;;\u001b\\\u001b[2m:41\u001b[0m\n"
      ]
     },
     "metadata": {},
     "output_type": "display_data"
    },
    {
     "data": {
      "text/html": [
       "<pre style=\"white-space:pre;overflow-x:auto;line-height:normal;font-family:Menlo,'DejaVu Sans Mono',consolas,'Courier New',monospace\"><span style=\"color: #c0c0c0; text-decoration-color: #c0c0c0\">─────────────────────────────────────────────────────────────────────────────────────────────</span>\n",
       "</pre>\n"
      ],
      "text/plain": [
       "\u001b[37m─────────────────────────────────────────────────────────────────────────────────────────────\u001b[0m\n"
      ]
     },
     "metadata": {},
     "output_type": "display_data"
    },
    {
     "name": "stdout",
     "output_type": "stream",
     "text": [
      "<species metaid=\"meta_e__gal\" sboTerm=\"SBO:0000247\" id=\"e__gal\" name=\"D-galactose\" compartment=\"ext\" initialConcentration=\"3\" substanceUnits=\"mole\" hasOnlySubstanceUnits=\"false\" boundaryCondition=\"true\" constant=\"false\">\n",
      "  <annotation>\n",
      "    <rdf:RDF xmlns:rdf=\"http://www.w3.org/1999/02/22-rdf-syntax-ns#\" xmlns:dcterms=\"http://purl.org/dc/terms/\" xmlns:vCard=\"http://www.w3.org/2001/vcard-rdf/3.0#\" xmlns:vCard4=\"http://www.w3.org/2006/vcard/ns#\" xmlns:bqbiol=\"http://biomodels.net/biology-qualifiers/\" xmlns:bqmodel=\"http://biomodels.net/model-qualifiers/\">\n",
      "      <rdf:Description rdf:about=\"#meta_e__gal\">\n",
      "        <bqbiol:is>\n",
      "          <rdf:Bag>\n",
      "            <rdf:li rdf:resource=\"https://identifiers.org/SBO:0000247\"/>\n",
      "            <rdf:li rdf:resource=\"https://identifiers.org/bigg.metabolite/gal\"/>\n",
      "            <rdf:li rdf:resource=\"https://identifiers.org/CHEBI:28061\"/>\n",
      "            <rdf:li rdf:resource=\"https://identifiers.org/vmhmetabolite/gal\"/>\n",
      "          </rdf:Bag>\n",
      "        </bqbiol:is>\n",
      "      </rdf:Description>\n",
      "    </rdf:RDF>\n",
      "  </annotation>\n",
      "</species>\n"
     ]
    }
   ],
   "source": [
    "from notebook import BASE_DIR\n",
    "from sbmlutils.factory import *\n",
    "from sbmlutils.io import read_sbml\n",
    "from model_with_annotations import model\n",
    "\n",
    "results = create_model(\n",
    "    model,\n",
    "    output_dir=BASE_DIR / 'models'\n",
    ")\n",
    "\n",
    "# check the annotations on the species\n",
    "import libsbml\n",
    "doc: libsbml.SBMLDocument = read_sbml(results.sbml_path)\n",
    "model: libsbml.Model = doc.getModel()\n",
    "s1: libsbml.Species = model.getSpecies('e__gal')\n",
    "print(s1.toSBML())"
   ]
  },
  {
   "cell_type": "markdown",
   "metadata": {},
   "source": [
    "### Annotate existing model\n",
    "An alternative approach is to annotate existing models from external annotation files.\n",
    "For instance we can define the annotations in an external file which we then add to the model based on identifier matching.\n",
    "The following annotations are written to the [./annotations/demo.xml](./annotations/demo.xml) based on pattern matching.\n",
    "\n",
    "Annotations are written for the given `sbml_type` for all SBML identifiers which match the given pattern."
   ]
  },
  {
   "cell_type": "code",
   "execution_count": 4,
   "metadata": {},
   "outputs": [
    {
     "data": {
      "text/html": [
       "<div>\n",
       "<style scoped>\n",
       "    .dataframe tbody tr th:only-of-type {\n",
       "        vertical-align: middle;\n",
       "    }\n",
       "\n",
       "    .dataframe tbody tr th {\n",
       "        vertical-align: top;\n",
       "    }\n",
       "\n",
       "    .dataframe thead th {\n",
       "        text-align: right;\n",
       "    }\n",
       "</style>\n",
       "<table border=\"1\" class=\"dataframe\">\n",
       "  <thead>\n",
       "    <tr style=\"text-align: right;\">\n",
       "      <th></th>\n",
       "      <th>pattern</th>\n",
       "      <th>sbml_type</th>\n",
       "      <th>annotation_type</th>\n",
       "      <th>qualifier</th>\n",
       "      <th>resource</th>\n",
       "      <th>name</th>\n",
       "    </tr>\n",
       "  </thead>\n",
       "  <tbody>\n",
       "    <tr>\n",
       "      <th>0</th>\n",
       "      <td>NaN</td>\n",
       "      <td>document</td>\n",
       "      <td>rdf</td>\n",
       "      <td>BQM_IS</td>\n",
       "      <td>sbo/SBO:0000293</td>\n",
       "      <td>non-spatial continuous framework</td>\n",
       "    </tr>\n",
       "    <tr>\n",
       "      <th>1</th>\n",
       "      <td>^demo_\\d+$</td>\n",
       "      <td>model</td>\n",
       "      <td>rdf</td>\n",
       "      <td>BQM_IS</td>\n",
       "      <td>go/GO:0008152</td>\n",
       "      <td>metabolic process</td>\n",
       "    </tr>\n",
       "    <tr>\n",
       "      <th>4</th>\n",
       "      <td>e</td>\n",
       "      <td>compartment</td>\n",
       "      <td>rdf</td>\n",
       "      <td>BQB_IS</td>\n",
       "      <td>sbo/SBO:0000290</td>\n",
       "      <td>physical compartment</td>\n",
       "    </tr>\n",
       "    <tr>\n",
       "      <th>5</th>\n",
       "      <td>e</td>\n",
       "      <td>compartment</td>\n",
       "      <td>rdf</td>\n",
       "      <td>BQB_IS</td>\n",
       "      <td>go/GO:0005615</td>\n",
       "      <td>extracellular space</td>\n",
       "    </tr>\n",
       "    <tr>\n",
       "      <th>6</th>\n",
       "      <td>e</td>\n",
       "      <td>compartment</td>\n",
       "      <td>rdf</td>\n",
       "      <td>BQB_IS</td>\n",
       "      <td>fma/FMA:70022</td>\n",
       "      <td>extracellular space</td>\n",
       "    </tr>\n",
       "    <tr>\n",
       "      <th>8</th>\n",
       "      <td>m</td>\n",
       "      <td>compartment</td>\n",
       "      <td>rdf</td>\n",
       "      <td>BQB_IS</td>\n",
       "      <td>sbo/SBO:0000290</td>\n",
       "      <td>physical compartment</td>\n",
       "    </tr>\n",
       "    <tr>\n",
       "      <th>9</th>\n",
       "      <td>m</td>\n",
       "      <td>compartment</td>\n",
       "      <td>rdf</td>\n",
       "      <td>BQB_IS</td>\n",
       "      <td>go/GO:0005886</td>\n",
       "      <td>plasma membrane</td>\n",
       "    </tr>\n",
       "    <tr>\n",
       "      <th>10</th>\n",
       "      <td>m</td>\n",
       "      <td>compartment</td>\n",
       "      <td>rdf</td>\n",
       "      <td>BQB_IS</td>\n",
       "      <td>fma/FMA:63841</td>\n",
       "      <td>plasma membrane</td>\n",
       "    </tr>\n",
       "    <tr>\n",
       "      <th>12</th>\n",
       "      <td>c</td>\n",
       "      <td>compartment</td>\n",
       "      <td>rdf</td>\n",
       "      <td>BQB_IS</td>\n",
       "      <td>sbo/SBO:0000290</td>\n",
       "      <td>physical compartment</td>\n",
       "    </tr>\n",
       "    <tr>\n",
       "      <th>13</th>\n",
       "      <td>c</td>\n",
       "      <td>compartment</td>\n",
       "      <td>rdf</td>\n",
       "      <td>BQB_IS</td>\n",
       "      <td>go/GO:0005623</td>\n",
       "      <td>cell</td>\n",
       "    </tr>\n",
       "    <tr>\n",
       "      <th>14</th>\n",
       "      <td>c</td>\n",
       "      <td>compartment</td>\n",
       "      <td>rdf</td>\n",
       "      <td>BQB_IS</td>\n",
       "      <td>fma/FMA:68646</td>\n",
       "      <td>cell</td>\n",
       "    </tr>\n",
       "    <tr>\n",
       "      <th>17</th>\n",
       "      <td>^Km_\\w+$</td>\n",
       "      <td>parameter</td>\n",
       "      <td>rdf</td>\n",
       "      <td>BQB_IS</td>\n",
       "      <td>sbo/SBO:0000027</td>\n",
       "      <td>Michaelis constant</td>\n",
       "    </tr>\n",
       "    <tr>\n",
       "      <th>18</th>\n",
       "      <td>^Keq_\\w+$</td>\n",
       "      <td>parameter</td>\n",
       "      <td>rdf</td>\n",
       "      <td>BQB_IS</td>\n",
       "      <td>sbo/SBO:0000281</td>\n",
       "      <td>equilibrium constant</td>\n",
       "    </tr>\n",
       "    <tr>\n",
       "      <th>19</th>\n",
       "      <td>^Vmax_\\w+$</td>\n",
       "      <td>parameter</td>\n",
       "      <td>rdf</td>\n",
       "      <td>BQB_IS</td>\n",
       "      <td>sbo/SBO:0000186</td>\n",
       "      <td>maximal velocity</td>\n",
       "    </tr>\n",
       "    <tr>\n",
       "      <th>22</th>\n",
       "      <td>^\\w{1}__A$</td>\n",
       "      <td>species</td>\n",
       "      <td>rdf</td>\n",
       "      <td>BQB_IS</td>\n",
       "      <td>sbo/SBO:0000247</td>\n",
       "      <td>simple chemical</td>\n",
       "    </tr>\n",
       "    <tr>\n",
       "      <th>23</th>\n",
       "      <td>^\\w{1}__B$</td>\n",
       "      <td>species</td>\n",
       "      <td>rdf</td>\n",
       "      <td>BQB_IS</td>\n",
       "      <td>sbo/SBO:0000247</td>\n",
       "      <td>simple chemical</td>\n",
       "    </tr>\n",
       "    <tr>\n",
       "      <th>24</th>\n",
       "      <td>^\\w{1}__C$</td>\n",
       "      <td>species</td>\n",
       "      <td>rdf</td>\n",
       "      <td>BQB_IS</td>\n",
       "      <td>sbo/SBO:0000247</td>\n",
       "      <td>simple chemical</td>\n",
       "    </tr>\n",
       "    <tr>\n",
       "      <th>25</th>\n",
       "      <td>^\\w{1}__\\w+$</td>\n",
       "      <td>species</td>\n",
       "      <td>formula</td>\n",
       "      <td>NaN</td>\n",
       "      <td>C6H12O6</td>\n",
       "      <td>NaN</td>\n",
       "    </tr>\n",
       "    <tr>\n",
       "      <th>26</th>\n",
       "      <td>^\\w{1}__\\w+$</td>\n",
       "      <td>species</td>\n",
       "      <td>charge</td>\n",
       "      <td>NaN</td>\n",
       "      <td>0</td>\n",
       "      <td>NaN</td>\n",
       "    </tr>\n",
       "    <tr>\n",
       "      <th>28</th>\n",
       "      <td>^b\\w{1}$</td>\n",
       "      <td>reaction</td>\n",
       "      <td>rdf</td>\n",
       "      <td>BQB_IS</td>\n",
       "      <td>sbo/SBO:0000185</td>\n",
       "      <td>transport reaction</td>\n",
       "    </tr>\n",
       "    <tr>\n",
       "      <th>29</th>\n",
       "      <td>^v\\w{1}$</td>\n",
       "      <td>reaction</td>\n",
       "      <td>rdf</td>\n",
       "      <td>BQB_IS</td>\n",
       "      <td>sbo/SBO:0000176</td>\n",
       "      <td>biochemical reaction</td>\n",
       "    </tr>\n",
       "  </tbody>\n",
       "</table>\n",
       "</div>"
      ]
     },
     "execution_count": 4,
     "metadata": {},
     "output_type": "execute_result"
    }
   ],
   "source": [
    "from sbmlutils.metadata.annotator import ModelAnnotator\n",
    "df = ModelAnnotator.read_annotations_df(BASE_DIR / 'annotations' / 'demo_annotations.xlsx', file_format=\"xlsx\")\n",
    "df"
   ]
  },
  {
   "cell_type": "code",
   "execution_count": 5,
   "metadata": {},
   "outputs": [
    {
     "data": {
      "text/html": [
       "<pre style=\"white-space:pre;overflow-x:auto;line-height:normal;font-family:Menlo,'DejaVu Sans Mono',consolas,'Courier New',monospace\"><span style=\"color: #800000; text-decoration-color: #800000\">WARNING </span> No SBML objects found matching SId annotation pattern: <span style=\"color: #008000; text-decoration-color: #008000\">'^demo_\\d+$'</span> <a href=\"file:///home/mkoenig/git/sbmlutils/src/sbmlutils/metadata/annotator.py\"><span style=\"color: #7f7f7f; text-decoration-color: #7f7f7f\">annotator.py</span></a><span style=\"color: #7f7f7f; text-decoration-color: #7f7f7f\">:214</span>\n",
       "</pre>\n"
      ],
      "text/plain": [
       "\u001b[31mWARNING \u001b[0m No SBML objects found matching SId annotation pattern: \u001b[32m'^demo_\\d+$'\u001b[0m \u001b]8;id=910397;file:///home/mkoenig/git/sbmlutils/src/sbmlutils/metadata/annotator.py\u001b\\\u001b[2mannotator.py\u001b[0m\u001b]8;;\u001b\\\u001b[2m:214\u001b[0m\n"
      ]
     },
     "metadata": {},
     "output_type": "display_data"
    },
    {
     "data": {
      "text/html": [
       "<pre style=\"white-space:pre;overflow-x:auto;line-height:normal;font-family:Menlo,'DejaVu Sans Mono',consolas,'Courier New',monospace\"><span style=\"color: #008000; text-decoration-color: #008000\">Model annotated: </span>\n",
       "<span style=\"color: #008000; text-decoration-color: #008000\">file:</span><span style=\"color: #800080; text-decoration-color: #800080\">///home/mkoenig/git/sbmlutils/docs_builder/notebooks/annotations/</span><span style=\"color: #ff00ff; text-decoration-color: #ff00ff\">demo_annotated.xml</span>\n",
       "</pre>\n"
      ],
      "text/plain": [
       "\u001b[32mModel annotated: \u001b[0m\n",
       "\u001b[32mfile:\u001b[0m\u001b[35m/\u001b[0m\u001b[35m/\u001b[0m\u001b[35m/home/mkoenig/git/sbmlutils/docs_builder/notebooks/annotations/\u001b[0m\u001b[95mdemo_annotated.xml\u001b[0m\n"
      ]
     },
     "metadata": {},
     "output_type": "display_data"
    },
    {
     "name": "stdout",
     "output_type": "stream",
     "text": [
      "<Model Koenig_demo_14 \"Koenig_demo_14\">\n"
     ]
    }
   ],
   "source": [
    "from sbmlutils.metadata.annotator import annotate_sbml\n",
    "\n",
    "# create SBML report without performing units checks\n",
    "doc = annotate_sbml(\n",
    "    source=BASE_DIR / 'annotations' / 'demo.xml', \n",
    "    annotations_path=BASE_DIR / 'annotations' / 'demo_annotations.xlsx', \n",
    "    filepath=BASE_DIR / 'annotations' / 'demo_annotated.xml'\n",
    ")\n",
    "print(doc.getModel())"
   ]
  }
 ],
 "metadata": {
  "kernelspec": {
   "display_name": "sbmlutils",
   "language": "python",
   "name": "sbmlutils"
  },
  "language_info": {
   "codemirror_mode": {
    "name": "ipython",
    "version": 3
   },
   "file_extension": ".py",
   "mimetype": "text/x-python",
   "name": "python",
   "nbconvert_exporter": "python",
   "pygments_lexer": "ipython3",
   "version": "3.8.10"
  }
 },
 "nbformat": 4,
 "nbformat_minor": 4
}
