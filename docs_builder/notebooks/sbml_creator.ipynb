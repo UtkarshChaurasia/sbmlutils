{
 "cells": [
  {
   "cell_type": "markdown",
   "metadata": {},
   "source": [
    "# SBML creator\n",
    "`sbmlutils` provides helpers for the creation of SBML models from scratch.\n",
    "\n",
    "## Create FBA Model\n",
    "This example demonstrates the creation of an SBML FBA model from scratch."
   ]
  },
  {
   "cell_type": "code",
   "execution_count": 1,
   "metadata": {},
   "outputs": [],
   "source": [
    "from sbmlutils import comp\n",
    "from sbmlutils import fbc\n",
    "from sbmlutils import sbmlio\n",
    "from sbmlutils import factory\n",
    "from sbmlutils.dfba import builder\n",
    "\n",
    "from sbmlutils.units import *\n",
    "from sbmlutils.annotation.sbo import *\n",
    "from sbmlutils.factory import *"
   ]
  },
  {
   "cell_type": "markdown",
   "metadata": {},
   "source": [
    "### Unit definitions\n",
    "Units for the model are defined in the following manner."
   ]
  },
  {
   "cell_type": "code",
   "execution_count": 2,
   "metadata": {},
   "outputs": [],
   "source": [
    "model_units = ModelUnits(time=UNIT_KIND_SECOND, \n",
    "                         extent=UNIT_KIND_ITEM, \n",
    "                         substance=UNIT_KIND_ITEM, \n",
    "                         length=UNIT_KIND_METRE,\n",
    "                         area='m2', \n",
    "                         volume='m3')\n",
    "\n",
    "units = [\n",
    "    Unit('kg', [(UNIT_KIND_KILOGRAM, 1.0)]),\n",
    "    Unit('m2', [(UNIT_KIND_METRE, 2.0)]),\n",
    "    Unit('m3', [(UNIT_KIND_METRE, 3.0)]),\n",
    "    Unit('mM', [(UNIT_KIND_MOLE, 1.0, 0),\n",
    "                   (UNIT_KIND_METRE, -3.0)]),\n",
    "    Unit('per_s', [(UNIT_KIND_SECOND, -1.0)]),\n",
    "    Unit('item_per_s', [(UNIT_KIND_ITEM, 1.0),\n",
    "                           (UNIT_KIND_SECOND, -1.0)]),\n",
    "    Unit('item_per_m3', [(UNIT_KIND_ITEM, 1.0),\n",
    "                            (UNIT_KIND_METRE, -3.0)]),\n",
    "]\n",
    "\n",
    "# constants for reuse\n",
    "UNIT_TIME = UNIT_KIND_SECOND\n",
    "UNIT_AMOUNT = UNIT_KIND_ITEM\n",
    "UNIT_AREA = 'm2'\n",
    "UNIT_VOLUME = 'm3'\n",
    "UNIT_CONCENTRATION = 'item_per_m3'\n",
    "UNIT_FLUX = 'item_per_s'"
   ]
  },
  {
   "cell_type": "markdown",
   "metadata": {},
   "source": [
    "### Model building\n",
    "Creation of FBA model using multiple packages (`comp`, `fbc`)."
   ]
  },
  {
   "cell_type": "code",
   "execution_count": 5,
   "metadata": {},
   "outputs": [
    {
     "name": "stdout",
     "output_type": "stream",
     "text": [
      "\u001b[1m\u001b[92m\n",
      "--------------------------------------------------------------------------------\n",
      "/tmp/tmpdfc9h_4w.xml\n",
      "valid                    : TRUE\n",
      "check time (s)           : 0.008\n",
      "--------------------------------------------------------------------------------\n",
      "\u001b[0m\u001b[0m\n"
     ]
    }
   ],
   "source": [
    "# Create SBMLDocument with fba\n",
    "doc = builder.template_doc_fba(model_id=\"toy\")\n",
    "model = doc.getModel()\n",
    "\n",
    "factory.create_objects(model, units)\n",
    "factory.set_model_units(model, model_units)\n",
    "\n",
    "objects = [\n",
    "    # compartments\n",
    "    Compartment(sid='extern', value=1.0, unit=UNIT_VOLUME, constant=True, name='external compartment',\n",
    "                   spatialDimensions=3),\n",
    "    Compartment(sid='cell', value=1.0, unit=UNIT_VOLUME, constant=True, name='cell', spatialDimensions=3),\n",
    "    Compartment(sid='membrane', value=1.0, unit=UNIT_AREA, constant=True, name='membrane', spatialDimensions=2),\n",
    "\n",
    "    # exchange species\n",
    "    Species(sid='A', name=\"A\", initialAmount=0, substanceUnit=UNIT_AMOUNT, hasOnlySubstanceUnits=True,\n",
    "               compartment=\"extern\"),\n",
    "    Species(sid='C', name=\"C\", initialAmount=0, substanceUnit=UNIT_AMOUNT, hasOnlySubstanceUnits=True,\n",
    "               compartment=\"extern\"),\n",
    "\n",
    "    # internal species\n",
    "    Species(sid='B1', name=\"B1\", initialAmount=0, substanceUnit=UNIT_AMOUNT, hasOnlySubstanceUnits=True,\n",
    "               compartment=\"cell\"),\n",
    "    Species(sid='B2', name=\"B2\", initialAmount=0, substanceUnit=UNIT_AMOUNT, hasOnlySubstanceUnits=True,\n",
    "               compartment=\"cell\"),\n",
    "\n",
    "    # bounds\n",
    "    Parameter(sid=\"ub_R1\", value=1.0, unit=UNIT_FLUX, constant=True, sboTerm=builder.FLUX_BOUND_SBO),\n",
    "    Parameter(sid=\"zero\", value=0.0, unit=UNIT_FLUX, constant=True, sboTerm=builder.FLUX_BOUND_SBO),\n",
    "    Parameter(sid=\"ub_default\", value=builder.UPPER_BOUND_DEFAULT, unit=UNIT_FLUX, constant=True,\n",
    "                 sboTerm=builder.FLUX_BOUND_SBO),\n",
    "    \n",
    "    # reactions\n",
    "    Reaction(sid=\"R1\", name=\"A import (R1)\",\n",
    "             equation=\"A <-> B1\", compartment='membrane', lowerFluxBound=\"zero\", upperFluxBound=\"ub_R1\"),\n",
    "    Reaction(sid=\"R2\", name=\"B1 <-> B2 (R2)\",\n",
    "             equation=\"B1 <-> B2\", compartment='cell',\n",
    "             lowerFluxBound=\"zero\", upperFluxBound=\"ub_default\"),\n",
    "    Reaction(sid=\"R3\", name=\"B2 export (R3)\", fast=False, reversible=True,\n",
    "             equation=\"B2 <-> C\", compartment='membrane',\n",
    "             lowerFluxBound=\"zero\", upperFluxBound=\"ub_default\"\n",
    "    ),\n",
    "    \n",
    "]\n",
    "factory.create_objects(model, objects)\n",
    "\n",
    "# exchange reactions\n",
    "builder.create_exchange_reaction(model, species_id=\"A\", flux_unit=UNIT_FLUX)\n",
    "builder.create_exchange_reaction(model, species_id=\"C\", flux_unit=UNIT_FLUX)\n",
    "\n",
    "# objective function\n",
    "model_fbc = model.getPlugin(\"fbc\")\n",
    "fbc.create_objective(model_fbc, oid=\"R3_maximize\", otype=\"maximize\",\n",
    "                    fluxObjectives={\"R3\": 1.0}, active=True)\n",
    "\n",
    "# write SBML file\n",
    "import tempfile\n",
    "sbml_file = tempfile.NamedTemporaryFile(suffix=\".xml\")\n",
    "sbmlio.write_sbml(doc=doc, filepath=sbml_file.name)"
   ]
  },
  {
   "cell_type": "code",
   "execution_count": null,
   "metadata": {
    "collapsed": true,
    "jupyter": {
     "outputs_hidden": true
    }
   },
   "outputs": [],
   "source": []
  }
 ],
 "metadata": {
  "kernelspec": {
   "display_name": "sbmlutils",
   "language": "python",
   "name": "sbmlutils"
  },
  "language_info": {
   "codemirror_mode": {
    "name": "ipython",
    "version": 3
   },
   "file_extension": ".py",
   "mimetype": "text/x-python",
   "name": "python",
   "nbconvert_exporter": "python",
   "pygments_lexer": "ipython3",
   "version": "3.6.8"
  }
 },
 "nbformat": 4,
 "nbformat_minor": 4
}
