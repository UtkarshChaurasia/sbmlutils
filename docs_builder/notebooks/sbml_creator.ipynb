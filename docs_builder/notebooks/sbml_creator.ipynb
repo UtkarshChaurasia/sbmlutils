{
 "cells": [
  {
   "cell_type": "markdown",
   "metadata": {},
   "source": [
    "# SBML creator\n",
    "`sbmlutils` provides helpers for the creation of SBML models from scratch."
   ]
  },
  {
   "cell_type": "markdown",
   "metadata": {
    "pycharm": {
     "name": "#%% md\n"
    }
   },
   "source": [
    "## Create model\n",
    "The easist way to create a new model is by using a dictionary of information for the model creation."
   ]
  },
  {
   "cell_type": "code",
   "execution_count": 1,
   "metadata": {},
   "outputs": [],
   "source": [
    "from pathlib import Path\n",
    "from sbmlutils.io import read_sbml, write_sbml, validate_sbml\n",
    "\n",
    "from sbmlutils.factory import *\n",
    "from sbmlutils.metadata import *\n",
    "\n",
    "import tempfile"
   ]
  },
  {
   "cell_type": "code",
   "execution_count": 2,
   "metadata": {
    "pycharm": {
     "name": "#%%\n"
    }
   },
   "outputs": [
    {
     "data": {
      "text/html": [
       "<pre style=\"white-space:pre;overflow-x:auto;line-height:normal;font-family:Menlo,'DejaVu Sans Mono',consolas,'Courier New',monospace\"><span style=\"color: #c0c0c0; text-decoration-color: #c0c0c0\">──────────────────────────────────────── </span>Create SBML<span style=\"color: #c0c0c0; text-decoration-color: #c0c0c0\"> ────────────────────────────────────────</span>\n",
       "</pre>\n"
      ],
      "text/plain": [
       "\u001b[37m──────────────────────────────────────── \u001b[0mCreate SBML\u001b[37m ────────────────────────────────────────\u001b[0m\n"
      ]
     },
     "metadata": {},
     "output_type": "display_data"
    },
    {
     "data": {
      "text/html": [
       "<pre style=\"white-space:pre;overflow-x:auto;line-height:normal;font-family:Menlo,'DejaVu Sans Mono',consolas,'Courier New',monospace\"><span style=\"color: #000080; text-decoration-color: #000080\">INFO    </span> Create SBML for model <span style=\"color: #008000; text-decoration-color: #008000\">'example_model'</span>                                <a href=\"file:///home/mkoenig/git/sbmlutils/src/sbmlutils/factory.py\"><span style=\"color: #7f7f7f; text-decoration-color: #7f7f7f\">factory.py</span></a><span style=\"color: #7f7f7f; text-decoration-color: #7f7f7f\">:2896</span>\n",
       "</pre>\n"
      ],
      "text/plain": [
       "\u001b[34mINFO    \u001b[0m Create SBML for model \u001b[32m'example_model'\u001b[0m                                \u001b]8;id=742849;file:///home/mkoenig/git/sbmlutils/src/sbmlutils/factory.py\u001b\\\u001b[2mfactory.py\u001b[0m\u001b]8;;\u001b\\\u001b[2m:2896\u001b[0m\n"
      ]
     },
     "metadata": {},
     "output_type": "display_data"
    },
    {
     "data": {
      "text/html": [
       "<pre style=\"white-space:pre;overflow-x:auto;line-height:normal;font-family:Menlo,'DejaVu Sans Mono',consolas,'Courier New',monospace\"><span style=\"color: #800000; text-decoration-color: #800000\">WARNING </span> <span style=\"color: #008000; text-decoration-color: #008000\">'name'</span> should be set on <span style=\"color: #008000; text-decoration-color: #008000\">'&lt;Model example_model&gt;'</span>                       <a href=\"file:///home/mkoenig/git/sbmlutils/src/sbmlutils/factory.py\"><span style=\"color: #7f7f7f; text-decoration-color: #7f7f7f\">factory.py</span></a><span style=\"color: #7f7f7f; text-decoration-color: #7f7f7f\">:436</span>\n",
       "</pre>\n"
      ],
      "text/plain": [
       "\u001b[31mWARNING \u001b[0m \u001b[32m'name'\u001b[0m should be set on \u001b[32m'\u001b[0m\u001b[32m<\u001b[0m\u001b[32mModel\u001b[0m\u001b[32m example_model\u001b[0m\u001b[32m>\u001b[0m\u001b[32m'\u001b[0m                       \u001b]8;id=357255;file:///home/mkoenig/git/sbmlutils/src/sbmlutils/factory.py\u001b\\\u001b[2mfactory.py\u001b[0m\u001b]8;;\u001b\\\u001b[2m:436\u001b[0m\n"
      ]
     },
     "metadata": {},
     "output_type": "display_data"
    },
    {
     "data": {
      "text/html": [
       "<pre style=\"white-space:pre;overflow-x:auto;line-height:normal;font-family:Menlo,'DejaVu Sans Mono',consolas,'Courier New',monospace\"><span style=\"color: #000080; text-decoration-color: #000080\">INFO    </span> <span style=\"color: #008000; text-decoration-color: #008000\">'length'</span> should be set in <span style=\"color: #008000; text-decoration-color: #008000\">'model_units'</span>.                              <a href=\"file:///home/mkoenig/git/sbmlutils/src/sbmlutils/factory.py\"><span style=\"color: #7f7f7f; text-decoration-color: #7f7f7f\">factory.py</span></a><span style=\"color: #7f7f7f; text-decoration-color: #7f7f7f\">:268</span>\n",
       "</pre>\n"
      ],
      "text/plain": [
       "\u001b[34mINFO    \u001b[0m \u001b[32m'length'\u001b[0m should be set in \u001b[32m'model_units'\u001b[0m.                              \u001b]8;id=529460;file:///home/mkoenig/git/sbmlutils/src/sbmlutils/factory.py\u001b\\\u001b[2mfactory.py\u001b[0m\u001b]8;;\u001b\\\u001b[2m:268\u001b[0m\n"
      ]
     },
     "metadata": {},
     "output_type": "display_data"
    },
    {
     "data": {
      "text/html": [
       "<pre style=\"white-space:pre;overflow-x:auto;line-height:normal;font-family:Menlo,'DejaVu Sans Mono',consolas,'Courier New',monospace\"><span style=\"color: #000080; text-decoration-color: #000080\">INFO    </span> <span style=\"color: #008000; text-decoration-color: #008000\">'area'</span> should be set in <span style=\"color: #008000; text-decoration-color: #008000\">'model_units'</span>.                                <a href=\"file:///home/mkoenig/git/sbmlutils/src/sbmlutils/factory.py\"><span style=\"color: #7f7f7f; text-decoration-color: #7f7f7f\">factory.py</span></a><span style=\"color: #7f7f7f; text-decoration-color: #7f7f7f\">:268</span>\n",
       "</pre>\n"
      ],
      "text/plain": [
       "\u001b[34mINFO    \u001b[0m \u001b[32m'area'\u001b[0m should be set in \u001b[32m'model_units'\u001b[0m.                                \u001b]8;id=627611;file:///home/mkoenig/git/sbmlutils/src/sbmlutils/factory.py\u001b\\\u001b[2mfactory.py\u001b[0m\u001b]8;;\u001b\\\u001b[2m:268\u001b[0m\n"
      ]
     },
     "metadata": {},
     "output_type": "display_data"
    },
    {
     "data": {
      "text/html": [
       "<pre style=\"white-space:pre;overflow-x:auto;line-height:normal;font-family:Menlo,'DejaVu Sans Mono',consolas,'Courier New',monospace\"><span style=\"color: #800000; text-decoration-color: #800000\">WARNING </span> <span style=\"color: #008000; text-decoration-color: #008000\">'name'</span> should be set on <span style=\"color: #008000; text-decoration-color: #008000\">'&lt;Parameter k1&gt;'</span>                              <a href=\"file:///home/mkoenig/git/sbmlutils/src/sbmlutils/factory.py\"><span style=\"color: #7f7f7f; text-decoration-color: #7f7f7f\">factory.py</span></a><span style=\"color: #7f7f7f; text-decoration-color: #7f7f7f\">:436</span>\n",
       "</pre>\n"
      ],
      "text/plain": [
       "\u001b[31mWARNING \u001b[0m \u001b[32m'name'\u001b[0m should be set on \u001b[32m'\u001b[0m\u001b[32m<\u001b[0m\u001b[32mParameter\u001b[0m\u001b[32m k1\u001b[0m\u001b[32m>\u001b[0m\u001b[32m'\u001b[0m                              \u001b]8;id=170671;file:///home/mkoenig/git/sbmlutils/src/sbmlutils/factory.py\u001b\\\u001b[2mfactory.py\u001b[0m\u001b]8;;\u001b\\\u001b[2m:436\u001b[0m\n"
      ]
     },
     "metadata": {},
     "output_type": "display_data"
    },
    {
     "data": {
      "text/html": [
       "<pre style=\"white-space:pre;overflow-x:auto;line-height:normal;font-family:Menlo,'DejaVu Sans Mono',consolas,'Courier New',monospace\"><span style=\"color: #800000; text-decoration-color: #800000\">WARNING </span> <span style=\"color: #008000; text-decoration-color: #008000\">'sboTerm'</span> should be set on <span style=\"color: #008000; text-decoration-color: #008000\">'&lt;Parameter k1&gt;'</span>                           <a href=\"file:///home/mkoenig/git/sbmlutils/src/sbmlutils/factory.py\"><span style=\"color: #7f7f7f; text-decoration-color: #7f7f7f\">factory.py</span></a><span style=\"color: #7f7f7f; text-decoration-color: #7f7f7f\">:461</span>\n",
       "</pre>\n"
      ],
      "text/plain": [
       "\u001b[31mWARNING \u001b[0m \u001b[32m'sboTerm'\u001b[0m should be set on \u001b[32m'\u001b[0m\u001b[32m<\u001b[0m\u001b[32mParameter\u001b[0m\u001b[32m k1\u001b[0m\u001b[32m>\u001b[0m\u001b[32m'\u001b[0m                           \u001b]8;id=783634;file:///home/mkoenig/git/sbmlutils/src/sbmlutils/factory.py\u001b\\\u001b[2mfactory.py\u001b[0m\u001b]8;;\u001b\\\u001b[2m:461\u001b[0m\n"
      ]
     },
     "metadata": {},
     "output_type": "display_data"
    },
    {
     "data": {
      "text/html": [
       "<pre style=\"white-space:pre;overflow-x:auto;line-height:normal;font-family:Menlo,'DejaVu Sans Mono',consolas,'Courier New',monospace\"><span style=\"color: #800000; text-decoration-color: #800000\">WARNING </span> <span style=\"color: #008000; text-decoration-color: #008000\">'name'</span> should be set on <span style=\"color: #008000; text-decoration-color: #008000\">'&lt;Compartment C&gt;'</span>                             <a href=\"file:///home/mkoenig/git/sbmlutils/src/sbmlutils/factory.py\"><span style=\"color: #7f7f7f; text-decoration-color: #7f7f7f\">factory.py</span></a><span style=\"color: #7f7f7f; text-decoration-color: #7f7f7f\">:436</span>\n",
       "</pre>\n"
      ],
      "text/plain": [
       "\u001b[31mWARNING \u001b[0m \u001b[32m'name'\u001b[0m should be set on \u001b[32m'\u001b[0m\u001b[32m<\u001b[0m\u001b[32mCompartment\u001b[0m\u001b[32m C\u001b[0m\u001b[32m>\u001b[0m\u001b[32m'\u001b[0m                             \u001b]8;id=402558;file:///home/mkoenig/git/sbmlutils/src/sbmlutils/factory.py\u001b\\\u001b[2mfactory.py\u001b[0m\u001b]8;;\u001b\\\u001b[2m:436\u001b[0m\n"
      ]
     },
     "metadata": {},
     "output_type": "display_data"
    },
    {
     "data": {
      "text/html": [
       "<pre style=\"white-space:pre;overflow-x:auto;line-height:normal;font-family:Menlo,'DejaVu Sans Mono',consolas,'Courier New',monospace\"><span style=\"color: #800000; text-decoration-color: #800000\">WARNING </span> <span style=\"color: #008000; text-decoration-color: #008000\">'sboTerm'</span> should be set on <span style=\"color: #008000; text-decoration-color: #008000\">'&lt;Compartment C&gt;'</span>                          <a href=\"file:///home/mkoenig/git/sbmlutils/src/sbmlutils/factory.py\"><span style=\"color: #7f7f7f; text-decoration-color: #7f7f7f\">factory.py</span></a><span style=\"color: #7f7f7f; text-decoration-color: #7f7f7f\">:461</span>\n",
       "</pre>\n"
      ],
      "text/plain": [
       "\u001b[31mWARNING \u001b[0m \u001b[32m'sboTerm'\u001b[0m should be set on \u001b[32m'\u001b[0m\u001b[32m<\u001b[0m\u001b[32mCompartment\u001b[0m\u001b[32m C\u001b[0m\u001b[32m>\u001b[0m\u001b[32m'\u001b[0m                          \u001b]8;id=904154;file:///home/mkoenig/git/sbmlutils/src/sbmlutils/factory.py\u001b\\\u001b[2mfactory.py\u001b[0m\u001b]8;;\u001b\\\u001b[2m:461\u001b[0m\n"
      ]
     },
     "metadata": {},
     "output_type": "display_data"
    },
    {
     "data": {
      "text/html": [
       "<pre style=\"white-space:pre;overflow-x:auto;line-height:normal;font-family:Menlo,'DejaVu Sans Mono',consolas,'Courier New',monospace\"><span style=\"color: #800000; text-decoration-color: #800000\">WARNING </span> <span style=\"color: #008000; text-decoration-color: #008000\">'name'</span> should be set on <span style=\"color: #008000; text-decoration-color: #008000\">'&lt;Species S1&gt;'</span>                                <a href=\"file:///home/mkoenig/git/sbmlutils/src/sbmlutils/factory.py\"><span style=\"color: #7f7f7f; text-decoration-color: #7f7f7f\">factory.py</span></a><span style=\"color: #7f7f7f; text-decoration-color: #7f7f7f\">:436</span>\n",
       "</pre>\n"
      ],
      "text/plain": [
       "\u001b[31mWARNING \u001b[0m \u001b[32m'name'\u001b[0m should be set on \u001b[32m'\u001b[0m\u001b[32m<\u001b[0m\u001b[32mSpecies\u001b[0m\u001b[32m S1\u001b[0m\u001b[32m>\u001b[0m\u001b[32m'\u001b[0m                                \u001b]8;id=77729;file:///home/mkoenig/git/sbmlutils/src/sbmlutils/factory.py\u001b\\\u001b[2mfactory.py\u001b[0m\u001b]8;;\u001b\\\u001b[2m:436\u001b[0m\n"
      ]
     },
     "metadata": {},
     "output_type": "display_data"
    },
    {
     "data": {
      "text/html": [
       "<pre style=\"white-space:pre;overflow-x:auto;line-height:normal;font-family:Menlo,'DejaVu Sans Mono',consolas,'Courier New',monospace\"><span style=\"color: #800000; text-decoration-color: #800000\">WARNING </span> <span style=\"color: #008000; text-decoration-color: #008000\">'sboTerm'</span> should be set on <span style=\"color: #008000; text-decoration-color: #008000\">'&lt;Species S1&gt;'</span>                             <a href=\"file:///home/mkoenig/git/sbmlutils/src/sbmlutils/factory.py\"><span style=\"color: #7f7f7f; text-decoration-color: #7f7f7f\">factory.py</span></a><span style=\"color: #7f7f7f; text-decoration-color: #7f7f7f\">:461</span>\n",
       "</pre>\n"
      ],
      "text/plain": [
       "\u001b[31mWARNING \u001b[0m \u001b[32m'sboTerm'\u001b[0m should be set on \u001b[32m'\u001b[0m\u001b[32m<\u001b[0m\u001b[32mSpecies\u001b[0m\u001b[32m S1\u001b[0m\u001b[32m>\u001b[0m\u001b[32m'\u001b[0m                             \u001b]8;id=147863;file:///home/mkoenig/git/sbmlutils/src/sbmlutils/factory.py\u001b\\\u001b[2mfactory.py\u001b[0m\u001b]8;;\u001b\\\u001b[2m:461\u001b[0m\n"
      ]
     },
     "metadata": {},
     "output_type": "display_data"
    },
    {
     "data": {
      "text/html": [
       "<pre style=\"white-space:pre;overflow-x:auto;line-height:normal;font-family:Menlo,'DejaVu Sans Mono',consolas,'Courier New',monospace\"><span style=\"color: #800000; text-decoration-color: #800000\">WARNING </span> <span style=\"color: #008000; text-decoration-color: #008000\">'name'</span> should be set on <span style=\"color: #008000; text-decoration-color: #008000\">'&lt;Species S2&gt;'</span>                                <a href=\"file:///home/mkoenig/git/sbmlutils/src/sbmlutils/factory.py\"><span style=\"color: #7f7f7f; text-decoration-color: #7f7f7f\">factory.py</span></a><span style=\"color: #7f7f7f; text-decoration-color: #7f7f7f\">:436</span>\n",
       "</pre>\n"
      ],
      "text/plain": [
       "\u001b[31mWARNING \u001b[0m \u001b[32m'name'\u001b[0m should be set on \u001b[32m'\u001b[0m\u001b[32m<\u001b[0m\u001b[32mSpecies\u001b[0m\u001b[32m S2\u001b[0m\u001b[32m>\u001b[0m\u001b[32m'\u001b[0m                                \u001b]8;id=910875;file:///home/mkoenig/git/sbmlutils/src/sbmlutils/factory.py\u001b\\\u001b[2mfactory.py\u001b[0m\u001b]8;;\u001b\\\u001b[2m:436\u001b[0m\n"
      ]
     },
     "metadata": {},
     "output_type": "display_data"
    },
    {
     "data": {
      "text/html": [
       "<pre style=\"white-space:pre;overflow-x:auto;line-height:normal;font-family:Menlo,'DejaVu Sans Mono',consolas,'Courier New',monospace\"><span style=\"color: #800000; text-decoration-color: #800000\">WARNING </span> <span style=\"color: #008000; text-decoration-color: #008000\">'sboTerm'</span> should be set on <span style=\"color: #008000; text-decoration-color: #008000\">'&lt;Species S2&gt;'</span>                             <a href=\"file:///home/mkoenig/git/sbmlutils/src/sbmlutils/factory.py\"><span style=\"color: #7f7f7f; text-decoration-color: #7f7f7f\">factory.py</span></a><span style=\"color: #7f7f7f; text-decoration-color: #7f7f7f\">:461</span>\n",
       "</pre>\n"
      ],
      "text/plain": [
       "\u001b[31mWARNING \u001b[0m \u001b[32m'sboTerm'\u001b[0m should be set on \u001b[32m'\u001b[0m\u001b[32m<\u001b[0m\u001b[32mSpecies\u001b[0m\u001b[32m S2\u001b[0m\u001b[32m>\u001b[0m\u001b[32m'\u001b[0m                             \u001b]8;id=379731;file:///home/mkoenig/git/sbmlutils/src/sbmlutils/factory.py\u001b\\\u001b[2mfactory.py\u001b[0m\u001b]8;;\u001b\\\u001b[2m:461\u001b[0m\n"
      ]
     },
     "metadata": {},
     "output_type": "display_data"
    },
    {
     "data": {
      "text/html": [
       "<pre style=\"white-space:pre;overflow-x:auto;line-height:normal;font-family:Menlo,'DejaVu Sans Mono',consolas,'Courier New',monospace\"><span style=\"color: #800000; text-decoration-color: #800000\">WARNING </span> <span style=\"color: #008000; text-decoration-color: #008000\">'name'</span> should be set on <span style=\"color: #008000; text-decoration-color: #008000\">'&lt;Reaction R1&gt;'</span>                               <a href=\"file:///home/mkoenig/git/sbmlutils/src/sbmlutils/factory.py\"><span style=\"color: #7f7f7f; text-decoration-color: #7f7f7f\">factory.py</span></a><span style=\"color: #7f7f7f; text-decoration-color: #7f7f7f\">:436</span>\n",
       "</pre>\n"
      ],
      "text/plain": [
       "\u001b[31mWARNING \u001b[0m \u001b[32m'name'\u001b[0m should be set on \u001b[32m'\u001b[0m\u001b[32m<\u001b[0m\u001b[32mReaction\u001b[0m\u001b[32m R1\u001b[0m\u001b[32m>\u001b[0m\u001b[32m'\u001b[0m                               \u001b]8;id=345934;file:///home/mkoenig/git/sbmlutils/src/sbmlutils/factory.py\u001b\\\u001b[2mfactory.py\u001b[0m\u001b]8;;\u001b\\\u001b[2m:436\u001b[0m\n"
      ]
     },
     "metadata": {},
     "output_type": "display_data"
    },
    {
     "data": {
      "text/html": [
       "<pre style=\"white-space:pre;overflow-x:auto;line-height:normal;font-family:Menlo,'DejaVu Sans Mono',consolas,'Courier New',monospace\"><span style=\"color: #800000; text-decoration-color: #800000\">WARNING </span> <span style=\"color: #008000; text-decoration-color: #008000\">'sboTerm'</span> should be set on <span style=\"color: #008000; text-decoration-color: #008000\">'&lt;Reaction R1&gt;'</span>                            <a href=\"file:///home/mkoenig/git/sbmlutils/src/sbmlutils/factory.py\"><span style=\"color: #7f7f7f; text-decoration-color: #7f7f7f\">factory.py</span></a><span style=\"color: #7f7f7f; text-decoration-color: #7f7f7f\">:461</span>\n",
       "</pre>\n"
      ],
      "text/plain": [
       "\u001b[31mWARNING \u001b[0m \u001b[32m'sboTerm'\u001b[0m should be set on \u001b[32m'\u001b[0m\u001b[32m<\u001b[0m\u001b[32mReaction\u001b[0m\u001b[32m R1\u001b[0m\u001b[32m>\u001b[0m\u001b[32m'\u001b[0m                            \u001b]8;id=937555;file:///home/mkoenig/git/sbmlutils/src/sbmlutils/factory.py\u001b\\\u001b[2mfactory.py\u001b[0m\u001b]8;;\u001b\\\u001b[2m:461\u001b[0m\n"
      ]
     },
     "metadata": {},
     "output_type": "display_data"
    },
    {
     "data": {
      "text/html": [
       "<pre style=\"white-space:pre;overflow-x:auto;line-height:normal;font-family:Menlo,'DejaVu Sans Mono',consolas,'Courier New',monospace\">\n",
       "</pre>\n"
      ],
      "text/plain": [
       "\n"
      ]
     },
     "metadata": {},
     "output_type": "display_data"
    },
    {
     "data": {
      "text/html": [
       "<pre style=\"white-space:pre;overflow-x:auto;line-height:normal;font-family:Menlo,'DejaVu Sans Mono',consolas,'Courier New',monospace\"><span style=\"color: #008000; text-decoration-color: #008000\">─────────────────────────────────────── </span>Validate SBML<span style=\"color: #008000; text-decoration-color: #008000\"> ───────────────────────────────────────</span>\n",
       "</pre>\n"
      ],
      "text/plain": [
       "\u001b[32m─────────────────────────────────────── \u001b[0mValidate SBML\u001b[32m ───────────────────────────────────────\u001b[0m\n"
      ]
     },
     "metadata": {},
     "output_type": "display_data"
    },
    {
     "data": {
      "text/html": [
       "<pre style=\"white-space:pre;overflow-x:auto;line-height:normal;font-family:Menlo,'DejaVu Sans Mono',consolas,'Courier New',monospace\"><span style=\"color: #008000; text-decoration-color: #008000\">file:</span><span style=\"color: #800080; text-decoration-color: #800080\">///tmp/tmp4ud69jmq/</span><span style=\"color: #ff00ff; text-decoration-color: #ff00ff\">example_model.xml</span>\n",
       "<span style=\"color: #008000; text-decoration-color: #008000\">valid                    : TRUE</span>\n",
       "<span style=\"color: #008000; text-decoration-color: #008000\">check time </span><span style=\"color: #008000; text-decoration-color: #008000; font-weight: bold\">(</span><span style=\"color: #008000; text-decoration-color: #008000\">s</span><span style=\"color: #008000; text-decoration-color: #008000; font-weight: bold\">)</span><span style=\"color: #008000; text-decoration-color: #008000\">           : </span><span style=\"color: #008080; text-decoration-color: #008080; font-weight: bold\">0.002</span>\n",
       "</pre>\n"
      ],
      "text/plain": [
       "\u001b[32mfile:\u001b[0m\u001b[35m/\u001b[0m\u001b[35m/\u001b[0m\u001b[35m/tmp/tmp4ud69jmq/\u001b[0m\u001b[95mexample_model.xml\u001b[0m\n",
       "\u001b[32mvalid                    : TRUE\u001b[0m\n",
       "\u001b[32mcheck time \u001b[0m\u001b[1;32m(\u001b[0m\u001b[32ms\u001b[0m\u001b[1;32m)\u001b[0m\u001b[32m           : \u001b[0m\u001b[1;36m0.002\u001b[0m\n"
      ]
     },
     "metadata": {},
     "output_type": "display_data"
    },
    {
     "data": {
      "text/html": [
       "<pre style=\"white-space:pre;overflow-x:auto;line-height:normal;font-family:Menlo,'DejaVu Sans Mono',consolas,'Courier New',monospace\"><span style=\"color: #008000; text-decoration-color: #008000\">─────────────────────────────────────────────────────────────────────────────────────────────</span>\n",
       "</pre>\n"
      ],
      "text/plain": [
       "\u001b[32m─────────────────────────────────────────────────────────────────────────────────────────────\u001b[0m\n"
      ]
     },
     "metadata": {},
     "output_type": "display_data"
    },
    {
     "data": {
      "text/html": [
       "<pre style=\"white-space:pre;overflow-x:auto;line-height:normal;font-family:Menlo,'DejaVu Sans Mono',consolas,'Courier New',monospace\">\n",
       "</pre>\n"
      ],
      "text/plain": [
       "\n"
      ]
     },
     "metadata": {},
     "output_type": "display_data"
    },
    {
     "data": {
      "text/html": [
       "<pre style=\"white-space:pre;overflow-x:auto;line-height:normal;font-family:Menlo,'DejaVu Sans Mono',consolas,'Courier New',monospace\"><span style=\"color: #000080; text-decoration-color: #000080\">INFO    </span> No support for <span style=\"color: #008000; text-decoration-color: #008000\">'create_report'</span> in sbmlutils-v0.<span style=\"color: #008080; text-decoration-color: #008080; font-weight: bold\">5.7</span>.                 <a href=\"file:///home/mkoenig/git/sbmlutils/src/sbmlutils/report/sbmlreport.py\"><span style=\"color: #7f7f7f; text-decoration-color: #7f7f7f\">sbmlreport.py</span></a><span style=\"color: #7f7f7f; text-decoration-color: #7f7f7f\">:41</span>\n",
       "</pre>\n"
      ],
      "text/plain": [
       "\u001b[34mINFO    \u001b[0m No support for \u001b[32m'create_report'\u001b[0m in sbmlutils-v0.\u001b[1;36m5.7\u001b[0m.                 \u001b]8;id=796298;file:///home/mkoenig/git/sbmlutils/src/sbmlutils/report/sbmlreport.py\u001b\\\u001b[2msbmlreport.py\u001b[0m\u001b]8;;\u001b\\\u001b[2m:41\u001b[0m\n"
      ]
     },
     "metadata": {},
     "output_type": "display_data"
    },
    {
     "data": {
      "text/html": [
       "<pre style=\"white-space:pre;overflow-x:auto;line-height:normal;font-family:Menlo,'DejaVu Sans Mono',consolas,'Courier New',monospace\"><span style=\"color: #c0c0c0; text-decoration-color: #c0c0c0\">─────────────────────────────────────────────────────────────────────────────────────────────</span>\n",
       "</pre>\n"
      ],
      "text/plain": [
       "\u001b[37m─────────────────────────────────────────────────────────────────────────────────────────────\u001b[0m\n"
      ]
     },
     "metadata": {},
     "output_type": "display_data"
    },
    {
     "name": "stdout",
     "output_type": "stream",
     "text": [
      "<?xml version=\"1.0\" encoding=\"UTF-8\"?>\n",
      "<sbml xmlns=\"http://www.sbml.org/sbml/level3/version1/core\" xmlns:comp=\"http://www.sbml.org/sbml/level3/version1/comp/version1\" level=\"3\" version=\"1\" comp:required=\"true\">\n",
      "  <notes>\n",
      "    <body xmlns=\"http://www.w3.org/1999/xhtml\">\n",
      "      <p>Created with <a href=\"https://github.com/matthiaskoenig/sbmlutils\">https://github.com/matthiaskoenig/sbmlutils</a>.\n",
      "<a href=\"https://doi.org/10.5281/zenodo.5525390\">\n",
      "        <img src=\"https://zenodo.org/badge/DOI/10.5281/zenodo.5525390.svg\" alt=\"DOI\"/></a></p>\n",
      "      </body>\n",
      "    </notes>\n",
      "  <model id=\"example_model\" substanceUnits=\"mole\" timeUnits=\"second\" volumeUnits=\"litre\" extentUnits=\"mole\">\n",
      "    <listOfCompartments>\n",
      "      <compartment id=\"C\" spatialDimensions=\"3\" size=\"1\" constant=\"true\"/>\n",
      "    </listOfCompartments>\n",
      "    <listOfSpecies>\n",
      "      <species id=\"S1\" compartment=\"C\" initialConcentration=\"10\" substanceUnits=\"mole\" hasOnlySubstanceUnits=\"false\" boundaryCondition=\"false\" constant=\"false\"/>\n",
      "      <species id=\"S2\" compartment=\"C\" initialConcentration=\"0\" substanceUnits=\"mole\" hasOnlySubstanceUnits=\"false\" boundaryCondition=\"false\" constant=\"false\"/>\n",
      "    </listOfSpecies>\n",
      "    <listOfParameters>\n",
      "      <parameter id=\"k1\" value=\"1\" constant=\"true\"/>\n",
      "    </listOfParameters>\n",
      "    <listOfReactions>\n",
      "      <reaction id=\"R1\" reversible=\"false\" fast=\"false\">\n",
      "        <listOfReactants>\n",
      "          <speciesReference species=\"S1\" stoichiometry=\"1\" constant=\"true\"/>\n",
      "        </listOfReactants>\n",
      "        <listOfProducts>\n",
      "          <speciesReference species=\"S2\" stoichiometry=\"1\" constant=\"true\"/>\n",
      "        </listOfProducts>\n",
      "        <kineticLaw>\n",
      "          <math xmlns=\"http://www.w3.org/1998/Math/MathML\">\n",
      "            <apply>\n",
      "              <times/>\n",
      "              <ci> k1 </ci>\n",
      "              <ci> S1 </ci>\n",
      "            </apply>\n",
      "          </math>\n",
      "        </kineticLaw>\n",
      "      </reaction>\n",
      "    </listOfReactions>\n",
      "  </model>\n",
      "</sbml>\n",
      "\n"
     ]
    }
   ],
   "source": [
    "model = Model(\n",
    "    \"example_model\",\n",
    "    units=Units,\n",
    "    model_units = ModelUnits(\n",
    "        time=Units.second,\n",
    "        substance=Units.mole,\n",
    "        extent=Units.mole,\n",
    "        volume=Units.litre,\n",
    "    ),\n",
    "    compartments = [Compartment(sid=\"C\", value=1.0)],\n",
    "    species = [\n",
    "        Species(\n",
    "            sid=\"S1\",\n",
    "            initialConcentration=10.0,\n",
    "            compartment=\"C\",\n",
    "            hasOnlySubstanceUnits=False,\n",
    "        ),\n",
    "        Species(\n",
    "            sid=\"S2\",\n",
    "            initialConcentration=0.0,\n",
    "            compartment=\"C\",\n",
    "            hasOnlySubstanceUnits=False,\n",
    "        )\n",
    "    ],\n",
    "    parameters = [Parameter(sid=\"k1\", value=1.0)],\n",
    "    reactions = [\n",
    "        Reaction(sid=\"R1\", equation=\"S1 -> S2\", formula=(\"k1 * S1\", None))\n",
    "    ],\n",
    ")\n",
    "\n",
    "# create the model as L3V1\n",
    "with tempfile.TemporaryDirectory() as tmp_path:\n",
    "    results = create_model(\n",
    "        models=model,\n",
    "        output_dir=Path(tmp_path),\n",
    "        tmp=False,\n",
    "        units_consistency=False,\n",
    "        sbml_level=3,\n",
    "        sbml_version=1,\n",
    "    )\n",
    "    # show level and version and print SBML\n",
    "    doc = read_sbml(source=results.sbml_path, validate=False)\n",
    "    sbml = write_sbml(doc)\n",
    "    print(sbml)"
   ]
  },
  {
   "cell_type": "markdown",
   "metadata": {},
   "source": [
    "## Units\n",
    "It is highly recommended to annotate all units in the model. This allows automatic unit validation and unit conversions with the model.\n",
    "\n",
    "Units are defined by subclassing the `Units` class. This provides the default SBML units and allows for code completion with units. Units are defined as attributes on the Units subclass."
   ]
  },
  {
   "cell_type": "code",
   "execution_count": 3,
   "metadata": {},
   "outputs": [],
   "source": [
    "class U(Units):\n",
    "    \"\"\"UnitDefinitions.\"\"\"\n",
    "    \n",
    "    mmole = UnitDefinition(\"mmole\", \"mmole\")\n",
    "    mmole_per_min = UnitDefinition(\"mmole_per_min\", \"mmole/min\")\n"
   ]
  },
  {
   "cell_type": "markdown",
   "metadata": {
    "pycharm": {
     "name": "#%% md\n"
    }
   },
   "source": [
    "## SBML Levels and Versions\n",
    "Models can be generated in all SBML levels and versions via the `create_model` function."
   ]
  },
  {
   "cell_type": "code",
   "execution_count": 4,
   "metadata": {
    "pycharm": {
     "name": "#%%\n"
    }
   },
   "outputs": [],
   "source": [
    "from sbmlutils.io import read_sbml, write_sbml, validate_sbml\n",
    "\n",
    "from sbmlutils.factory import *\n",
    "from sbmlutils.metadata import *\n",
    "\n",
    "import tempfile"
   ]
  },
  {
   "cell_type": "code",
   "execution_count": 5,
   "metadata": {
    "pycharm": {
     "name": "#%%\n"
    }
   },
   "outputs": [
    {
     "data": {
      "text/html": [
       "<pre style=\"white-space:pre;overflow-x:auto;line-height:normal;font-family:Menlo,'DejaVu Sans Mono',consolas,'Courier New',monospace\"><span style=\"color: #c0c0c0; text-decoration-color: #c0c0c0\">──────────────────────────────────────── </span>Create SBML<span style=\"color: #c0c0c0; text-decoration-color: #c0c0c0\"> ────────────────────────────────────────</span>\n",
       "</pre>\n"
      ],
      "text/plain": [
       "\u001b[37m──────────────────────────────────────── \u001b[0mCreate SBML\u001b[37m ────────────────────────────────────────\u001b[0m\n"
      ]
     },
     "metadata": {},
     "output_type": "display_data"
    },
    {
     "data": {
      "text/html": [
       "<pre style=\"white-space:pre;overflow-x:auto;line-height:normal;font-family:Menlo,'DejaVu Sans Mono',consolas,'Courier New',monospace\"><span style=\"color: #000080; text-decoration-color: #000080\">INFO    </span> Create SBML for model <span style=\"color: #008000; text-decoration-color: #008000\">'L1V1'</span>                                         <a href=\"file:///home/mkoenig/git/sbmlutils/src/sbmlutils/factory.py\"><span style=\"color: #7f7f7f; text-decoration-color: #7f7f7f\">factory.py</span></a><span style=\"color: #7f7f7f; text-decoration-color: #7f7f7f\">:2896</span>\n",
       "</pre>\n"
      ],
      "text/plain": [
       "\u001b[34mINFO    \u001b[0m Create SBML for model \u001b[32m'L1V1'\u001b[0m                                         \u001b]8;id=340095;file:///home/mkoenig/git/sbmlutils/src/sbmlutils/factory.py\u001b\\\u001b[2mfactory.py\u001b[0m\u001b]8;;\u001b\\\u001b[2m:2896\u001b[0m\n"
      ]
     },
     "metadata": {},
     "output_type": "display_data"
    },
    {
     "data": {
      "text/html": [
       "<pre style=\"white-space:pre;overflow-x:auto;line-height:normal;font-family:Menlo,'DejaVu Sans Mono',consolas,'Courier New',monospace\"><span style=\"color: #800000; text-decoration-color: #800000\">WARNING </span> <span style=\"color: #008000; text-decoration-color: #008000\">'name'</span> should be set on <span style=\"color: #008000; text-decoration-color: #008000\">'&lt;Model L1V1&gt;'</span>                                <a href=\"file:///home/mkoenig/git/sbmlutils/src/sbmlutils/factory.py\"><span style=\"color: #7f7f7f; text-decoration-color: #7f7f7f\">factory.py</span></a><span style=\"color: #7f7f7f; text-decoration-color: #7f7f7f\">:436</span>\n",
       "</pre>\n"
      ],
      "text/plain": [
       "\u001b[31mWARNING \u001b[0m \u001b[32m'name'\u001b[0m should be set on \u001b[32m'\u001b[0m\u001b[32m<\u001b[0m\u001b[32mModel\u001b[0m\u001b[32m L1V1\u001b[0m\u001b[32m>\u001b[0m\u001b[32m'\u001b[0m                                \u001b]8;id=557019;file:///home/mkoenig/git/sbmlutils/src/sbmlutils/factory.py\u001b\\\u001b[2mfactory.py\u001b[0m\u001b]8;;\u001b\\\u001b[2m:436\u001b[0m\n"
      ]
     },
     "metadata": {},
     "output_type": "display_data"
    },
    {
     "data": {
      "text/html": [
       "<pre style=\"white-space:pre;overflow-x:auto;line-height:normal;font-family:Menlo,'DejaVu Sans Mono',consolas,'Courier New',monospace\"><span style=\"color: #000080; text-decoration-color: #000080\">INFO    </span> <span style=\"color: #008000; text-decoration-color: #008000\">'length'</span> should be set in <span style=\"color: #008000; text-decoration-color: #008000\">'model_units'</span>.                              <a href=\"file:///home/mkoenig/git/sbmlutils/src/sbmlutils/factory.py\"><span style=\"color: #7f7f7f; text-decoration-color: #7f7f7f\">factory.py</span></a><span style=\"color: #7f7f7f; text-decoration-color: #7f7f7f\">:268</span>\n",
       "</pre>\n"
      ],
      "text/plain": [
       "\u001b[34mINFO    \u001b[0m \u001b[32m'length'\u001b[0m should be set in \u001b[32m'model_units'\u001b[0m.                              \u001b]8;id=469707;file:///home/mkoenig/git/sbmlutils/src/sbmlutils/factory.py\u001b\\\u001b[2mfactory.py\u001b[0m\u001b]8;;\u001b\\\u001b[2m:268\u001b[0m\n"
      ]
     },
     "metadata": {},
     "output_type": "display_data"
    },
    {
     "data": {
      "text/html": [
       "<pre style=\"white-space:pre;overflow-x:auto;line-height:normal;font-family:Menlo,'DejaVu Sans Mono',consolas,'Courier New',monospace\"><span style=\"color: #000080; text-decoration-color: #000080\">INFO    </span> <span style=\"color: #008000; text-decoration-color: #008000\">'area'</span> should be set in <span style=\"color: #008000; text-decoration-color: #008000\">'model_units'</span>.                                <a href=\"file:///home/mkoenig/git/sbmlutils/src/sbmlutils/factory.py\"><span style=\"color: #7f7f7f; text-decoration-color: #7f7f7f\">factory.py</span></a><span style=\"color: #7f7f7f; text-decoration-color: #7f7f7f\">:268</span>\n",
       "</pre>\n"
      ],
      "text/plain": [
       "\u001b[34mINFO    \u001b[0m \u001b[32m'area'\u001b[0m should be set in \u001b[32m'model_units'\u001b[0m.                                \u001b]8;id=573843;file:///home/mkoenig/git/sbmlutils/src/sbmlutils/factory.py\u001b\\\u001b[2mfactory.py\u001b[0m\u001b]8;;\u001b\\\u001b[2m:268\u001b[0m\n"
      ]
     },
     "metadata": {},
     "output_type": "display_data"
    },
    {
     "data": {
      "text/html": [
       "<pre style=\"white-space:pre;overflow-x:auto;line-height:normal;font-family:Menlo,'DejaVu Sans Mono',consolas,'Courier New',monospace\"><span style=\"color: #800000; text-decoration-color: #800000\">WARNING </span> <span style=\"color: #008000; text-decoration-color: #008000\">'name'</span> should be set on <span style=\"color: #008000; text-decoration-color: #008000\">'&lt;Parameter k1&gt;'</span>                              <a href=\"file:///home/mkoenig/git/sbmlutils/src/sbmlutils/factory.py\"><span style=\"color: #7f7f7f; text-decoration-color: #7f7f7f\">factory.py</span></a><span style=\"color: #7f7f7f; text-decoration-color: #7f7f7f\">:436</span>\n",
       "</pre>\n"
      ],
      "text/plain": [
       "\u001b[31mWARNING \u001b[0m \u001b[32m'name'\u001b[0m should be set on \u001b[32m'\u001b[0m\u001b[32m<\u001b[0m\u001b[32mParameter\u001b[0m\u001b[32m k1\u001b[0m\u001b[32m>\u001b[0m\u001b[32m'\u001b[0m                              \u001b]8;id=151817;file:///home/mkoenig/git/sbmlutils/src/sbmlutils/factory.py\u001b\\\u001b[2mfactory.py\u001b[0m\u001b]8;;\u001b\\\u001b[2m:436\u001b[0m\n"
      ]
     },
     "metadata": {},
     "output_type": "display_data"
    },
    {
     "data": {
      "text/html": [
       "<pre style=\"white-space:pre;overflow-x:auto;line-height:normal;font-family:Menlo,'DejaVu Sans Mono',consolas,'Courier New',monospace\"><span style=\"color: #800000; text-decoration-color: #800000\">WARNING </span> <span style=\"color: #008000; text-decoration-color: #008000\">'sboTerm'</span> should be set on <span style=\"color: #008000; text-decoration-color: #008000\">'&lt;Parameter k1&gt;'</span>                           <a href=\"file:///home/mkoenig/git/sbmlutils/src/sbmlutils/factory.py\"><span style=\"color: #7f7f7f; text-decoration-color: #7f7f7f\">factory.py</span></a><span style=\"color: #7f7f7f; text-decoration-color: #7f7f7f\">:461</span>\n",
       "</pre>\n"
      ],
      "text/plain": [
       "\u001b[31mWARNING \u001b[0m \u001b[32m'sboTerm'\u001b[0m should be set on \u001b[32m'\u001b[0m\u001b[32m<\u001b[0m\u001b[32mParameter\u001b[0m\u001b[32m k1\u001b[0m\u001b[32m>\u001b[0m\u001b[32m'\u001b[0m                           \u001b]8;id=905879;file:///home/mkoenig/git/sbmlutils/src/sbmlutils/factory.py\u001b\\\u001b[2mfactory.py\u001b[0m\u001b]8;;\u001b\\\u001b[2m:461\u001b[0m\n"
      ]
     },
     "metadata": {},
     "output_type": "display_data"
    },
    {
     "data": {
      "text/html": [
       "<pre style=\"white-space:pre;overflow-x:auto;line-height:normal;font-family:Menlo,'DejaVu Sans Mono',consolas,'Courier New',monospace\"><span style=\"color: #800000; text-decoration-color: #800000\">WARNING </span> <span style=\"color: #008000; text-decoration-color: #008000\">'name'</span> should be set on <span style=\"color: #008000; text-decoration-color: #008000\">'&lt;Compartment C&gt;'</span>                             <a href=\"file:///home/mkoenig/git/sbmlutils/src/sbmlutils/factory.py\"><span style=\"color: #7f7f7f; text-decoration-color: #7f7f7f\">factory.py</span></a><span style=\"color: #7f7f7f; text-decoration-color: #7f7f7f\">:436</span>\n",
       "</pre>\n"
      ],
      "text/plain": [
       "\u001b[31mWARNING \u001b[0m \u001b[32m'name'\u001b[0m should be set on \u001b[32m'\u001b[0m\u001b[32m<\u001b[0m\u001b[32mCompartment\u001b[0m\u001b[32m C\u001b[0m\u001b[32m>\u001b[0m\u001b[32m'\u001b[0m                             \u001b]8;id=194315;file:///home/mkoenig/git/sbmlutils/src/sbmlutils/factory.py\u001b\\\u001b[2mfactory.py\u001b[0m\u001b]8;;\u001b\\\u001b[2m:436\u001b[0m\n"
      ]
     },
     "metadata": {},
     "output_type": "display_data"
    },
    {
     "data": {
      "text/html": [
       "<pre style=\"white-space:pre;overflow-x:auto;line-height:normal;font-family:Menlo,'DejaVu Sans Mono',consolas,'Courier New',monospace\"><span style=\"color: #800000; text-decoration-color: #800000\">WARNING </span> <span style=\"color: #008000; text-decoration-color: #008000\">'sboTerm'</span> should be set on <span style=\"color: #008000; text-decoration-color: #008000\">'&lt;Compartment C&gt;'</span>                          <a href=\"file:///home/mkoenig/git/sbmlutils/src/sbmlutils/factory.py\"><span style=\"color: #7f7f7f; text-decoration-color: #7f7f7f\">factory.py</span></a><span style=\"color: #7f7f7f; text-decoration-color: #7f7f7f\">:461</span>\n",
       "</pre>\n"
      ],
      "text/plain": [
       "\u001b[31mWARNING \u001b[0m \u001b[32m'sboTerm'\u001b[0m should be set on \u001b[32m'\u001b[0m\u001b[32m<\u001b[0m\u001b[32mCompartment\u001b[0m\u001b[32m C\u001b[0m\u001b[32m>\u001b[0m\u001b[32m'\u001b[0m                          \u001b]8;id=158666;file:///home/mkoenig/git/sbmlutils/src/sbmlutils/factory.py\u001b\\\u001b[2mfactory.py\u001b[0m\u001b]8;;\u001b\\\u001b[2m:461\u001b[0m\n"
      ]
     },
     "metadata": {},
     "output_type": "display_data"
    },
    {
     "data": {
      "text/html": [
       "<pre style=\"white-space:pre;overflow-x:auto;line-height:normal;font-family:Menlo,'DejaVu Sans Mono',consolas,'Courier New',monospace\"><span style=\"color: #800000; text-decoration-color: #800000\">WARNING </span> <span style=\"color: #008000; text-decoration-color: #008000\">'name'</span> should be set on <span style=\"color: #008000; text-decoration-color: #008000\">'&lt;Species S1&gt;'</span>                                <a href=\"file:///home/mkoenig/git/sbmlutils/src/sbmlutils/factory.py\"><span style=\"color: #7f7f7f; text-decoration-color: #7f7f7f\">factory.py</span></a><span style=\"color: #7f7f7f; text-decoration-color: #7f7f7f\">:436</span>\n",
       "</pre>\n"
      ],
      "text/plain": [
       "\u001b[31mWARNING \u001b[0m \u001b[32m'name'\u001b[0m should be set on \u001b[32m'\u001b[0m\u001b[32m<\u001b[0m\u001b[32mSpecies\u001b[0m\u001b[32m S1\u001b[0m\u001b[32m>\u001b[0m\u001b[32m'\u001b[0m                                \u001b]8;id=630398;file:///home/mkoenig/git/sbmlutils/src/sbmlutils/factory.py\u001b\\\u001b[2mfactory.py\u001b[0m\u001b]8;;\u001b\\\u001b[2m:436\u001b[0m\n"
      ]
     },
     "metadata": {},
     "output_type": "display_data"
    },
    {
     "data": {
      "text/html": [
       "<pre style=\"white-space:pre;overflow-x:auto;line-height:normal;font-family:Menlo,'DejaVu Sans Mono',consolas,'Courier New',monospace\"><span style=\"color: #800000; text-decoration-color: #800000\">WARNING </span> <span style=\"color: #008000; text-decoration-color: #008000\">'sboTerm'</span> should be set on <span style=\"color: #008000; text-decoration-color: #008000\">'&lt;Species S1&gt;'</span>                             <a href=\"file:///home/mkoenig/git/sbmlutils/src/sbmlutils/factory.py\"><span style=\"color: #7f7f7f; text-decoration-color: #7f7f7f\">factory.py</span></a><span style=\"color: #7f7f7f; text-decoration-color: #7f7f7f\">:461</span>\n",
       "</pre>\n"
      ],
      "text/plain": [
       "\u001b[31mWARNING \u001b[0m \u001b[32m'sboTerm'\u001b[0m should be set on \u001b[32m'\u001b[0m\u001b[32m<\u001b[0m\u001b[32mSpecies\u001b[0m\u001b[32m S1\u001b[0m\u001b[32m>\u001b[0m\u001b[32m'\u001b[0m                             \u001b]8;id=352464;file:///home/mkoenig/git/sbmlutils/src/sbmlutils/factory.py\u001b\\\u001b[2mfactory.py\u001b[0m\u001b]8;;\u001b\\\u001b[2m:461\u001b[0m\n"
      ]
     },
     "metadata": {},
     "output_type": "display_data"
    },
    {
     "data": {
      "text/html": [
       "<pre style=\"white-space:pre;overflow-x:auto;line-height:normal;font-family:Menlo,'DejaVu Sans Mono',consolas,'Courier New',monospace\"><span style=\"color: #800000; text-decoration-color: #800000\">WARNING </span> <span style=\"color: #008000; text-decoration-color: #008000\">'name'</span> should be set on <span style=\"color: #008000; text-decoration-color: #008000\">'&lt;Reaction R1&gt;'</span>                               <a href=\"file:///home/mkoenig/git/sbmlutils/src/sbmlutils/factory.py\"><span style=\"color: #7f7f7f; text-decoration-color: #7f7f7f\">factory.py</span></a><span style=\"color: #7f7f7f; text-decoration-color: #7f7f7f\">:436</span>\n",
       "</pre>\n"
      ],
      "text/plain": [
       "\u001b[31mWARNING \u001b[0m \u001b[32m'name'\u001b[0m should be set on \u001b[32m'\u001b[0m\u001b[32m<\u001b[0m\u001b[32mReaction\u001b[0m\u001b[32m R1\u001b[0m\u001b[32m>\u001b[0m\u001b[32m'\u001b[0m                               \u001b]8;id=387160;file:///home/mkoenig/git/sbmlutils/src/sbmlutils/factory.py\u001b\\\u001b[2mfactory.py\u001b[0m\u001b]8;;\u001b\\\u001b[2m:436\u001b[0m\n"
      ]
     },
     "metadata": {},
     "output_type": "display_data"
    },
    {
     "data": {
      "text/html": [
       "<pre style=\"white-space:pre;overflow-x:auto;line-height:normal;font-family:Menlo,'DejaVu Sans Mono',consolas,'Courier New',monospace\"><span style=\"color: #800000; text-decoration-color: #800000\">WARNING </span> <span style=\"color: #008000; text-decoration-color: #008000\">'sboTerm'</span> should be set on <span style=\"color: #008000; text-decoration-color: #008000\">'&lt;Reaction R1&gt;'</span>                            <a href=\"file:///home/mkoenig/git/sbmlutils/src/sbmlutils/factory.py\"><span style=\"color: #7f7f7f; text-decoration-color: #7f7f7f\">factory.py</span></a><span style=\"color: #7f7f7f; text-decoration-color: #7f7f7f\">:461</span>\n",
       "</pre>\n"
      ],
      "text/plain": [
       "\u001b[31mWARNING \u001b[0m \u001b[32m'sboTerm'\u001b[0m should be set on \u001b[32m'\u001b[0m\u001b[32m<\u001b[0m\u001b[32mReaction\u001b[0m\u001b[32m R1\u001b[0m\u001b[32m>\u001b[0m\u001b[32m'\u001b[0m                            \u001b]8;id=327289;file:///home/mkoenig/git/sbmlutils/src/sbmlutils/factory.py\u001b\\\u001b[2mfactory.py\u001b[0m\u001b]8;;\u001b\\\u001b[2m:461\u001b[0m\n"
      ]
     },
     "metadata": {},
     "output_type": "display_data"
    },
    {
     "data": {
      "text/html": [
       "<pre style=\"white-space:pre;overflow-x:auto;line-height:normal;font-family:Menlo,'DejaVu Sans Mono',consolas,'Courier New',monospace\"><span style=\"color: #800000; text-decoration-color: #800000; font-weight: bold\">ERROR   </span> <span style=\"color: #000000; text-decoration-color: #000000; background-color: #c0c0c0\">ENone: General SBML conformance </span><span style=\"color: #000000; text-decoration-color: #000000; background-color: #c0c0c0; font-weight: bold\">(</span><span style=\"color: #000000; text-decoration-color: #000000; background-color: #c0c0c0\">core, L2, code</span><span style=\"color: #000000; text-decoration-color: #000000; background-color: #c0c0c0; font-weight: bold\">)</span>                   <a href=\"file:///home/mkoenig/git/sbmlutils/src/sbmlutils/validation.py\"><span style=\"color: #7f7f7f; text-decoration-color: #7f7f7f\">validation.py</span></a><span style=\"color: #7f7f7f; text-decoration-color: #7f7f7f\">:110</span>\n",
       "         <span style=\"color: #800000; text-decoration-color: #800000; background-color: #000000; font-weight: bold\">[</span><span style=\"color: #800000; text-decoration-color: #800000; background-color: #000000\">Error</span><span style=\"color: #800000; text-decoration-color: #800000; background-color: #000000; font-weight: bold\">]</span><span style=\"color: #800000; text-decoration-color: #800000; background-color: #000000\"> Annotation objects on the SBML container element are not </span>                   \n",
       "         <span style=\"color: #800000; text-decoration-color: #800000; background-color: #000000\">permitted in SBML Level </span><span style=\"color: #008080; text-decoration-color: #008080; background-color: #000000; font-weight: bold\">1</span>                                                           \n",
       "         The <span style=\"font-weight: bold\">&lt;</span><span style=\"color: #ff00ff; text-decoration-color: #ff00ff; font-weight: bold\">sbml</span><span style=\"font-weight: bold\">&gt;</span> container element cannot contain <span style=\"font-weight: bold\">&lt;</span><span style=\"color: #ff00ff; text-decoration-color: #ff00ff; font-weight: bold\">notes</span><span style=\"font-weight: bold\">&gt;</span> or                              \n",
       "         <span style=\"font-weight: bold\">&lt;</span><span style=\"color: #ff00ff; text-decoration-color: #ff00ff; font-weight: bold\">annotations</span><span style=\"font-weight: bold\">&gt;</span> in an SBML Level <span style=\"color: #008080; text-decoration-color: #008080; font-weight: bold\">1</span> document.                                          \n",
       "                                                                                             \n",
       "</pre>\n"
      ],
      "text/plain": [
       "\u001b[1;31mERROR   \u001b[0m \u001b[30;47mENone: General SBML conformance \u001b[0m\u001b[1;30;47m(\u001b[0m\u001b[30;47mcore, L2, code\u001b[0m\u001b[1;30;47m)\u001b[0m                   \u001b]8;id=406296;file:///home/mkoenig/git/sbmlutils/src/sbmlutils/validation.py\u001b\\\u001b[2mvalidation.py\u001b[0m\u001b]8;;\u001b\\\u001b[2m:110\u001b[0m\n",
       "         \u001b[1;31;40m[\u001b[0m\u001b[31;40mError\u001b[0m\u001b[1;31;40m]\u001b[0m\u001b[31;40m Annotation objects on the SBML container element are not \u001b[0m                   \n",
       "         \u001b[31;40mpermitted in SBML Level \u001b[0m\u001b[1;36;40m1\u001b[0m                                                           \n",
       "         The \u001b[1m<\u001b[0m\u001b[1;95msbml\u001b[0m\u001b[1m>\u001b[0m container element cannot contain \u001b[1m<\u001b[0m\u001b[1;95mnotes\u001b[0m\u001b[1m>\u001b[0m or                              \n",
       "         \u001b[1m<\u001b[0m\u001b[1;95mannotations\u001b[0m\u001b[1m>\u001b[0m in an SBML Level \u001b[1;36m1\u001b[0m document.                                          \n",
       "                                                                                             \n"
      ]
     },
     "metadata": {},
     "output_type": "display_data"
    },
    {
     "data": {
      "text/html": [
       "<pre style=\"white-space:pre;overflow-x:auto;line-height:normal;font-family:Menlo,'DejaVu Sans Mono',consolas,'Courier New',monospace\"><span style=\"color: #800000; text-decoration-color: #800000; font-weight: bold\">ERROR   </span> read_sbml error <span style=\"color: #008000; text-decoration-color: #008000\">'/tmp/tmpl7mf7is8/L1V1.xml'</span>: SBMLDocumentErrors           <a href=\"file:///home/mkoenig/git/sbmlutils/src/sbmlutils/io/sbml.py\"><span style=\"color: #7f7f7f; text-decoration-color: #7f7f7f\">sbml.py</span></a><span style=\"color: #7f7f7f; text-decoration-color: #7f7f7f\">:68</span>\n",
       "         encountered while reading the SBML file.                                            \n",
       "</pre>\n"
      ],
      "text/plain": [
       "\u001b[1;31mERROR   \u001b[0m read_sbml error \u001b[32m'/tmp/tmpl7mf7is8/L1V1.xml'\u001b[0m: SBMLDocumentErrors           \u001b]8;id=306755;file:///home/mkoenig/git/sbmlutils/src/sbmlutils/io/sbml.py\u001b\\\u001b[2msbml.py\u001b[0m\u001b]8;;\u001b\\\u001b[2m:68\u001b[0m\n",
       "         encountered while reading the SBML file.                                            \n"
      ]
     },
     "metadata": {},
     "output_type": "display_data"
    },
    {
     "data": {
      "text/html": [
       "<pre style=\"white-space:pre;overflow-x:auto;line-height:normal;font-family:Menlo,'DejaVu Sans Mono',consolas,'Courier New',monospace\">\n",
       "</pre>\n"
      ],
      "text/plain": [
       "\n"
      ]
     },
     "metadata": {},
     "output_type": "display_data"
    },
    {
     "data": {
      "text/html": [
       "<pre style=\"white-space:pre;overflow-x:auto;line-height:normal;font-family:Menlo,'DejaVu Sans Mono',consolas,'Courier New',monospace\"><span style=\"color: #800000; text-decoration-color: #800000\">─────────────────────────────────────── </span>Validate SBML<span style=\"color: #800000; text-decoration-color: #800000\"> ───────────────────────────────────────</span>\n",
       "</pre>\n"
      ],
      "text/plain": [
       "\u001b[31m─────────────────────────────────────── \u001b[0mValidate SBML\u001b[31m ───────────────────────────────────────\u001b[0m\n"
      ]
     },
     "metadata": {},
     "output_type": "display_data"
    },
    {
     "data": {
      "text/html": [
       "<pre style=\"white-space:pre;overflow-x:auto;line-height:normal;font-family:Menlo,'DejaVu Sans Mono',consolas,'Courier New',monospace\"><span style=\"color: #800000; text-decoration-color: #800000\">file:</span><span style=\"color: #800080; text-decoration-color: #800080\">///tmp/tmpl7mf7is8/</span><span style=\"color: #ff00ff; text-decoration-color: #ff00ff\">L1V1.xml</span>\n",
       "<span style=\"color: #800000; text-decoration-color: #800000\">valid                    : FALSE</span>\n",
       "<span style=\"color: #800000; text-decoration-color: #800000\">validation </span><span style=\"color: #800080; text-decoration-color: #800080; font-weight: bold\">error</span><span style=\"color: #800000; text-decoration-color: #800000; font-weight: bold\">(</span><span style=\"color: #800000; text-decoration-color: #800000\">s</span><span style=\"color: #800000; text-decoration-color: #800000; font-weight: bold\">)</span><span style=\"color: #800000; text-decoration-color: #800000\">      : </span><span style=\"color: #008080; text-decoration-color: #008080; font-weight: bold\">1</span>\n",
       "<span style=\"color: #800000; text-decoration-color: #800000\">validation </span><span style=\"color: #800080; text-decoration-color: #800080; font-weight: bold\">warnings</span><span style=\"color: #800000; text-decoration-color: #800000; font-weight: bold\">(</span><span style=\"color: #800000; text-decoration-color: #800000\">s</span><span style=\"color: #800000; text-decoration-color: #800000; font-weight: bold\">)</span><span style=\"color: #800000; text-decoration-color: #800000\">   : </span><span style=\"color: #008080; text-decoration-color: #008080; font-weight: bold\">0</span>\n",
       "<span style=\"color: #800000; text-decoration-color: #800000\">check time </span><span style=\"color: #800000; text-decoration-color: #800000; font-weight: bold\">(</span><span style=\"color: #800000; text-decoration-color: #800000\">s</span><span style=\"color: #800000; text-decoration-color: #800000; font-weight: bold\">)</span><span style=\"color: #800000; text-decoration-color: #800000\">           : </span><span style=\"color: #008080; text-decoration-color: #008080; font-weight: bold\">0.001</span>\n",
       "</pre>\n"
      ],
      "text/plain": [
       "\u001b[31mfile:\u001b[0m\u001b[35m/\u001b[0m\u001b[35m/\u001b[0m\u001b[35m/tmp/tmpl7mf7is8/\u001b[0m\u001b[95mL1V1.xml\u001b[0m\n",
       "\u001b[31mvalid                    : FALSE\u001b[0m\n",
       "\u001b[31mvalidation \u001b[0m\u001b[1;35merror\u001b[0m\u001b[1;31m(\u001b[0m\u001b[31ms\u001b[0m\u001b[1;31m)\u001b[0m\u001b[31m      : \u001b[0m\u001b[1;36m1\u001b[0m\n",
       "\u001b[31mvalidation \u001b[0m\u001b[1;35mwarnings\u001b[0m\u001b[1;31m(\u001b[0m\u001b[31ms\u001b[0m\u001b[1;31m)\u001b[0m\u001b[31m   : \u001b[0m\u001b[1;36m0\u001b[0m\n",
       "\u001b[31mcheck time \u001b[0m\u001b[1;31m(\u001b[0m\u001b[31ms\u001b[0m\u001b[1;31m)\u001b[0m\u001b[31m           : \u001b[0m\u001b[1;36m0.001\u001b[0m\n"
      ]
     },
     "metadata": {},
     "output_type": "display_data"
    },
    {
     "data": {
      "text/html": [
       "<pre style=\"white-space:pre;overflow-x:auto;line-height:normal;font-family:Menlo,'DejaVu Sans Mono',consolas,'Courier New',monospace\"><span style=\"color: #800000; text-decoration-color: #800000\">─────────────────────────────────────────────────────────────────────────────────────────────</span>\n",
       "</pre>\n"
      ],
      "text/plain": [
       "\u001b[31m─────────────────────────────────────────────────────────────────────────────────────────────\u001b[0m\n"
      ]
     },
     "metadata": {},
     "output_type": "display_data"
    },
    {
     "data": {
      "text/html": [
       "<pre style=\"white-space:pre;overflow-x:auto;line-height:normal;font-family:Menlo,'DejaVu Sans Mono',consolas,'Courier New',monospace\">\n",
       "</pre>\n"
      ],
      "text/plain": [
       "\n"
      ]
     },
     "metadata": {},
     "output_type": "display_data"
    },
    {
     "data": {
      "text/html": [
       "<pre style=\"white-space:pre;overflow-x:auto;line-height:normal;font-family:Menlo,'DejaVu Sans Mono',consolas,'Courier New',monospace\"><span style=\"color: #800000; text-decoration-color: #800000; font-weight: bold\">ERROR   </span> <span style=\"color: #000000; text-decoration-color: #000000; background-color: #c0c0c0\">E0: General SBML conformance </span><span style=\"color: #000000; text-decoration-color: #000000; background-color: #c0c0c0; font-weight: bold\">(</span><span style=\"color: #000000; text-decoration-color: #000000; background-color: #c0c0c0\">core, L2, code</span><span style=\"color: #000000; text-decoration-color: #000000; background-color: #c0c0c0; font-weight: bold\">)</span>                      <a href=\"file:///home/mkoenig/git/sbmlutils/src/sbmlutils/validation.py\"><span style=\"color: #7f7f7f; text-decoration-color: #7f7f7f\">validation.py</span></a><span style=\"color: #7f7f7f; text-decoration-color: #7f7f7f\">:110</span>\n",
       "         <span style=\"color: #800000; text-decoration-color: #800000; background-color: #000000; font-weight: bold\">[</span><span style=\"color: #800000; text-decoration-color: #800000; background-color: #000000\">Error</span><span style=\"color: #800000; text-decoration-color: #800000; background-color: #000000; font-weight: bold\">]</span><span style=\"color: #800000; text-decoration-color: #800000; background-color: #000000\"> Annotation objects on the SBML container element are not </span>                   \n",
       "         <span style=\"color: #800000; text-decoration-color: #800000; background-color: #000000\">permitted in SBML Level </span><span style=\"color: #008080; text-decoration-color: #008080; background-color: #000000; font-weight: bold\">1</span>                                                           \n",
       "         The <span style=\"font-weight: bold\">&lt;</span><span style=\"color: #ff00ff; text-decoration-color: #ff00ff; font-weight: bold\">sbml</span><span style=\"font-weight: bold\">&gt;</span> container element cannot contain <span style=\"font-weight: bold\">&lt;</span><span style=\"color: #ff00ff; text-decoration-color: #ff00ff; font-weight: bold\">notes</span><span style=\"font-weight: bold\">&gt;</span> or                              \n",
       "         <span style=\"font-weight: bold\">&lt;</span><span style=\"color: #ff00ff; text-decoration-color: #ff00ff; font-weight: bold\">annotations</span><span style=\"font-weight: bold\">&gt;</span> in an SBML Level <span style=\"color: #008080; text-decoration-color: #008080; font-weight: bold\">1</span> document.                                          \n",
       "                                                                                             \n",
       "</pre>\n"
      ],
      "text/plain": [
       "\u001b[1;31mERROR   \u001b[0m \u001b[30;47mE0: General SBML conformance \u001b[0m\u001b[1;30;47m(\u001b[0m\u001b[30;47mcore, L2, code\u001b[0m\u001b[1;30;47m)\u001b[0m                      \u001b]8;id=709717;file:///home/mkoenig/git/sbmlutils/src/sbmlutils/validation.py\u001b\\\u001b[2mvalidation.py\u001b[0m\u001b]8;;\u001b\\\u001b[2m:110\u001b[0m\n",
       "         \u001b[1;31;40m[\u001b[0m\u001b[31;40mError\u001b[0m\u001b[1;31;40m]\u001b[0m\u001b[31;40m Annotation objects on the SBML container element are not \u001b[0m                   \n",
       "         \u001b[31;40mpermitted in SBML Level \u001b[0m\u001b[1;36;40m1\u001b[0m                                                           \n",
       "         The \u001b[1m<\u001b[0m\u001b[1;95msbml\u001b[0m\u001b[1m>\u001b[0m container element cannot contain \u001b[1m<\u001b[0m\u001b[1;95mnotes\u001b[0m\u001b[1m>\u001b[0m or                              \n",
       "         \u001b[1m<\u001b[0m\u001b[1;95mannotations\u001b[0m\u001b[1m>\u001b[0m in an SBML Level \u001b[1;36m1\u001b[0m document.                                          \n",
       "                                                                                             \n"
      ]
     },
     "metadata": {},
     "output_type": "display_data"
    },
    {
     "data": {
      "text/html": [
       "<pre style=\"white-space:pre;overflow-x:auto;line-height:normal;font-family:Menlo,'DejaVu Sans Mono',consolas,'Courier New',monospace\"><span style=\"color: #000080; text-decoration-color: #000080\">INFO    </span> No support for <span style=\"color: #008000; text-decoration-color: #008000\">'create_report'</span> in sbmlutils-v0.<span style=\"color: #008080; text-decoration-color: #008080; font-weight: bold\">5.7</span>.                 <a href=\"file:///home/mkoenig/git/sbmlutils/src/sbmlutils/report/sbmlreport.py\"><span style=\"color: #7f7f7f; text-decoration-color: #7f7f7f\">sbmlreport.py</span></a><span style=\"color: #7f7f7f; text-decoration-color: #7f7f7f\">:41</span>\n",
       "</pre>\n"
      ],
      "text/plain": [
       "\u001b[34mINFO    \u001b[0m No support for \u001b[32m'create_report'\u001b[0m in sbmlutils-v0.\u001b[1;36m5.7\u001b[0m.                 \u001b]8;id=198219;file:///home/mkoenig/git/sbmlutils/src/sbmlutils/report/sbmlreport.py\u001b\\\u001b[2msbmlreport.py\u001b[0m\u001b]8;;\u001b\\\u001b[2m:41\u001b[0m\n"
      ]
     },
     "metadata": {},
     "output_type": "display_data"
    },
    {
     "data": {
      "text/html": [
       "<pre style=\"white-space:pre;overflow-x:auto;line-height:normal;font-family:Menlo,'DejaVu Sans Mono',consolas,'Courier New',monospace\"><span style=\"color: #c0c0c0; text-decoration-color: #c0c0c0\">─────────────────────────────────────────────────────────────────────────────────────────────</span>\n",
       "</pre>\n"
      ],
      "text/plain": [
       "\u001b[37m─────────────────────────────────────────────────────────────────────────────────────────────\u001b[0m\n"
      ]
     },
     "metadata": {},
     "output_type": "display_data"
    },
    {
     "data": {
      "text/html": [
       "<pre style=\"white-space:pre;overflow-x:auto;line-height:normal;font-family:Menlo,'DejaVu Sans Mono',consolas,'Courier New',monospace\"><span style=\"color: #800000; text-decoration-color: #800000; font-weight: bold\">ERROR   </span> <span style=\"color: #000000; text-decoration-color: #000000; background-color: #c0c0c0\">ENone: General SBML conformance </span><span style=\"color: #000000; text-decoration-color: #000000; background-color: #c0c0c0; font-weight: bold\">(</span><span style=\"color: #000000; text-decoration-color: #000000; background-color: #c0c0c0\">core, L2, code</span><span style=\"color: #000000; text-decoration-color: #000000; background-color: #c0c0c0; font-weight: bold\">)</span>                   <a href=\"file:///home/mkoenig/git/sbmlutils/src/sbmlutils/validation.py\"><span style=\"color: #7f7f7f; text-decoration-color: #7f7f7f\">validation.py</span></a><span style=\"color: #7f7f7f; text-decoration-color: #7f7f7f\">:110</span>\n",
       "         <span style=\"color: #800000; text-decoration-color: #800000; background-color: #000000; font-weight: bold\">[</span><span style=\"color: #800000; text-decoration-color: #800000; background-color: #000000\">Error</span><span style=\"color: #800000; text-decoration-color: #800000; background-color: #000000; font-weight: bold\">]</span><span style=\"color: #800000; text-decoration-color: #800000; background-color: #000000\"> Annotation objects on the SBML container element are not </span>                   \n",
       "         <span style=\"color: #800000; text-decoration-color: #800000; background-color: #000000\">permitted in SBML Level </span><span style=\"color: #008080; text-decoration-color: #008080; background-color: #000000; font-weight: bold\">1</span>                                                           \n",
       "         The <span style=\"font-weight: bold\">&lt;</span><span style=\"color: #ff00ff; text-decoration-color: #ff00ff; font-weight: bold\">sbml</span><span style=\"font-weight: bold\">&gt;</span> container element cannot contain <span style=\"font-weight: bold\">&lt;</span><span style=\"color: #ff00ff; text-decoration-color: #ff00ff; font-weight: bold\">notes</span><span style=\"font-weight: bold\">&gt;</span> or                              \n",
       "         <span style=\"font-weight: bold\">&lt;</span><span style=\"color: #ff00ff; text-decoration-color: #ff00ff; font-weight: bold\">annotations</span><span style=\"font-weight: bold\">&gt;</span> in an SBML Level <span style=\"color: #008080; text-decoration-color: #008080; font-weight: bold\">1</span> document.                                          \n",
       "                                                                                             \n",
       "</pre>\n"
      ],
      "text/plain": [
       "\u001b[1;31mERROR   \u001b[0m \u001b[30;47mENone: General SBML conformance \u001b[0m\u001b[1;30;47m(\u001b[0m\u001b[30;47mcore, L2, code\u001b[0m\u001b[1;30;47m)\u001b[0m                   \u001b]8;id=513901;file:///home/mkoenig/git/sbmlutils/src/sbmlutils/validation.py\u001b\\\u001b[2mvalidation.py\u001b[0m\u001b]8;;\u001b\\\u001b[2m:110\u001b[0m\n",
       "         \u001b[1;31;40m[\u001b[0m\u001b[31;40mError\u001b[0m\u001b[1;31;40m]\u001b[0m\u001b[31;40m Annotation objects on the SBML container element are not \u001b[0m                   \n",
       "         \u001b[31;40mpermitted in SBML Level \u001b[0m\u001b[1;36;40m1\u001b[0m                                                           \n",
       "         The \u001b[1m<\u001b[0m\u001b[1;95msbml\u001b[0m\u001b[1m>\u001b[0m container element cannot contain \u001b[1m<\u001b[0m\u001b[1;95mnotes\u001b[0m\u001b[1m>\u001b[0m or                              \n",
       "         \u001b[1m<\u001b[0m\u001b[1;95mannotations\u001b[0m\u001b[1m>\u001b[0m in an SBML Level \u001b[1;36m1\u001b[0m document.                                          \n",
       "                                                                                             \n"
      ]
     },
     "metadata": {},
     "output_type": "display_data"
    },
    {
     "data": {
      "text/html": [
       "<pre style=\"white-space:pre;overflow-x:auto;line-height:normal;font-family:Menlo,'DejaVu Sans Mono',consolas,'Courier New',monospace\"><span style=\"color: #800000; text-decoration-color: #800000; font-weight: bold\">ERROR   </span> read_sbml error <span style=\"color: #008000; text-decoration-color: #008000\">'/tmp/tmpl7mf7is8/L1V1.xml'</span>: SBMLDocumentErrors           <a href=\"file:///home/mkoenig/git/sbmlutils/src/sbmlutils/io/sbml.py\"><span style=\"color: #7f7f7f; text-decoration-color: #7f7f7f\">sbml.py</span></a><span style=\"color: #7f7f7f; text-decoration-color: #7f7f7f\">:68</span>\n",
       "         encountered while reading the SBML file.                                            \n",
       "</pre>\n"
      ],
      "text/plain": [
       "\u001b[1;31mERROR   \u001b[0m read_sbml error \u001b[32m'/tmp/tmpl7mf7is8/L1V1.xml'\u001b[0m: SBMLDocumentErrors           \u001b]8;id=227103;file:///home/mkoenig/git/sbmlutils/src/sbmlutils/io/sbml.py\u001b\\\u001b[2msbml.py\u001b[0m\u001b]8;;\u001b\\\u001b[2m:68\u001b[0m\n",
       "         encountered while reading the SBML file.                                            \n"
      ]
     },
     "metadata": {},
     "output_type": "display_data"
    },
    {
     "name": "stdout",
     "output_type": "stream",
     "text": [
      "L1V1\n"
     ]
    },
    {
     "data": {
      "text/html": [
       "<pre style=\"white-space:pre;overflow-x:auto;line-height:normal;font-family:Menlo,'DejaVu Sans Mono',consolas,'Courier New',monospace\"><span style=\"color: #c0c0c0; text-decoration-color: #c0c0c0\">──────────────────────────────────────── </span>Create SBML<span style=\"color: #c0c0c0; text-decoration-color: #c0c0c0\"> ────────────────────────────────────────</span>\n",
       "</pre>\n"
      ],
      "text/plain": [
       "\u001b[37m──────────────────────────────────────── \u001b[0mCreate SBML\u001b[37m ────────────────────────────────────────\u001b[0m\n"
      ]
     },
     "metadata": {},
     "output_type": "display_data"
    },
    {
     "data": {
      "text/html": [
       "<pre style=\"white-space:pre;overflow-x:auto;line-height:normal;font-family:Menlo,'DejaVu Sans Mono',consolas,'Courier New',monospace\"><span style=\"color: #000080; text-decoration-color: #000080\">INFO    </span> Create SBML for model <span style=\"color: #008000; text-decoration-color: #008000\">'L1V2'</span>                                         <a href=\"file:///home/mkoenig/git/sbmlutils/src/sbmlutils/factory.py\"><span style=\"color: #7f7f7f; text-decoration-color: #7f7f7f\">factory.py</span></a><span style=\"color: #7f7f7f; text-decoration-color: #7f7f7f\">:2896</span>\n",
       "</pre>\n"
      ],
      "text/plain": [
       "\u001b[34mINFO    \u001b[0m Create SBML for model \u001b[32m'L1V2'\u001b[0m                                         \u001b]8;id=79897;file:///home/mkoenig/git/sbmlutils/src/sbmlutils/factory.py\u001b\\\u001b[2mfactory.py\u001b[0m\u001b]8;;\u001b\\\u001b[2m:2896\u001b[0m\n"
      ]
     },
     "metadata": {},
     "output_type": "display_data"
    },
    {
     "data": {
      "text/html": [
       "<pre style=\"white-space:pre;overflow-x:auto;line-height:normal;font-family:Menlo,'DejaVu Sans Mono',consolas,'Courier New',monospace\"><span style=\"color: #800000; text-decoration-color: #800000\">WARNING </span> <span style=\"color: #008000; text-decoration-color: #008000\">'name'</span> should be set on <span style=\"color: #008000; text-decoration-color: #008000\">'&lt;Model L1V2&gt;'</span>                                <a href=\"file:///home/mkoenig/git/sbmlutils/src/sbmlutils/factory.py\"><span style=\"color: #7f7f7f; text-decoration-color: #7f7f7f\">factory.py</span></a><span style=\"color: #7f7f7f; text-decoration-color: #7f7f7f\">:436</span>\n",
       "</pre>\n"
      ],
      "text/plain": [
       "\u001b[31mWARNING \u001b[0m \u001b[32m'name'\u001b[0m should be set on \u001b[32m'\u001b[0m\u001b[32m<\u001b[0m\u001b[32mModel\u001b[0m\u001b[32m L1V2\u001b[0m\u001b[32m>\u001b[0m\u001b[32m'\u001b[0m                                \u001b]8;id=840711;file:///home/mkoenig/git/sbmlutils/src/sbmlutils/factory.py\u001b\\\u001b[2mfactory.py\u001b[0m\u001b]8;;\u001b\\\u001b[2m:436\u001b[0m\n"
      ]
     },
     "metadata": {},
     "output_type": "display_data"
    },
    {
     "data": {
      "text/html": [
       "<pre style=\"white-space:pre;overflow-x:auto;line-height:normal;font-family:Menlo,'DejaVu Sans Mono',consolas,'Courier New',monospace\"><span style=\"color: #000080; text-decoration-color: #000080\">INFO    </span> <span style=\"color: #008000; text-decoration-color: #008000\">'length'</span> should be set in <span style=\"color: #008000; text-decoration-color: #008000\">'model_units'</span>.                              <a href=\"file:///home/mkoenig/git/sbmlutils/src/sbmlutils/factory.py\"><span style=\"color: #7f7f7f; text-decoration-color: #7f7f7f\">factory.py</span></a><span style=\"color: #7f7f7f; text-decoration-color: #7f7f7f\">:268</span>\n",
       "</pre>\n"
      ],
      "text/plain": [
       "\u001b[34mINFO    \u001b[0m \u001b[32m'length'\u001b[0m should be set in \u001b[32m'model_units'\u001b[0m.                              \u001b]8;id=657128;file:///home/mkoenig/git/sbmlutils/src/sbmlutils/factory.py\u001b\\\u001b[2mfactory.py\u001b[0m\u001b]8;;\u001b\\\u001b[2m:268\u001b[0m\n"
      ]
     },
     "metadata": {},
     "output_type": "display_data"
    },
    {
     "data": {
      "text/html": [
       "<pre style=\"white-space:pre;overflow-x:auto;line-height:normal;font-family:Menlo,'DejaVu Sans Mono',consolas,'Courier New',monospace\"><span style=\"color: #000080; text-decoration-color: #000080\">INFO    </span> <span style=\"color: #008000; text-decoration-color: #008000\">'area'</span> should be set in <span style=\"color: #008000; text-decoration-color: #008000\">'model_units'</span>.                                <a href=\"file:///home/mkoenig/git/sbmlutils/src/sbmlutils/factory.py\"><span style=\"color: #7f7f7f; text-decoration-color: #7f7f7f\">factory.py</span></a><span style=\"color: #7f7f7f; text-decoration-color: #7f7f7f\">:268</span>\n",
       "</pre>\n"
      ],
      "text/plain": [
       "\u001b[34mINFO    \u001b[0m \u001b[32m'area'\u001b[0m should be set in \u001b[32m'model_units'\u001b[0m.                                \u001b]8;id=194784;file:///home/mkoenig/git/sbmlutils/src/sbmlutils/factory.py\u001b\\\u001b[2mfactory.py\u001b[0m\u001b]8;;\u001b\\\u001b[2m:268\u001b[0m\n"
      ]
     },
     "metadata": {},
     "output_type": "display_data"
    },
    {
     "data": {
      "text/html": [
       "<pre style=\"white-space:pre;overflow-x:auto;line-height:normal;font-family:Menlo,'DejaVu Sans Mono',consolas,'Courier New',monospace\"><span style=\"color: #800000; text-decoration-color: #800000\">WARNING </span> <span style=\"color: #008000; text-decoration-color: #008000\">'name'</span> should be set on <span style=\"color: #008000; text-decoration-color: #008000\">'&lt;Parameter k1&gt;'</span>                              <a href=\"file:///home/mkoenig/git/sbmlutils/src/sbmlutils/factory.py\"><span style=\"color: #7f7f7f; text-decoration-color: #7f7f7f\">factory.py</span></a><span style=\"color: #7f7f7f; text-decoration-color: #7f7f7f\">:436</span>\n",
       "</pre>\n"
      ],
      "text/plain": [
       "\u001b[31mWARNING \u001b[0m \u001b[32m'name'\u001b[0m should be set on \u001b[32m'\u001b[0m\u001b[32m<\u001b[0m\u001b[32mParameter\u001b[0m\u001b[32m k1\u001b[0m\u001b[32m>\u001b[0m\u001b[32m'\u001b[0m                              \u001b]8;id=23921;file:///home/mkoenig/git/sbmlutils/src/sbmlutils/factory.py\u001b\\\u001b[2mfactory.py\u001b[0m\u001b]8;;\u001b\\\u001b[2m:436\u001b[0m\n"
      ]
     },
     "metadata": {},
     "output_type": "display_data"
    },
    {
     "data": {
      "text/html": [
       "<pre style=\"white-space:pre;overflow-x:auto;line-height:normal;font-family:Menlo,'DejaVu Sans Mono',consolas,'Courier New',monospace\"><span style=\"color: #800000; text-decoration-color: #800000\">WARNING </span> <span style=\"color: #008000; text-decoration-color: #008000\">'sboTerm'</span> should be set on <span style=\"color: #008000; text-decoration-color: #008000\">'&lt;Parameter k1&gt;'</span>                           <a href=\"file:///home/mkoenig/git/sbmlutils/src/sbmlutils/factory.py\"><span style=\"color: #7f7f7f; text-decoration-color: #7f7f7f\">factory.py</span></a><span style=\"color: #7f7f7f; text-decoration-color: #7f7f7f\">:461</span>\n",
       "</pre>\n"
      ],
      "text/plain": [
       "\u001b[31mWARNING \u001b[0m \u001b[32m'sboTerm'\u001b[0m should be set on \u001b[32m'\u001b[0m\u001b[32m<\u001b[0m\u001b[32mParameter\u001b[0m\u001b[32m k1\u001b[0m\u001b[32m>\u001b[0m\u001b[32m'\u001b[0m                           \u001b]8;id=343800;file:///home/mkoenig/git/sbmlutils/src/sbmlutils/factory.py\u001b\\\u001b[2mfactory.py\u001b[0m\u001b]8;;\u001b\\\u001b[2m:461\u001b[0m\n"
      ]
     },
     "metadata": {},
     "output_type": "display_data"
    },
    {
     "data": {
      "text/html": [
       "<pre style=\"white-space:pre;overflow-x:auto;line-height:normal;font-family:Menlo,'DejaVu Sans Mono',consolas,'Courier New',monospace\"><span style=\"color: #800000; text-decoration-color: #800000\">WARNING </span> <span style=\"color: #008000; text-decoration-color: #008000\">'name'</span> should be set on <span style=\"color: #008000; text-decoration-color: #008000\">'&lt;Compartment C&gt;'</span>                             <a href=\"file:///home/mkoenig/git/sbmlutils/src/sbmlutils/factory.py\"><span style=\"color: #7f7f7f; text-decoration-color: #7f7f7f\">factory.py</span></a><span style=\"color: #7f7f7f; text-decoration-color: #7f7f7f\">:436</span>\n",
       "</pre>\n"
      ],
      "text/plain": [
       "\u001b[31mWARNING \u001b[0m \u001b[32m'name'\u001b[0m should be set on \u001b[32m'\u001b[0m\u001b[32m<\u001b[0m\u001b[32mCompartment\u001b[0m\u001b[32m C\u001b[0m\u001b[32m>\u001b[0m\u001b[32m'\u001b[0m                             \u001b]8;id=595110;file:///home/mkoenig/git/sbmlutils/src/sbmlutils/factory.py\u001b\\\u001b[2mfactory.py\u001b[0m\u001b]8;;\u001b\\\u001b[2m:436\u001b[0m\n"
      ]
     },
     "metadata": {},
     "output_type": "display_data"
    },
    {
     "data": {
      "text/html": [
       "<pre style=\"white-space:pre;overflow-x:auto;line-height:normal;font-family:Menlo,'DejaVu Sans Mono',consolas,'Courier New',monospace\"><span style=\"color: #800000; text-decoration-color: #800000\">WARNING </span> <span style=\"color: #008000; text-decoration-color: #008000\">'sboTerm'</span> should be set on <span style=\"color: #008000; text-decoration-color: #008000\">'&lt;Compartment C&gt;'</span>                          <a href=\"file:///home/mkoenig/git/sbmlutils/src/sbmlutils/factory.py\"><span style=\"color: #7f7f7f; text-decoration-color: #7f7f7f\">factory.py</span></a><span style=\"color: #7f7f7f; text-decoration-color: #7f7f7f\">:461</span>\n",
       "</pre>\n"
      ],
      "text/plain": [
       "\u001b[31mWARNING \u001b[0m \u001b[32m'sboTerm'\u001b[0m should be set on \u001b[32m'\u001b[0m\u001b[32m<\u001b[0m\u001b[32mCompartment\u001b[0m\u001b[32m C\u001b[0m\u001b[32m>\u001b[0m\u001b[32m'\u001b[0m                          \u001b]8;id=331507;file:///home/mkoenig/git/sbmlutils/src/sbmlutils/factory.py\u001b\\\u001b[2mfactory.py\u001b[0m\u001b]8;;\u001b\\\u001b[2m:461\u001b[0m\n"
      ]
     },
     "metadata": {},
     "output_type": "display_data"
    },
    {
     "data": {
      "text/html": [
       "<pre style=\"white-space:pre;overflow-x:auto;line-height:normal;font-family:Menlo,'DejaVu Sans Mono',consolas,'Courier New',monospace\"><span style=\"color: #800000; text-decoration-color: #800000\">WARNING </span> <span style=\"color: #008000; text-decoration-color: #008000\">'name'</span> should be set on <span style=\"color: #008000; text-decoration-color: #008000\">'&lt;Species S1&gt;'</span>                                <a href=\"file:///home/mkoenig/git/sbmlutils/src/sbmlutils/factory.py\"><span style=\"color: #7f7f7f; text-decoration-color: #7f7f7f\">factory.py</span></a><span style=\"color: #7f7f7f; text-decoration-color: #7f7f7f\">:436</span>\n",
       "</pre>\n"
      ],
      "text/plain": [
       "\u001b[31mWARNING \u001b[0m \u001b[32m'name'\u001b[0m should be set on \u001b[32m'\u001b[0m\u001b[32m<\u001b[0m\u001b[32mSpecies\u001b[0m\u001b[32m S1\u001b[0m\u001b[32m>\u001b[0m\u001b[32m'\u001b[0m                                \u001b]8;id=297345;file:///home/mkoenig/git/sbmlutils/src/sbmlutils/factory.py\u001b\\\u001b[2mfactory.py\u001b[0m\u001b]8;;\u001b\\\u001b[2m:436\u001b[0m\n"
      ]
     },
     "metadata": {},
     "output_type": "display_data"
    },
    {
     "data": {
      "text/html": [
       "<pre style=\"white-space:pre;overflow-x:auto;line-height:normal;font-family:Menlo,'DejaVu Sans Mono',consolas,'Courier New',monospace\"><span style=\"color: #800000; text-decoration-color: #800000\">WARNING </span> <span style=\"color: #008000; text-decoration-color: #008000\">'sboTerm'</span> should be set on <span style=\"color: #008000; text-decoration-color: #008000\">'&lt;Species S1&gt;'</span>                             <a href=\"file:///home/mkoenig/git/sbmlutils/src/sbmlutils/factory.py\"><span style=\"color: #7f7f7f; text-decoration-color: #7f7f7f\">factory.py</span></a><span style=\"color: #7f7f7f; text-decoration-color: #7f7f7f\">:461</span>\n",
       "</pre>\n"
      ],
      "text/plain": [
       "\u001b[31mWARNING \u001b[0m \u001b[32m'sboTerm'\u001b[0m should be set on \u001b[32m'\u001b[0m\u001b[32m<\u001b[0m\u001b[32mSpecies\u001b[0m\u001b[32m S1\u001b[0m\u001b[32m>\u001b[0m\u001b[32m'\u001b[0m                             \u001b]8;id=403460;file:///home/mkoenig/git/sbmlutils/src/sbmlutils/factory.py\u001b\\\u001b[2mfactory.py\u001b[0m\u001b]8;;\u001b\\\u001b[2m:461\u001b[0m\n"
      ]
     },
     "metadata": {},
     "output_type": "display_data"
    },
    {
     "data": {
      "text/html": [
       "<pre style=\"white-space:pre;overflow-x:auto;line-height:normal;font-family:Menlo,'DejaVu Sans Mono',consolas,'Courier New',monospace\"><span style=\"color: #800000; text-decoration-color: #800000\">WARNING </span> <span style=\"color: #008000; text-decoration-color: #008000\">'name'</span> should be set on <span style=\"color: #008000; text-decoration-color: #008000\">'&lt;Reaction R1&gt;'</span>                               <a href=\"file:///home/mkoenig/git/sbmlutils/src/sbmlutils/factory.py\"><span style=\"color: #7f7f7f; text-decoration-color: #7f7f7f\">factory.py</span></a><span style=\"color: #7f7f7f; text-decoration-color: #7f7f7f\">:436</span>\n",
       "</pre>\n"
      ],
      "text/plain": [
       "\u001b[31mWARNING \u001b[0m \u001b[32m'name'\u001b[0m should be set on \u001b[32m'\u001b[0m\u001b[32m<\u001b[0m\u001b[32mReaction\u001b[0m\u001b[32m R1\u001b[0m\u001b[32m>\u001b[0m\u001b[32m'\u001b[0m                               \u001b]8;id=795449;file:///home/mkoenig/git/sbmlutils/src/sbmlutils/factory.py\u001b\\\u001b[2mfactory.py\u001b[0m\u001b]8;;\u001b\\\u001b[2m:436\u001b[0m\n"
      ]
     },
     "metadata": {},
     "output_type": "display_data"
    },
    {
     "data": {
      "text/html": [
       "<pre style=\"white-space:pre;overflow-x:auto;line-height:normal;font-family:Menlo,'DejaVu Sans Mono',consolas,'Courier New',monospace\"><span style=\"color: #800000; text-decoration-color: #800000\">WARNING </span> <span style=\"color: #008000; text-decoration-color: #008000\">'sboTerm'</span> should be set on <span style=\"color: #008000; text-decoration-color: #008000\">'&lt;Reaction R1&gt;'</span>                            <a href=\"file:///home/mkoenig/git/sbmlutils/src/sbmlutils/factory.py\"><span style=\"color: #7f7f7f; text-decoration-color: #7f7f7f\">factory.py</span></a><span style=\"color: #7f7f7f; text-decoration-color: #7f7f7f\">:461</span>\n",
       "</pre>\n"
      ],
      "text/plain": [
       "\u001b[31mWARNING \u001b[0m \u001b[32m'sboTerm'\u001b[0m should be set on \u001b[32m'\u001b[0m\u001b[32m<\u001b[0m\u001b[32mReaction\u001b[0m\u001b[32m R1\u001b[0m\u001b[32m>\u001b[0m\u001b[32m'\u001b[0m                            \u001b]8;id=858026;file:///home/mkoenig/git/sbmlutils/src/sbmlutils/factory.py\u001b\\\u001b[2mfactory.py\u001b[0m\u001b]8;;\u001b\\\u001b[2m:461\u001b[0m\n"
      ]
     },
     "metadata": {},
     "output_type": "display_data"
    },
    {
     "data": {
      "text/html": [
       "<pre style=\"white-space:pre;overflow-x:auto;line-height:normal;font-family:Menlo,'DejaVu Sans Mono',consolas,'Courier New',monospace\"><span style=\"color: #800000; text-decoration-color: #800000; font-weight: bold\">ERROR   </span> <span style=\"color: #000000; text-decoration-color: #000000; background-color: #c0c0c0\">ENone: General SBML conformance </span><span style=\"color: #000000; text-decoration-color: #000000; background-color: #c0c0c0; font-weight: bold\">(</span><span style=\"color: #000000; text-decoration-color: #000000; background-color: #c0c0c0\">core, L2, code</span><span style=\"color: #000000; text-decoration-color: #000000; background-color: #c0c0c0; font-weight: bold\">)</span>                   <a href=\"file:///home/mkoenig/git/sbmlutils/src/sbmlutils/validation.py\"><span style=\"color: #7f7f7f; text-decoration-color: #7f7f7f\">validation.py</span></a><span style=\"color: #7f7f7f; text-decoration-color: #7f7f7f\">:110</span>\n",
       "         <span style=\"color: #800000; text-decoration-color: #800000; background-color: #000000; font-weight: bold\">[</span><span style=\"color: #800000; text-decoration-color: #800000; background-color: #000000\">Error</span><span style=\"color: #800000; text-decoration-color: #800000; background-color: #000000; font-weight: bold\">]</span><span style=\"color: #800000; text-decoration-color: #800000; background-color: #000000\"> Annotation objects on the SBML container element are not </span>                   \n",
       "         <span style=\"color: #800000; text-decoration-color: #800000; background-color: #000000\">permitted in SBML Level </span><span style=\"color: #008080; text-decoration-color: #008080; background-color: #000000; font-weight: bold\">1</span>                                                           \n",
       "         The <span style=\"font-weight: bold\">&lt;</span><span style=\"color: #ff00ff; text-decoration-color: #ff00ff; font-weight: bold\">sbml</span><span style=\"font-weight: bold\">&gt;</span> container element cannot contain <span style=\"font-weight: bold\">&lt;</span><span style=\"color: #ff00ff; text-decoration-color: #ff00ff; font-weight: bold\">notes</span><span style=\"font-weight: bold\">&gt;</span> or                              \n",
       "         <span style=\"font-weight: bold\">&lt;</span><span style=\"color: #ff00ff; text-decoration-color: #ff00ff; font-weight: bold\">annotations</span><span style=\"font-weight: bold\">&gt;</span> in an SBML Level <span style=\"color: #008080; text-decoration-color: #008080; font-weight: bold\">1</span> document.                                          \n",
       "                                                                                             \n",
       "</pre>\n"
      ],
      "text/plain": [
       "\u001b[1;31mERROR   \u001b[0m \u001b[30;47mENone: General SBML conformance \u001b[0m\u001b[1;30;47m(\u001b[0m\u001b[30;47mcore, L2, code\u001b[0m\u001b[1;30;47m)\u001b[0m                   \u001b]8;id=642508;file:///home/mkoenig/git/sbmlutils/src/sbmlutils/validation.py\u001b\\\u001b[2mvalidation.py\u001b[0m\u001b]8;;\u001b\\\u001b[2m:110\u001b[0m\n",
       "         \u001b[1;31;40m[\u001b[0m\u001b[31;40mError\u001b[0m\u001b[1;31;40m]\u001b[0m\u001b[31;40m Annotation objects on the SBML container element are not \u001b[0m                   \n",
       "         \u001b[31;40mpermitted in SBML Level \u001b[0m\u001b[1;36;40m1\u001b[0m                                                           \n",
       "         The \u001b[1m<\u001b[0m\u001b[1;95msbml\u001b[0m\u001b[1m>\u001b[0m container element cannot contain \u001b[1m<\u001b[0m\u001b[1;95mnotes\u001b[0m\u001b[1m>\u001b[0m or                              \n",
       "         \u001b[1m<\u001b[0m\u001b[1;95mannotations\u001b[0m\u001b[1m>\u001b[0m in an SBML Level \u001b[1;36m1\u001b[0m document.                                          \n",
       "                                                                                             \n"
      ]
     },
     "metadata": {},
     "output_type": "display_data"
    },
    {
     "data": {
      "text/html": [
       "<pre style=\"white-space:pre;overflow-x:auto;line-height:normal;font-family:Menlo,'DejaVu Sans Mono',consolas,'Courier New',monospace\"><span style=\"color: #800000; text-decoration-color: #800000; font-weight: bold\">ERROR   </span> read_sbml error <span style=\"color: #008000; text-decoration-color: #008000\">'/tmp/tmpl7mf7is8/L1V2.xml'</span>: SBMLDocumentErrors           <a href=\"file:///home/mkoenig/git/sbmlutils/src/sbmlutils/io/sbml.py\"><span style=\"color: #7f7f7f; text-decoration-color: #7f7f7f\">sbml.py</span></a><span style=\"color: #7f7f7f; text-decoration-color: #7f7f7f\">:68</span>\n",
       "         encountered while reading the SBML file.                                            \n",
       "</pre>\n"
      ],
      "text/plain": [
       "\u001b[1;31mERROR   \u001b[0m read_sbml error \u001b[32m'/tmp/tmpl7mf7is8/L1V2.xml'\u001b[0m: SBMLDocumentErrors           \u001b]8;id=886887;file:///home/mkoenig/git/sbmlutils/src/sbmlutils/io/sbml.py\u001b\\\u001b[2msbml.py\u001b[0m\u001b]8;;\u001b\\\u001b[2m:68\u001b[0m\n",
       "         encountered while reading the SBML file.                                            \n"
      ]
     },
     "metadata": {},
     "output_type": "display_data"
    },
    {
     "data": {
      "text/html": [
       "<pre style=\"white-space:pre;overflow-x:auto;line-height:normal;font-family:Menlo,'DejaVu Sans Mono',consolas,'Courier New',monospace\">\n",
       "</pre>\n"
      ],
      "text/plain": [
       "\n"
      ]
     },
     "metadata": {},
     "output_type": "display_data"
    },
    {
     "data": {
      "text/html": [
       "<pre style=\"white-space:pre;overflow-x:auto;line-height:normal;font-family:Menlo,'DejaVu Sans Mono',consolas,'Courier New',monospace\"><span style=\"color: #800000; text-decoration-color: #800000\">─────────────────────────────────────── </span>Validate SBML<span style=\"color: #800000; text-decoration-color: #800000\"> ───────────────────────────────────────</span>\n",
       "</pre>\n"
      ],
      "text/plain": [
       "\u001b[31m─────────────────────────────────────── \u001b[0mValidate SBML\u001b[31m ───────────────────────────────────────\u001b[0m\n"
      ]
     },
     "metadata": {},
     "output_type": "display_data"
    },
    {
     "data": {
      "text/html": [
       "<pre style=\"white-space:pre;overflow-x:auto;line-height:normal;font-family:Menlo,'DejaVu Sans Mono',consolas,'Courier New',monospace\"><span style=\"color: #800000; text-decoration-color: #800000\">file:</span><span style=\"color: #800080; text-decoration-color: #800080\">///tmp/tmpl7mf7is8/</span><span style=\"color: #ff00ff; text-decoration-color: #ff00ff\">L1V2.xml</span>\n",
       "<span style=\"color: #800000; text-decoration-color: #800000\">valid                    : FALSE</span>\n",
       "<span style=\"color: #800000; text-decoration-color: #800000\">validation </span><span style=\"color: #800080; text-decoration-color: #800080; font-weight: bold\">error</span><span style=\"color: #800000; text-decoration-color: #800000; font-weight: bold\">(</span><span style=\"color: #800000; text-decoration-color: #800000\">s</span><span style=\"color: #800000; text-decoration-color: #800000; font-weight: bold\">)</span><span style=\"color: #800000; text-decoration-color: #800000\">      : </span><span style=\"color: #008080; text-decoration-color: #008080; font-weight: bold\">1</span>\n",
       "<span style=\"color: #800000; text-decoration-color: #800000\">validation </span><span style=\"color: #800080; text-decoration-color: #800080; font-weight: bold\">warnings</span><span style=\"color: #800000; text-decoration-color: #800000; font-weight: bold\">(</span><span style=\"color: #800000; text-decoration-color: #800000\">s</span><span style=\"color: #800000; text-decoration-color: #800000; font-weight: bold\">)</span><span style=\"color: #800000; text-decoration-color: #800000\">   : </span><span style=\"color: #008080; text-decoration-color: #008080; font-weight: bold\">0</span>\n",
       "<span style=\"color: #800000; text-decoration-color: #800000\">check time </span><span style=\"color: #800000; text-decoration-color: #800000; font-weight: bold\">(</span><span style=\"color: #800000; text-decoration-color: #800000\">s</span><span style=\"color: #800000; text-decoration-color: #800000; font-weight: bold\">)</span><span style=\"color: #800000; text-decoration-color: #800000\">           : </span><span style=\"color: #008080; text-decoration-color: #008080; font-weight: bold\">0.001</span>\n",
       "</pre>\n"
      ],
      "text/plain": [
       "\u001b[31mfile:\u001b[0m\u001b[35m/\u001b[0m\u001b[35m/\u001b[0m\u001b[35m/tmp/tmpl7mf7is8/\u001b[0m\u001b[95mL1V2.xml\u001b[0m\n",
       "\u001b[31mvalid                    : FALSE\u001b[0m\n",
       "\u001b[31mvalidation \u001b[0m\u001b[1;35merror\u001b[0m\u001b[1;31m(\u001b[0m\u001b[31ms\u001b[0m\u001b[1;31m)\u001b[0m\u001b[31m      : \u001b[0m\u001b[1;36m1\u001b[0m\n",
       "\u001b[31mvalidation \u001b[0m\u001b[1;35mwarnings\u001b[0m\u001b[1;31m(\u001b[0m\u001b[31ms\u001b[0m\u001b[1;31m)\u001b[0m\u001b[31m   : \u001b[0m\u001b[1;36m0\u001b[0m\n",
       "\u001b[31mcheck time \u001b[0m\u001b[1;31m(\u001b[0m\u001b[31ms\u001b[0m\u001b[1;31m)\u001b[0m\u001b[31m           : \u001b[0m\u001b[1;36m0.001\u001b[0m\n"
      ]
     },
     "metadata": {},
     "output_type": "display_data"
    },
    {
     "data": {
      "text/html": [
       "<pre style=\"white-space:pre;overflow-x:auto;line-height:normal;font-family:Menlo,'DejaVu Sans Mono',consolas,'Courier New',monospace\"><span style=\"color: #800000; text-decoration-color: #800000\">─────────────────────────────────────────────────────────────────────────────────────────────</span>\n",
       "</pre>\n"
      ],
      "text/plain": [
       "\u001b[31m─────────────────────────────────────────────────────────────────────────────────────────────\u001b[0m\n"
      ]
     },
     "metadata": {},
     "output_type": "display_data"
    },
    {
     "data": {
      "text/html": [
       "<pre style=\"white-space:pre;overflow-x:auto;line-height:normal;font-family:Menlo,'DejaVu Sans Mono',consolas,'Courier New',monospace\">\n",
       "</pre>\n"
      ],
      "text/plain": [
       "\n"
      ]
     },
     "metadata": {},
     "output_type": "display_data"
    },
    {
     "data": {
      "text/html": [
       "<pre style=\"white-space:pre;overflow-x:auto;line-height:normal;font-family:Menlo,'DejaVu Sans Mono',consolas,'Courier New',monospace\"><span style=\"color: #800000; text-decoration-color: #800000; font-weight: bold\">ERROR   </span> <span style=\"color: #000000; text-decoration-color: #000000; background-color: #c0c0c0\">E0: General SBML conformance </span><span style=\"color: #000000; text-decoration-color: #000000; background-color: #c0c0c0; font-weight: bold\">(</span><span style=\"color: #000000; text-decoration-color: #000000; background-color: #c0c0c0\">core, L2, code</span><span style=\"color: #000000; text-decoration-color: #000000; background-color: #c0c0c0; font-weight: bold\">)</span>                      <a href=\"file:///home/mkoenig/git/sbmlutils/src/sbmlutils/validation.py\"><span style=\"color: #7f7f7f; text-decoration-color: #7f7f7f\">validation.py</span></a><span style=\"color: #7f7f7f; text-decoration-color: #7f7f7f\">:110</span>\n",
       "         <span style=\"color: #800000; text-decoration-color: #800000; background-color: #000000; font-weight: bold\">[</span><span style=\"color: #800000; text-decoration-color: #800000; background-color: #000000\">Error</span><span style=\"color: #800000; text-decoration-color: #800000; background-color: #000000; font-weight: bold\">]</span><span style=\"color: #800000; text-decoration-color: #800000; background-color: #000000\"> Annotation objects on the SBML container element are not </span>                   \n",
       "         <span style=\"color: #800000; text-decoration-color: #800000; background-color: #000000\">permitted in SBML Level </span><span style=\"color: #008080; text-decoration-color: #008080; background-color: #000000; font-weight: bold\">1</span>                                                           \n",
       "         The <span style=\"font-weight: bold\">&lt;</span><span style=\"color: #ff00ff; text-decoration-color: #ff00ff; font-weight: bold\">sbml</span><span style=\"font-weight: bold\">&gt;</span> container element cannot contain <span style=\"font-weight: bold\">&lt;</span><span style=\"color: #ff00ff; text-decoration-color: #ff00ff; font-weight: bold\">notes</span><span style=\"font-weight: bold\">&gt;</span> or                              \n",
       "         <span style=\"font-weight: bold\">&lt;</span><span style=\"color: #ff00ff; text-decoration-color: #ff00ff; font-weight: bold\">annotations</span><span style=\"font-weight: bold\">&gt;</span> in an SBML Level <span style=\"color: #008080; text-decoration-color: #008080; font-weight: bold\">1</span> document.                                          \n",
       "                                                                                             \n",
       "</pre>\n"
      ],
      "text/plain": [
       "\u001b[1;31mERROR   \u001b[0m \u001b[30;47mE0: General SBML conformance \u001b[0m\u001b[1;30;47m(\u001b[0m\u001b[30;47mcore, L2, code\u001b[0m\u001b[1;30;47m)\u001b[0m                      \u001b]8;id=908328;file:///home/mkoenig/git/sbmlutils/src/sbmlutils/validation.py\u001b\\\u001b[2mvalidation.py\u001b[0m\u001b]8;;\u001b\\\u001b[2m:110\u001b[0m\n",
       "         \u001b[1;31;40m[\u001b[0m\u001b[31;40mError\u001b[0m\u001b[1;31;40m]\u001b[0m\u001b[31;40m Annotation objects on the SBML container element are not \u001b[0m                   \n",
       "         \u001b[31;40mpermitted in SBML Level \u001b[0m\u001b[1;36;40m1\u001b[0m                                                           \n",
       "         The \u001b[1m<\u001b[0m\u001b[1;95msbml\u001b[0m\u001b[1m>\u001b[0m container element cannot contain \u001b[1m<\u001b[0m\u001b[1;95mnotes\u001b[0m\u001b[1m>\u001b[0m or                              \n",
       "         \u001b[1m<\u001b[0m\u001b[1;95mannotations\u001b[0m\u001b[1m>\u001b[0m in an SBML Level \u001b[1;36m1\u001b[0m document.                                          \n",
       "                                                                                             \n"
      ]
     },
     "metadata": {},
     "output_type": "display_data"
    },
    {
     "data": {
      "text/html": [
       "<pre style=\"white-space:pre;overflow-x:auto;line-height:normal;font-family:Menlo,'DejaVu Sans Mono',consolas,'Courier New',monospace\"><span style=\"color: #000080; text-decoration-color: #000080\">INFO    </span> No support for <span style=\"color: #008000; text-decoration-color: #008000\">'create_report'</span> in sbmlutils-v0.<span style=\"color: #008080; text-decoration-color: #008080; font-weight: bold\">5.7</span>.                 <a href=\"file:///home/mkoenig/git/sbmlutils/src/sbmlutils/report/sbmlreport.py\"><span style=\"color: #7f7f7f; text-decoration-color: #7f7f7f\">sbmlreport.py</span></a><span style=\"color: #7f7f7f; text-decoration-color: #7f7f7f\">:41</span>\n",
       "</pre>\n"
      ],
      "text/plain": [
       "\u001b[34mINFO    \u001b[0m No support for \u001b[32m'create_report'\u001b[0m in sbmlutils-v0.\u001b[1;36m5.7\u001b[0m.                 \u001b]8;id=713375;file:///home/mkoenig/git/sbmlutils/src/sbmlutils/report/sbmlreport.py\u001b\\\u001b[2msbmlreport.py\u001b[0m\u001b]8;;\u001b\\\u001b[2m:41\u001b[0m\n"
      ]
     },
     "metadata": {},
     "output_type": "display_data"
    },
    {
     "data": {
      "text/html": [
       "<pre style=\"white-space:pre;overflow-x:auto;line-height:normal;font-family:Menlo,'DejaVu Sans Mono',consolas,'Courier New',monospace\"><span style=\"color: #c0c0c0; text-decoration-color: #c0c0c0\">─────────────────────────────────────────────────────────────────────────────────────────────</span>\n",
       "</pre>\n"
      ],
      "text/plain": [
       "\u001b[37m─────────────────────────────────────────────────────────────────────────────────────────────\u001b[0m\n"
      ]
     },
     "metadata": {},
     "output_type": "display_data"
    },
    {
     "data": {
      "text/html": [
       "<pre style=\"white-space:pre;overflow-x:auto;line-height:normal;font-family:Menlo,'DejaVu Sans Mono',consolas,'Courier New',monospace\"><span style=\"color: #800000; text-decoration-color: #800000; font-weight: bold\">ERROR   </span> <span style=\"color: #000000; text-decoration-color: #000000; background-color: #c0c0c0\">ENone: General SBML conformance </span><span style=\"color: #000000; text-decoration-color: #000000; background-color: #c0c0c0; font-weight: bold\">(</span><span style=\"color: #000000; text-decoration-color: #000000; background-color: #c0c0c0\">core, L2, code</span><span style=\"color: #000000; text-decoration-color: #000000; background-color: #c0c0c0; font-weight: bold\">)</span>                   <a href=\"file:///home/mkoenig/git/sbmlutils/src/sbmlutils/validation.py\"><span style=\"color: #7f7f7f; text-decoration-color: #7f7f7f\">validation.py</span></a><span style=\"color: #7f7f7f; text-decoration-color: #7f7f7f\">:110</span>\n",
       "         <span style=\"color: #800000; text-decoration-color: #800000; background-color: #000000; font-weight: bold\">[</span><span style=\"color: #800000; text-decoration-color: #800000; background-color: #000000\">Error</span><span style=\"color: #800000; text-decoration-color: #800000; background-color: #000000; font-weight: bold\">]</span><span style=\"color: #800000; text-decoration-color: #800000; background-color: #000000\"> Annotation objects on the SBML container element are not </span>                   \n",
       "         <span style=\"color: #800000; text-decoration-color: #800000; background-color: #000000\">permitted in SBML Level </span><span style=\"color: #008080; text-decoration-color: #008080; background-color: #000000; font-weight: bold\">1</span>                                                           \n",
       "         The <span style=\"font-weight: bold\">&lt;</span><span style=\"color: #ff00ff; text-decoration-color: #ff00ff; font-weight: bold\">sbml</span><span style=\"font-weight: bold\">&gt;</span> container element cannot contain <span style=\"font-weight: bold\">&lt;</span><span style=\"color: #ff00ff; text-decoration-color: #ff00ff; font-weight: bold\">notes</span><span style=\"font-weight: bold\">&gt;</span> or                              \n",
       "         <span style=\"font-weight: bold\">&lt;</span><span style=\"color: #ff00ff; text-decoration-color: #ff00ff; font-weight: bold\">annotations</span><span style=\"font-weight: bold\">&gt;</span> in an SBML Level <span style=\"color: #008080; text-decoration-color: #008080; font-weight: bold\">1</span> document.                                          \n",
       "                                                                                             \n",
       "</pre>\n"
      ],
      "text/plain": [
       "\u001b[1;31mERROR   \u001b[0m \u001b[30;47mENone: General SBML conformance \u001b[0m\u001b[1;30;47m(\u001b[0m\u001b[30;47mcore, L2, code\u001b[0m\u001b[1;30;47m)\u001b[0m                   \u001b]8;id=533535;file:///home/mkoenig/git/sbmlutils/src/sbmlutils/validation.py\u001b\\\u001b[2mvalidation.py\u001b[0m\u001b]8;;\u001b\\\u001b[2m:110\u001b[0m\n",
       "         \u001b[1;31;40m[\u001b[0m\u001b[31;40mError\u001b[0m\u001b[1;31;40m]\u001b[0m\u001b[31;40m Annotation objects on the SBML container element are not \u001b[0m                   \n",
       "         \u001b[31;40mpermitted in SBML Level \u001b[0m\u001b[1;36;40m1\u001b[0m                                                           \n",
       "         The \u001b[1m<\u001b[0m\u001b[1;95msbml\u001b[0m\u001b[1m>\u001b[0m container element cannot contain \u001b[1m<\u001b[0m\u001b[1;95mnotes\u001b[0m\u001b[1m>\u001b[0m or                              \n",
       "         \u001b[1m<\u001b[0m\u001b[1;95mannotations\u001b[0m\u001b[1m>\u001b[0m in an SBML Level \u001b[1;36m1\u001b[0m document.                                          \n",
       "                                                                                             \n"
      ]
     },
     "metadata": {},
     "output_type": "display_data"
    },
    {
     "data": {
      "text/html": [
       "<pre style=\"white-space:pre;overflow-x:auto;line-height:normal;font-family:Menlo,'DejaVu Sans Mono',consolas,'Courier New',monospace\"><span style=\"color: #800000; text-decoration-color: #800000; font-weight: bold\">ERROR   </span> read_sbml error <span style=\"color: #008000; text-decoration-color: #008000\">'/tmp/tmpl7mf7is8/L1V2.xml'</span>: SBMLDocumentErrors           <a href=\"file:///home/mkoenig/git/sbmlutils/src/sbmlutils/io/sbml.py\"><span style=\"color: #7f7f7f; text-decoration-color: #7f7f7f\">sbml.py</span></a><span style=\"color: #7f7f7f; text-decoration-color: #7f7f7f\">:68</span>\n",
       "         encountered while reading the SBML file.                                            \n",
       "</pre>\n"
      ],
      "text/plain": [
       "\u001b[1;31mERROR   \u001b[0m read_sbml error \u001b[32m'/tmp/tmpl7mf7is8/L1V2.xml'\u001b[0m: SBMLDocumentErrors           \u001b]8;id=135353;file:///home/mkoenig/git/sbmlutils/src/sbmlutils/io/sbml.py\u001b\\\u001b[2msbml.py\u001b[0m\u001b]8;;\u001b\\\u001b[2m:68\u001b[0m\n",
       "         encountered while reading the SBML file.                                            \n"
      ]
     },
     "metadata": {},
     "output_type": "display_data"
    },
    {
     "name": "stdout",
     "output_type": "stream",
     "text": [
      "L1V2\n"
     ]
    },
    {
     "data": {
      "text/html": [
       "<pre style=\"white-space:pre;overflow-x:auto;line-height:normal;font-family:Menlo,'DejaVu Sans Mono',consolas,'Courier New',monospace\"><span style=\"color: #c0c0c0; text-decoration-color: #c0c0c0\">──────────────────────────────────────── </span>Create SBML<span style=\"color: #c0c0c0; text-decoration-color: #c0c0c0\"> ────────────────────────────────────────</span>\n",
       "</pre>\n"
      ],
      "text/plain": [
       "\u001b[37m──────────────────────────────────────── \u001b[0mCreate SBML\u001b[37m ────────────────────────────────────────\u001b[0m\n"
      ]
     },
     "metadata": {},
     "output_type": "display_data"
    },
    {
     "data": {
      "text/html": [
       "<pre style=\"white-space:pre;overflow-x:auto;line-height:normal;font-family:Menlo,'DejaVu Sans Mono',consolas,'Courier New',monospace\"><span style=\"color: #000080; text-decoration-color: #000080\">INFO    </span> Create SBML for model <span style=\"color: #008000; text-decoration-color: #008000\">'L2V1'</span>                                         <a href=\"file:///home/mkoenig/git/sbmlutils/src/sbmlutils/factory.py\"><span style=\"color: #7f7f7f; text-decoration-color: #7f7f7f\">factory.py</span></a><span style=\"color: #7f7f7f; text-decoration-color: #7f7f7f\">:2896</span>\n",
       "</pre>\n"
      ],
      "text/plain": [
       "\u001b[34mINFO    \u001b[0m Create SBML for model \u001b[32m'L2V1'\u001b[0m                                         \u001b]8;id=748876;file:///home/mkoenig/git/sbmlutils/src/sbmlutils/factory.py\u001b\\\u001b[2mfactory.py\u001b[0m\u001b]8;;\u001b\\\u001b[2m:2896\u001b[0m\n"
      ]
     },
     "metadata": {},
     "output_type": "display_data"
    },
    {
     "data": {
      "text/html": [
       "<pre style=\"white-space:pre;overflow-x:auto;line-height:normal;font-family:Menlo,'DejaVu Sans Mono',consolas,'Courier New',monospace\"><span style=\"color: #800000; text-decoration-color: #800000\">WARNING </span> <span style=\"color: #008000; text-decoration-color: #008000\">'name'</span> should be set on <span style=\"color: #008000; text-decoration-color: #008000\">'&lt;Model L2V1&gt;'</span>                                <a href=\"file:///home/mkoenig/git/sbmlutils/src/sbmlutils/factory.py\"><span style=\"color: #7f7f7f; text-decoration-color: #7f7f7f\">factory.py</span></a><span style=\"color: #7f7f7f; text-decoration-color: #7f7f7f\">:436</span>\n",
       "</pre>\n"
      ],
      "text/plain": [
       "\u001b[31mWARNING \u001b[0m \u001b[32m'name'\u001b[0m should be set on \u001b[32m'\u001b[0m\u001b[32m<\u001b[0m\u001b[32mModel\u001b[0m\u001b[32m L2V1\u001b[0m\u001b[32m>\u001b[0m\u001b[32m'\u001b[0m                                \u001b]8;id=329984;file:///home/mkoenig/git/sbmlutils/src/sbmlutils/factory.py\u001b\\\u001b[2mfactory.py\u001b[0m\u001b]8;;\u001b\\\u001b[2m:436\u001b[0m\n"
      ]
     },
     "metadata": {},
     "output_type": "display_data"
    },
    {
     "data": {
      "text/html": [
       "<pre style=\"white-space:pre;overflow-x:auto;line-height:normal;font-family:Menlo,'DejaVu Sans Mono',consolas,'Courier New',monospace\"><span style=\"color: #000080; text-decoration-color: #000080\">INFO    </span> <span style=\"color: #008000; text-decoration-color: #008000\">'length'</span> should be set in <span style=\"color: #008000; text-decoration-color: #008000\">'model_units'</span>.                              <a href=\"file:///home/mkoenig/git/sbmlutils/src/sbmlutils/factory.py\"><span style=\"color: #7f7f7f; text-decoration-color: #7f7f7f\">factory.py</span></a><span style=\"color: #7f7f7f; text-decoration-color: #7f7f7f\">:268</span>\n",
       "</pre>\n"
      ],
      "text/plain": [
       "\u001b[34mINFO    \u001b[0m \u001b[32m'length'\u001b[0m should be set in \u001b[32m'model_units'\u001b[0m.                              \u001b]8;id=431932;file:///home/mkoenig/git/sbmlutils/src/sbmlutils/factory.py\u001b\\\u001b[2mfactory.py\u001b[0m\u001b]8;;\u001b\\\u001b[2m:268\u001b[0m\n"
      ]
     },
     "metadata": {},
     "output_type": "display_data"
    },
    {
     "data": {
      "text/html": [
       "<pre style=\"white-space:pre;overflow-x:auto;line-height:normal;font-family:Menlo,'DejaVu Sans Mono',consolas,'Courier New',monospace\"><span style=\"color: #000080; text-decoration-color: #000080\">INFO    </span> <span style=\"color: #008000; text-decoration-color: #008000\">'area'</span> should be set in <span style=\"color: #008000; text-decoration-color: #008000\">'model_units'</span>.                                <a href=\"file:///home/mkoenig/git/sbmlutils/src/sbmlutils/factory.py\"><span style=\"color: #7f7f7f; text-decoration-color: #7f7f7f\">factory.py</span></a><span style=\"color: #7f7f7f; text-decoration-color: #7f7f7f\">:268</span>\n",
       "</pre>\n"
      ],
      "text/plain": [
       "\u001b[34mINFO    \u001b[0m \u001b[32m'area'\u001b[0m should be set in \u001b[32m'model_units'\u001b[0m.                                \u001b]8;id=659533;file:///home/mkoenig/git/sbmlutils/src/sbmlutils/factory.py\u001b\\\u001b[2mfactory.py\u001b[0m\u001b]8;;\u001b\\\u001b[2m:268\u001b[0m\n"
      ]
     },
     "metadata": {},
     "output_type": "display_data"
    },
    {
     "data": {
      "text/html": [
       "<pre style=\"white-space:pre;overflow-x:auto;line-height:normal;font-family:Menlo,'DejaVu Sans Mono',consolas,'Courier New',monospace\"><span style=\"color: #800000; text-decoration-color: #800000\">WARNING </span> <span style=\"color: #008000; text-decoration-color: #008000\">'name'</span> should be set on <span style=\"color: #008000; text-decoration-color: #008000\">'&lt;Parameter k1&gt;'</span>                              <a href=\"file:///home/mkoenig/git/sbmlutils/src/sbmlutils/factory.py\"><span style=\"color: #7f7f7f; text-decoration-color: #7f7f7f\">factory.py</span></a><span style=\"color: #7f7f7f; text-decoration-color: #7f7f7f\">:436</span>\n",
       "</pre>\n"
      ],
      "text/plain": [
       "\u001b[31mWARNING \u001b[0m \u001b[32m'name'\u001b[0m should be set on \u001b[32m'\u001b[0m\u001b[32m<\u001b[0m\u001b[32mParameter\u001b[0m\u001b[32m k1\u001b[0m\u001b[32m>\u001b[0m\u001b[32m'\u001b[0m                              \u001b]8;id=952247;file:///home/mkoenig/git/sbmlutils/src/sbmlutils/factory.py\u001b\\\u001b[2mfactory.py\u001b[0m\u001b]8;;\u001b\\\u001b[2m:436\u001b[0m\n"
      ]
     },
     "metadata": {},
     "output_type": "display_data"
    },
    {
     "data": {
      "text/html": [
       "<pre style=\"white-space:pre;overflow-x:auto;line-height:normal;font-family:Menlo,'DejaVu Sans Mono',consolas,'Courier New',monospace\"><span style=\"color: #800000; text-decoration-color: #800000\">WARNING </span> <span style=\"color: #008000; text-decoration-color: #008000\">'sboTerm'</span> should be set on <span style=\"color: #008000; text-decoration-color: #008000\">'&lt;Parameter k1&gt;'</span>                           <a href=\"file:///home/mkoenig/git/sbmlutils/src/sbmlutils/factory.py\"><span style=\"color: #7f7f7f; text-decoration-color: #7f7f7f\">factory.py</span></a><span style=\"color: #7f7f7f; text-decoration-color: #7f7f7f\">:461</span>\n",
       "</pre>\n"
      ],
      "text/plain": [
       "\u001b[31mWARNING \u001b[0m \u001b[32m'sboTerm'\u001b[0m should be set on \u001b[32m'\u001b[0m\u001b[32m<\u001b[0m\u001b[32mParameter\u001b[0m\u001b[32m k1\u001b[0m\u001b[32m>\u001b[0m\u001b[32m'\u001b[0m                           \u001b]8;id=520009;file:///home/mkoenig/git/sbmlutils/src/sbmlutils/factory.py\u001b\\\u001b[2mfactory.py\u001b[0m\u001b]8;;\u001b\\\u001b[2m:461\u001b[0m\n"
      ]
     },
     "metadata": {},
     "output_type": "display_data"
    },
    {
     "data": {
      "text/html": [
       "<pre style=\"white-space:pre;overflow-x:auto;line-height:normal;font-family:Menlo,'DejaVu Sans Mono',consolas,'Courier New',monospace\"><span style=\"color: #800000; text-decoration-color: #800000\">WARNING </span> <span style=\"color: #008000; text-decoration-color: #008000\">'name'</span> should be set on <span style=\"color: #008000; text-decoration-color: #008000\">'&lt;Compartment C&gt;'</span>                             <a href=\"file:///home/mkoenig/git/sbmlutils/src/sbmlutils/factory.py\"><span style=\"color: #7f7f7f; text-decoration-color: #7f7f7f\">factory.py</span></a><span style=\"color: #7f7f7f; text-decoration-color: #7f7f7f\">:436</span>\n",
       "</pre>\n"
      ],
      "text/plain": [
       "\u001b[31mWARNING \u001b[0m \u001b[32m'name'\u001b[0m should be set on \u001b[32m'\u001b[0m\u001b[32m<\u001b[0m\u001b[32mCompartment\u001b[0m\u001b[32m C\u001b[0m\u001b[32m>\u001b[0m\u001b[32m'\u001b[0m                             \u001b]8;id=85740;file:///home/mkoenig/git/sbmlutils/src/sbmlutils/factory.py\u001b\\\u001b[2mfactory.py\u001b[0m\u001b]8;;\u001b\\\u001b[2m:436\u001b[0m\n"
      ]
     },
     "metadata": {},
     "output_type": "display_data"
    },
    {
     "data": {
      "text/html": [
       "<pre style=\"white-space:pre;overflow-x:auto;line-height:normal;font-family:Menlo,'DejaVu Sans Mono',consolas,'Courier New',monospace\"><span style=\"color: #800000; text-decoration-color: #800000\">WARNING </span> <span style=\"color: #008000; text-decoration-color: #008000\">'sboTerm'</span> should be set on <span style=\"color: #008000; text-decoration-color: #008000\">'&lt;Compartment C&gt;'</span>                          <a href=\"file:///home/mkoenig/git/sbmlutils/src/sbmlutils/factory.py\"><span style=\"color: #7f7f7f; text-decoration-color: #7f7f7f\">factory.py</span></a><span style=\"color: #7f7f7f; text-decoration-color: #7f7f7f\">:461</span>\n",
       "</pre>\n"
      ],
      "text/plain": [
       "\u001b[31mWARNING \u001b[0m \u001b[32m'sboTerm'\u001b[0m should be set on \u001b[32m'\u001b[0m\u001b[32m<\u001b[0m\u001b[32mCompartment\u001b[0m\u001b[32m C\u001b[0m\u001b[32m>\u001b[0m\u001b[32m'\u001b[0m                          \u001b]8;id=525892;file:///home/mkoenig/git/sbmlutils/src/sbmlutils/factory.py\u001b\\\u001b[2mfactory.py\u001b[0m\u001b]8;;\u001b\\\u001b[2m:461\u001b[0m\n"
      ]
     },
     "metadata": {},
     "output_type": "display_data"
    },
    {
     "data": {
      "text/html": [
       "<pre style=\"white-space:pre;overflow-x:auto;line-height:normal;font-family:Menlo,'DejaVu Sans Mono',consolas,'Courier New',monospace\"><span style=\"color: #800000; text-decoration-color: #800000\">WARNING </span> <span style=\"color: #008000; text-decoration-color: #008000\">'name'</span> should be set on <span style=\"color: #008000; text-decoration-color: #008000\">'&lt;Species S1&gt;'</span>                                <a href=\"file:///home/mkoenig/git/sbmlutils/src/sbmlutils/factory.py\"><span style=\"color: #7f7f7f; text-decoration-color: #7f7f7f\">factory.py</span></a><span style=\"color: #7f7f7f; text-decoration-color: #7f7f7f\">:436</span>\n",
       "</pre>\n"
      ],
      "text/plain": [
       "\u001b[31mWARNING \u001b[0m \u001b[32m'name'\u001b[0m should be set on \u001b[32m'\u001b[0m\u001b[32m<\u001b[0m\u001b[32mSpecies\u001b[0m\u001b[32m S1\u001b[0m\u001b[32m>\u001b[0m\u001b[32m'\u001b[0m                                \u001b]8;id=999711;file:///home/mkoenig/git/sbmlutils/src/sbmlutils/factory.py\u001b\\\u001b[2mfactory.py\u001b[0m\u001b]8;;\u001b\\\u001b[2m:436\u001b[0m\n"
      ]
     },
     "metadata": {},
     "output_type": "display_data"
    },
    {
     "data": {
      "text/html": [
       "<pre style=\"white-space:pre;overflow-x:auto;line-height:normal;font-family:Menlo,'DejaVu Sans Mono',consolas,'Courier New',monospace\"><span style=\"color: #800000; text-decoration-color: #800000\">WARNING </span> <span style=\"color: #008000; text-decoration-color: #008000\">'sboTerm'</span> should be set on <span style=\"color: #008000; text-decoration-color: #008000\">'&lt;Species S1&gt;'</span>                             <a href=\"file:///home/mkoenig/git/sbmlutils/src/sbmlutils/factory.py\"><span style=\"color: #7f7f7f; text-decoration-color: #7f7f7f\">factory.py</span></a><span style=\"color: #7f7f7f; text-decoration-color: #7f7f7f\">:461</span>\n",
       "</pre>\n"
      ],
      "text/plain": [
       "\u001b[31mWARNING \u001b[0m \u001b[32m'sboTerm'\u001b[0m should be set on \u001b[32m'\u001b[0m\u001b[32m<\u001b[0m\u001b[32mSpecies\u001b[0m\u001b[32m S1\u001b[0m\u001b[32m>\u001b[0m\u001b[32m'\u001b[0m                             \u001b]8;id=488563;file:///home/mkoenig/git/sbmlutils/src/sbmlutils/factory.py\u001b\\\u001b[2mfactory.py\u001b[0m\u001b]8;;\u001b\\\u001b[2m:461\u001b[0m\n"
      ]
     },
     "metadata": {},
     "output_type": "display_data"
    },
    {
     "data": {
      "text/html": [
       "<pre style=\"white-space:pre;overflow-x:auto;line-height:normal;font-family:Menlo,'DejaVu Sans Mono',consolas,'Courier New',monospace\"><span style=\"color: #800000; text-decoration-color: #800000\">WARNING </span> <span style=\"color: #008000; text-decoration-color: #008000\">'name'</span> should be set on <span style=\"color: #008000; text-decoration-color: #008000\">'&lt;Reaction R1&gt;'</span>                               <a href=\"file:///home/mkoenig/git/sbmlutils/src/sbmlutils/factory.py\"><span style=\"color: #7f7f7f; text-decoration-color: #7f7f7f\">factory.py</span></a><span style=\"color: #7f7f7f; text-decoration-color: #7f7f7f\">:436</span>\n",
       "</pre>\n"
      ],
      "text/plain": [
       "\u001b[31mWARNING \u001b[0m \u001b[32m'name'\u001b[0m should be set on \u001b[32m'\u001b[0m\u001b[32m<\u001b[0m\u001b[32mReaction\u001b[0m\u001b[32m R1\u001b[0m\u001b[32m>\u001b[0m\u001b[32m'\u001b[0m                               \u001b]8;id=280247;file:///home/mkoenig/git/sbmlutils/src/sbmlutils/factory.py\u001b\\\u001b[2mfactory.py\u001b[0m\u001b]8;;\u001b\\\u001b[2m:436\u001b[0m\n"
      ]
     },
     "metadata": {},
     "output_type": "display_data"
    },
    {
     "data": {
      "text/html": [
       "<pre style=\"white-space:pre;overflow-x:auto;line-height:normal;font-family:Menlo,'DejaVu Sans Mono',consolas,'Courier New',monospace\"><span style=\"color: #800000; text-decoration-color: #800000\">WARNING </span> <span style=\"color: #008000; text-decoration-color: #008000\">'sboTerm'</span> should be set on <span style=\"color: #008000; text-decoration-color: #008000\">'&lt;Reaction R1&gt;'</span>                            <a href=\"file:///home/mkoenig/git/sbmlutils/src/sbmlutils/factory.py\"><span style=\"color: #7f7f7f; text-decoration-color: #7f7f7f\">factory.py</span></a><span style=\"color: #7f7f7f; text-decoration-color: #7f7f7f\">:461</span>\n",
       "</pre>\n"
      ],
      "text/plain": [
       "\u001b[31mWARNING \u001b[0m \u001b[32m'sboTerm'\u001b[0m should be set on \u001b[32m'\u001b[0m\u001b[32m<\u001b[0m\u001b[32mReaction\u001b[0m\u001b[32m R1\u001b[0m\u001b[32m>\u001b[0m\u001b[32m'\u001b[0m                            \u001b]8;id=179264;file:///home/mkoenig/git/sbmlutils/src/sbmlutils/factory.py\u001b\\\u001b[2mfactory.py\u001b[0m\u001b]8;;\u001b\\\u001b[2m:461\u001b[0m\n"
      ]
     },
     "metadata": {},
     "output_type": "display_data"
    },
    {
     "data": {
      "text/html": [
       "<pre style=\"white-space:pre;overflow-x:auto;line-height:normal;font-family:Menlo,'DejaVu Sans Mono',consolas,'Courier New',monospace\">\n",
       "</pre>\n"
      ],
      "text/plain": [
       "\n"
      ]
     },
     "metadata": {},
     "output_type": "display_data"
    },
    {
     "data": {
      "text/html": [
       "<pre style=\"white-space:pre;overflow-x:auto;line-height:normal;font-family:Menlo,'DejaVu Sans Mono',consolas,'Courier New',monospace\"><span style=\"color: #008000; text-decoration-color: #008000\">─────────────────────────────────────── </span>Validate SBML<span style=\"color: #008000; text-decoration-color: #008000\"> ───────────────────────────────────────</span>\n",
       "</pre>\n"
      ],
      "text/plain": [
       "\u001b[32m─────────────────────────────────────── \u001b[0mValidate SBML\u001b[32m ───────────────────────────────────────\u001b[0m\n"
      ]
     },
     "metadata": {},
     "output_type": "display_data"
    },
    {
     "data": {
      "text/html": [
       "<pre style=\"white-space:pre;overflow-x:auto;line-height:normal;font-family:Menlo,'DejaVu Sans Mono',consolas,'Courier New',monospace\"><span style=\"color: #008000; text-decoration-color: #008000\">file:</span><span style=\"color: #800080; text-decoration-color: #800080\">///tmp/tmpl7mf7is8/</span><span style=\"color: #ff00ff; text-decoration-color: #ff00ff\">L2V1.xml</span>\n",
       "<span style=\"color: #008000; text-decoration-color: #008000\">valid                    : TRUE</span>\n",
       "<span style=\"color: #008000; text-decoration-color: #008000\">check time </span><span style=\"color: #008000; text-decoration-color: #008000; font-weight: bold\">(</span><span style=\"color: #008000; text-decoration-color: #008000\">s</span><span style=\"color: #008000; text-decoration-color: #008000; font-weight: bold\">)</span><span style=\"color: #008000; text-decoration-color: #008000\">           : </span><span style=\"color: #008080; text-decoration-color: #008080; font-weight: bold\">0.001</span>\n",
       "</pre>\n"
      ],
      "text/plain": [
       "\u001b[32mfile:\u001b[0m\u001b[35m/\u001b[0m\u001b[35m/\u001b[0m\u001b[35m/tmp/tmpl7mf7is8/\u001b[0m\u001b[95mL2V1.xml\u001b[0m\n",
       "\u001b[32mvalid                    : TRUE\u001b[0m\n",
       "\u001b[32mcheck time \u001b[0m\u001b[1;32m(\u001b[0m\u001b[32ms\u001b[0m\u001b[1;32m)\u001b[0m\u001b[32m           : \u001b[0m\u001b[1;36m0.001\u001b[0m\n"
      ]
     },
     "metadata": {},
     "output_type": "display_data"
    },
    {
     "data": {
      "text/html": [
       "<pre style=\"white-space:pre;overflow-x:auto;line-height:normal;font-family:Menlo,'DejaVu Sans Mono',consolas,'Courier New',monospace\"><span style=\"color: #008000; text-decoration-color: #008000\">─────────────────────────────────────────────────────────────────────────────────────────────</span>\n",
       "</pre>\n"
      ],
      "text/plain": [
       "\u001b[32m─────────────────────────────────────────────────────────────────────────────────────────────\u001b[0m\n"
      ]
     },
     "metadata": {},
     "output_type": "display_data"
    },
    {
     "data": {
      "text/html": [
       "<pre style=\"white-space:pre;overflow-x:auto;line-height:normal;font-family:Menlo,'DejaVu Sans Mono',consolas,'Courier New',monospace\">\n",
       "</pre>\n"
      ],
      "text/plain": [
       "\n"
      ]
     },
     "metadata": {},
     "output_type": "display_data"
    },
    {
     "data": {
      "text/html": [
       "<pre style=\"white-space:pre;overflow-x:auto;line-height:normal;font-family:Menlo,'DejaVu Sans Mono',consolas,'Courier New',monospace\"><span style=\"color: #000080; text-decoration-color: #000080\">INFO    </span> No support for <span style=\"color: #008000; text-decoration-color: #008000\">'create_report'</span> in sbmlutils-v0.<span style=\"color: #008080; text-decoration-color: #008080; font-weight: bold\">5.7</span>.                 <a href=\"file:///home/mkoenig/git/sbmlutils/src/sbmlutils/report/sbmlreport.py\"><span style=\"color: #7f7f7f; text-decoration-color: #7f7f7f\">sbmlreport.py</span></a><span style=\"color: #7f7f7f; text-decoration-color: #7f7f7f\">:41</span>\n",
       "</pre>\n"
      ],
      "text/plain": [
       "\u001b[34mINFO    \u001b[0m No support for \u001b[32m'create_report'\u001b[0m in sbmlutils-v0.\u001b[1;36m5.7\u001b[0m.                 \u001b]8;id=478146;file:///home/mkoenig/git/sbmlutils/src/sbmlutils/report/sbmlreport.py\u001b\\\u001b[2msbmlreport.py\u001b[0m\u001b]8;;\u001b\\\u001b[2m:41\u001b[0m\n"
      ]
     },
     "metadata": {},
     "output_type": "display_data"
    },
    {
     "data": {
      "text/html": [
       "<pre style=\"white-space:pre;overflow-x:auto;line-height:normal;font-family:Menlo,'DejaVu Sans Mono',consolas,'Courier New',monospace\"><span style=\"color: #c0c0c0; text-decoration-color: #c0c0c0\">─────────────────────────────────────────────────────────────────────────────────────────────</span>\n",
       "</pre>\n"
      ],
      "text/plain": [
       "\u001b[37m─────────────────────────────────────────────────────────────────────────────────────────────\u001b[0m\n"
      ]
     },
     "metadata": {},
     "output_type": "display_data"
    },
    {
     "name": "stdout",
     "output_type": "stream",
     "text": [
      "L2V1\n"
     ]
    },
    {
     "data": {
      "text/html": [
       "<pre style=\"white-space:pre;overflow-x:auto;line-height:normal;font-family:Menlo,'DejaVu Sans Mono',consolas,'Courier New',monospace\"><span style=\"color: #c0c0c0; text-decoration-color: #c0c0c0\">──────────────────────────────────────── </span>Create SBML<span style=\"color: #c0c0c0; text-decoration-color: #c0c0c0\"> ────────────────────────────────────────</span>\n",
       "</pre>\n"
      ],
      "text/plain": [
       "\u001b[37m──────────────────────────────────────── \u001b[0mCreate SBML\u001b[37m ────────────────────────────────────────\u001b[0m\n"
      ]
     },
     "metadata": {},
     "output_type": "display_data"
    },
    {
     "data": {
      "text/html": [
       "<pre style=\"white-space:pre;overflow-x:auto;line-height:normal;font-family:Menlo,'DejaVu Sans Mono',consolas,'Courier New',monospace\"><span style=\"color: #000080; text-decoration-color: #000080\">INFO    </span> Create SBML for model <span style=\"color: #008000; text-decoration-color: #008000\">'L2V2'</span>                                         <a href=\"file:///home/mkoenig/git/sbmlutils/src/sbmlutils/factory.py\"><span style=\"color: #7f7f7f; text-decoration-color: #7f7f7f\">factory.py</span></a><span style=\"color: #7f7f7f; text-decoration-color: #7f7f7f\">:2896</span>\n",
       "</pre>\n"
      ],
      "text/plain": [
       "\u001b[34mINFO    \u001b[0m Create SBML for model \u001b[32m'L2V2'\u001b[0m                                         \u001b]8;id=754569;file:///home/mkoenig/git/sbmlutils/src/sbmlutils/factory.py\u001b\\\u001b[2mfactory.py\u001b[0m\u001b]8;;\u001b\\\u001b[2m:2896\u001b[0m\n"
      ]
     },
     "metadata": {},
     "output_type": "display_data"
    },
    {
     "data": {
      "text/html": [
       "<pre style=\"white-space:pre;overflow-x:auto;line-height:normal;font-family:Menlo,'DejaVu Sans Mono',consolas,'Courier New',monospace\"><span style=\"color: #800000; text-decoration-color: #800000\">WARNING </span> <span style=\"color: #008000; text-decoration-color: #008000\">'name'</span> should be set on <span style=\"color: #008000; text-decoration-color: #008000\">'&lt;Model L2V2&gt;'</span>                                <a href=\"file:///home/mkoenig/git/sbmlutils/src/sbmlutils/factory.py\"><span style=\"color: #7f7f7f; text-decoration-color: #7f7f7f\">factory.py</span></a><span style=\"color: #7f7f7f; text-decoration-color: #7f7f7f\">:436</span>\n",
       "</pre>\n"
      ],
      "text/plain": [
       "\u001b[31mWARNING \u001b[0m \u001b[32m'name'\u001b[0m should be set on \u001b[32m'\u001b[0m\u001b[32m<\u001b[0m\u001b[32mModel\u001b[0m\u001b[32m L2V2\u001b[0m\u001b[32m>\u001b[0m\u001b[32m'\u001b[0m                                \u001b]8;id=336145;file:///home/mkoenig/git/sbmlutils/src/sbmlutils/factory.py\u001b\\\u001b[2mfactory.py\u001b[0m\u001b]8;;\u001b\\\u001b[2m:436\u001b[0m\n"
      ]
     },
     "metadata": {},
     "output_type": "display_data"
    },
    {
     "data": {
      "text/html": [
       "<pre style=\"white-space:pre;overflow-x:auto;line-height:normal;font-family:Menlo,'DejaVu Sans Mono',consolas,'Courier New',monospace\"><span style=\"color: #000080; text-decoration-color: #000080\">INFO    </span> <span style=\"color: #008000; text-decoration-color: #008000\">'length'</span> should be set in <span style=\"color: #008000; text-decoration-color: #008000\">'model_units'</span>.                              <a href=\"file:///home/mkoenig/git/sbmlutils/src/sbmlutils/factory.py\"><span style=\"color: #7f7f7f; text-decoration-color: #7f7f7f\">factory.py</span></a><span style=\"color: #7f7f7f; text-decoration-color: #7f7f7f\">:268</span>\n",
       "</pre>\n"
      ],
      "text/plain": [
       "\u001b[34mINFO    \u001b[0m \u001b[32m'length'\u001b[0m should be set in \u001b[32m'model_units'\u001b[0m.                              \u001b]8;id=10425;file:///home/mkoenig/git/sbmlutils/src/sbmlutils/factory.py\u001b\\\u001b[2mfactory.py\u001b[0m\u001b]8;;\u001b\\\u001b[2m:268\u001b[0m\n"
      ]
     },
     "metadata": {},
     "output_type": "display_data"
    },
    {
     "data": {
      "text/html": [
       "<pre style=\"white-space:pre;overflow-x:auto;line-height:normal;font-family:Menlo,'DejaVu Sans Mono',consolas,'Courier New',monospace\"><span style=\"color: #000080; text-decoration-color: #000080\">INFO    </span> <span style=\"color: #008000; text-decoration-color: #008000\">'area'</span> should be set in <span style=\"color: #008000; text-decoration-color: #008000\">'model_units'</span>.                                <a href=\"file:///home/mkoenig/git/sbmlutils/src/sbmlutils/factory.py\"><span style=\"color: #7f7f7f; text-decoration-color: #7f7f7f\">factory.py</span></a><span style=\"color: #7f7f7f; text-decoration-color: #7f7f7f\">:268</span>\n",
       "</pre>\n"
      ],
      "text/plain": [
       "\u001b[34mINFO    \u001b[0m \u001b[32m'area'\u001b[0m should be set in \u001b[32m'model_units'\u001b[0m.                                \u001b]8;id=364625;file:///home/mkoenig/git/sbmlutils/src/sbmlutils/factory.py\u001b\\\u001b[2mfactory.py\u001b[0m\u001b]8;;\u001b\\\u001b[2m:268\u001b[0m\n"
      ]
     },
     "metadata": {},
     "output_type": "display_data"
    },
    {
     "data": {
      "text/html": [
       "<pre style=\"white-space:pre;overflow-x:auto;line-height:normal;font-family:Menlo,'DejaVu Sans Mono',consolas,'Courier New',monospace\"><span style=\"color: #800000; text-decoration-color: #800000\">WARNING </span> <span style=\"color: #008000; text-decoration-color: #008000\">'name'</span> should be set on <span style=\"color: #008000; text-decoration-color: #008000\">'&lt;Parameter k1&gt;'</span>                              <a href=\"file:///home/mkoenig/git/sbmlutils/src/sbmlutils/factory.py\"><span style=\"color: #7f7f7f; text-decoration-color: #7f7f7f\">factory.py</span></a><span style=\"color: #7f7f7f; text-decoration-color: #7f7f7f\">:436</span>\n",
       "</pre>\n"
      ],
      "text/plain": [
       "\u001b[31mWARNING \u001b[0m \u001b[32m'name'\u001b[0m should be set on \u001b[32m'\u001b[0m\u001b[32m<\u001b[0m\u001b[32mParameter\u001b[0m\u001b[32m k1\u001b[0m\u001b[32m>\u001b[0m\u001b[32m'\u001b[0m                              \u001b]8;id=952340;file:///home/mkoenig/git/sbmlutils/src/sbmlutils/factory.py\u001b\\\u001b[2mfactory.py\u001b[0m\u001b]8;;\u001b\\\u001b[2m:436\u001b[0m\n"
      ]
     },
     "metadata": {},
     "output_type": "display_data"
    },
    {
     "data": {
      "text/html": [
       "<pre style=\"white-space:pre;overflow-x:auto;line-height:normal;font-family:Menlo,'DejaVu Sans Mono',consolas,'Courier New',monospace\"><span style=\"color: #800000; text-decoration-color: #800000\">WARNING </span> <span style=\"color: #008000; text-decoration-color: #008000\">'sboTerm'</span> should be set on <span style=\"color: #008000; text-decoration-color: #008000\">'&lt;Parameter k1&gt;'</span>                           <a href=\"file:///home/mkoenig/git/sbmlutils/src/sbmlutils/factory.py\"><span style=\"color: #7f7f7f; text-decoration-color: #7f7f7f\">factory.py</span></a><span style=\"color: #7f7f7f; text-decoration-color: #7f7f7f\">:461</span>\n",
       "</pre>\n"
      ],
      "text/plain": [
       "\u001b[31mWARNING \u001b[0m \u001b[32m'sboTerm'\u001b[0m should be set on \u001b[32m'\u001b[0m\u001b[32m<\u001b[0m\u001b[32mParameter\u001b[0m\u001b[32m k1\u001b[0m\u001b[32m>\u001b[0m\u001b[32m'\u001b[0m                           \u001b]8;id=746161;file:///home/mkoenig/git/sbmlutils/src/sbmlutils/factory.py\u001b\\\u001b[2mfactory.py\u001b[0m\u001b]8;;\u001b\\\u001b[2m:461\u001b[0m\n"
      ]
     },
     "metadata": {},
     "output_type": "display_data"
    },
    {
     "data": {
      "text/html": [
       "<pre style=\"white-space:pre;overflow-x:auto;line-height:normal;font-family:Menlo,'DejaVu Sans Mono',consolas,'Courier New',monospace\"><span style=\"color: #800000; text-decoration-color: #800000\">WARNING </span> <span style=\"color: #008000; text-decoration-color: #008000\">'name'</span> should be set on <span style=\"color: #008000; text-decoration-color: #008000\">'&lt;Compartment C&gt;'</span>                             <a href=\"file:///home/mkoenig/git/sbmlutils/src/sbmlutils/factory.py\"><span style=\"color: #7f7f7f; text-decoration-color: #7f7f7f\">factory.py</span></a><span style=\"color: #7f7f7f; text-decoration-color: #7f7f7f\">:436</span>\n",
       "</pre>\n"
      ],
      "text/plain": [
       "\u001b[31mWARNING \u001b[0m \u001b[32m'name'\u001b[0m should be set on \u001b[32m'\u001b[0m\u001b[32m<\u001b[0m\u001b[32mCompartment\u001b[0m\u001b[32m C\u001b[0m\u001b[32m>\u001b[0m\u001b[32m'\u001b[0m                             \u001b]8;id=114352;file:///home/mkoenig/git/sbmlutils/src/sbmlutils/factory.py\u001b\\\u001b[2mfactory.py\u001b[0m\u001b]8;;\u001b\\\u001b[2m:436\u001b[0m\n"
      ]
     },
     "metadata": {},
     "output_type": "display_data"
    },
    {
     "data": {
      "text/html": [
       "<pre style=\"white-space:pre;overflow-x:auto;line-height:normal;font-family:Menlo,'DejaVu Sans Mono',consolas,'Courier New',monospace\"><span style=\"color: #800000; text-decoration-color: #800000\">WARNING </span> <span style=\"color: #008000; text-decoration-color: #008000\">'sboTerm'</span> should be set on <span style=\"color: #008000; text-decoration-color: #008000\">'&lt;Compartment C&gt;'</span>                          <a href=\"file:///home/mkoenig/git/sbmlutils/src/sbmlutils/factory.py\"><span style=\"color: #7f7f7f; text-decoration-color: #7f7f7f\">factory.py</span></a><span style=\"color: #7f7f7f; text-decoration-color: #7f7f7f\">:461</span>\n",
       "</pre>\n"
      ],
      "text/plain": [
       "\u001b[31mWARNING \u001b[0m \u001b[32m'sboTerm'\u001b[0m should be set on \u001b[32m'\u001b[0m\u001b[32m<\u001b[0m\u001b[32mCompartment\u001b[0m\u001b[32m C\u001b[0m\u001b[32m>\u001b[0m\u001b[32m'\u001b[0m                          \u001b]8;id=249910;file:///home/mkoenig/git/sbmlutils/src/sbmlutils/factory.py\u001b\\\u001b[2mfactory.py\u001b[0m\u001b]8;;\u001b\\\u001b[2m:461\u001b[0m\n"
      ]
     },
     "metadata": {},
     "output_type": "display_data"
    },
    {
     "data": {
      "text/html": [
       "<pre style=\"white-space:pre;overflow-x:auto;line-height:normal;font-family:Menlo,'DejaVu Sans Mono',consolas,'Courier New',monospace\"><span style=\"color: #800000; text-decoration-color: #800000\">WARNING </span> <span style=\"color: #008000; text-decoration-color: #008000\">'name'</span> should be set on <span style=\"color: #008000; text-decoration-color: #008000\">'&lt;Species S1&gt;'</span>                                <a href=\"file:///home/mkoenig/git/sbmlutils/src/sbmlutils/factory.py\"><span style=\"color: #7f7f7f; text-decoration-color: #7f7f7f\">factory.py</span></a><span style=\"color: #7f7f7f; text-decoration-color: #7f7f7f\">:436</span>\n",
       "</pre>\n"
      ],
      "text/plain": [
       "\u001b[31mWARNING \u001b[0m \u001b[32m'name'\u001b[0m should be set on \u001b[32m'\u001b[0m\u001b[32m<\u001b[0m\u001b[32mSpecies\u001b[0m\u001b[32m S1\u001b[0m\u001b[32m>\u001b[0m\u001b[32m'\u001b[0m                                \u001b]8;id=747996;file:///home/mkoenig/git/sbmlutils/src/sbmlutils/factory.py\u001b\\\u001b[2mfactory.py\u001b[0m\u001b]8;;\u001b\\\u001b[2m:436\u001b[0m\n"
      ]
     },
     "metadata": {},
     "output_type": "display_data"
    },
    {
     "data": {
      "text/html": [
       "<pre style=\"white-space:pre;overflow-x:auto;line-height:normal;font-family:Menlo,'DejaVu Sans Mono',consolas,'Courier New',monospace\"><span style=\"color: #800000; text-decoration-color: #800000\">WARNING </span> <span style=\"color: #008000; text-decoration-color: #008000\">'sboTerm'</span> should be set on <span style=\"color: #008000; text-decoration-color: #008000\">'&lt;Species S1&gt;'</span>                             <a href=\"file:///home/mkoenig/git/sbmlutils/src/sbmlutils/factory.py\"><span style=\"color: #7f7f7f; text-decoration-color: #7f7f7f\">factory.py</span></a><span style=\"color: #7f7f7f; text-decoration-color: #7f7f7f\">:461</span>\n",
       "</pre>\n"
      ],
      "text/plain": [
       "\u001b[31mWARNING \u001b[0m \u001b[32m'sboTerm'\u001b[0m should be set on \u001b[32m'\u001b[0m\u001b[32m<\u001b[0m\u001b[32mSpecies\u001b[0m\u001b[32m S1\u001b[0m\u001b[32m>\u001b[0m\u001b[32m'\u001b[0m                             \u001b]8;id=830310;file:///home/mkoenig/git/sbmlutils/src/sbmlutils/factory.py\u001b\\\u001b[2mfactory.py\u001b[0m\u001b]8;;\u001b\\\u001b[2m:461\u001b[0m\n"
      ]
     },
     "metadata": {},
     "output_type": "display_data"
    },
    {
     "data": {
      "text/html": [
       "<pre style=\"white-space:pre;overflow-x:auto;line-height:normal;font-family:Menlo,'DejaVu Sans Mono',consolas,'Courier New',monospace\"><span style=\"color: #800000; text-decoration-color: #800000\">WARNING </span> <span style=\"color: #008000; text-decoration-color: #008000\">'name'</span> should be set on <span style=\"color: #008000; text-decoration-color: #008000\">'&lt;Reaction R1&gt;'</span>                               <a href=\"file:///home/mkoenig/git/sbmlutils/src/sbmlutils/factory.py\"><span style=\"color: #7f7f7f; text-decoration-color: #7f7f7f\">factory.py</span></a><span style=\"color: #7f7f7f; text-decoration-color: #7f7f7f\">:436</span>\n",
       "</pre>\n"
      ],
      "text/plain": [
       "\u001b[31mWARNING \u001b[0m \u001b[32m'name'\u001b[0m should be set on \u001b[32m'\u001b[0m\u001b[32m<\u001b[0m\u001b[32mReaction\u001b[0m\u001b[32m R1\u001b[0m\u001b[32m>\u001b[0m\u001b[32m'\u001b[0m                               \u001b]8;id=841176;file:///home/mkoenig/git/sbmlutils/src/sbmlutils/factory.py\u001b\\\u001b[2mfactory.py\u001b[0m\u001b]8;;\u001b\\\u001b[2m:436\u001b[0m\n"
      ]
     },
     "metadata": {},
     "output_type": "display_data"
    },
    {
     "data": {
      "text/html": [
       "<pre style=\"white-space:pre;overflow-x:auto;line-height:normal;font-family:Menlo,'DejaVu Sans Mono',consolas,'Courier New',monospace\"><span style=\"color: #800000; text-decoration-color: #800000\">WARNING </span> <span style=\"color: #008000; text-decoration-color: #008000\">'sboTerm'</span> should be set on <span style=\"color: #008000; text-decoration-color: #008000\">'&lt;Reaction R1&gt;'</span>                            <a href=\"file:///home/mkoenig/git/sbmlutils/src/sbmlutils/factory.py\"><span style=\"color: #7f7f7f; text-decoration-color: #7f7f7f\">factory.py</span></a><span style=\"color: #7f7f7f; text-decoration-color: #7f7f7f\">:461</span>\n",
       "</pre>\n"
      ],
      "text/plain": [
       "\u001b[31mWARNING \u001b[0m \u001b[32m'sboTerm'\u001b[0m should be set on \u001b[32m'\u001b[0m\u001b[32m<\u001b[0m\u001b[32mReaction\u001b[0m\u001b[32m R1\u001b[0m\u001b[32m>\u001b[0m\u001b[32m'\u001b[0m                            \u001b]8;id=616875;file:///home/mkoenig/git/sbmlutils/src/sbmlutils/factory.py\u001b\\\u001b[2mfactory.py\u001b[0m\u001b]8;;\u001b\\\u001b[2m:461\u001b[0m\n"
      ]
     },
     "metadata": {},
     "output_type": "display_data"
    },
    {
     "data": {
      "text/html": [
       "<pre style=\"white-space:pre;overflow-x:auto;line-height:normal;font-family:Menlo,'DejaVu Sans Mono',consolas,'Courier New',monospace\">\n",
       "</pre>\n"
      ],
      "text/plain": [
       "\n"
      ]
     },
     "metadata": {},
     "output_type": "display_data"
    },
    {
     "data": {
      "text/html": [
       "<pre style=\"white-space:pre;overflow-x:auto;line-height:normal;font-family:Menlo,'DejaVu Sans Mono',consolas,'Courier New',monospace\"><span style=\"color: #008000; text-decoration-color: #008000\">─────────────────────────────────────── </span>Validate SBML<span style=\"color: #008000; text-decoration-color: #008000\"> ───────────────────────────────────────</span>\n",
       "</pre>\n"
      ],
      "text/plain": [
       "\u001b[32m─────────────────────────────────────── \u001b[0mValidate SBML\u001b[32m ───────────────────────────────────────\u001b[0m\n"
      ]
     },
     "metadata": {},
     "output_type": "display_data"
    },
    {
     "data": {
      "text/html": [
       "<pre style=\"white-space:pre;overflow-x:auto;line-height:normal;font-family:Menlo,'DejaVu Sans Mono',consolas,'Courier New',monospace\"><span style=\"color: #008000; text-decoration-color: #008000\">file:</span><span style=\"color: #800080; text-decoration-color: #800080\">///tmp/tmpl7mf7is8/</span><span style=\"color: #ff00ff; text-decoration-color: #ff00ff\">L2V2.xml</span>\n",
       "<span style=\"color: #008000; text-decoration-color: #008000\">valid                    : TRUE</span>\n",
       "<span style=\"color: #008000; text-decoration-color: #008000\">check time </span><span style=\"color: #008000; text-decoration-color: #008000; font-weight: bold\">(</span><span style=\"color: #008000; text-decoration-color: #008000\">s</span><span style=\"color: #008000; text-decoration-color: #008000; font-weight: bold\">)</span><span style=\"color: #008000; text-decoration-color: #008000\">           : </span><span style=\"color: #008080; text-decoration-color: #008080; font-weight: bold\">0.001</span>\n",
       "</pre>\n"
      ],
      "text/plain": [
       "\u001b[32mfile:\u001b[0m\u001b[35m/\u001b[0m\u001b[35m/\u001b[0m\u001b[35m/tmp/tmpl7mf7is8/\u001b[0m\u001b[95mL2V2.xml\u001b[0m\n",
       "\u001b[32mvalid                    : TRUE\u001b[0m\n",
       "\u001b[32mcheck time \u001b[0m\u001b[1;32m(\u001b[0m\u001b[32ms\u001b[0m\u001b[1;32m)\u001b[0m\u001b[32m           : \u001b[0m\u001b[1;36m0.001\u001b[0m\n"
      ]
     },
     "metadata": {},
     "output_type": "display_data"
    },
    {
     "data": {
      "text/html": [
       "<pre style=\"white-space:pre;overflow-x:auto;line-height:normal;font-family:Menlo,'DejaVu Sans Mono',consolas,'Courier New',monospace\"><span style=\"color: #008000; text-decoration-color: #008000\">─────────────────────────────────────────────────────────────────────────────────────────────</span>\n",
       "</pre>\n"
      ],
      "text/plain": [
       "\u001b[32m─────────────────────────────────────────────────────────────────────────────────────────────\u001b[0m\n"
      ]
     },
     "metadata": {},
     "output_type": "display_data"
    },
    {
     "data": {
      "text/html": [
       "<pre style=\"white-space:pre;overflow-x:auto;line-height:normal;font-family:Menlo,'DejaVu Sans Mono',consolas,'Courier New',monospace\">\n",
       "</pre>\n"
      ],
      "text/plain": [
       "\n"
      ]
     },
     "metadata": {},
     "output_type": "display_data"
    },
    {
     "data": {
      "text/html": [
       "<pre style=\"white-space:pre;overflow-x:auto;line-height:normal;font-family:Menlo,'DejaVu Sans Mono',consolas,'Courier New',monospace\"><span style=\"color: #000080; text-decoration-color: #000080\">INFO    </span> No support for <span style=\"color: #008000; text-decoration-color: #008000\">'create_report'</span> in sbmlutils-v0.<span style=\"color: #008080; text-decoration-color: #008080; font-weight: bold\">5.7</span>.                 <a href=\"file:///home/mkoenig/git/sbmlutils/src/sbmlutils/report/sbmlreport.py\"><span style=\"color: #7f7f7f; text-decoration-color: #7f7f7f\">sbmlreport.py</span></a><span style=\"color: #7f7f7f; text-decoration-color: #7f7f7f\">:41</span>\n",
       "</pre>\n"
      ],
      "text/plain": [
       "\u001b[34mINFO    \u001b[0m No support for \u001b[32m'create_report'\u001b[0m in sbmlutils-v0.\u001b[1;36m5.7\u001b[0m.                 \u001b]8;id=802847;file:///home/mkoenig/git/sbmlutils/src/sbmlutils/report/sbmlreport.py\u001b\\\u001b[2msbmlreport.py\u001b[0m\u001b]8;;\u001b\\\u001b[2m:41\u001b[0m\n"
      ]
     },
     "metadata": {},
     "output_type": "display_data"
    },
    {
     "data": {
      "text/html": [
       "<pre style=\"white-space:pre;overflow-x:auto;line-height:normal;font-family:Menlo,'DejaVu Sans Mono',consolas,'Courier New',monospace\"><span style=\"color: #c0c0c0; text-decoration-color: #c0c0c0\">─────────────────────────────────────────────────────────────────────────────────────────────</span>\n",
       "</pre>\n"
      ],
      "text/plain": [
       "\u001b[37m─────────────────────────────────────────────────────────────────────────────────────────────\u001b[0m\n"
      ]
     },
     "metadata": {},
     "output_type": "display_data"
    },
    {
     "name": "stdout",
     "output_type": "stream",
     "text": [
      "L2V2\n"
     ]
    },
    {
     "data": {
      "text/html": [
       "<pre style=\"white-space:pre;overflow-x:auto;line-height:normal;font-family:Menlo,'DejaVu Sans Mono',consolas,'Courier New',monospace\"><span style=\"color: #c0c0c0; text-decoration-color: #c0c0c0\">──────────────────────────────────────── </span>Create SBML<span style=\"color: #c0c0c0; text-decoration-color: #c0c0c0\"> ────────────────────────────────────────</span>\n",
       "</pre>\n"
      ],
      "text/plain": [
       "\u001b[37m──────────────────────────────────────── \u001b[0mCreate SBML\u001b[37m ────────────────────────────────────────\u001b[0m\n"
      ]
     },
     "metadata": {},
     "output_type": "display_data"
    },
    {
     "data": {
      "text/html": [
       "<pre style=\"white-space:pre;overflow-x:auto;line-height:normal;font-family:Menlo,'DejaVu Sans Mono',consolas,'Courier New',monospace\"><span style=\"color: #000080; text-decoration-color: #000080\">INFO    </span> Create SBML for model <span style=\"color: #008000; text-decoration-color: #008000\">'L2V3'</span>                                         <a href=\"file:///home/mkoenig/git/sbmlutils/src/sbmlutils/factory.py\"><span style=\"color: #7f7f7f; text-decoration-color: #7f7f7f\">factory.py</span></a><span style=\"color: #7f7f7f; text-decoration-color: #7f7f7f\">:2896</span>\n",
       "</pre>\n"
      ],
      "text/plain": [
       "\u001b[34mINFO    \u001b[0m Create SBML for model \u001b[32m'L2V3'\u001b[0m                                         \u001b]8;id=931858;file:///home/mkoenig/git/sbmlutils/src/sbmlutils/factory.py\u001b\\\u001b[2mfactory.py\u001b[0m\u001b]8;;\u001b\\\u001b[2m:2896\u001b[0m\n"
      ]
     },
     "metadata": {},
     "output_type": "display_data"
    },
    {
     "data": {
      "text/html": [
       "<pre style=\"white-space:pre;overflow-x:auto;line-height:normal;font-family:Menlo,'DejaVu Sans Mono',consolas,'Courier New',monospace\"><span style=\"color: #800000; text-decoration-color: #800000\">WARNING </span> <span style=\"color: #008000; text-decoration-color: #008000\">'name'</span> should be set on <span style=\"color: #008000; text-decoration-color: #008000\">'&lt;Model L2V3&gt;'</span>                                <a href=\"file:///home/mkoenig/git/sbmlutils/src/sbmlutils/factory.py\"><span style=\"color: #7f7f7f; text-decoration-color: #7f7f7f\">factory.py</span></a><span style=\"color: #7f7f7f; text-decoration-color: #7f7f7f\">:436</span>\n",
       "</pre>\n"
      ],
      "text/plain": [
       "\u001b[31mWARNING \u001b[0m \u001b[32m'name'\u001b[0m should be set on \u001b[32m'\u001b[0m\u001b[32m<\u001b[0m\u001b[32mModel\u001b[0m\u001b[32m L2V3\u001b[0m\u001b[32m>\u001b[0m\u001b[32m'\u001b[0m                                \u001b]8;id=593080;file:///home/mkoenig/git/sbmlutils/src/sbmlutils/factory.py\u001b\\\u001b[2mfactory.py\u001b[0m\u001b]8;;\u001b\\\u001b[2m:436\u001b[0m\n"
      ]
     },
     "metadata": {},
     "output_type": "display_data"
    },
    {
     "data": {
      "text/html": [
       "<pre style=\"white-space:pre;overflow-x:auto;line-height:normal;font-family:Menlo,'DejaVu Sans Mono',consolas,'Courier New',monospace\"><span style=\"color: #000080; text-decoration-color: #000080\">INFO    </span> <span style=\"color: #008000; text-decoration-color: #008000\">'length'</span> should be set in <span style=\"color: #008000; text-decoration-color: #008000\">'model_units'</span>.                              <a href=\"file:///home/mkoenig/git/sbmlutils/src/sbmlutils/factory.py\"><span style=\"color: #7f7f7f; text-decoration-color: #7f7f7f\">factory.py</span></a><span style=\"color: #7f7f7f; text-decoration-color: #7f7f7f\">:268</span>\n",
       "</pre>\n"
      ],
      "text/plain": [
       "\u001b[34mINFO    \u001b[0m \u001b[32m'length'\u001b[0m should be set in \u001b[32m'model_units'\u001b[0m.                              \u001b]8;id=688343;file:///home/mkoenig/git/sbmlutils/src/sbmlutils/factory.py\u001b\\\u001b[2mfactory.py\u001b[0m\u001b]8;;\u001b\\\u001b[2m:268\u001b[0m\n"
      ]
     },
     "metadata": {},
     "output_type": "display_data"
    },
    {
     "data": {
      "text/html": [
       "<pre style=\"white-space:pre;overflow-x:auto;line-height:normal;font-family:Menlo,'DejaVu Sans Mono',consolas,'Courier New',monospace\"><span style=\"color: #000080; text-decoration-color: #000080\">INFO    </span> <span style=\"color: #008000; text-decoration-color: #008000\">'area'</span> should be set in <span style=\"color: #008000; text-decoration-color: #008000\">'model_units'</span>.                                <a href=\"file:///home/mkoenig/git/sbmlutils/src/sbmlutils/factory.py\"><span style=\"color: #7f7f7f; text-decoration-color: #7f7f7f\">factory.py</span></a><span style=\"color: #7f7f7f; text-decoration-color: #7f7f7f\">:268</span>\n",
       "</pre>\n"
      ],
      "text/plain": [
       "\u001b[34mINFO    \u001b[0m \u001b[32m'area'\u001b[0m should be set in \u001b[32m'model_units'\u001b[0m.                                \u001b]8;id=974199;file:///home/mkoenig/git/sbmlutils/src/sbmlutils/factory.py\u001b\\\u001b[2mfactory.py\u001b[0m\u001b]8;;\u001b\\\u001b[2m:268\u001b[0m\n"
      ]
     },
     "metadata": {},
     "output_type": "display_data"
    },
    {
     "data": {
      "text/html": [
       "<pre style=\"white-space:pre;overflow-x:auto;line-height:normal;font-family:Menlo,'DejaVu Sans Mono',consolas,'Courier New',monospace\"><span style=\"color: #800000; text-decoration-color: #800000\">WARNING </span> <span style=\"color: #008000; text-decoration-color: #008000\">'name'</span> should be set on <span style=\"color: #008000; text-decoration-color: #008000\">'&lt;Parameter k1&gt;'</span>                              <a href=\"file:///home/mkoenig/git/sbmlutils/src/sbmlutils/factory.py\"><span style=\"color: #7f7f7f; text-decoration-color: #7f7f7f\">factory.py</span></a><span style=\"color: #7f7f7f; text-decoration-color: #7f7f7f\">:436</span>\n",
       "</pre>\n"
      ],
      "text/plain": [
       "\u001b[31mWARNING \u001b[0m \u001b[32m'name'\u001b[0m should be set on \u001b[32m'\u001b[0m\u001b[32m<\u001b[0m\u001b[32mParameter\u001b[0m\u001b[32m k1\u001b[0m\u001b[32m>\u001b[0m\u001b[32m'\u001b[0m                              \u001b]8;id=961158;file:///home/mkoenig/git/sbmlutils/src/sbmlutils/factory.py\u001b\\\u001b[2mfactory.py\u001b[0m\u001b]8;;\u001b\\\u001b[2m:436\u001b[0m\n"
      ]
     },
     "metadata": {},
     "output_type": "display_data"
    },
    {
     "data": {
      "text/html": [
       "<pre style=\"white-space:pre;overflow-x:auto;line-height:normal;font-family:Menlo,'DejaVu Sans Mono',consolas,'Courier New',monospace\"><span style=\"color: #800000; text-decoration-color: #800000\">WARNING </span> <span style=\"color: #008000; text-decoration-color: #008000\">'sboTerm'</span> should be set on <span style=\"color: #008000; text-decoration-color: #008000\">'&lt;Parameter k1&gt;'</span>                           <a href=\"file:///home/mkoenig/git/sbmlutils/src/sbmlutils/factory.py\"><span style=\"color: #7f7f7f; text-decoration-color: #7f7f7f\">factory.py</span></a><span style=\"color: #7f7f7f; text-decoration-color: #7f7f7f\">:461</span>\n",
       "</pre>\n"
      ],
      "text/plain": [
       "\u001b[31mWARNING \u001b[0m \u001b[32m'sboTerm'\u001b[0m should be set on \u001b[32m'\u001b[0m\u001b[32m<\u001b[0m\u001b[32mParameter\u001b[0m\u001b[32m k1\u001b[0m\u001b[32m>\u001b[0m\u001b[32m'\u001b[0m                           \u001b]8;id=168698;file:///home/mkoenig/git/sbmlutils/src/sbmlutils/factory.py\u001b\\\u001b[2mfactory.py\u001b[0m\u001b]8;;\u001b\\\u001b[2m:461\u001b[0m\n"
      ]
     },
     "metadata": {},
     "output_type": "display_data"
    },
    {
     "data": {
      "text/html": [
       "<pre style=\"white-space:pre;overflow-x:auto;line-height:normal;font-family:Menlo,'DejaVu Sans Mono',consolas,'Courier New',monospace\"><span style=\"color: #800000; text-decoration-color: #800000\">WARNING </span> <span style=\"color: #008000; text-decoration-color: #008000\">'name'</span> should be set on <span style=\"color: #008000; text-decoration-color: #008000\">'&lt;Compartment C&gt;'</span>                             <a href=\"file:///home/mkoenig/git/sbmlutils/src/sbmlutils/factory.py\"><span style=\"color: #7f7f7f; text-decoration-color: #7f7f7f\">factory.py</span></a><span style=\"color: #7f7f7f; text-decoration-color: #7f7f7f\">:436</span>\n",
       "</pre>\n"
      ],
      "text/plain": [
       "\u001b[31mWARNING \u001b[0m \u001b[32m'name'\u001b[0m should be set on \u001b[32m'\u001b[0m\u001b[32m<\u001b[0m\u001b[32mCompartment\u001b[0m\u001b[32m C\u001b[0m\u001b[32m>\u001b[0m\u001b[32m'\u001b[0m                             \u001b]8;id=935474;file:///home/mkoenig/git/sbmlutils/src/sbmlutils/factory.py\u001b\\\u001b[2mfactory.py\u001b[0m\u001b]8;;\u001b\\\u001b[2m:436\u001b[0m\n"
      ]
     },
     "metadata": {},
     "output_type": "display_data"
    },
    {
     "data": {
      "text/html": [
       "<pre style=\"white-space:pre;overflow-x:auto;line-height:normal;font-family:Menlo,'DejaVu Sans Mono',consolas,'Courier New',monospace\"><span style=\"color: #800000; text-decoration-color: #800000\">WARNING </span> <span style=\"color: #008000; text-decoration-color: #008000\">'sboTerm'</span> should be set on <span style=\"color: #008000; text-decoration-color: #008000\">'&lt;Compartment C&gt;'</span>                          <a href=\"file:///home/mkoenig/git/sbmlutils/src/sbmlutils/factory.py\"><span style=\"color: #7f7f7f; text-decoration-color: #7f7f7f\">factory.py</span></a><span style=\"color: #7f7f7f; text-decoration-color: #7f7f7f\">:461</span>\n",
       "</pre>\n"
      ],
      "text/plain": [
       "\u001b[31mWARNING \u001b[0m \u001b[32m'sboTerm'\u001b[0m should be set on \u001b[32m'\u001b[0m\u001b[32m<\u001b[0m\u001b[32mCompartment\u001b[0m\u001b[32m C\u001b[0m\u001b[32m>\u001b[0m\u001b[32m'\u001b[0m                          \u001b]8;id=284015;file:///home/mkoenig/git/sbmlutils/src/sbmlutils/factory.py\u001b\\\u001b[2mfactory.py\u001b[0m\u001b]8;;\u001b\\\u001b[2m:461\u001b[0m\n"
      ]
     },
     "metadata": {},
     "output_type": "display_data"
    },
    {
     "data": {
      "text/html": [
       "<pre style=\"white-space:pre;overflow-x:auto;line-height:normal;font-family:Menlo,'DejaVu Sans Mono',consolas,'Courier New',monospace\"><span style=\"color: #800000; text-decoration-color: #800000\">WARNING </span> <span style=\"color: #008000; text-decoration-color: #008000\">'name'</span> should be set on <span style=\"color: #008000; text-decoration-color: #008000\">'&lt;Species S1&gt;'</span>                                <a href=\"file:///home/mkoenig/git/sbmlutils/src/sbmlutils/factory.py\"><span style=\"color: #7f7f7f; text-decoration-color: #7f7f7f\">factory.py</span></a><span style=\"color: #7f7f7f; text-decoration-color: #7f7f7f\">:436</span>\n",
       "</pre>\n"
      ],
      "text/plain": [
       "\u001b[31mWARNING \u001b[0m \u001b[32m'name'\u001b[0m should be set on \u001b[32m'\u001b[0m\u001b[32m<\u001b[0m\u001b[32mSpecies\u001b[0m\u001b[32m S1\u001b[0m\u001b[32m>\u001b[0m\u001b[32m'\u001b[0m                                \u001b]8;id=693854;file:///home/mkoenig/git/sbmlutils/src/sbmlutils/factory.py\u001b\\\u001b[2mfactory.py\u001b[0m\u001b]8;;\u001b\\\u001b[2m:436\u001b[0m\n"
      ]
     },
     "metadata": {},
     "output_type": "display_data"
    },
    {
     "data": {
      "text/html": [
       "<pre style=\"white-space:pre;overflow-x:auto;line-height:normal;font-family:Menlo,'DejaVu Sans Mono',consolas,'Courier New',monospace\"><span style=\"color: #800000; text-decoration-color: #800000\">WARNING </span> <span style=\"color: #008000; text-decoration-color: #008000\">'sboTerm'</span> should be set on <span style=\"color: #008000; text-decoration-color: #008000\">'&lt;Species S1&gt;'</span>                             <a href=\"file:///home/mkoenig/git/sbmlutils/src/sbmlutils/factory.py\"><span style=\"color: #7f7f7f; text-decoration-color: #7f7f7f\">factory.py</span></a><span style=\"color: #7f7f7f; text-decoration-color: #7f7f7f\">:461</span>\n",
       "</pre>\n"
      ],
      "text/plain": [
       "\u001b[31mWARNING \u001b[0m \u001b[32m'sboTerm'\u001b[0m should be set on \u001b[32m'\u001b[0m\u001b[32m<\u001b[0m\u001b[32mSpecies\u001b[0m\u001b[32m S1\u001b[0m\u001b[32m>\u001b[0m\u001b[32m'\u001b[0m                             \u001b]8;id=315878;file:///home/mkoenig/git/sbmlutils/src/sbmlutils/factory.py\u001b\\\u001b[2mfactory.py\u001b[0m\u001b]8;;\u001b\\\u001b[2m:461\u001b[0m\n"
      ]
     },
     "metadata": {},
     "output_type": "display_data"
    },
    {
     "data": {
      "text/html": [
       "<pre style=\"white-space:pre;overflow-x:auto;line-height:normal;font-family:Menlo,'DejaVu Sans Mono',consolas,'Courier New',monospace\"><span style=\"color: #800000; text-decoration-color: #800000\">WARNING </span> <span style=\"color: #008000; text-decoration-color: #008000\">'name'</span> should be set on <span style=\"color: #008000; text-decoration-color: #008000\">'&lt;Reaction R1&gt;'</span>                               <a href=\"file:///home/mkoenig/git/sbmlutils/src/sbmlutils/factory.py\"><span style=\"color: #7f7f7f; text-decoration-color: #7f7f7f\">factory.py</span></a><span style=\"color: #7f7f7f; text-decoration-color: #7f7f7f\">:436</span>\n",
       "</pre>\n"
      ],
      "text/plain": [
       "\u001b[31mWARNING \u001b[0m \u001b[32m'name'\u001b[0m should be set on \u001b[32m'\u001b[0m\u001b[32m<\u001b[0m\u001b[32mReaction\u001b[0m\u001b[32m R1\u001b[0m\u001b[32m>\u001b[0m\u001b[32m'\u001b[0m                               \u001b]8;id=514231;file:///home/mkoenig/git/sbmlutils/src/sbmlutils/factory.py\u001b\\\u001b[2mfactory.py\u001b[0m\u001b]8;;\u001b\\\u001b[2m:436\u001b[0m\n"
      ]
     },
     "metadata": {},
     "output_type": "display_data"
    },
    {
     "data": {
      "text/html": [
       "<pre style=\"white-space:pre;overflow-x:auto;line-height:normal;font-family:Menlo,'DejaVu Sans Mono',consolas,'Courier New',monospace\"><span style=\"color: #800000; text-decoration-color: #800000\">WARNING </span> <span style=\"color: #008000; text-decoration-color: #008000\">'sboTerm'</span> should be set on <span style=\"color: #008000; text-decoration-color: #008000\">'&lt;Reaction R1&gt;'</span>                            <a href=\"file:///home/mkoenig/git/sbmlutils/src/sbmlutils/factory.py\"><span style=\"color: #7f7f7f; text-decoration-color: #7f7f7f\">factory.py</span></a><span style=\"color: #7f7f7f; text-decoration-color: #7f7f7f\">:461</span>\n",
       "</pre>\n"
      ],
      "text/plain": [
       "\u001b[31mWARNING \u001b[0m \u001b[32m'sboTerm'\u001b[0m should be set on \u001b[32m'\u001b[0m\u001b[32m<\u001b[0m\u001b[32mReaction\u001b[0m\u001b[32m R1\u001b[0m\u001b[32m>\u001b[0m\u001b[32m'\u001b[0m                            \u001b]8;id=168309;file:///home/mkoenig/git/sbmlutils/src/sbmlutils/factory.py\u001b\\\u001b[2mfactory.py\u001b[0m\u001b]8;;\u001b\\\u001b[2m:461\u001b[0m\n"
      ]
     },
     "metadata": {},
     "output_type": "display_data"
    },
    {
     "data": {
      "text/html": [
       "<pre style=\"white-space:pre;overflow-x:auto;line-height:normal;font-family:Menlo,'DejaVu Sans Mono',consolas,'Courier New',monospace\">\n",
       "</pre>\n"
      ],
      "text/plain": [
       "\n"
      ]
     },
     "metadata": {},
     "output_type": "display_data"
    },
    {
     "data": {
      "text/html": [
       "<pre style=\"white-space:pre;overflow-x:auto;line-height:normal;font-family:Menlo,'DejaVu Sans Mono',consolas,'Courier New',monospace\"><span style=\"color: #008000; text-decoration-color: #008000\">─────────────────────────────────────── </span>Validate SBML<span style=\"color: #008000; text-decoration-color: #008000\"> ───────────────────────────────────────</span>\n",
       "</pre>\n"
      ],
      "text/plain": [
       "\u001b[32m─────────────────────────────────────── \u001b[0mValidate SBML\u001b[32m ───────────────────────────────────────\u001b[0m\n"
      ]
     },
     "metadata": {},
     "output_type": "display_data"
    },
    {
     "data": {
      "text/html": [
       "<pre style=\"white-space:pre;overflow-x:auto;line-height:normal;font-family:Menlo,'DejaVu Sans Mono',consolas,'Courier New',monospace\"><span style=\"color: #008000; text-decoration-color: #008000\">file:</span><span style=\"color: #800080; text-decoration-color: #800080\">///tmp/tmpl7mf7is8/</span><span style=\"color: #ff00ff; text-decoration-color: #ff00ff\">L2V3.xml</span>\n",
       "<span style=\"color: #008000; text-decoration-color: #008000\">valid                    : TRUE</span>\n",
       "<span style=\"color: #008000; text-decoration-color: #008000\">check time </span><span style=\"color: #008000; text-decoration-color: #008000; font-weight: bold\">(</span><span style=\"color: #008000; text-decoration-color: #008000\">s</span><span style=\"color: #008000; text-decoration-color: #008000; font-weight: bold\">)</span><span style=\"color: #008000; text-decoration-color: #008000\">           : </span><span style=\"color: #008080; text-decoration-color: #008080; font-weight: bold\">0.001</span>\n",
       "</pre>\n"
      ],
      "text/plain": [
       "\u001b[32mfile:\u001b[0m\u001b[35m/\u001b[0m\u001b[35m/\u001b[0m\u001b[35m/tmp/tmpl7mf7is8/\u001b[0m\u001b[95mL2V3.xml\u001b[0m\n",
       "\u001b[32mvalid                    : TRUE\u001b[0m\n",
       "\u001b[32mcheck time \u001b[0m\u001b[1;32m(\u001b[0m\u001b[32ms\u001b[0m\u001b[1;32m)\u001b[0m\u001b[32m           : \u001b[0m\u001b[1;36m0.001\u001b[0m\n"
      ]
     },
     "metadata": {},
     "output_type": "display_data"
    },
    {
     "data": {
      "text/html": [
       "<pre style=\"white-space:pre;overflow-x:auto;line-height:normal;font-family:Menlo,'DejaVu Sans Mono',consolas,'Courier New',monospace\"><span style=\"color: #008000; text-decoration-color: #008000\">─────────────────────────────────────────────────────────────────────────────────────────────</span>\n",
       "</pre>\n"
      ],
      "text/plain": [
       "\u001b[32m─────────────────────────────────────────────────────────────────────────────────────────────\u001b[0m\n"
      ]
     },
     "metadata": {},
     "output_type": "display_data"
    },
    {
     "data": {
      "text/html": [
       "<pre style=\"white-space:pre;overflow-x:auto;line-height:normal;font-family:Menlo,'DejaVu Sans Mono',consolas,'Courier New',monospace\">\n",
       "</pre>\n"
      ],
      "text/plain": [
       "\n"
      ]
     },
     "metadata": {},
     "output_type": "display_data"
    },
    {
     "data": {
      "text/html": [
       "<pre style=\"white-space:pre;overflow-x:auto;line-height:normal;font-family:Menlo,'DejaVu Sans Mono',consolas,'Courier New',monospace\"><span style=\"color: #000080; text-decoration-color: #000080\">INFO    </span> No support for <span style=\"color: #008000; text-decoration-color: #008000\">'create_report'</span> in sbmlutils-v0.<span style=\"color: #008080; text-decoration-color: #008080; font-weight: bold\">5.7</span>.                 <a href=\"file:///home/mkoenig/git/sbmlutils/src/sbmlutils/report/sbmlreport.py\"><span style=\"color: #7f7f7f; text-decoration-color: #7f7f7f\">sbmlreport.py</span></a><span style=\"color: #7f7f7f; text-decoration-color: #7f7f7f\">:41</span>\n",
       "</pre>\n"
      ],
      "text/plain": [
       "\u001b[34mINFO    \u001b[0m No support for \u001b[32m'create_report'\u001b[0m in sbmlutils-v0.\u001b[1;36m5.7\u001b[0m.                 \u001b]8;id=342869;file:///home/mkoenig/git/sbmlutils/src/sbmlutils/report/sbmlreport.py\u001b\\\u001b[2msbmlreport.py\u001b[0m\u001b]8;;\u001b\\\u001b[2m:41\u001b[0m\n"
      ]
     },
     "metadata": {},
     "output_type": "display_data"
    },
    {
     "data": {
      "text/html": [
       "<pre style=\"white-space:pre;overflow-x:auto;line-height:normal;font-family:Menlo,'DejaVu Sans Mono',consolas,'Courier New',monospace\"><span style=\"color: #c0c0c0; text-decoration-color: #c0c0c0\">─────────────────────────────────────────────────────────────────────────────────────────────</span>\n",
       "</pre>\n"
      ],
      "text/plain": [
       "\u001b[37m─────────────────────────────────────────────────────────────────────────────────────────────\u001b[0m\n"
      ]
     },
     "metadata": {},
     "output_type": "display_data"
    },
    {
     "name": "stdout",
     "output_type": "stream",
     "text": [
      "L2V3\n"
     ]
    },
    {
     "data": {
      "text/html": [
       "<pre style=\"white-space:pre;overflow-x:auto;line-height:normal;font-family:Menlo,'DejaVu Sans Mono',consolas,'Courier New',monospace\"><span style=\"color: #c0c0c0; text-decoration-color: #c0c0c0\">──────────────────────────────────────── </span>Create SBML<span style=\"color: #c0c0c0; text-decoration-color: #c0c0c0\"> ────────────────────────────────────────</span>\n",
       "</pre>\n"
      ],
      "text/plain": [
       "\u001b[37m──────────────────────────────────────── \u001b[0mCreate SBML\u001b[37m ────────────────────────────────────────\u001b[0m\n"
      ]
     },
     "metadata": {},
     "output_type": "display_data"
    },
    {
     "data": {
      "text/html": [
       "<pre style=\"white-space:pre;overflow-x:auto;line-height:normal;font-family:Menlo,'DejaVu Sans Mono',consolas,'Courier New',monospace\"><span style=\"color: #000080; text-decoration-color: #000080\">INFO    </span> Create SBML for model <span style=\"color: #008000; text-decoration-color: #008000\">'L2V4'</span>                                         <a href=\"file:///home/mkoenig/git/sbmlutils/src/sbmlutils/factory.py\"><span style=\"color: #7f7f7f; text-decoration-color: #7f7f7f\">factory.py</span></a><span style=\"color: #7f7f7f; text-decoration-color: #7f7f7f\">:2896</span>\n",
       "</pre>\n"
      ],
      "text/plain": [
       "\u001b[34mINFO    \u001b[0m Create SBML for model \u001b[32m'L2V4'\u001b[0m                                         \u001b]8;id=557189;file:///home/mkoenig/git/sbmlutils/src/sbmlutils/factory.py\u001b\\\u001b[2mfactory.py\u001b[0m\u001b]8;;\u001b\\\u001b[2m:2896\u001b[0m\n"
      ]
     },
     "metadata": {},
     "output_type": "display_data"
    },
    {
     "data": {
      "text/html": [
       "<pre style=\"white-space:pre;overflow-x:auto;line-height:normal;font-family:Menlo,'DejaVu Sans Mono',consolas,'Courier New',monospace\"><span style=\"color: #800000; text-decoration-color: #800000\">WARNING </span> <span style=\"color: #008000; text-decoration-color: #008000\">'name'</span> should be set on <span style=\"color: #008000; text-decoration-color: #008000\">'&lt;Model L2V4&gt;'</span>                                <a href=\"file:///home/mkoenig/git/sbmlutils/src/sbmlutils/factory.py\"><span style=\"color: #7f7f7f; text-decoration-color: #7f7f7f\">factory.py</span></a><span style=\"color: #7f7f7f; text-decoration-color: #7f7f7f\">:436</span>\n",
       "</pre>\n"
      ],
      "text/plain": [
       "\u001b[31mWARNING \u001b[0m \u001b[32m'name'\u001b[0m should be set on \u001b[32m'\u001b[0m\u001b[32m<\u001b[0m\u001b[32mModel\u001b[0m\u001b[32m L2V4\u001b[0m\u001b[32m>\u001b[0m\u001b[32m'\u001b[0m                                \u001b]8;id=56441;file:///home/mkoenig/git/sbmlutils/src/sbmlutils/factory.py\u001b\\\u001b[2mfactory.py\u001b[0m\u001b]8;;\u001b\\\u001b[2m:436\u001b[0m\n"
      ]
     },
     "metadata": {},
     "output_type": "display_data"
    },
    {
     "data": {
      "text/html": [
       "<pre style=\"white-space:pre;overflow-x:auto;line-height:normal;font-family:Menlo,'DejaVu Sans Mono',consolas,'Courier New',monospace\"><span style=\"color: #000080; text-decoration-color: #000080\">INFO    </span> <span style=\"color: #008000; text-decoration-color: #008000\">'length'</span> should be set in <span style=\"color: #008000; text-decoration-color: #008000\">'model_units'</span>.                              <a href=\"file:///home/mkoenig/git/sbmlutils/src/sbmlutils/factory.py\"><span style=\"color: #7f7f7f; text-decoration-color: #7f7f7f\">factory.py</span></a><span style=\"color: #7f7f7f; text-decoration-color: #7f7f7f\">:268</span>\n",
       "</pre>\n"
      ],
      "text/plain": [
       "\u001b[34mINFO    \u001b[0m \u001b[32m'length'\u001b[0m should be set in \u001b[32m'model_units'\u001b[0m.                              \u001b]8;id=138709;file:///home/mkoenig/git/sbmlutils/src/sbmlutils/factory.py\u001b\\\u001b[2mfactory.py\u001b[0m\u001b]8;;\u001b\\\u001b[2m:268\u001b[0m\n"
      ]
     },
     "metadata": {},
     "output_type": "display_data"
    },
    {
     "data": {
      "text/html": [
       "<pre style=\"white-space:pre;overflow-x:auto;line-height:normal;font-family:Menlo,'DejaVu Sans Mono',consolas,'Courier New',monospace\"><span style=\"color: #000080; text-decoration-color: #000080\">INFO    </span> <span style=\"color: #008000; text-decoration-color: #008000\">'area'</span> should be set in <span style=\"color: #008000; text-decoration-color: #008000\">'model_units'</span>.                                <a href=\"file:///home/mkoenig/git/sbmlutils/src/sbmlutils/factory.py\"><span style=\"color: #7f7f7f; text-decoration-color: #7f7f7f\">factory.py</span></a><span style=\"color: #7f7f7f; text-decoration-color: #7f7f7f\">:268</span>\n",
       "</pre>\n"
      ],
      "text/plain": [
       "\u001b[34mINFO    \u001b[0m \u001b[32m'area'\u001b[0m should be set in \u001b[32m'model_units'\u001b[0m.                                \u001b]8;id=910384;file:///home/mkoenig/git/sbmlutils/src/sbmlutils/factory.py\u001b\\\u001b[2mfactory.py\u001b[0m\u001b]8;;\u001b\\\u001b[2m:268\u001b[0m\n"
      ]
     },
     "metadata": {},
     "output_type": "display_data"
    },
    {
     "data": {
      "text/html": [
       "<pre style=\"white-space:pre;overflow-x:auto;line-height:normal;font-family:Menlo,'DejaVu Sans Mono',consolas,'Courier New',monospace\"><span style=\"color: #800000; text-decoration-color: #800000\">WARNING </span> <span style=\"color: #008000; text-decoration-color: #008000\">'name'</span> should be set on <span style=\"color: #008000; text-decoration-color: #008000\">'&lt;Parameter k1&gt;'</span>                              <a href=\"file:///home/mkoenig/git/sbmlutils/src/sbmlutils/factory.py\"><span style=\"color: #7f7f7f; text-decoration-color: #7f7f7f\">factory.py</span></a><span style=\"color: #7f7f7f; text-decoration-color: #7f7f7f\">:436</span>\n",
       "</pre>\n"
      ],
      "text/plain": [
       "\u001b[31mWARNING \u001b[0m \u001b[32m'name'\u001b[0m should be set on \u001b[32m'\u001b[0m\u001b[32m<\u001b[0m\u001b[32mParameter\u001b[0m\u001b[32m k1\u001b[0m\u001b[32m>\u001b[0m\u001b[32m'\u001b[0m                              \u001b]8;id=59622;file:///home/mkoenig/git/sbmlutils/src/sbmlutils/factory.py\u001b\\\u001b[2mfactory.py\u001b[0m\u001b]8;;\u001b\\\u001b[2m:436\u001b[0m\n"
      ]
     },
     "metadata": {},
     "output_type": "display_data"
    },
    {
     "data": {
      "text/html": [
       "<pre style=\"white-space:pre;overflow-x:auto;line-height:normal;font-family:Menlo,'DejaVu Sans Mono',consolas,'Courier New',monospace\"><span style=\"color: #800000; text-decoration-color: #800000\">WARNING </span> <span style=\"color: #008000; text-decoration-color: #008000\">'sboTerm'</span> should be set on <span style=\"color: #008000; text-decoration-color: #008000\">'&lt;Parameter k1&gt;'</span>                           <a href=\"file:///home/mkoenig/git/sbmlutils/src/sbmlutils/factory.py\"><span style=\"color: #7f7f7f; text-decoration-color: #7f7f7f\">factory.py</span></a><span style=\"color: #7f7f7f; text-decoration-color: #7f7f7f\">:461</span>\n",
       "</pre>\n"
      ],
      "text/plain": [
       "\u001b[31mWARNING \u001b[0m \u001b[32m'sboTerm'\u001b[0m should be set on \u001b[32m'\u001b[0m\u001b[32m<\u001b[0m\u001b[32mParameter\u001b[0m\u001b[32m k1\u001b[0m\u001b[32m>\u001b[0m\u001b[32m'\u001b[0m                           \u001b]8;id=156404;file:///home/mkoenig/git/sbmlutils/src/sbmlutils/factory.py\u001b\\\u001b[2mfactory.py\u001b[0m\u001b]8;;\u001b\\\u001b[2m:461\u001b[0m\n"
      ]
     },
     "metadata": {},
     "output_type": "display_data"
    },
    {
     "data": {
      "text/html": [
       "<pre style=\"white-space:pre;overflow-x:auto;line-height:normal;font-family:Menlo,'DejaVu Sans Mono',consolas,'Courier New',monospace\"><span style=\"color: #800000; text-decoration-color: #800000\">WARNING </span> <span style=\"color: #008000; text-decoration-color: #008000\">'name'</span> should be set on <span style=\"color: #008000; text-decoration-color: #008000\">'&lt;Compartment C&gt;'</span>                             <a href=\"file:///home/mkoenig/git/sbmlutils/src/sbmlutils/factory.py\"><span style=\"color: #7f7f7f; text-decoration-color: #7f7f7f\">factory.py</span></a><span style=\"color: #7f7f7f; text-decoration-color: #7f7f7f\">:436</span>\n",
       "</pre>\n"
      ],
      "text/plain": [
       "\u001b[31mWARNING \u001b[0m \u001b[32m'name'\u001b[0m should be set on \u001b[32m'\u001b[0m\u001b[32m<\u001b[0m\u001b[32mCompartment\u001b[0m\u001b[32m C\u001b[0m\u001b[32m>\u001b[0m\u001b[32m'\u001b[0m                             \u001b]8;id=106150;file:///home/mkoenig/git/sbmlutils/src/sbmlutils/factory.py\u001b\\\u001b[2mfactory.py\u001b[0m\u001b]8;;\u001b\\\u001b[2m:436\u001b[0m\n"
      ]
     },
     "metadata": {},
     "output_type": "display_data"
    },
    {
     "data": {
      "text/html": [
       "<pre style=\"white-space:pre;overflow-x:auto;line-height:normal;font-family:Menlo,'DejaVu Sans Mono',consolas,'Courier New',monospace\"><span style=\"color: #800000; text-decoration-color: #800000\">WARNING </span> <span style=\"color: #008000; text-decoration-color: #008000\">'sboTerm'</span> should be set on <span style=\"color: #008000; text-decoration-color: #008000\">'&lt;Compartment C&gt;'</span>                          <a href=\"file:///home/mkoenig/git/sbmlutils/src/sbmlutils/factory.py\"><span style=\"color: #7f7f7f; text-decoration-color: #7f7f7f\">factory.py</span></a><span style=\"color: #7f7f7f; text-decoration-color: #7f7f7f\">:461</span>\n",
       "</pre>\n"
      ],
      "text/plain": [
       "\u001b[31mWARNING \u001b[0m \u001b[32m'sboTerm'\u001b[0m should be set on \u001b[32m'\u001b[0m\u001b[32m<\u001b[0m\u001b[32mCompartment\u001b[0m\u001b[32m C\u001b[0m\u001b[32m>\u001b[0m\u001b[32m'\u001b[0m                          \u001b]8;id=151730;file:///home/mkoenig/git/sbmlutils/src/sbmlutils/factory.py\u001b\\\u001b[2mfactory.py\u001b[0m\u001b]8;;\u001b\\\u001b[2m:461\u001b[0m\n"
      ]
     },
     "metadata": {},
     "output_type": "display_data"
    },
    {
     "data": {
      "text/html": [
       "<pre style=\"white-space:pre;overflow-x:auto;line-height:normal;font-family:Menlo,'DejaVu Sans Mono',consolas,'Courier New',monospace\"><span style=\"color: #800000; text-decoration-color: #800000\">WARNING </span> <span style=\"color: #008000; text-decoration-color: #008000\">'name'</span> should be set on <span style=\"color: #008000; text-decoration-color: #008000\">'&lt;Species S1&gt;'</span>                                <a href=\"file:///home/mkoenig/git/sbmlutils/src/sbmlutils/factory.py\"><span style=\"color: #7f7f7f; text-decoration-color: #7f7f7f\">factory.py</span></a><span style=\"color: #7f7f7f; text-decoration-color: #7f7f7f\">:436</span>\n",
       "</pre>\n"
      ],
      "text/plain": [
       "\u001b[31mWARNING \u001b[0m \u001b[32m'name'\u001b[0m should be set on \u001b[32m'\u001b[0m\u001b[32m<\u001b[0m\u001b[32mSpecies\u001b[0m\u001b[32m S1\u001b[0m\u001b[32m>\u001b[0m\u001b[32m'\u001b[0m                                \u001b]8;id=809412;file:///home/mkoenig/git/sbmlutils/src/sbmlutils/factory.py\u001b\\\u001b[2mfactory.py\u001b[0m\u001b]8;;\u001b\\\u001b[2m:436\u001b[0m\n"
      ]
     },
     "metadata": {},
     "output_type": "display_data"
    },
    {
     "data": {
      "text/html": [
       "<pre style=\"white-space:pre;overflow-x:auto;line-height:normal;font-family:Menlo,'DejaVu Sans Mono',consolas,'Courier New',monospace\"><span style=\"color: #800000; text-decoration-color: #800000\">WARNING </span> <span style=\"color: #008000; text-decoration-color: #008000\">'sboTerm'</span> should be set on <span style=\"color: #008000; text-decoration-color: #008000\">'&lt;Species S1&gt;'</span>                             <a href=\"file:///home/mkoenig/git/sbmlutils/src/sbmlutils/factory.py\"><span style=\"color: #7f7f7f; text-decoration-color: #7f7f7f\">factory.py</span></a><span style=\"color: #7f7f7f; text-decoration-color: #7f7f7f\">:461</span>\n",
       "</pre>\n"
      ],
      "text/plain": [
       "\u001b[31mWARNING \u001b[0m \u001b[32m'sboTerm'\u001b[0m should be set on \u001b[32m'\u001b[0m\u001b[32m<\u001b[0m\u001b[32mSpecies\u001b[0m\u001b[32m S1\u001b[0m\u001b[32m>\u001b[0m\u001b[32m'\u001b[0m                             \u001b]8;id=913846;file:///home/mkoenig/git/sbmlutils/src/sbmlutils/factory.py\u001b\\\u001b[2mfactory.py\u001b[0m\u001b]8;;\u001b\\\u001b[2m:461\u001b[0m\n"
      ]
     },
     "metadata": {},
     "output_type": "display_data"
    },
    {
     "data": {
      "text/html": [
       "<pre style=\"white-space:pre;overflow-x:auto;line-height:normal;font-family:Menlo,'DejaVu Sans Mono',consolas,'Courier New',monospace\"><span style=\"color: #800000; text-decoration-color: #800000\">WARNING </span> <span style=\"color: #008000; text-decoration-color: #008000\">'name'</span> should be set on <span style=\"color: #008000; text-decoration-color: #008000\">'&lt;Reaction R1&gt;'</span>                               <a href=\"file:///home/mkoenig/git/sbmlutils/src/sbmlutils/factory.py\"><span style=\"color: #7f7f7f; text-decoration-color: #7f7f7f\">factory.py</span></a><span style=\"color: #7f7f7f; text-decoration-color: #7f7f7f\">:436</span>\n",
       "</pre>\n"
      ],
      "text/plain": [
       "\u001b[31mWARNING \u001b[0m \u001b[32m'name'\u001b[0m should be set on \u001b[32m'\u001b[0m\u001b[32m<\u001b[0m\u001b[32mReaction\u001b[0m\u001b[32m R1\u001b[0m\u001b[32m>\u001b[0m\u001b[32m'\u001b[0m                               \u001b]8;id=900276;file:///home/mkoenig/git/sbmlutils/src/sbmlutils/factory.py\u001b\\\u001b[2mfactory.py\u001b[0m\u001b]8;;\u001b\\\u001b[2m:436\u001b[0m\n"
      ]
     },
     "metadata": {},
     "output_type": "display_data"
    },
    {
     "data": {
      "text/html": [
       "<pre style=\"white-space:pre;overflow-x:auto;line-height:normal;font-family:Menlo,'DejaVu Sans Mono',consolas,'Courier New',monospace\"><span style=\"color: #800000; text-decoration-color: #800000\">WARNING </span> <span style=\"color: #008000; text-decoration-color: #008000\">'sboTerm'</span> should be set on <span style=\"color: #008000; text-decoration-color: #008000\">'&lt;Reaction R1&gt;'</span>                            <a href=\"file:///home/mkoenig/git/sbmlutils/src/sbmlutils/factory.py\"><span style=\"color: #7f7f7f; text-decoration-color: #7f7f7f\">factory.py</span></a><span style=\"color: #7f7f7f; text-decoration-color: #7f7f7f\">:461</span>\n",
       "</pre>\n"
      ],
      "text/plain": [
       "\u001b[31mWARNING \u001b[0m \u001b[32m'sboTerm'\u001b[0m should be set on \u001b[32m'\u001b[0m\u001b[32m<\u001b[0m\u001b[32mReaction\u001b[0m\u001b[32m R1\u001b[0m\u001b[32m>\u001b[0m\u001b[32m'\u001b[0m                            \u001b]8;id=138455;file:///home/mkoenig/git/sbmlutils/src/sbmlutils/factory.py\u001b\\\u001b[2mfactory.py\u001b[0m\u001b]8;;\u001b\\\u001b[2m:461\u001b[0m\n"
      ]
     },
     "metadata": {},
     "output_type": "display_data"
    },
    {
     "data": {
      "text/html": [
       "<pre style=\"white-space:pre;overflow-x:auto;line-height:normal;font-family:Menlo,'DejaVu Sans Mono',consolas,'Courier New',monospace\">\n",
       "</pre>\n"
      ],
      "text/plain": [
       "\n"
      ]
     },
     "metadata": {},
     "output_type": "display_data"
    },
    {
     "data": {
      "text/html": [
       "<pre style=\"white-space:pre;overflow-x:auto;line-height:normal;font-family:Menlo,'DejaVu Sans Mono',consolas,'Courier New',monospace\"><span style=\"color: #008000; text-decoration-color: #008000\">─────────────────────────────────────── </span>Validate SBML<span style=\"color: #008000; text-decoration-color: #008000\"> ───────────────────────────────────────</span>\n",
       "</pre>\n"
      ],
      "text/plain": [
       "\u001b[32m─────────────────────────────────────── \u001b[0mValidate SBML\u001b[32m ───────────────────────────────────────\u001b[0m\n"
      ]
     },
     "metadata": {},
     "output_type": "display_data"
    },
    {
     "data": {
      "text/html": [
       "<pre style=\"white-space:pre;overflow-x:auto;line-height:normal;font-family:Menlo,'DejaVu Sans Mono',consolas,'Courier New',monospace\"><span style=\"color: #008000; text-decoration-color: #008000\">file:</span><span style=\"color: #800080; text-decoration-color: #800080\">///tmp/tmpl7mf7is8/</span><span style=\"color: #ff00ff; text-decoration-color: #ff00ff\">L2V4.xml</span>\n",
       "<span style=\"color: #008000; text-decoration-color: #008000\">valid                    : TRUE</span>\n",
       "<span style=\"color: #008000; text-decoration-color: #008000\">check time </span><span style=\"color: #008000; text-decoration-color: #008000; font-weight: bold\">(</span><span style=\"color: #008000; text-decoration-color: #008000\">s</span><span style=\"color: #008000; text-decoration-color: #008000; font-weight: bold\">)</span><span style=\"color: #008000; text-decoration-color: #008000\">           : </span><span style=\"color: #008080; text-decoration-color: #008080; font-weight: bold\">0.001</span>\n",
       "</pre>\n"
      ],
      "text/plain": [
       "\u001b[32mfile:\u001b[0m\u001b[35m/\u001b[0m\u001b[35m/\u001b[0m\u001b[35m/tmp/tmpl7mf7is8/\u001b[0m\u001b[95mL2V4.xml\u001b[0m\n",
       "\u001b[32mvalid                    : TRUE\u001b[0m\n",
       "\u001b[32mcheck time \u001b[0m\u001b[1;32m(\u001b[0m\u001b[32ms\u001b[0m\u001b[1;32m)\u001b[0m\u001b[32m           : \u001b[0m\u001b[1;36m0.001\u001b[0m\n"
      ]
     },
     "metadata": {},
     "output_type": "display_data"
    },
    {
     "data": {
      "text/html": [
       "<pre style=\"white-space:pre;overflow-x:auto;line-height:normal;font-family:Menlo,'DejaVu Sans Mono',consolas,'Courier New',monospace\"><span style=\"color: #008000; text-decoration-color: #008000\">─────────────────────────────────────────────────────────────────────────────────────────────</span>\n",
       "</pre>\n"
      ],
      "text/plain": [
       "\u001b[32m─────────────────────────────────────────────────────────────────────────────────────────────\u001b[0m\n"
      ]
     },
     "metadata": {},
     "output_type": "display_data"
    },
    {
     "data": {
      "text/html": [
       "<pre style=\"white-space:pre;overflow-x:auto;line-height:normal;font-family:Menlo,'DejaVu Sans Mono',consolas,'Courier New',monospace\">\n",
       "</pre>\n"
      ],
      "text/plain": [
       "\n"
      ]
     },
     "metadata": {},
     "output_type": "display_data"
    },
    {
     "data": {
      "text/html": [
       "<pre style=\"white-space:pre;overflow-x:auto;line-height:normal;font-family:Menlo,'DejaVu Sans Mono',consolas,'Courier New',monospace\"><span style=\"color: #000080; text-decoration-color: #000080\">INFO    </span> No support for <span style=\"color: #008000; text-decoration-color: #008000\">'create_report'</span> in sbmlutils-v0.<span style=\"color: #008080; text-decoration-color: #008080; font-weight: bold\">5.7</span>.                 <a href=\"file:///home/mkoenig/git/sbmlutils/src/sbmlutils/report/sbmlreport.py\"><span style=\"color: #7f7f7f; text-decoration-color: #7f7f7f\">sbmlreport.py</span></a><span style=\"color: #7f7f7f; text-decoration-color: #7f7f7f\">:41</span>\n",
       "</pre>\n"
      ],
      "text/plain": [
       "\u001b[34mINFO    \u001b[0m No support for \u001b[32m'create_report'\u001b[0m in sbmlutils-v0.\u001b[1;36m5.7\u001b[0m.                 \u001b]8;id=696254;file:///home/mkoenig/git/sbmlutils/src/sbmlutils/report/sbmlreport.py\u001b\\\u001b[2msbmlreport.py\u001b[0m\u001b]8;;\u001b\\\u001b[2m:41\u001b[0m\n"
      ]
     },
     "metadata": {},
     "output_type": "display_data"
    },
    {
     "data": {
      "text/html": [
       "<pre style=\"white-space:pre;overflow-x:auto;line-height:normal;font-family:Menlo,'DejaVu Sans Mono',consolas,'Courier New',monospace\"><span style=\"color: #c0c0c0; text-decoration-color: #c0c0c0\">─────────────────────────────────────────────────────────────────────────────────────────────</span>\n",
       "</pre>\n"
      ],
      "text/plain": [
       "\u001b[37m─────────────────────────────────────────────────────────────────────────────────────────────\u001b[0m\n"
      ]
     },
     "metadata": {},
     "output_type": "display_data"
    },
    {
     "name": "stdout",
     "output_type": "stream",
     "text": [
      "L2V4\n"
     ]
    },
    {
     "data": {
      "text/html": [
       "<pre style=\"white-space:pre;overflow-x:auto;line-height:normal;font-family:Menlo,'DejaVu Sans Mono',consolas,'Courier New',monospace\"><span style=\"color: #c0c0c0; text-decoration-color: #c0c0c0\">──────────────────────────────────────── </span>Create SBML<span style=\"color: #c0c0c0; text-decoration-color: #c0c0c0\"> ────────────────────────────────────────</span>\n",
       "</pre>\n"
      ],
      "text/plain": [
       "\u001b[37m──────────────────────────────────────── \u001b[0mCreate SBML\u001b[37m ────────────────────────────────────────\u001b[0m\n"
      ]
     },
     "metadata": {},
     "output_type": "display_data"
    },
    {
     "data": {
      "text/html": [
       "<pre style=\"white-space:pre;overflow-x:auto;line-height:normal;font-family:Menlo,'DejaVu Sans Mono',consolas,'Courier New',monospace\"><span style=\"color: #000080; text-decoration-color: #000080\">INFO    </span> Create SBML for model <span style=\"color: #008000; text-decoration-color: #008000\">'L2V5'</span>                                         <a href=\"file:///home/mkoenig/git/sbmlutils/src/sbmlutils/factory.py\"><span style=\"color: #7f7f7f; text-decoration-color: #7f7f7f\">factory.py</span></a><span style=\"color: #7f7f7f; text-decoration-color: #7f7f7f\">:2896</span>\n",
       "</pre>\n"
      ],
      "text/plain": [
       "\u001b[34mINFO    \u001b[0m Create SBML for model \u001b[32m'L2V5'\u001b[0m                                         \u001b]8;id=715023;file:///home/mkoenig/git/sbmlutils/src/sbmlutils/factory.py\u001b\\\u001b[2mfactory.py\u001b[0m\u001b]8;;\u001b\\\u001b[2m:2896\u001b[0m\n"
      ]
     },
     "metadata": {},
     "output_type": "display_data"
    },
    {
     "data": {
      "text/html": [
       "<pre style=\"white-space:pre;overflow-x:auto;line-height:normal;font-family:Menlo,'DejaVu Sans Mono',consolas,'Courier New',monospace\"><span style=\"color: #800000; text-decoration-color: #800000\">WARNING </span> <span style=\"color: #008000; text-decoration-color: #008000\">'name'</span> should be set on <span style=\"color: #008000; text-decoration-color: #008000\">'&lt;Model L2V5&gt;'</span>                                <a href=\"file:///home/mkoenig/git/sbmlutils/src/sbmlutils/factory.py\"><span style=\"color: #7f7f7f; text-decoration-color: #7f7f7f\">factory.py</span></a><span style=\"color: #7f7f7f; text-decoration-color: #7f7f7f\">:436</span>\n",
       "</pre>\n"
      ],
      "text/plain": [
       "\u001b[31mWARNING \u001b[0m \u001b[32m'name'\u001b[0m should be set on \u001b[32m'\u001b[0m\u001b[32m<\u001b[0m\u001b[32mModel\u001b[0m\u001b[32m L2V5\u001b[0m\u001b[32m>\u001b[0m\u001b[32m'\u001b[0m                                \u001b]8;id=133550;file:///home/mkoenig/git/sbmlutils/src/sbmlutils/factory.py\u001b\\\u001b[2mfactory.py\u001b[0m\u001b]8;;\u001b\\\u001b[2m:436\u001b[0m\n"
      ]
     },
     "metadata": {},
     "output_type": "display_data"
    },
    {
     "data": {
      "text/html": [
       "<pre style=\"white-space:pre;overflow-x:auto;line-height:normal;font-family:Menlo,'DejaVu Sans Mono',consolas,'Courier New',monospace\"><span style=\"color: #000080; text-decoration-color: #000080\">INFO    </span> <span style=\"color: #008000; text-decoration-color: #008000\">'length'</span> should be set in <span style=\"color: #008000; text-decoration-color: #008000\">'model_units'</span>.                              <a href=\"file:///home/mkoenig/git/sbmlutils/src/sbmlutils/factory.py\"><span style=\"color: #7f7f7f; text-decoration-color: #7f7f7f\">factory.py</span></a><span style=\"color: #7f7f7f; text-decoration-color: #7f7f7f\">:268</span>\n",
       "</pre>\n"
      ],
      "text/plain": [
       "\u001b[34mINFO    \u001b[0m \u001b[32m'length'\u001b[0m should be set in \u001b[32m'model_units'\u001b[0m.                              \u001b]8;id=950084;file:///home/mkoenig/git/sbmlutils/src/sbmlutils/factory.py\u001b\\\u001b[2mfactory.py\u001b[0m\u001b]8;;\u001b\\\u001b[2m:268\u001b[0m\n"
      ]
     },
     "metadata": {},
     "output_type": "display_data"
    },
    {
     "data": {
      "text/html": [
       "<pre style=\"white-space:pre;overflow-x:auto;line-height:normal;font-family:Menlo,'DejaVu Sans Mono',consolas,'Courier New',monospace\"><span style=\"color: #000080; text-decoration-color: #000080\">INFO    </span> <span style=\"color: #008000; text-decoration-color: #008000\">'area'</span> should be set in <span style=\"color: #008000; text-decoration-color: #008000\">'model_units'</span>.                                <a href=\"file:///home/mkoenig/git/sbmlutils/src/sbmlutils/factory.py\"><span style=\"color: #7f7f7f; text-decoration-color: #7f7f7f\">factory.py</span></a><span style=\"color: #7f7f7f; text-decoration-color: #7f7f7f\">:268</span>\n",
       "</pre>\n"
      ],
      "text/plain": [
       "\u001b[34mINFO    \u001b[0m \u001b[32m'area'\u001b[0m should be set in \u001b[32m'model_units'\u001b[0m.                                \u001b]8;id=155189;file:///home/mkoenig/git/sbmlutils/src/sbmlutils/factory.py\u001b\\\u001b[2mfactory.py\u001b[0m\u001b]8;;\u001b\\\u001b[2m:268\u001b[0m\n"
      ]
     },
     "metadata": {},
     "output_type": "display_data"
    },
    {
     "data": {
      "text/html": [
       "<pre style=\"white-space:pre;overflow-x:auto;line-height:normal;font-family:Menlo,'DejaVu Sans Mono',consolas,'Courier New',monospace\"><span style=\"color: #800000; text-decoration-color: #800000\">WARNING </span> <span style=\"color: #008000; text-decoration-color: #008000\">'name'</span> should be set on <span style=\"color: #008000; text-decoration-color: #008000\">'&lt;Parameter k1&gt;'</span>                              <a href=\"file:///home/mkoenig/git/sbmlutils/src/sbmlutils/factory.py\"><span style=\"color: #7f7f7f; text-decoration-color: #7f7f7f\">factory.py</span></a><span style=\"color: #7f7f7f; text-decoration-color: #7f7f7f\">:436</span>\n",
       "</pre>\n"
      ],
      "text/plain": [
       "\u001b[31mWARNING \u001b[0m \u001b[32m'name'\u001b[0m should be set on \u001b[32m'\u001b[0m\u001b[32m<\u001b[0m\u001b[32mParameter\u001b[0m\u001b[32m k1\u001b[0m\u001b[32m>\u001b[0m\u001b[32m'\u001b[0m                              \u001b]8;id=595129;file:///home/mkoenig/git/sbmlutils/src/sbmlutils/factory.py\u001b\\\u001b[2mfactory.py\u001b[0m\u001b]8;;\u001b\\\u001b[2m:436\u001b[0m\n"
      ]
     },
     "metadata": {},
     "output_type": "display_data"
    },
    {
     "data": {
      "text/html": [
       "<pre style=\"white-space:pre;overflow-x:auto;line-height:normal;font-family:Menlo,'DejaVu Sans Mono',consolas,'Courier New',monospace\"><span style=\"color: #800000; text-decoration-color: #800000\">WARNING </span> <span style=\"color: #008000; text-decoration-color: #008000\">'sboTerm'</span> should be set on <span style=\"color: #008000; text-decoration-color: #008000\">'&lt;Parameter k1&gt;'</span>                           <a href=\"file:///home/mkoenig/git/sbmlutils/src/sbmlutils/factory.py\"><span style=\"color: #7f7f7f; text-decoration-color: #7f7f7f\">factory.py</span></a><span style=\"color: #7f7f7f; text-decoration-color: #7f7f7f\">:461</span>\n",
       "</pre>\n"
      ],
      "text/plain": [
       "\u001b[31mWARNING \u001b[0m \u001b[32m'sboTerm'\u001b[0m should be set on \u001b[32m'\u001b[0m\u001b[32m<\u001b[0m\u001b[32mParameter\u001b[0m\u001b[32m k1\u001b[0m\u001b[32m>\u001b[0m\u001b[32m'\u001b[0m                           \u001b]8;id=847356;file:///home/mkoenig/git/sbmlutils/src/sbmlutils/factory.py\u001b\\\u001b[2mfactory.py\u001b[0m\u001b]8;;\u001b\\\u001b[2m:461\u001b[0m\n"
      ]
     },
     "metadata": {},
     "output_type": "display_data"
    },
    {
     "data": {
      "text/html": [
       "<pre style=\"white-space:pre;overflow-x:auto;line-height:normal;font-family:Menlo,'DejaVu Sans Mono',consolas,'Courier New',monospace\"><span style=\"color: #800000; text-decoration-color: #800000\">WARNING </span> <span style=\"color: #008000; text-decoration-color: #008000\">'name'</span> should be set on <span style=\"color: #008000; text-decoration-color: #008000\">'&lt;Compartment C&gt;'</span>                             <a href=\"file:///home/mkoenig/git/sbmlutils/src/sbmlutils/factory.py\"><span style=\"color: #7f7f7f; text-decoration-color: #7f7f7f\">factory.py</span></a><span style=\"color: #7f7f7f; text-decoration-color: #7f7f7f\">:436</span>\n",
       "</pre>\n"
      ],
      "text/plain": [
       "\u001b[31mWARNING \u001b[0m \u001b[32m'name'\u001b[0m should be set on \u001b[32m'\u001b[0m\u001b[32m<\u001b[0m\u001b[32mCompartment\u001b[0m\u001b[32m C\u001b[0m\u001b[32m>\u001b[0m\u001b[32m'\u001b[0m                             \u001b]8;id=918745;file:///home/mkoenig/git/sbmlutils/src/sbmlutils/factory.py\u001b\\\u001b[2mfactory.py\u001b[0m\u001b]8;;\u001b\\\u001b[2m:436\u001b[0m\n"
      ]
     },
     "metadata": {},
     "output_type": "display_data"
    },
    {
     "data": {
      "text/html": [
       "<pre style=\"white-space:pre;overflow-x:auto;line-height:normal;font-family:Menlo,'DejaVu Sans Mono',consolas,'Courier New',monospace\"><span style=\"color: #800000; text-decoration-color: #800000\">WARNING </span> <span style=\"color: #008000; text-decoration-color: #008000\">'sboTerm'</span> should be set on <span style=\"color: #008000; text-decoration-color: #008000\">'&lt;Compartment C&gt;'</span>                          <a href=\"file:///home/mkoenig/git/sbmlutils/src/sbmlutils/factory.py\"><span style=\"color: #7f7f7f; text-decoration-color: #7f7f7f\">factory.py</span></a><span style=\"color: #7f7f7f; text-decoration-color: #7f7f7f\">:461</span>\n",
       "</pre>\n"
      ],
      "text/plain": [
       "\u001b[31mWARNING \u001b[0m \u001b[32m'sboTerm'\u001b[0m should be set on \u001b[32m'\u001b[0m\u001b[32m<\u001b[0m\u001b[32mCompartment\u001b[0m\u001b[32m C\u001b[0m\u001b[32m>\u001b[0m\u001b[32m'\u001b[0m                          \u001b]8;id=277276;file:///home/mkoenig/git/sbmlutils/src/sbmlutils/factory.py\u001b\\\u001b[2mfactory.py\u001b[0m\u001b]8;;\u001b\\\u001b[2m:461\u001b[0m\n"
      ]
     },
     "metadata": {},
     "output_type": "display_data"
    },
    {
     "data": {
      "text/html": [
       "<pre style=\"white-space:pre;overflow-x:auto;line-height:normal;font-family:Menlo,'DejaVu Sans Mono',consolas,'Courier New',monospace\"><span style=\"color: #800000; text-decoration-color: #800000\">WARNING </span> <span style=\"color: #008000; text-decoration-color: #008000\">'name'</span> should be set on <span style=\"color: #008000; text-decoration-color: #008000\">'&lt;Species S1&gt;'</span>                                <a href=\"file:///home/mkoenig/git/sbmlutils/src/sbmlutils/factory.py\"><span style=\"color: #7f7f7f; text-decoration-color: #7f7f7f\">factory.py</span></a><span style=\"color: #7f7f7f; text-decoration-color: #7f7f7f\">:436</span>\n",
       "</pre>\n"
      ],
      "text/plain": [
       "\u001b[31mWARNING \u001b[0m \u001b[32m'name'\u001b[0m should be set on \u001b[32m'\u001b[0m\u001b[32m<\u001b[0m\u001b[32mSpecies\u001b[0m\u001b[32m S1\u001b[0m\u001b[32m>\u001b[0m\u001b[32m'\u001b[0m                                \u001b]8;id=327686;file:///home/mkoenig/git/sbmlutils/src/sbmlutils/factory.py\u001b\\\u001b[2mfactory.py\u001b[0m\u001b]8;;\u001b\\\u001b[2m:436\u001b[0m\n"
      ]
     },
     "metadata": {},
     "output_type": "display_data"
    },
    {
     "data": {
      "text/html": [
       "<pre style=\"white-space:pre;overflow-x:auto;line-height:normal;font-family:Menlo,'DejaVu Sans Mono',consolas,'Courier New',monospace\"><span style=\"color: #800000; text-decoration-color: #800000\">WARNING </span> <span style=\"color: #008000; text-decoration-color: #008000\">'sboTerm'</span> should be set on <span style=\"color: #008000; text-decoration-color: #008000\">'&lt;Species S1&gt;'</span>                             <a href=\"file:///home/mkoenig/git/sbmlutils/src/sbmlutils/factory.py\"><span style=\"color: #7f7f7f; text-decoration-color: #7f7f7f\">factory.py</span></a><span style=\"color: #7f7f7f; text-decoration-color: #7f7f7f\">:461</span>\n",
       "</pre>\n"
      ],
      "text/plain": [
       "\u001b[31mWARNING \u001b[0m \u001b[32m'sboTerm'\u001b[0m should be set on \u001b[32m'\u001b[0m\u001b[32m<\u001b[0m\u001b[32mSpecies\u001b[0m\u001b[32m S1\u001b[0m\u001b[32m>\u001b[0m\u001b[32m'\u001b[0m                             \u001b]8;id=54933;file:///home/mkoenig/git/sbmlutils/src/sbmlutils/factory.py\u001b\\\u001b[2mfactory.py\u001b[0m\u001b]8;;\u001b\\\u001b[2m:461\u001b[0m\n"
      ]
     },
     "metadata": {},
     "output_type": "display_data"
    },
    {
     "data": {
      "text/html": [
       "<pre style=\"white-space:pre;overflow-x:auto;line-height:normal;font-family:Menlo,'DejaVu Sans Mono',consolas,'Courier New',monospace\"><span style=\"color: #800000; text-decoration-color: #800000\">WARNING </span> <span style=\"color: #008000; text-decoration-color: #008000\">'name'</span> should be set on <span style=\"color: #008000; text-decoration-color: #008000\">'&lt;Reaction R1&gt;'</span>                               <a href=\"file:///home/mkoenig/git/sbmlutils/src/sbmlutils/factory.py\"><span style=\"color: #7f7f7f; text-decoration-color: #7f7f7f\">factory.py</span></a><span style=\"color: #7f7f7f; text-decoration-color: #7f7f7f\">:436</span>\n",
       "</pre>\n"
      ],
      "text/plain": [
       "\u001b[31mWARNING \u001b[0m \u001b[32m'name'\u001b[0m should be set on \u001b[32m'\u001b[0m\u001b[32m<\u001b[0m\u001b[32mReaction\u001b[0m\u001b[32m R1\u001b[0m\u001b[32m>\u001b[0m\u001b[32m'\u001b[0m                               \u001b]8;id=853558;file:///home/mkoenig/git/sbmlutils/src/sbmlutils/factory.py\u001b\\\u001b[2mfactory.py\u001b[0m\u001b]8;;\u001b\\\u001b[2m:436\u001b[0m\n"
      ]
     },
     "metadata": {},
     "output_type": "display_data"
    },
    {
     "data": {
      "text/html": [
       "<pre style=\"white-space:pre;overflow-x:auto;line-height:normal;font-family:Menlo,'DejaVu Sans Mono',consolas,'Courier New',monospace\"><span style=\"color: #800000; text-decoration-color: #800000\">WARNING </span> <span style=\"color: #008000; text-decoration-color: #008000\">'sboTerm'</span> should be set on <span style=\"color: #008000; text-decoration-color: #008000\">'&lt;Reaction R1&gt;'</span>                            <a href=\"file:///home/mkoenig/git/sbmlutils/src/sbmlutils/factory.py\"><span style=\"color: #7f7f7f; text-decoration-color: #7f7f7f\">factory.py</span></a><span style=\"color: #7f7f7f; text-decoration-color: #7f7f7f\">:461</span>\n",
       "</pre>\n"
      ],
      "text/plain": [
       "\u001b[31mWARNING \u001b[0m \u001b[32m'sboTerm'\u001b[0m should be set on \u001b[32m'\u001b[0m\u001b[32m<\u001b[0m\u001b[32mReaction\u001b[0m\u001b[32m R1\u001b[0m\u001b[32m>\u001b[0m\u001b[32m'\u001b[0m                            \u001b]8;id=130063;file:///home/mkoenig/git/sbmlutils/src/sbmlutils/factory.py\u001b\\\u001b[2mfactory.py\u001b[0m\u001b]8;;\u001b\\\u001b[2m:461\u001b[0m\n"
      ]
     },
     "metadata": {},
     "output_type": "display_data"
    },
    {
     "data": {
      "text/html": [
       "<pre style=\"white-space:pre;overflow-x:auto;line-height:normal;font-family:Menlo,'DejaVu Sans Mono',consolas,'Courier New',monospace\">\n",
       "</pre>\n"
      ],
      "text/plain": [
       "\n"
      ]
     },
     "metadata": {},
     "output_type": "display_data"
    },
    {
     "data": {
      "text/html": [
       "<pre style=\"white-space:pre;overflow-x:auto;line-height:normal;font-family:Menlo,'DejaVu Sans Mono',consolas,'Courier New',monospace\"><span style=\"color: #008000; text-decoration-color: #008000\">─────────────────────────────────────── </span>Validate SBML<span style=\"color: #008000; text-decoration-color: #008000\"> ───────────────────────────────────────</span>\n",
       "</pre>\n"
      ],
      "text/plain": [
       "\u001b[32m─────────────────────────────────────── \u001b[0mValidate SBML\u001b[32m ───────────────────────────────────────\u001b[0m\n"
      ]
     },
     "metadata": {},
     "output_type": "display_data"
    },
    {
     "data": {
      "text/html": [
       "<pre style=\"white-space:pre;overflow-x:auto;line-height:normal;font-family:Menlo,'DejaVu Sans Mono',consolas,'Courier New',monospace\"><span style=\"color: #008000; text-decoration-color: #008000\">file:</span><span style=\"color: #800080; text-decoration-color: #800080\">///tmp/tmpl7mf7is8/</span><span style=\"color: #ff00ff; text-decoration-color: #ff00ff\">L2V5.xml</span>\n",
       "<span style=\"color: #008000; text-decoration-color: #008000\">valid                    : TRUE</span>\n",
       "<span style=\"color: #008000; text-decoration-color: #008000\">check time </span><span style=\"color: #008000; text-decoration-color: #008000; font-weight: bold\">(</span><span style=\"color: #008000; text-decoration-color: #008000\">s</span><span style=\"color: #008000; text-decoration-color: #008000; font-weight: bold\">)</span><span style=\"color: #008000; text-decoration-color: #008000\">           : </span><span style=\"color: #008080; text-decoration-color: #008080; font-weight: bold\">0.001</span>\n",
       "</pre>\n"
      ],
      "text/plain": [
       "\u001b[32mfile:\u001b[0m\u001b[35m/\u001b[0m\u001b[35m/\u001b[0m\u001b[35m/tmp/tmpl7mf7is8/\u001b[0m\u001b[95mL2V5.xml\u001b[0m\n",
       "\u001b[32mvalid                    : TRUE\u001b[0m\n",
       "\u001b[32mcheck time \u001b[0m\u001b[1;32m(\u001b[0m\u001b[32ms\u001b[0m\u001b[1;32m)\u001b[0m\u001b[32m           : \u001b[0m\u001b[1;36m0.001\u001b[0m\n"
      ]
     },
     "metadata": {},
     "output_type": "display_data"
    },
    {
     "data": {
      "text/html": [
       "<pre style=\"white-space:pre;overflow-x:auto;line-height:normal;font-family:Menlo,'DejaVu Sans Mono',consolas,'Courier New',monospace\"><span style=\"color: #008000; text-decoration-color: #008000\">─────────────────────────────────────────────────────────────────────────────────────────────</span>\n",
       "</pre>\n"
      ],
      "text/plain": [
       "\u001b[32m─────────────────────────────────────────────────────────────────────────────────────────────\u001b[0m\n"
      ]
     },
     "metadata": {},
     "output_type": "display_data"
    },
    {
     "data": {
      "text/html": [
       "<pre style=\"white-space:pre;overflow-x:auto;line-height:normal;font-family:Menlo,'DejaVu Sans Mono',consolas,'Courier New',monospace\">\n",
       "</pre>\n"
      ],
      "text/plain": [
       "\n"
      ]
     },
     "metadata": {},
     "output_type": "display_data"
    },
    {
     "data": {
      "text/html": [
       "<pre style=\"white-space:pre;overflow-x:auto;line-height:normal;font-family:Menlo,'DejaVu Sans Mono',consolas,'Courier New',monospace\"><span style=\"color: #000080; text-decoration-color: #000080\">INFO    </span> No support for <span style=\"color: #008000; text-decoration-color: #008000\">'create_report'</span> in sbmlutils-v0.<span style=\"color: #008080; text-decoration-color: #008080; font-weight: bold\">5.7</span>.                 <a href=\"file:///home/mkoenig/git/sbmlutils/src/sbmlutils/report/sbmlreport.py\"><span style=\"color: #7f7f7f; text-decoration-color: #7f7f7f\">sbmlreport.py</span></a><span style=\"color: #7f7f7f; text-decoration-color: #7f7f7f\">:41</span>\n",
       "</pre>\n"
      ],
      "text/plain": [
       "\u001b[34mINFO    \u001b[0m No support for \u001b[32m'create_report'\u001b[0m in sbmlutils-v0.\u001b[1;36m5.7\u001b[0m.                 \u001b]8;id=182359;file:///home/mkoenig/git/sbmlutils/src/sbmlutils/report/sbmlreport.py\u001b\\\u001b[2msbmlreport.py\u001b[0m\u001b]8;;\u001b\\\u001b[2m:41\u001b[0m\n"
      ]
     },
     "metadata": {},
     "output_type": "display_data"
    },
    {
     "data": {
      "text/html": [
       "<pre style=\"white-space:pre;overflow-x:auto;line-height:normal;font-family:Menlo,'DejaVu Sans Mono',consolas,'Courier New',monospace\"><span style=\"color: #c0c0c0; text-decoration-color: #c0c0c0\">─────────────────────────────────────────────────────────────────────────────────────────────</span>\n",
       "</pre>\n"
      ],
      "text/plain": [
       "\u001b[37m─────────────────────────────────────────────────────────────────────────────────────────────\u001b[0m\n"
      ]
     },
     "metadata": {},
     "output_type": "display_data"
    },
    {
     "name": "stdout",
     "output_type": "stream",
     "text": [
      "L2V5\n"
     ]
    },
    {
     "data": {
      "text/html": [
       "<pre style=\"white-space:pre;overflow-x:auto;line-height:normal;font-family:Menlo,'DejaVu Sans Mono',consolas,'Courier New',monospace\"><span style=\"color: #c0c0c0; text-decoration-color: #c0c0c0\">──────────────────────────────────────── </span>Create SBML<span style=\"color: #c0c0c0; text-decoration-color: #c0c0c0\"> ────────────────────────────────────────</span>\n",
       "</pre>\n"
      ],
      "text/plain": [
       "\u001b[37m──────────────────────────────────────── \u001b[0mCreate SBML\u001b[37m ────────────────────────────────────────\u001b[0m\n"
      ]
     },
     "metadata": {},
     "output_type": "display_data"
    },
    {
     "data": {
      "text/html": [
       "<pre style=\"white-space:pre;overflow-x:auto;line-height:normal;font-family:Menlo,'DejaVu Sans Mono',consolas,'Courier New',monospace\"><span style=\"color: #000080; text-decoration-color: #000080\">INFO    </span> Create SBML for model <span style=\"color: #008000; text-decoration-color: #008000\">'L3V1'</span>                                         <a href=\"file:///home/mkoenig/git/sbmlutils/src/sbmlutils/factory.py\"><span style=\"color: #7f7f7f; text-decoration-color: #7f7f7f\">factory.py</span></a><span style=\"color: #7f7f7f; text-decoration-color: #7f7f7f\">:2896</span>\n",
       "</pre>\n"
      ],
      "text/plain": [
       "\u001b[34mINFO    \u001b[0m Create SBML for model \u001b[32m'L3V1'\u001b[0m                                         \u001b]8;id=890825;file:///home/mkoenig/git/sbmlutils/src/sbmlutils/factory.py\u001b\\\u001b[2mfactory.py\u001b[0m\u001b]8;;\u001b\\\u001b[2m:2896\u001b[0m\n"
      ]
     },
     "metadata": {},
     "output_type": "display_data"
    },
    {
     "data": {
      "text/html": [
       "<pre style=\"white-space:pre;overflow-x:auto;line-height:normal;font-family:Menlo,'DejaVu Sans Mono',consolas,'Courier New',monospace\"><span style=\"color: #800000; text-decoration-color: #800000\">WARNING </span> <span style=\"color: #008000; text-decoration-color: #008000\">'name'</span> should be set on <span style=\"color: #008000; text-decoration-color: #008000\">'&lt;Model L3V1&gt;'</span>                                <a href=\"file:///home/mkoenig/git/sbmlutils/src/sbmlutils/factory.py\"><span style=\"color: #7f7f7f; text-decoration-color: #7f7f7f\">factory.py</span></a><span style=\"color: #7f7f7f; text-decoration-color: #7f7f7f\">:436</span>\n",
       "</pre>\n"
      ],
      "text/plain": [
       "\u001b[31mWARNING \u001b[0m \u001b[32m'name'\u001b[0m should be set on \u001b[32m'\u001b[0m\u001b[32m<\u001b[0m\u001b[32mModel\u001b[0m\u001b[32m L3V1\u001b[0m\u001b[32m>\u001b[0m\u001b[32m'\u001b[0m                                \u001b]8;id=446962;file:///home/mkoenig/git/sbmlutils/src/sbmlutils/factory.py\u001b\\\u001b[2mfactory.py\u001b[0m\u001b]8;;\u001b\\\u001b[2m:436\u001b[0m\n"
      ]
     },
     "metadata": {},
     "output_type": "display_data"
    },
    {
     "data": {
      "text/html": [
       "<pre style=\"white-space:pre;overflow-x:auto;line-height:normal;font-family:Menlo,'DejaVu Sans Mono',consolas,'Courier New',monospace\"><span style=\"color: #000080; text-decoration-color: #000080\">INFO    </span> <span style=\"color: #008000; text-decoration-color: #008000\">'length'</span> should be set in <span style=\"color: #008000; text-decoration-color: #008000\">'model_units'</span>.                              <a href=\"file:///home/mkoenig/git/sbmlutils/src/sbmlutils/factory.py\"><span style=\"color: #7f7f7f; text-decoration-color: #7f7f7f\">factory.py</span></a><span style=\"color: #7f7f7f; text-decoration-color: #7f7f7f\">:268</span>\n",
       "</pre>\n"
      ],
      "text/plain": [
       "\u001b[34mINFO    \u001b[0m \u001b[32m'length'\u001b[0m should be set in \u001b[32m'model_units'\u001b[0m.                              \u001b]8;id=31687;file:///home/mkoenig/git/sbmlutils/src/sbmlutils/factory.py\u001b\\\u001b[2mfactory.py\u001b[0m\u001b]8;;\u001b\\\u001b[2m:268\u001b[0m\n"
      ]
     },
     "metadata": {},
     "output_type": "display_data"
    },
    {
     "data": {
      "text/html": [
       "<pre style=\"white-space:pre;overflow-x:auto;line-height:normal;font-family:Menlo,'DejaVu Sans Mono',consolas,'Courier New',monospace\"><span style=\"color: #000080; text-decoration-color: #000080\">INFO    </span> <span style=\"color: #008000; text-decoration-color: #008000\">'area'</span> should be set in <span style=\"color: #008000; text-decoration-color: #008000\">'model_units'</span>.                                <a href=\"file:///home/mkoenig/git/sbmlutils/src/sbmlutils/factory.py\"><span style=\"color: #7f7f7f; text-decoration-color: #7f7f7f\">factory.py</span></a><span style=\"color: #7f7f7f; text-decoration-color: #7f7f7f\">:268</span>\n",
       "</pre>\n"
      ],
      "text/plain": [
       "\u001b[34mINFO    \u001b[0m \u001b[32m'area'\u001b[0m should be set in \u001b[32m'model_units'\u001b[0m.                                \u001b]8;id=518583;file:///home/mkoenig/git/sbmlutils/src/sbmlutils/factory.py\u001b\\\u001b[2mfactory.py\u001b[0m\u001b]8;;\u001b\\\u001b[2m:268\u001b[0m\n"
      ]
     },
     "metadata": {},
     "output_type": "display_data"
    },
    {
     "data": {
      "text/html": [
       "<pre style=\"white-space:pre;overflow-x:auto;line-height:normal;font-family:Menlo,'DejaVu Sans Mono',consolas,'Courier New',monospace\"><span style=\"color: #800000; text-decoration-color: #800000\">WARNING </span> <span style=\"color: #008000; text-decoration-color: #008000\">'name'</span> should be set on <span style=\"color: #008000; text-decoration-color: #008000\">'&lt;Parameter k1&gt;'</span>                              <a href=\"file:///home/mkoenig/git/sbmlutils/src/sbmlutils/factory.py\"><span style=\"color: #7f7f7f; text-decoration-color: #7f7f7f\">factory.py</span></a><span style=\"color: #7f7f7f; text-decoration-color: #7f7f7f\">:436</span>\n",
       "</pre>\n"
      ],
      "text/plain": [
       "\u001b[31mWARNING \u001b[0m \u001b[32m'name'\u001b[0m should be set on \u001b[32m'\u001b[0m\u001b[32m<\u001b[0m\u001b[32mParameter\u001b[0m\u001b[32m k1\u001b[0m\u001b[32m>\u001b[0m\u001b[32m'\u001b[0m                              \u001b]8;id=14517;file:///home/mkoenig/git/sbmlutils/src/sbmlutils/factory.py\u001b\\\u001b[2mfactory.py\u001b[0m\u001b]8;;\u001b\\\u001b[2m:436\u001b[0m\n"
      ]
     },
     "metadata": {},
     "output_type": "display_data"
    },
    {
     "data": {
      "text/html": [
       "<pre style=\"white-space:pre;overflow-x:auto;line-height:normal;font-family:Menlo,'DejaVu Sans Mono',consolas,'Courier New',monospace\"><span style=\"color: #800000; text-decoration-color: #800000\">WARNING </span> <span style=\"color: #008000; text-decoration-color: #008000\">'sboTerm'</span> should be set on <span style=\"color: #008000; text-decoration-color: #008000\">'&lt;Parameter k1&gt;'</span>                           <a href=\"file:///home/mkoenig/git/sbmlutils/src/sbmlutils/factory.py\"><span style=\"color: #7f7f7f; text-decoration-color: #7f7f7f\">factory.py</span></a><span style=\"color: #7f7f7f; text-decoration-color: #7f7f7f\">:461</span>\n",
       "</pre>\n"
      ],
      "text/plain": [
       "\u001b[31mWARNING \u001b[0m \u001b[32m'sboTerm'\u001b[0m should be set on \u001b[32m'\u001b[0m\u001b[32m<\u001b[0m\u001b[32mParameter\u001b[0m\u001b[32m k1\u001b[0m\u001b[32m>\u001b[0m\u001b[32m'\u001b[0m                           \u001b]8;id=730250;file:///home/mkoenig/git/sbmlutils/src/sbmlutils/factory.py\u001b\\\u001b[2mfactory.py\u001b[0m\u001b]8;;\u001b\\\u001b[2m:461\u001b[0m\n"
      ]
     },
     "metadata": {},
     "output_type": "display_data"
    },
    {
     "data": {
      "text/html": [
       "<pre style=\"white-space:pre;overflow-x:auto;line-height:normal;font-family:Menlo,'DejaVu Sans Mono',consolas,'Courier New',monospace\"><span style=\"color: #800000; text-decoration-color: #800000\">WARNING </span> <span style=\"color: #008000; text-decoration-color: #008000\">'name'</span> should be set on <span style=\"color: #008000; text-decoration-color: #008000\">'&lt;Compartment C&gt;'</span>                             <a href=\"file:///home/mkoenig/git/sbmlutils/src/sbmlutils/factory.py\"><span style=\"color: #7f7f7f; text-decoration-color: #7f7f7f\">factory.py</span></a><span style=\"color: #7f7f7f; text-decoration-color: #7f7f7f\">:436</span>\n",
       "</pre>\n"
      ],
      "text/plain": [
       "\u001b[31mWARNING \u001b[0m \u001b[32m'name'\u001b[0m should be set on \u001b[32m'\u001b[0m\u001b[32m<\u001b[0m\u001b[32mCompartment\u001b[0m\u001b[32m C\u001b[0m\u001b[32m>\u001b[0m\u001b[32m'\u001b[0m                             \u001b]8;id=689965;file:///home/mkoenig/git/sbmlutils/src/sbmlutils/factory.py\u001b\\\u001b[2mfactory.py\u001b[0m\u001b]8;;\u001b\\\u001b[2m:436\u001b[0m\n"
      ]
     },
     "metadata": {},
     "output_type": "display_data"
    },
    {
     "data": {
      "text/html": [
       "<pre style=\"white-space:pre;overflow-x:auto;line-height:normal;font-family:Menlo,'DejaVu Sans Mono',consolas,'Courier New',monospace\"><span style=\"color: #800000; text-decoration-color: #800000\">WARNING </span> <span style=\"color: #008000; text-decoration-color: #008000\">'sboTerm'</span> should be set on <span style=\"color: #008000; text-decoration-color: #008000\">'&lt;Compartment C&gt;'</span>                          <a href=\"file:///home/mkoenig/git/sbmlutils/src/sbmlutils/factory.py\"><span style=\"color: #7f7f7f; text-decoration-color: #7f7f7f\">factory.py</span></a><span style=\"color: #7f7f7f; text-decoration-color: #7f7f7f\">:461</span>\n",
       "</pre>\n"
      ],
      "text/plain": [
       "\u001b[31mWARNING \u001b[0m \u001b[32m'sboTerm'\u001b[0m should be set on \u001b[32m'\u001b[0m\u001b[32m<\u001b[0m\u001b[32mCompartment\u001b[0m\u001b[32m C\u001b[0m\u001b[32m>\u001b[0m\u001b[32m'\u001b[0m                          \u001b]8;id=633907;file:///home/mkoenig/git/sbmlutils/src/sbmlutils/factory.py\u001b\\\u001b[2mfactory.py\u001b[0m\u001b]8;;\u001b\\\u001b[2m:461\u001b[0m\n"
      ]
     },
     "metadata": {},
     "output_type": "display_data"
    },
    {
     "data": {
      "text/html": [
       "<pre style=\"white-space:pre;overflow-x:auto;line-height:normal;font-family:Menlo,'DejaVu Sans Mono',consolas,'Courier New',monospace\"><span style=\"color: #800000; text-decoration-color: #800000\">WARNING </span> <span style=\"color: #008000; text-decoration-color: #008000\">'name'</span> should be set on <span style=\"color: #008000; text-decoration-color: #008000\">'&lt;Species S1&gt;'</span>                                <a href=\"file:///home/mkoenig/git/sbmlutils/src/sbmlutils/factory.py\"><span style=\"color: #7f7f7f; text-decoration-color: #7f7f7f\">factory.py</span></a><span style=\"color: #7f7f7f; text-decoration-color: #7f7f7f\">:436</span>\n",
       "</pre>\n"
      ],
      "text/plain": [
       "\u001b[31mWARNING \u001b[0m \u001b[32m'name'\u001b[0m should be set on \u001b[32m'\u001b[0m\u001b[32m<\u001b[0m\u001b[32mSpecies\u001b[0m\u001b[32m S1\u001b[0m\u001b[32m>\u001b[0m\u001b[32m'\u001b[0m                                \u001b]8;id=917737;file:///home/mkoenig/git/sbmlutils/src/sbmlutils/factory.py\u001b\\\u001b[2mfactory.py\u001b[0m\u001b]8;;\u001b\\\u001b[2m:436\u001b[0m\n"
      ]
     },
     "metadata": {},
     "output_type": "display_data"
    },
    {
     "data": {
      "text/html": [
       "<pre style=\"white-space:pre;overflow-x:auto;line-height:normal;font-family:Menlo,'DejaVu Sans Mono',consolas,'Courier New',monospace\"><span style=\"color: #800000; text-decoration-color: #800000\">WARNING </span> <span style=\"color: #008000; text-decoration-color: #008000\">'sboTerm'</span> should be set on <span style=\"color: #008000; text-decoration-color: #008000\">'&lt;Species S1&gt;'</span>                             <a href=\"file:///home/mkoenig/git/sbmlutils/src/sbmlutils/factory.py\"><span style=\"color: #7f7f7f; text-decoration-color: #7f7f7f\">factory.py</span></a><span style=\"color: #7f7f7f; text-decoration-color: #7f7f7f\">:461</span>\n",
       "</pre>\n"
      ],
      "text/plain": [
       "\u001b[31mWARNING \u001b[0m \u001b[32m'sboTerm'\u001b[0m should be set on \u001b[32m'\u001b[0m\u001b[32m<\u001b[0m\u001b[32mSpecies\u001b[0m\u001b[32m S1\u001b[0m\u001b[32m>\u001b[0m\u001b[32m'\u001b[0m                             \u001b]8;id=614071;file:///home/mkoenig/git/sbmlutils/src/sbmlutils/factory.py\u001b\\\u001b[2mfactory.py\u001b[0m\u001b]8;;\u001b\\\u001b[2m:461\u001b[0m\n"
      ]
     },
     "metadata": {},
     "output_type": "display_data"
    },
    {
     "data": {
      "text/html": [
       "<pre style=\"white-space:pre;overflow-x:auto;line-height:normal;font-family:Menlo,'DejaVu Sans Mono',consolas,'Courier New',monospace\"><span style=\"color: #800000; text-decoration-color: #800000\">WARNING </span> <span style=\"color: #008000; text-decoration-color: #008000\">'name'</span> should be set on <span style=\"color: #008000; text-decoration-color: #008000\">'&lt;Reaction R1&gt;'</span>                               <a href=\"file:///home/mkoenig/git/sbmlutils/src/sbmlutils/factory.py\"><span style=\"color: #7f7f7f; text-decoration-color: #7f7f7f\">factory.py</span></a><span style=\"color: #7f7f7f; text-decoration-color: #7f7f7f\">:436</span>\n",
       "</pre>\n"
      ],
      "text/plain": [
       "\u001b[31mWARNING \u001b[0m \u001b[32m'name'\u001b[0m should be set on \u001b[32m'\u001b[0m\u001b[32m<\u001b[0m\u001b[32mReaction\u001b[0m\u001b[32m R1\u001b[0m\u001b[32m>\u001b[0m\u001b[32m'\u001b[0m                               \u001b]8;id=221513;file:///home/mkoenig/git/sbmlutils/src/sbmlutils/factory.py\u001b\\\u001b[2mfactory.py\u001b[0m\u001b]8;;\u001b\\\u001b[2m:436\u001b[0m\n"
      ]
     },
     "metadata": {},
     "output_type": "display_data"
    },
    {
     "data": {
      "text/html": [
       "<pre style=\"white-space:pre;overflow-x:auto;line-height:normal;font-family:Menlo,'DejaVu Sans Mono',consolas,'Courier New',monospace\"><span style=\"color: #800000; text-decoration-color: #800000\">WARNING </span> <span style=\"color: #008000; text-decoration-color: #008000\">'sboTerm'</span> should be set on <span style=\"color: #008000; text-decoration-color: #008000\">'&lt;Reaction R1&gt;'</span>                            <a href=\"file:///home/mkoenig/git/sbmlutils/src/sbmlutils/factory.py\"><span style=\"color: #7f7f7f; text-decoration-color: #7f7f7f\">factory.py</span></a><span style=\"color: #7f7f7f; text-decoration-color: #7f7f7f\">:461</span>\n",
       "</pre>\n"
      ],
      "text/plain": [
       "\u001b[31mWARNING \u001b[0m \u001b[32m'sboTerm'\u001b[0m should be set on \u001b[32m'\u001b[0m\u001b[32m<\u001b[0m\u001b[32mReaction\u001b[0m\u001b[32m R1\u001b[0m\u001b[32m>\u001b[0m\u001b[32m'\u001b[0m                            \u001b]8;id=564207;file:///home/mkoenig/git/sbmlutils/src/sbmlutils/factory.py\u001b\\\u001b[2mfactory.py\u001b[0m\u001b]8;;\u001b\\\u001b[2m:461\u001b[0m\n"
      ]
     },
     "metadata": {},
     "output_type": "display_data"
    },
    {
     "data": {
      "text/html": [
       "<pre style=\"white-space:pre;overflow-x:auto;line-height:normal;font-family:Menlo,'DejaVu Sans Mono',consolas,'Courier New',monospace\">\n",
       "</pre>\n"
      ],
      "text/plain": [
       "\n"
      ]
     },
     "metadata": {},
     "output_type": "display_data"
    },
    {
     "data": {
      "text/html": [
       "<pre style=\"white-space:pre;overflow-x:auto;line-height:normal;font-family:Menlo,'DejaVu Sans Mono',consolas,'Courier New',monospace\"><span style=\"color: #008000; text-decoration-color: #008000\">─────────────────────────────────────── </span>Validate SBML<span style=\"color: #008000; text-decoration-color: #008000\"> ───────────────────────────────────────</span>\n",
       "</pre>\n"
      ],
      "text/plain": [
       "\u001b[32m─────────────────────────────────────── \u001b[0mValidate SBML\u001b[32m ───────────────────────────────────────\u001b[0m\n"
      ]
     },
     "metadata": {},
     "output_type": "display_data"
    },
    {
     "data": {
      "text/html": [
       "<pre style=\"white-space:pre;overflow-x:auto;line-height:normal;font-family:Menlo,'DejaVu Sans Mono',consolas,'Courier New',monospace\"><span style=\"color: #008000; text-decoration-color: #008000\">file:</span><span style=\"color: #800080; text-decoration-color: #800080\">///tmp/tmpl7mf7is8/</span><span style=\"color: #ff00ff; text-decoration-color: #ff00ff\">L3V1.xml</span>\n",
       "<span style=\"color: #008000; text-decoration-color: #008000\">valid                    : TRUE</span>\n",
       "<span style=\"color: #008000; text-decoration-color: #008000\">check time </span><span style=\"color: #008000; text-decoration-color: #008000; font-weight: bold\">(</span><span style=\"color: #008000; text-decoration-color: #008000\">s</span><span style=\"color: #008000; text-decoration-color: #008000; font-weight: bold\">)</span><span style=\"color: #008000; text-decoration-color: #008000\">           : </span><span style=\"color: #008080; text-decoration-color: #008080; font-weight: bold\">0.002</span>\n",
       "</pre>\n"
      ],
      "text/plain": [
       "\u001b[32mfile:\u001b[0m\u001b[35m/\u001b[0m\u001b[35m/\u001b[0m\u001b[35m/tmp/tmpl7mf7is8/\u001b[0m\u001b[95mL3V1.xml\u001b[0m\n",
       "\u001b[32mvalid                    : TRUE\u001b[0m\n",
       "\u001b[32mcheck time \u001b[0m\u001b[1;32m(\u001b[0m\u001b[32ms\u001b[0m\u001b[1;32m)\u001b[0m\u001b[32m           : \u001b[0m\u001b[1;36m0.002\u001b[0m\n"
      ]
     },
     "metadata": {},
     "output_type": "display_data"
    },
    {
     "data": {
      "text/html": [
       "<pre style=\"white-space:pre;overflow-x:auto;line-height:normal;font-family:Menlo,'DejaVu Sans Mono',consolas,'Courier New',monospace\"><span style=\"color: #008000; text-decoration-color: #008000\">─────────────────────────────────────────────────────────────────────────────────────────────</span>\n",
       "</pre>\n"
      ],
      "text/plain": [
       "\u001b[32m─────────────────────────────────────────────────────────────────────────────────────────────\u001b[0m\n"
      ]
     },
     "metadata": {},
     "output_type": "display_data"
    },
    {
     "data": {
      "text/html": [
       "<pre style=\"white-space:pre;overflow-x:auto;line-height:normal;font-family:Menlo,'DejaVu Sans Mono',consolas,'Courier New',monospace\">\n",
       "</pre>\n"
      ],
      "text/plain": [
       "\n"
      ]
     },
     "metadata": {},
     "output_type": "display_data"
    },
    {
     "data": {
      "text/html": [
       "<pre style=\"white-space:pre;overflow-x:auto;line-height:normal;font-family:Menlo,'DejaVu Sans Mono',consolas,'Courier New',monospace\"><span style=\"color: #000080; text-decoration-color: #000080\">INFO    </span> No support for <span style=\"color: #008000; text-decoration-color: #008000\">'create_report'</span> in sbmlutils-v0.<span style=\"color: #008080; text-decoration-color: #008080; font-weight: bold\">5.7</span>.                 <a href=\"file:///home/mkoenig/git/sbmlutils/src/sbmlutils/report/sbmlreport.py\"><span style=\"color: #7f7f7f; text-decoration-color: #7f7f7f\">sbmlreport.py</span></a><span style=\"color: #7f7f7f; text-decoration-color: #7f7f7f\">:41</span>\n",
       "</pre>\n"
      ],
      "text/plain": [
       "\u001b[34mINFO    \u001b[0m No support for \u001b[32m'create_report'\u001b[0m in sbmlutils-v0.\u001b[1;36m5.7\u001b[0m.                 \u001b]8;id=125809;file:///home/mkoenig/git/sbmlutils/src/sbmlutils/report/sbmlreport.py\u001b\\\u001b[2msbmlreport.py\u001b[0m\u001b]8;;\u001b\\\u001b[2m:41\u001b[0m\n"
      ]
     },
     "metadata": {},
     "output_type": "display_data"
    },
    {
     "data": {
      "text/html": [
       "<pre style=\"white-space:pre;overflow-x:auto;line-height:normal;font-family:Menlo,'DejaVu Sans Mono',consolas,'Courier New',monospace\"><span style=\"color: #c0c0c0; text-decoration-color: #c0c0c0\">─────────────────────────────────────────────────────────────────────────────────────────────</span>\n",
       "</pre>\n"
      ],
      "text/plain": [
       "\u001b[37m─────────────────────────────────────────────────────────────────────────────────────────────\u001b[0m\n"
      ]
     },
     "metadata": {},
     "output_type": "display_data"
    },
    {
     "name": "stdout",
     "output_type": "stream",
     "text": [
      "L3V1\n",
      "--------------------------------------------------------------------------------\n",
      "<?xml version=\"1.0\" encoding=\"UTF-8\"?>\n",
      "<sbml xmlns=\"http://www.sbml.org/sbml/level3/version1/core\" xmlns:comp=\"http://www.sbml.org/sbml/level3/version1/comp/version1\" level=\"3\" version=\"1\" comp:required=\"true\">\n",
      "  <notes>\n",
      "    <body xmlns=\"http://www.w3.org/1999/xhtml\">\n",
      "      <p>Created with <a href=\"https://github.com/matthiaskoenig/sbmlutils\">https://github.com/matthiaskoenig/sbmlutils</a>.\n",
      "<a href=\"https://doi.org/10.5281/zenodo.5525390\">\n",
      "        <img src=\"https://zenodo.org/badge/DOI/10.5281/zenodo.5525390.svg\" alt=\"DOI\"/></a></p>\n",
      "      </body>\n",
      "    </notes>\n",
      "  <model id=\"L3V1\" substanceUnits=\"mole\" timeUnits=\"second\" volumeUnits=\"litre\" extentUnits=\"mole\">\n",
      "    <listOfUnitDefinitions>\n",
      "      <unitDefinition id=\"mmole\" name=\"mmole\">\n",
      "        <listOfUnits>\n",
      "          <unit kind=\"mole\" exponent=\"1\" scale=\"0\" multiplier=\"0.001\"/>\n",
      "        </listOfUnits>\n",
      "      </unitDefinition>\n",
      "      <unitDefinition id=\"mmole_per_min\" name=\"mmole/min\">\n",
      "        <listOfUnits>\n",
      "          <unit kind=\"mole\" exponent=\"1\" scale=\"0\" multiplier=\"0.001\"/>\n",
      "          <unit kind=\"second\" exponent=\"-1\" scale=\"0\" multiplier=\"60\"/>\n",
      "        </listOfUnits>\n",
      "      </unitDefinition>\n",
      "    </listOfUnitDefinitions>\n",
      "    <listOfCompartments>\n",
      "      <compartment id=\"C\" spatialDimensions=\"3\" size=\"1\" constant=\"true\"/>\n",
      "    </listOfCompartments>\n",
      "    <listOfSpecies>\n",
      "      <species id=\"S1\" compartment=\"C\" initialConcentration=\"10\" substanceUnits=\"mole\" hasOnlySubstanceUnits=\"false\" boundaryCondition=\"true\" constant=\"false\"/>\n",
      "    </listOfSpecies>\n",
      "    <listOfParameters>\n",
      "      <parameter id=\"k1\" value=\"1\" constant=\"true\"/>\n",
      "    </listOfParameters>\n",
      "    <listOfReactions>\n",
      "      <reaction id=\"R1\" reversible=\"false\" fast=\"false\">\n",
      "        <listOfReactants>\n",
      "          <speciesReference species=\"S1\" stoichiometry=\"1\" constant=\"true\"/>\n",
      "        </listOfReactants>\n",
      "        <kineticLaw>\n",
      "          <math xmlns=\"http://www.w3.org/1998/Math/MathML\">\n",
      "            <apply>\n",
      "              <times/>\n",
      "              <ci> k1 </ci>\n",
      "              <ci> S1 </ci>\n",
      "            </apply>\n",
      "          </math>\n",
      "        </kineticLaw>\n",
      "      </reaction>\n",
      "    </listOfReactions>\n",
      "  </model>\n",
      "</sbml>\n",
      "\n"
     ]
    },
    {
     "data": {
      "text/html": [
       "<pre style=\"white-space:pre;overflow-x:auto;line-height:normal;font-family:Menlo,'DejaVu Sans Mono',consolas,'Courier New',monospace\"><span style=\"color: #c0c0c0; text-decoration-color: #c0c0c0\">──────────────────────────────────────── </span>Create SBML<span style=\"color: #c0c0c0; text-decoration-color: #c0c0c0\"> ────────────────────────────────────────</span>\n",
       "</pre>\n"
      ],
      "text/plain": [
       "\u001b[37m──────────────────────────────────────── \u001b[0mCreate SBML\u001b[37m ────────────────────────────────────────\u001b[0m\n"
      ]
     },
     "metadata": {},
     "output_type": "display_data"
    },
    {
     "data": {
      "text/html": [
       "<pre style=\"white-space:pre;overflow-x:auto;line-height:normal;font-family:Menlo,'DejaVu Sans Mono',consolas,'Courier New',monospace\"><span style=\"color: #000080; text-decoration-color: #000080\">INFO    </span> Create SBML for model <span style=\"color: #008000; text-decoration-color: #008000\">'L3V2'</span>                                         <a href=\"file:///home/mkoenig/git/sbmlutils/src/sbmlutils/factory.py\"><span style=\"color: #7f7f7f; text-decoration-color: #7f7f7f\">factory.py</span></a><span style=\"color: #7f7f7f; text-decoration-color: #7f7f7f\">:2896</span>\n",
       "</pre>\n"
      ],
      "text/plain": [
       "\u001b[34mINFO    \u001b[0m Create SBML for model \u001b[32m'L3V2'\u001b[0m                                         \u001b]8;id=764926;file:///home/mkoenig/git/sbmlutils/src/sbmlutils/factory.py\u001b\\\u001b[2mfactory.py\u001b[0m\u001b]8;;\u001b\\\u001b[2m:2896\u001b[0m\n"
      ]
     },
     "metadata": {},
     "output_type": "display_data"
    },
    {
     "data": {
      "text/html": [
       "<pre style=\"white-space:pre;overflow-x:auto;line-height:normal;font-family:Menlo,'DejaVu Sans Mono',consolas,'Courier New',monospace\"><span style=\"color: #800000; text-decoration-color: #800000\">WARNING </span> <span style=\"color: #008000; text-decoration-color: #008000\">'name'</span> should be set on <span style=\"color: #008000; text-decoration-color: #008000\">'&lt;Model L3V2&gt;'</span>                                <a href=\"file:///home/mkoenig/git/sbmlutils/src/sbmlutils/factory.py\"><span style=\"color: #7f7f7f; text-decoration-color: #7f7f7f\">factory.py</span></a><span style=\"color: #7f7f7f; text-decoration-color: #7f7f7f\">:436</span>\n",
       "</pre>\n"
      ],
      "text/plain": [
       "\u001b[31mWARNING \u001b[0m \u001b[32m'name'\u001b[0m should be set on \u001b[32m'\u001b[0m\u001b[32m<\u001b[0m\u001b[32mModel\u001b[0m\u001b[32m L3V2\u001b[0m\u001b[32m>\u001b[0m\u001b[32m'\u001b[0m                                \u001b]8;id=344386;file:///home/mkoenig/git/sbmlutils/src/sbmlutils/factory.py\u001b\\\u001b[2mfactory.py\u001b[0m\u001b]8;;\u001b\\\u001b[2m:436\u001b[0m\n"
      ]
     },
     "metadata": {},
     "output_type": "display_data"
    },
    {
     "data": {
      "text/html": [
       "<pre style=\"white-space:pre;overflow-x:auto;line-height:normal;font-family:Menlo,'DejaVu Sans Mono',consolas,'Courier New',monospace\"><span style=\"color: #000080; text-decoration-color: #000080\">INFO    </span> <span style=\"color: #008000; text-decoration-color: #008000\">'length'</span> should be set in <span style=\"color: #008000; text-decoration-color: #008000\">'model_units'</span>.                              <a href=\"file:///home/mkoenig/git/sbmlutils/src/sbmlutils/factory.py\"><span style=\"color: #7f7f7f; text-decoration-color: #7f7f7f\">factory.py</span></a><span style=\"color: #7f7f7f; text-decoration-color: #7f7f7f\">:268</span>\n",
       "</pre>\n"
      ],
      "text/plain": [
       "\u001b[34mINFO    \u001b[0m \u001b[32m'length'\u001b[0m should be set in \u001b[32m'model_units'\u001b[0m.                              \u001b]8;id=519246;file:///home/mkoenig/git/sbmlutils/src/sbmlutils/factory.py\u001b\\\u001b[2mfactory.py\u001b[0m\u001b]8;;\u001b\\\u001b[2m:268\u001b[0m\n"
      ]
     },
     "metadata": {},
     "output_type": "display_data"
    },
    {
     "data": {
      "text/html": [
       "<pre style=\"white-space:pre;overflow-x:auto;line-height:normal;font-family:Menlo,'DejaVu Sans Mono',consolas,'Courier New',monospace\"><span style=\"color: #000080; text-decoration-color: #000080\">INFO    </span> <span style=\"color: #008000; text-decoration-color: #008000\">'area'</span> should be set in <span style=\"color: #008000; text-decoration-color: #008000\">'model_units'</span>.                                <a href=\"file:///home/mkoenig/git/sbmlutils/src/sbmlutils/factory.py\"><span style=\"color: #7f7f7f; text-decoration-color: #7f7f7f\">factory.py</span></a><span style=\"color: #7f7f7f; text-decoration-color: #7f7f7f\">:268</span>\n",
       "</pre>\n"
      ],
      "text/plain": [
       "\u001b[34mINFO    \u001b[0m \u001b[32m'area'\u001b[0m should be set in \u001b[32m'model_units'\u001b[0m.                                \u001b]8;id=537562;file:///home/mkoenig/git/sbmlutils/src/sbmlutils/factory.py\u001b\\\u001b[2mfactory.py\u001b[0m\u001b]8;;\u001b\\\u001b[2m:268\u001b[0m\n"
      ]
     },
     "metadata": {},
     "output_type": "display_data"
    },
    {
     "data": {
      "text/html": [
       "<pre style=\"white-space:pre;overflow-x:auto;line-height:normal;font-family:Menlo,'DejaVu Sans Mono',consolas,'Courier New',monospace\"><span style=\"color: #800000; text-decoration-color: #800000\">WARNING </span> <span style=\"color: #008000; text-decoration-color: #008000\">'name'</span> should be set on <span style=\"color: #008000; text-decoration-color: #008000\">'&lt;Parameter k1&gt;'</span>                              <a href=\"file:///home/mkoenig/git/sbmlutils/src/sbmlutils/factory.py\"><span style=\"color: #7f7f7f; text-decoration-color: #7f7f7f\">factory.py</span></a><span style=\"color: #7f7f7f; text-decoration-color: #7f7f7f\">:436</span>\n",
       "</pre>\n"
      ],
      "text/plain": [
       "\u001b[31mWARNING \u001b[0m \u001b[32m'name'\u001b[0m should be set on \u001b[32m'\u001b[0m\u001b[32m<\u001b[0m\u001b[32mParameter\u001b[0m\u001b[32m k1\u001b[0m\u001b[32m>\u001b[0m\u001b[32m'\u001b[0m                              \u001b]8;id=514665;file:///home/mkoenig/git/sbmlutils/src/sbmlutils/factory.py\u001b\\\u001b[2mfactory.py\u001b[0m\u001b]8;;\u001b\\\u001b[2m:436\u001b[0m\n"
      ]
     },
     "metadata": {},
     "output_type": "display_data"
    },
    {
     "data": {
      "text/html": [
       "<pre style=\"white-space:pre;overflow-x:auto;line-height:normal;font-family:Menlo,'DejaVu Sans Mono',consolas,'Courier New',monospace\"><span style=\"color: #800000; text-decoration-color: #800000\">WARNING </span> <span style=\"color: #008000; text-decoration-color: #008000\">'sboTerm'</span> should be set on <span style=\"color: #008000; text-decoration-color: #008000\">'&lt;Parameter k1&gt;'</span>                           <a href=\"file:///home/mkoenig/git/sbmlutils/src/sbmlutils/factory.py\"><span style=\"color: #7f7f7f; text-decoration-color: #7f7f7f\">factory.py</span></a><span style=\"color: #7f7f7f; text-decoration-color: #7f7f7f\">:461</span>\n",
       "</pre>\n"
      ],
      "text/plain": [
       "\u001b[31mWARNING \u001b[0m \u001b[32m'sboTerm'\u001b[0m should be set on \u001b[32m'\u001b[0m\u001b[32m<\u001b[0m\u001b[32mParameter\u001b[0m\u001b[32m k1\u001b[0m\u001b[32m>\u001b[0m\u001b[32m'\u001b[0m                           \u001b]8;id=171628;file:///home/mkoenig/git/sbmlutils/src/sbmlutils/factory.py\u001b\\\u001b[2mfactory.py\u001b[0m\u001b]8;;\u001b\\\u001b[2m:461\u001b[0m\n"
      ]
     },
     "metadata": {},
     "output_type": "display_data"
    },
    {
     "data": {
      "text/html": [
       "<pre style=\"white-space:pre;overflow-x:auto;line-height:normal;font-family:Menlo,'DejaVu Sans Mono',consolas,'Courier New',monospace\"><span style=\"color: #800000; text-decoration-color: #800000\">WARNING </span> <span style=\"color: #008000; text-decoration-color: #008000\">'name'</span> should be set on <span style=\"color: #008000; text-decoration-color: #008000\">'&lt;Compartment C&gt;'</span>                             <a href=\"file:///home/mkoenig/git/sbmlutils/src/sbmlutils/factory.py\"><span style=\"color: #7f7f7f; text-decoration-color: #7f7f7f\">factory.py</span></a><span style=\"color: #7f7f7f; text-decoration-color: #7f7f7f\">:436</span>\n",
       "</pre>\n"
      ],
      "text/plain": [
       "\u001b[31mWARNING \u001b[0m \u001b[32m'name'\u001b[0m should be set on \u001b[32m'\u001b[0m\u001b[32m<\u001b[0m\u001b[32mCompartment\u001b[0m\u001b[32m C\u001b[0m\u001b[32m>\u001b[0m\u001b[32m'\u001b[0m                             \u001b]8;id=106768;file:///home/mkoenig/git/sbmlutils/src/sbmlutils/factory.py\u001b\\\u001b[2mfactory.py\u001b[0m\u001b]8;;\u001b\\\u001b[2m:436\u001b[0m\n"
      ]
     },
     "metadata": {},
     "output_type": "display_data"
    },
    {
     "data": {
      "text/html": [
       "<pre style=\"white-space:pre;overflow-x:auto;line-height:normal;font-family:Menlo,'DejaVu Sans Mono',consolas,'Courier New',monospace\"><span style=\"color: #800000; text-decoration-color: #800000\">WARNING </span> <span style=\"color: #008000; text-decoration-color: #008000\">'sboTerm'</span> should be set on <span style=\"color: #008000; text-decoration-color: #008000\">'&lt;Compartment C&gt;'</span>                          <a href=\"file:///home/mkoenig/git/sbmlutils/src/sbmlutils/factory.py\"><span style=\"color: #7f7f7f; text-decoration-color: #7f7f7f\">factory.py</span></a><span style=\"color: #7f7f7f; text-decoration-color: #7f7f7f\">:461</span>\n",
       "</pre>\n"
      ],
      "text/plain": [
       "\u001b[31mWARNING \u001b[0m \u001b[32m'sboTerm'\u001b[0m should be set on \u001b[32m'\u001b[0m\u001b[32m<\u001b[0m\u001b[32mCompartment\u001b[0m\u001b[32m C\u001b[0m\u001b[32m>\u001b[0m\u001b[32m'\u001b[0m                          \u001b]8;id=218641;file:///home/mkoenig/git/sbmlutils/src/sbmlutils/factory.py\u001b\\\u001b[2mfactory.py\u001b[0m\u001b]8;;\u001b\\\u001b[2m:461\u001b[0m\n"
      ]
     },
     "metadata": {},
     "output_type": "display_data"
    },
    {
     "data": {
      "text/html": [
       "<pre style=\"white-space:pre;overflow-x:auto;line-height:normal;font-family:Menlo,'DejaVu Sans Mono',consolas,'Courier New',monospace\"><span style=\"color: #800000; text-decoration-color: #800000\">WARNING </span> <span style=\"color: #008000; text-decoration-color: #008000\">'name'</span> should be set on <span style=\"color: #008000; text-decoration-color: #008000\">'&lt;Species S1&gt;'</span>                                <a href=\"file:///home/mkoenig/git/sbmlutils/src/sbmlutils/factory.py\"><span style=\"color: #7f7f7f; text-decoration-color: #7f7f7f\">factory.py</span></a><span style=\"color: #7f7f7f; text-decoration-color: #7f7f7f\">:436</span>\n",
       "</pre>\n"
      ],
      "text/plain": [
       "\u001b[31mWARNING \u001b[0m \u001b[32m'name'\u001b[0m should be set on \u001b[32m'\u001b[0m\u001b[32m<\u001b[0m\u001b[32mSpecies\u001b[0m\u001b[32m S1\u001b[0m\u001b[32m>\u001b[0m\u001b[32m'\u001b[0m                                \u001b]8;id=950688;file:///home/mkoenig/git/sbmlutils/src/sbmlutils/factory.py\u001b\\\u001b[2mfactory.py\u001b[0m\u001b]8;;\u001b\\\u001b[2m:436\u001b[0m\n"
      ]
     },
     "metadata": {},
     "output_type": "display_data"
    },
    {
     "data": {
      "text/html": [
       "<pre style=\"white-space:pre;overflow-x:auto;line-height:normal;font-family:Menlo,'DejaVu Sans Mono',consolas,'Courier New',monospace\"><span style=\"color: #800000; text-decoration-color: #800000\">WARNING </span> <span style=\"color: #008000; text-decoration-color: #008000\">'sboTerm'</span> should be set on <span style=\"color: #008000; text-decoration-color: #008000\">'&lt;Species S1&gt;'</span>                             <a href=\"file:///home/mkoenig/git/sbmlutils/src/sbmlutils/factory.py\"><span style=\"color: #7f7f7f; text-decoration-color: #7f7f7f\">factory.py</span></a><span style=\"color: #7f7f7f; text-decoration-color: #7f7f7f\">:461</span>\n",
       "</pre>\n"
      ],
      "text/plain": [
       "\u001b[31mWARNING \u001b[0m \u001b[32m'sboTerm'\u001b[0m should be set on \u001b[32m'\u001b[0m\u001b[32m<\u001b[0m\u001b[32mSpecies\u001b[0m\u001b[32m S1\u001b[0m\u001b[32m>\u001b[0m\u001b[32m'\u001b[0m                             \u001b]8;id=719339;file:///home/mkoenig/git/sbmlutils/src/sbmlutils/factory.py\u001b\\\u001b[2mfactory.py\u001b[0m\u001b]8;;\u001b\\\u001b[2m:461\u001b[0m\n"
      ]
     },
     "metadata": {},
     "output_type": "display_data"
    },
    {
     "data": {
      "text/html": [
       "<pre style=\"white-space:pre;overflow-x:auto;line-height:normal;font-family:Menlo,'DejaVu Sans Mono',consolas,'Courier New',monospace\"><span style=\"color: #800000; text-decoration-color: #800000\">WARNING </span> <span style=\"color: #008000; text-decoration-color: #008000\">'name'</span> should be set on <span style=\"color: #008000; text-decoration-color: #008000\">'&lt;Reaction R1&gt;'</span>                               <a href=\"file:///home/mkoenig/git/sbmlutils/src/sbmlutils/factory.py\"><span style=\"color: #7f7f7f; text-decoration-color: #7f7f7f\">factory.py</span></a><span style=\"color: #7f7f7f; text-decoration-color: #7f7f7f\">:436</span>\n",
       "</pre>\n"
      ],
      "text/plain": [
       "\u001b[31mWARNING \u001b[0m \u001b[32m'name'\u001b[0m should be set on \u001b[32m'\u001b[0m\u001b[32m<\u001b[0m\u001b[32mReaction\u001b[0m\u001b[32m R1\u001b[0m\u001b[32m>\u001b[0m\u001b[32m'\u001b[0m                               \u001b]8;id=178812;file:///home/mkoenig/git/sbmlutils/src/sbmlutils/factory.py\u001b\\\u001b[2mfactory.py\u001b[0m\u001b]8;;\u001b\\\u001b[2m:436\u001b[0m\n"
      ]
     },
     "metadata": {},
     "output_type": "display_data"
    },
    {
     "data": {
      "text/html": [
       "<pre style=\"white-space:pre;overflow-x:auto;line-height:normal;font-family:Menlo,'DejaVu Sans Mono',consolas,'Courier New',monospace\"><span style=\"color: #800000; text-decoration-color: #800000\">WARNING </span> <span style=\"color: #008000; text-decoration-color: #008000\">'sboTerm'</span> should be set on <span style=\"color: #008000; text-decoration-color: #008000\">'&lt;Reaction R1&gt;'</span>                            <a href=\"file:///home/mkoenig/git/sbmlutils/src/sbmlutils/factory.py\"><span style=\"color: #7f7f7f; text-decoration-color: #7f7f7f\">factory.py</span></a><span style=\"color: #7f7f7f; text-decoration-color: #7f7f7f\">:461</span>\n",
       "</pre>\n"
      ],
      "text/plain": [
       "\u001b[31mWARNING \u001b[0m \u001b[32m'sboTerm'\u001b[0m should be set on \u001b[32m'\u001b[0m\u001b[32m<\u001b[0m\u001b[32mReaction\u001b[0m\u001b[32m R1\u001b[0m\u001b[32m>\u001b[0m\u001b[32m'\u001b[0m                            \u001b]8;id=936972;file:///home/mkoenig/git/sbmlutils/src/sbmlutils/factory.py\u001b\\\u001b[2mfactory.py\u001b[0m\u001b]8;;\u001b\\\u001b[2m:461\u001b[0m\n"
      ]
     },
     "metadata": {},
     "output_type": "display_data"
    },
    {
     "data": {
      "text/html": [
       "<pre style=\"white-space:pre;overflow-x:auto;line-height:normal;font-family:Menlo,'DejaVu Sans Mono',consolas,'Courier New',monospace\">\n",
       "</pre>\n"
      ],
      "text/plain": [
       "\n"
      ]
     },
     "metadata": {},
     "output_type": "display_data"
    },
    {
     "data": {
      "text/html": [
       "<pre style=\"white-space:pre;overflow-x:auto;line-height:normal;font-family:Menlo,'DejaVu Sans Mono',consolas,'Courier New',monospace\"><span style=\"color: #008000; text-decoration-color: #008000\">─────────────────────────────────────── </span>Validate SBML<span style=\"color: #008000; text-decoration-color: #008000\"> ───────────────────────────────────────</span>\n",
       "</pre>\n"
      ],
      "text/plain": [
       "\u001b[32m─────────────────────────────────────── \u001b[0mValidate SBML\u001b[32m ───────────────────────────────────────\u001b[0m\n"
      ]
     },
     "metadata": {},
     "output_type": "display_data"
    },
    {
     "data": {
      "text/html": [
       "<pre style=\"white-space:pre;overflow-x:auto;line-height:normal;font-family:Menlo,'DejaVu Sans Mono',consolas,'Courier New',monospace\"><span style=\"color: #008000; text-decoration-color: #008000\">file:</span><span style=\"color: #800080; text-decoration-color: #800080\">///tmp/tmpl7mf7is8/</span><span style=\"color: #ff00ff; text-decoration-color: #ff00ff\">L3V2.xml</span>\n",
       "<span style=\"color: #008000; text-decoration-color: #008000\">valid                    : TRUE</span>\n",
       "<span style=\"color: #008000; text-decoration-color: #008000\">check time </span><span style=\"color: #008000; text-decoration-color: #008000; font-weight: bold\">(</span><span style=\"color: #008000; text-decoration-color: #008000\">s</span><span style=\"color: #008000; text-decoration-color: #008000; font-weight: bold\">)</span><span style=\"color: #008000; text-decoration-color: #008000\">           : </span><span style=\"color: #008080; text-decoration-color: #008080; font-weight: bold\">0.002</span>\n",
       "</pre>\n"
      ],
      "text/plain": [
       "\u001b[32mfile:\u001b[0m\u001b[35m/\u001b[0m\u001b[35m/\u001b[0m\u001b[35m/tmp/tmpl7mf7is8/\u001b[0m\u001b[95mL3V2.xml\u001b[0m\n",
       "\u001b[32mvalid                    : TRUE\u001b[0m\n",
       "\u001b[32mcheck time \u001b[0m\u001b[1;32m(\u001b[0m\u001b[32ms\u001b[0m\u001b[1;32m)\u001b[0m\u001b[32m           : \u001b[0m\u001b[1;36m0.002\u001b[0m\n"
      ]
     },
     "metadata": {},
     "output_type": "display_data"
    },
    {
     "data": {
      "text/html": [
       "<pre style=\"white-space:pre;overflow-x:auto;line-height:normal;font-family:Menlo,'DejaVu Sans Mono',consolas,'Courier New',monospace\"><span style=\"color: #008000; text-decoration-color: #008000\">─────────────────────────────────────────────────────────────────────────────────────────────</span>\n",
       "</pre>\n"
      ],
      "text/plain": [
       "\u001b[32m─────────────────────────────────────────────────────────────────────────────────────────────\u001b[0m\n"
      ]
     },
     "metadata": {},
     "output_type": "display_data"
    },
    {
     "data": {
      "text/html": [
       "<pre style=\"white-space:pre;overflow-x:auto;line-height:normal;font-family:Menlo,'DejaVu Sans Mono',consolas,'Courier New',monospace\">\n",
       "</pre>\n"
      ],
      "text/plain": [
       "\n"
      ]
     },
     "metadata": {},
     "output_type": "display_data"
    },
    {
     "data": {
      "text/html": [
       "<pre style=\"white-space:pre;overflow-x:auto;line-height:normal;font-family:Menlo,'DejaVu Sans Mono',consolas,'Courier New',monospace\"><span style=\"color: #000080; text-decoration-color: #000080\">INFO    </span> No support for <span style=\"color: #008000; text-decoration-color: #008000\">'create_report'</span> in sbmlutils-v0.<span style=\"color: #008080; text-decoration-color: #008080; font-weight: bold\">5.7</span>.                 <a href=\"file:///home/mkoenig/git/sbmlutils/src/sbmlutils/report/sbmlreport.py\"><span style=\"color: #7f7f7f; text-decoration-color: #7f7f7f\">sbmlreport.py</span></a><span style=\"color: #7f7f7f; text-decoration-color: #7f7f7f\">:41</span>\n",
       "</pre>\n"
      ],
      "text/plain": [
       "\u001b[34mINFO    \u001b[0m No support for \u001b[32m'create_report'\u001b[0m in sbmlutils-v0.\u001b[1;36m5.7\u001b[0m.                 \u001b]8;id=191539;file:///home/mkoenig/git/sbmlutils/src/sbmlutils/report/sbmlreport.py\u001b\\\u001b[2msbmlreport.py\u001b[0m\u001b]8;;\u001b\\\u001b[2m:41\u001b[0m\n"
      ]
     },
     "metadata": {},
     "output_type": "display_data"
    },
    {
     "data": {
      "text/html": [
       "<pre style=\"white-space:pre;overflow-x:auto;line-height:normal;font-family:Menlo,'DejaVu Sans Mono',consolas,'Courier New',monospace\"><span style=\"color: #c0c0c0; text-decoration-color: #c0c0c0\">─────────────────────────────────────────────────────────────────────────────────────────────</span>\n",
       "</pre>\n"
      ],
      "text/plain": [
       "\u001b[37m─────────────────────────────────────────────────────────────────────────────────────────────\u001b[0m\n"
      ]
     },
     "metadata": {},
     "output_type": "display_data"
    },
    {
     "name": "stdout",
     "output_type": "stream",
     "text": [
      "L3V2\n"
     ]
    }
   ],
   "source": [
    "# model definition\n",
    "md: ModelDict = {\n",
    "        \"sid\": \"level_version\",\n",
    "        \"units\": U,\n",
    "        \"model_units\": ModelUnits(\n",
    "            time=U.second,\n",
    "            substance=U.mole,\n",
    "            extent=U.mole,\n",
    "            volume=U.liter,\n",
    "        ),\n",
    "        \"compartments\": [Compartment(sid=\"C\", value=1.0)],\n",
    "        \"species\": [\n",
    "            Species(\n",
    "                sid=\"S1\",\n",
    "                initialConcentration=10.0,\n",
    "                compartment=\"C\",\n",
    "                hasOnlySubstanceUnits=False,\n",
    "                boundaryCondition=True,\n",
    "            )\n",
    "        ],\n",
    "        \"parameters\": [Parameter(sid=\"k1\", value=1.0)],\n",
    "        \"reactions\": [\n",
    "            Reaction(sid=\"R1\", equation=\"S1 ->\", formula=(\"k1 * S1\", None))\n",
    "        ],\n",
    "    }\n",
    "\n",
    "supported_level_version = [\n",
    "    (1, 1), (1, 2),\n",
    "    (2, 1), (2, 2), (2, 3), (2, 4), (2, 5),\n",
    "    (3, 1), (3, 2),\n",
    "]\n",
    "\n",
    "with tempfile.TemporaryDirectory() as tmp_path:\n",
    "\n",
    "    for level, version in supported_level_version:\n",
    "        # inject information\n",
    "        md[\"sid\"] = f\"L{level}V{version}\"\n",
    "        results = create_model(\n",
    "            models=Model(**md),\n",
    "            output_dir=Path(tmp_path),\n",
    "            tmp=False,\n",
    "            units_consistency=False,\n",
    "            sbml_level=level,\n",
    "            sbml_version=version,\n",
    "        )\n",
    "        doc = read_sbml(source=results.sbml_path, validate=False)\n",
    "        print(f\"L{doc.getLevel()}V{doc.getVersion()}\")\n",
    "        if level == 3 and version == 1:\n",
    "            sbml = write_sbml(doc)\n",
    "            print(\"-\" * 80)\n",
    "            print(sbml)\n"
   ]
  },
  {
   "cell_type": "code",
   "execution_count": null,
   "metadata": {},
   "outputs": [],
   "source": []
  }
 ],
 "metadata": {
  "kernelspec": {
   "display_name": "sbmlutils",
   "language": "python",
   "name": "sbmlutils"
  },
  "language_info": {
   "codemirror_mode": {
    "name": "ipython",
    "version": 3
   },
   "file_extension": ".py",
   "mimetype": "text/x-python",
   "name": "python",
   "nbconvert_exporter": "python",
   "pygments_lexer": "ipython3",
   "version": "3.8.10"
  }
 },
 "nbformat": 4,
 "nbformat_minor": 4
}
