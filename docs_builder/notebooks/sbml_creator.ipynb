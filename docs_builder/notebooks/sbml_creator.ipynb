{
 "cells": [
  {
   "cell_type": "markdown",
   "metadata": {},
   "source": [
    "# SBML creator\n",
    "`sbmlutils` provides helpers for the creation of SBML models from scratch."
   ]
  },
  {
   "cell_type": "markdown",
   "metadata": {
    "pycharm": {
     "name": "#%% md\n"
    }
   },
   "source": [
    "## Create model\n",
    "The easist way to create a new model is by using a dictionary of information for the model creation."
   ]
  },
  {
   "cell_type": "code",
   "execution_count": 1,
   "metadata": {},
   "outputs": [],
   "source": [
    "from sbmlutils.io import read_sbml, write_sbml, validate_sbml\n",
    "from sbmlutils.creator import create_model\n",
    "\n",
    "from sbmlutils.factory import *\n",
    "from sbmlutils.units import *\n",
    "from sbmlutils.metadata import *\n",
    "from sbmlutils.metadata.sbo import *\n",
    "\n",
    "import tempfile"
   ]
  },
  {
   "cell_type": "code",
   "execution_count": 2,
   "metadata": {
    "pycharm": {
     "name": "#%%\n"
    }
   },
   "outputs": [
    {
     "name": "stderr",
     "output_type": "stream",
     "text": [
      "'output_dir' should be a Path: /tmp/tmp40llfm00\n"
     ]
    },
    {
     "name": "stdout",
     "output_type": "stream",
     "text": [
      "\u001b[1m\u001b[92m\n",
      "--------------------------------------------------------------------------------\n",
      "file:///tmp/tmp40llfm00/example_model.xml\n",
      "valid                    : TRUE\n",
      "check time (s)           : 0.001\n",
      "--------------------------------------------------------------------------------\n",
      "\u001b[0m\u001b[0m\n",
      "<?xml version=\"1.0\" encoding=\"UTF-8\"?>\n",
      "<sbml xmlns=\"http://www.sbml.org/sbml/level3/version1/core\" xmlns:comp=\"http://www.sbml.org/sbml/level3/version1/comp/version1\" level=\"3\" version=\"1\" comp:required=\"true\">\n",
      "  <model metaid=\"meta_example_model\" id=\"example_model\" name=\"example_model\" substanceUnits=\"mole\" timeUnits=\"second\" volumeUnits=\"litre\" extentUnits=\"mole\">\n",
      "    <listOfCompartments>\n",
      "      <compartment id=\"C\" spatialDimensions=\"3\" size=\"1\" constant=\"true\"/>\n",
      "    </listOfCompartments>\n",
      "    <listOfSpecies>\n",
      "      <species id=\"S1\" compartment=\"C\" initialConcentration=\"10\" substanceUnits=\"mole\" hasOnlySubstanceUnits=\"false\" boundaryCondition=\"false\" constant=\"false\"/>\n",
      "      <species id=\"S2\" compartment=\"C\" initialConcentration=\"0\" substanceUnits=\"mole\" hasOnlySubstanceUnits=\"false\" boundaryCondition=\"false\" constant=\"false\"/>\n",
      "    </listOfSpecies>\n",
      "    <listOfParameters>\n",
      "      <parameter id=\"k1\" value=\"1\" constant=\"true\"/>\n",
      "    </listOfParameters>\n",
      "    <listOfReactions>\n",
      "      <reaction id=\"R1\" reversible=\"false\" fast=\"false\">\n",
      "        <listOfReactants>\n",
      "          <speciesReference species=\"S1\" stoichiometry=\"1\" constant=\"true\"/>\n",
      "        </listOfReactants>\n",
      "        <listOfProducts>\n",
      "          <speciesReference species=\"S2\" stoichiometry=\"1\" constant=\"true\"/>\n",
      "        </listOfProducts>\n",
      "        <kineticLaw>\n",
      "          <math xmlns=\"http://www.w3.org/1998/Math/MathML\">\n",
      "            <apply>\n",
      "              <times/>\n",
      "              <ci> k1 </ci>\n",
      "              <ci> S1 </ci>\n",
      "            </apply>\n",
      "          </math>\n",
      "        </kineticLaw>\n",
      "      </reaction>\n",
      "    </listOfReactions>\n",
      "  </model>\n",
      "</sbml>\n",
      "\n"
     ]
    }
   ],
   "source": [
    "# model definition\n",
    "md = {\n",
    "        \"mid\": \"example_model\",\n",
    "        \"model_units\": ModelUnits(\n",
    "            time=\"second\",\n",
    "            substance=\"mole\",\n",
    "            extent=\"mole\",\n",
    "            volume=\"litre\",\n",
    "        ),\n",
    "        \"compartments\": [Compartment(sid=\"C\", value=1.0)],\n",
    "        \"species\": [\n",
    "            Species(\n",
    "                sid=\"S1\",\n",
    "                initialConcentration=10.0,\n",
    "                compartment=\"C\",\n",
    "                hasOnlySubstanceUnits=False,\n",
    "            ),\n",
    "            Species(\n",
    "                sid=\"S2\",\n",
    "                initialConcentration=0.0,\n",
    "                compartment=\"C\",\n",
    "                hasOnlySubstanceUnits=False,\n",
    "            )\n",
    "        ],\n",
    "        \"parameters\": [Parameter(sid=\"k1\", value=1.0)],\n",
    "        \"reactions\": [\n",
    "            Reaction(sid=\"R1\", equation=\"S1 -> S2\", formula=(\"k1 * S1\", None))\n",
    "        ],\n",
    "    }\n",
    "\n",
    "# create the model as L3V1\n",
    "with tempfile.TemporaryDirectory() as tmp_path:\n",
    "    results = create_model(\n",
    "        modules=md,\n",
    "        output_dir=tmp_path,\n",
    "        tmp=False,\n",
    "        units_consistency=False,\n",
    "        sbml_level=3,\n",
    "        sbml_version=1,\n",
    "    )\n",
    "    # show level and version and print SBML\n",
    "    doc = read_sbml(source=results.sbml_path, validate=False)\n",
    "    sbml = write_sbml(doc)\n",
    "    print(sbml)"
   ]
  },
  {
   "cell_type": "markdown",
   "metadata": {},
   "source": [
    "## Units\n",
    "It is highly recommended to annotate all units in the model. This allows automatic unit validation and unit conversions with the model.\n",
    "\n",
    "As units one can either use:\n",
    "- custom `UnitDefinitions`\n",
    "- the `libsbml.UNIT_KIND_*` units such as `UNIT_KIND_SECOND` or `UNIT_KIND_LITRE`\n",
    "- strings corresponding to the libsbml units\n",
    "\n",
    "```\n",
    "    ampere         farad  joule     lux     radian     volt\n",
    "    avogadro       gram   katal     metre   second     watt\n",
    "    becquerel      gray   kelvin    mole    siemens    weber\n",
    "    candela        henry  kilogram  newton  sievert\n",
    "    coulomb        hertz  litre     ohm     steradian\n",
    "    dimensionless  item   lumen     pascal  tesla\n",
    "```"
   ]
  },
  {
   "cell_type": "markdown",
   "metadata": {
    "pycharm": {
     "name": "#%% md\n"
    }
   },
   "source": [
    "## SBML Levels and Versions\n",
    "Models can be generated in all SBML levels and versions via the `create_model` function."
   ]
  },
  {
   "cell_type": "code",
   "execution_count": 3,
   "metadata": {
    "pycharm": {
     "name": "#%%\n"
    }
   },
   "outputs": [],
   "source": [
    "from sbmlutils.io import read_sbml, write_sbml, validate_sbml\n",
    "from sbmlutils.creator import create_model\n",
    "\n",
    "from sbmlutils.factory import *\n",
    "from sbmlutils.units import *\n",
    "from sbmlutils.metadata import *\n",
    "from sbmlutils.metadata.sbo import *\n",
    "\n",
    "from libsbml import UNIT_KIND_SECOND, UNIT_KIND_MOLE, UNIT_KIND_METER, UNIT_KIND_LITER\n",
    "\n",
    "import tempfile"
   ]
  },
  {
   "cell_type": "code",
   "execution_count": 4,
   "metadata": {
    "pycharm": {
     "name": "#%%\n"
    }
   },
   "outputs": [
    {
     "name": "stderr",
     "output_type": "stream",
     "text": [
      "'output_dir' should be a Path: /tmp/tmpy4sxgm1m\n",
      "'output_dir' should be a Path: /tmp/tmpy4sxgm1m\n",
      "'output_dir' should be a Path: /tmp/tmpy4sxgm1m\n",
      "'output_dir' should be a Path: /tmp/tmpy4sxgm1m\n",
      "'output_dir' should be a Path: /tmp/tmpy4sxgm1m\n"
     ]
    },
    {
     "name": "stdout",
     "output_type": "stream",
     "text": [
      "\u001b[1m\u001b[92m\n",
      "--------------------------------------------------------------------------------\n",
      "file:///tmp/tmpy4sxgm1m/L1V1.xml\n",
      "valid                    : TRUE\n",
      "check time (s)           : 0.001\n",
      "--------------------------------------------------------------------------------\n",
      "\u001b[0m\u001b[0m\n",
      "L1V1\n",
      "\u001b[1m\u001b[92m\n",
      "--------------------------------------------------------------------------------\n",
      "file:///tmp/tmpy4sxgm1m/L1V2.xml\n",
      "valid                    : TRUE\n",
      "check time (s)           : 0.001\n",
      "--------------------------------------------------------------------------------\n",
      "\u001b[0m\u001b[0m\n",
      "L1V2\n",
      "\u001b[1m\u001b[92m\n",
      "--------------------------------------------------------------------------------\n",
      "file:///tmp/tmpy4sxgm1m/L2V1.xml\n",
      "valid                    : TRUE\n",
      "check time (s)           : 0.001\n",
      "--------------------------------------------------------------------------------\n",
      "\u001b[0m\u001b[0m\n",
      "L2V1\n",
      "\u001b[1m\u001b[92m\n",
      "--------------------------------------------------------------------------------\n",
      "file:///tmp/tmpy4sxgm1m/L2V2.xml\n",
      "valid                    : TRUE\n",
      "check time (s)           : 0.001\n",
      "--------------------------------------------------------------------------------\n",
      "\u001b[0m\u001b[0m\n",
      "L2V2\n"
     ]
    },
    {
     "name": "stderr",
     "output_type": "stream",
     "text": [
      "'output_dir' should be a Path: /tmp/tmpy4sxgm1m\n",
      "'output_dir' should be a Path: /tmp/tmpy4sxgm1m\n",
      "'output_dir' should be a Path: /tmp/tmpy4sxgm1m\n",
      "'output_dir' should be a Path: /tmp/tmpy4sxgm1m\n"
     ]
    },
    {
     "name": "stdout",
     "output_type": "stream",
     "text": [
      "\u001b[1m\u001b[92m\n",
      "--------------------------------------------------------------------------------\n",
      "file:///tmp/tmpy4sxgm1m/L2V3.xml\n",
      "valid                    : TRUE\n",
      "check time (s)           : 0.001\n",
      "--------------------------------------------------------------------------------\n",
      "\u001b[0m\u001b[0m\n",
      "L2V3\n",
      "\u001b[1m\u001b[92m\n",
      "--------------------------------------------------------------------------------\n",
      "file:///tmp/tmpy4sxgm1m/L2V4.xml\n",
      "valid                    : TRUE\n",
      "check time (s)           : 0.001\n",
      "--------------------------------------------------------------------------------\n",
      "\u001b[0m\u001b[0m\n",
      "L2V4\n",
      "\u001b[1m\u001b[92m\n",
      "--------------------------------------------------------------------------------\n",
      "file:///tmp/tmpy4sxgm1m/L2V5.xml\n",
      "valid                    : TRUE\n",
      "check time (s)           : 0.001\n",
      "--------------------------------------------------------------------------------\n",
      "\u001b[0m\u001b[0m\n",
      "L2V5\n",
      "\u001b[1m\u001b[92m\n",
      "--------------------------------------------------------------------------------\n",
      "file:///tmp/tmpy4sxgm1m/L3V1.xml\n",
      "valid                    : TRUE\n",
      "check time (s)           : 0.001\n",
      "--------------------------------------------------------------------------------\n",
      "\u001b[0m\u001b[0m\n",
      "L3V1\n",
      "--------------------------------------------------------------------------------\n",
      "<?xml version=\"1.0\" encoding=\"UTF-8\"?>\n",
      "<sbml xmlns=\"http://www.sbml.org/sbml/level3/version1/core\" xmlns:comp=\"http://www.sbml.org/sbml/level3/version1/comp/version1\" level=\"3\" version=\"1\" comp:required=\"true\">\n",
      "  <model metaid=\"meta_L3V1\" id=\"L3V1\" name=\"L3V1\" substanceUnits=\"mole\" timeUnits=\"second\" volumeUnits=\"litre\" extentUnits=\"mole\">\n",
      "    <listOfCompartments>\n",
      "      <compartment id=\"C\" spatialDimensions=\"3\" size=\"1\" constant=\"true\"/>\n",
      "    </listOfCompartments>\n",
      "    <listOfSpecies>\n",
      "      <species id=\"S1\" compartment=\"C\" initialConcentration=\"10\" substanceUnits=\"mole\" hasOnlySubstanceUnits=\"false\" boundaryCondition=\"true\" constant=\"false\"/>\n",
      "    </listOfSpecies>\n",
      "    <listOfParameters>\n",
      "      <parameter id=\"k1\" value=\"1\" constant=\"true\"/>\n",
      "    </listOfParameters>\n",
      "    <listOfReactions>\n",
      "      <reaction id=\"R1\" reversible=\"false\" fast=\"false\">\n",
      "        <listOfReactants>\n",
      "          <speciesReference species=\"S1\" stoichiometry=\"1\" constant=\"true\"/>\n",
      "        </listOfReactants>\n",
      "        <kineticLaw>\n",
      "          <math xmlns=\"http://www.w3.org/1998/Math/MathML\">\n",
      "            <apply>\n",
      "              <times/>\n",
      "              <ci> k1 </ci>\n",
      "              <ci> S1 </ci>\n",
      "            </apply>\n",
      "          </math>\n",
      "        </kineticLaw>\n",
      "      </reaction>\n",
      "    </listOfReactions>\n",
      "  </model>\n",
      "</sbml>\n",
      "\n",
      "\u001b[1m\u001b[92m\n",
      "--------------------------------------------------------------------------------\n",
      "file:///tmp/tmpy4sxgm1m/L3V2.xml\n",
      "valid                    : TRUE\n",
      "check time (s)           : 0.001\n",
      "--------------------------------------------------------------------------------\n",
      "\u001b[0m\u001b[0m\n",
      "L3V2\n"
     ]
    }
   ],
   "source": [
    "# model definition\n",
    "md = {\n",
    "        \"mid\": \"level_version\",\n",
    "        \"model_units\": ModelUnits(\n",
    "            time=UNIT_KIND_SECOND,\n",
    "            substance=UNIT_KIND_MOLE,\n",
    "            extent=UNIT_KIND_MOLE,\n",
    "            volume=UNIT_KIND_LITER,\n",
    "        ),\n",
    "        \"compartments\": [Compartment(sid=\"C\", value=1.0)],\n",
    "        \"species\": [\n",
    "            Species(\n",
    "                sid=\"S1\",\n",
    "                initialConcentration=10.0,\n",
    "                compartment=\"C\",\n",
    "                hasOnlySubstanceUnits=False,\n",
    "                boundaryCondition=True,\n",
    "            )\n",
    "        ],\n",
    "        \"parameters\": [Parameter(sid=\"k1\", value=1.0)],\n",
    "        \"reactions\": [\n",
    "            Reaction(sid=\"R1\", equation=\"S1 ->\", formula=(\"k1 * S1\", None))\n",
    "        ],\n",
    "    }\n",
    "\n",
    "supported_level_version = [\n",
    "    (1, 1), (1, 2),\n",
    "    (2, 1), (2, 2), (2, 3), (2, 4), (2, 5),\n",
    "    (3, 1), (3, 2),\n",
    "]\n",
    "\n",
    "with tempfile.TemporaryDirectory() as tmp_path:\n",
    "\n",
    "    for level, version in supported_level_version:\n",
    "        # inject information\n",
    "        md[\"mid\"] = f\"L{level}V{version}\"\n",
    "        results = create_model(\n",
    "            modules=md,\n",
    "            output_dir=tmp_path,\n",
    "            tmp=False,\n",
    "            units_consistency=False,\n",
    "            sbml_level=level,\n",
    "            sbml_version=version,\n",
    "        )\n",
    "        doc = read_sbml(source=results.sbml_path, validate=False)\n",
    "        print(f\"L{doc.getLevel()}V{doc.getVersion()}\")\n",
    "        if level == 3 and version == 1:\n",
    "            sbml = write_sbml(doc)\n",
    "            print(\"-\" * 80)\n",
    "            print(sbml)\n"
   ]
  },
  {
   "cell_type": "markdown",
   "metadata": {
    "pycharm": {
     "name": "#%% md\n"
    }
   },
   "source": [
    "## Create FBA Model\n",
    "This example demonstrates the creation of an SBML FBA model from scratch."
   ]
  },
  {
   "cell_type": "code",
   "execution_count": 5,
   "metadata": {
    "pycharm": {
     "name": "#%%\n"
    }
   },
   "outputs": [],
   "source": [
    "from sbmlutils.io import write_sbml, validate_sbml\n",
    "from sbmlutils.creator import CoreModel\n",
    "\n",
    "from sbmlutils.factory import *\n",
    "from sbmlutils.units import *\n",
    "from sbmlutils.metadata import *\n",
    "from sbmlutils.metadata.sbo import *"
   ]
  },
  {
   "cell_type": "markdown",
   "metadata": {},
   "source": [
    "### Model building\n",
    "Creation of FBA model using multiple packages (`comp`, `fbc`)."
   ]
  }
 ],
 "metadata": {
  "kernelspec": {
   "display_name": "sbmlutils",
   "language": "python",
   "name": "sbmlutils"
  },
  "language_info": {
   "codemirror_mode": {
    "name": "ipython",
    "version": 3
   },
   "file_extension": ".py",
   "mimetype": "text/x-python",
   "name": "python",
   "nbconvert_exporter": "python",
   "pygments_lexer": "ipython3",
   "version": "3.8.10"
  }
 },
 "nbformat": 4,
 "nbformat_minor": 4
}
