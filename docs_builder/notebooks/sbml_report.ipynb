{
 "cells": [
  {
   "cell_type": "markdown",
   "metadata": {},
   "source": [
    "# SBML report\n",
    "`sbmlutils` can create HTML reports from given SBML files. Such an HTML report provides a \n",
    "simple entry point to get an overview over an existing SBML model or browse content of a model in a more human-readable format.\n",
    "\n",
    "## Create report\n",
    "The following example demonstrates how an SBML report can be created from given models."
   ]
  },
  {
   "cell_type": "code",
   "execution_count": 1,
   "metadata": {},
   "outputs": [],
   "source": [
    "from sbmlutils.report import sbmlreport"
   ]
  },
  {
   "cell_type": "markdown",
   "metadata": {},
   "source": [
    "### Repressilator\n",
    "The first report is for the repressilator downloaded from biomodels (https://www.ebi.ac.uk/biomodels/BIOMD0000000012).\n",
    "To create a report on provides the path to the SBML file and the directory where the report should be written. As part of the model report creation the model is validated by default. In this example we deactivate the `units_consistency` checks.\n",
    "\n",
    "The created SBML report can be accessed from [./reports/BIOMD0000000012.html](./reports/BIOMD0000000012.html)."
   ]
  },
  {
   "cell_type": "code",
   "execution_count": 2,
   "metadata": {},
   "outputs": [
    {
     "name": "stdout",
     "output_type": "stream",
     "text": [
      "\u001b[1m\u001b[92m\n",
      "--------------------------------------------------------------------------------\n",
      "/home/mkoenig/git/sbmlutils/docs_builder/notebooks/models/BIOMD0000000012.xml\n",
      "valid                    : TRUE\n",
      "check time (s)           : 0.008\n",
      "--------------------------------------------------------------------------------\n",
      "\u001b[0m\u001b[0m\n",
      "SBML report created: ./reports/BIOMD0000000012.html\n"
     ]
    }
   ],
   "source": [
    "# create SBML report without performing units checks\n",
    "sbmlreport.create_report(\"./models/BIOMD0000000012.xml\", report_dir=\"./reports\", \n",
    "                              units_consistency=False)"
   ]
  },
  {
   "cell_type": "markdown",
   "metadata": {},
   "source": [
    "### Platelet metabolism\n",
    "In the second example we create a report for a model for Human platelet metabolism from the BiGG model database:\n",
    "http://bigg.ucsd.edu/models/iAT_PLT_636\n",
    "    \n",
    "The created SBML report can be accessed from [./reports/iAT_PLT_636.xml.html](./reports/iAT_PLT_636.xml.html)."
   ]
  },
  {
   "cell_type": "code",
   "execution_count": 3,
   "metadata": {},
   "outputs": [
    {
     "name": "stderr",
     "output_type": "stream",
     "text": [
      "ERROR:root:\u001b[1m\u001b[91m\n",
      "--------------------------------------------------------------------------------\n",
      "/home/mkoenig/git/sbmlutils/docs_builder/notebooks/models/iAT_PLT_636.xml.gz\n",
      "valid                    : FALSE\n",
      "validation error(s)      : 1\n",
      "validation warnings(s)   : 0\n",
      "check time (s)           : 1.283\n",
      "--------------------------------------------------------------------------------\n",
      "\u001b[0m\u001b[0m\n",
      "ERROR:root:\u001b[47m\u001b[30mE0: SBML component consistency (fbc, L76, code)\u001b[0m\u001b[0m\n",
      "\u001b[91m[Error] An <objective> must have one <listOfFluxObjectives>.\u001b[0m\n",
      "\u001b[94mAn <objective> object must have one and only one instance of the <listOfFluxObjectives> object. \n",
      "Reference: L3V1 Fbc V2, Section 3.6\n",
      " <objective> 'obj' has no listOfFluxObjectives.\n",
      "\u001b[0m\n"
     ]
    },
    {
     "name": "stdout",
     "output_type": "stream",
     "text": [
      "SBML report created: ./reports/iAT_PLT_636.xml.html\n"
     ]
    }
   ],
   "source": [
    "# create SBML report without performing units checks\n",
    "sbmlreport.create_report(\"./models/iAT_PLT_636.xml.gz\", report_dir=\"./reports\", \n",
    "                              units_consistency=False, modeling_practice=False)"
   ]
  }
 ],
 "metadata": {
  "kernelspec": {
   "display_name": "sbmlutils",
   "language": "python",
   "name": "sbmlutils"
  },
  "language_info": {
   "codemirror_mode": {
    "name": "ipython",
    "version": 3
   },
   "file_extension": ".py",
   "mimetype": "text/x-python",
   "name": "python",
   "nbconvert_exporter": "python",
   "pygments_lexer": "ipython3",
   "version": "3.6.8"
  }
 },
 "nbformat": 4,
 "nbformat_minor": 4
}
