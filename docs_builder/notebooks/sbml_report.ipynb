{
 "cells": [
  {
   "cell_type": "markdown",
   "metadata": {},
   "source": [
    "# SBML report\n",
    "`sbmlutils` can create HTML reports from given SBML files. Such an HTML report provides a \n",
    "simple entry point to get an overview over an existing SBML model or browse content of a model in a more human-readable format.\n",
    "\n",
    "## Create report\n",
    "The following example demonstrates how an SBML report can be created from given models."
   ]
  },
  {
   "cell_type": "code",
   "execution_count": 1,
   "metadata": {},
   "outputs": [],
   "source": [
    "from sbmlutils.report import sbmlreport"
   ]
  },
  {
   "cell_type": "markdown",
   "metadata": {},
   "source": [
    "### Repressilator\n",
    "The first report is for the repressilator downloaded from biomodels (https://www.ebi.ac.uk/biomodels/BIOMD0000000012).\n",
    "To create a report on provides the path to the SBML file and the directory where the report should be written. As part of the model report creation the model is validated by default. In this example we deactivate the `units_consistency` checks.\n",
    "\n",
    "The created SBML report can be accessed from [./reports/BIOMD0000000012.html](./reports/BIOMD0000000012.html)."
   ]
  },
  {
   "cell_type": "code",
   "execution_count": 5,
   "metadata": {},
   "outputs": [
    {
     "name": "stdout",
     "output_type": "stream",
     "text": [
      "\u001b[1m\u001b[92m\n",
      "--------------------------------------------------------------------------------\n",
      "/home/mkoenig/git/sbmlutils/docs_builder/notebooks/models/BIOMD0000000012.xml\n",
      "valid                    : TRUE\n",
      "check time (s)           : 0.009\n",
      "--------------------------------------------------------------------------------\n",
      "\u001b[0m\u001b[0m\n"
     ]
    }
   ],
   "source": [
    "# create SBML report without performing units checks\n",
    "from notebook import BASE_DIR\n",
    "\n",
    "sbmlreport.create_report(\n",
    "    sbml_path=BASE_DIR / \"models\" / \"BIOMD0000000012.xml\", \n",
    "    output_dir=BASE_DIR / \"reports\", \n",
    "    units_consistency=False\n",
    ")"
   ]
  },
  {
   "cell_type": "markdown",
   "metadata": {},
   "source": [
    "### Platelet metabolism\n",
    "In the second example we create a report for a model for Human platelet metabolism from the BiGG model database:\n",
    "http://bigg.ucsd.edu/models/iAT_PLT_636\n",
    "    \n",
    "The created SBML report can be accessed from [./reports/iAT_PLT_636.xml.html](./reports/iAT_PLT_636.xml.html)."
   ]
  },
  {
   "cell_type": "code",
   "execution_count": 10,
   "metadata": {},
   "outputs": [
    {
     "name": "stderr",
     "output_type": "stream",
     "text": [
      "ERROR:sbmlutils.io.sbml:read_sbml error '/home/mkoenig/git/sbmlutils/docs_builder/notebooks/models/iAT_PLT_636.xml.gz': Problems reading SBML file.\n"
     ]
    },
    {
     "ename": "OSError",
     "evalue": "read_sbml error '/home/mkoenig/git/sbmlutils/docs_builder/notebooks/models/iAT_PLT_636.xml.gz': Problems reading SBML file.",
     "output_type": "error",
     "traceback": [
      "\u001b[0;31m---------------------------------------------------------------------------\u001b[0m",
      "\u001b[0;31mOSError\u001b[0m                                   Traceback (most recent call last)",
      "\u001b[0;32m<ipython-input-10-d9373e494931>\u001b[0m in \u001b[0;36m<module>\u001b[0;34m\u001b[0m\n\u001b[1;32m      1\u001b[0m \u001b[0;31m# create SBML report without performing units checks\u001b[0m\u001b[0;34m\u001b[0m\u001b[0;34m\u001b[0m\u001b[0;34m\u001b[0m\u001b[0m\n\u001b[0;32m----> 2\u001b[0;31m sbmlreport.create_report(\n\u001b[0m\u001b[1;32m      3\u001b[0m     \u001b[0mBASE_DIR\u001b[0m \u001b[0;34m/\u001b[0m \u001b[0;34m\"models\"\u001b[0m \u001b[0;34m/\u001b[0m \u001b[0;34m\"iAT_PLT_636.xml.gz\"\u001b[0m\u001b[0;34m,\u001b[0m\u001b[0;34m\u001b[0m\u001b[0;34m\u001b[0m\u001b[0m\n\u001b[1;32m      4\u001b[0m     \u001b[0moutput_dir\u001b[0m\u001b[0;34m=\u001b[0m \u001b[0mBASE_DIR\u001b[0m \u001b[0;34m/\u001b[0m \u001b[0;34m\"reports\"\u001b[0m\u001b[0;34m,\u001b[0m\u001b[0;34m\u001b[0m\u001b[0;34m\u001b[0m\u001b[0m\n\u001b[1;32m      5\u001b[0m     \u001b[0munits_consistency\u001b[0m\u001b[0;34m=\u001b[0m\u001b[0;32mFalse\u001b[0m\u001b[0;34m,\u001b[0m\u001b[0;34m\u001b[0m\u001b[0;34m\u001b[0m\u001b[0m\n",
      "\u001b[0;32m~/git/sbmlutils/sbmlutils/report/sbmlreport.py\u001b[0m in \u001b[0;36mcreate_report\u001b[0;34m(sbml_path, output_dir, promote, template, validate, log_errors, units_consistency, modeling_practice)\u001b[0m\n\u001b[1;32m     99\u001b[0m \u001b[0;34m\u001b[0m\u001b[0m\n\u001b[1;32m    100\u001b[0m     \u001b[0;31m# read sbml\u001b[0m\u001b[0;34m\u001b[0m\u001b[0;34m\u001b[0m\u001b[0;34m\u001b[0m\u001b[0m\n\u001b[0;32m--> 101\u001b[0;31m     doc = read_sbml(\n\u001b[0m\u001b[1;32m    102\u001b[0m         \u001b[0msource\u001b[0m\u001b[0;34m=\u001b[0m\u001b[0msbml_path\u001b[0m\u001b[0;34m,\u001b[0m\u001b[0;34m\u001b[0m\u001b[0;34m\u001b[0m\u001b[0m\n\u001b[1;32m    103\u001b[0m         \u001b[0mpromote\u001b[0m\u001b[0;34m=\u001b[0m\u001b[0mpromote\u001b[0m\u001b[0;34m,\u001b[0m\u001b[0;34m\u001b[0m\u001b[0;34m\u001b[0m\u001b[0m\n",
      "\u001b[0;32m~/git/sbmlutils/sbmlutils/io/sbml.py\u001b[0m in \u001b[0;36mread_sbml\u001b[0;34m(source, promote, validate, log_errors, units_consistency, modeling_practice, internal_consistency)\u001b[0m\n\u001b[1;32m     61\u001b[0m         \u001b[0merr_message\u001b[0m \u001b[0;34m=\u001b[0m \u001b[0;34mf\"read_sbml error '{source}': {err_message}\"\u001b[0m\u001b[0;34m\u001b[0m\u001b[0;34m\u001b[0m\u001b[0m\n\u001b[1;32m     62\u001b[0m         \u001b[0mlogger\u001b[0m\u001b[0;34m.\u001b[0m\u001b[0merror\u001b[0m\u001b[0;34m(\u001b[0m\u001b[0merr_message\u001b[0m\u001b[0;34m)\u001b[0m\u001b[0;34m\u001b[0m\u001b[0;34m\u001b[0m\u001b[0m\n\u001b[0;32m---> 63\u001b[0;31m         \u001b[0;32mraise\u001b[0m \u001b[0mIOError\u001b[0m\u001b[0;34m(\u001b[0m\u001b[0merr_message\u001b[0m\u001b[0;34m)\u001b[0m\u001b[0;34m\u001b[0m\u001b[0;34m\u001b[0m\u001b[0m\n\u001b[0m\u001b[1;32m     64\u001b[0m \u001b[0;34m\u001b[0m\u001b[0m\n\u001b[1;32m     65\u001b[0m     \u001b[0;31m# validate file\u001b[0m\u001b[0;34m\u001b[0m\u001b[0;34m\u001b[0m\u001b[0;34m\u001b[0m\u001b[0m\n",
      "\u001b[0;31mOSError\u001b[0m: read_sbml error '/home/mkoenig/git/sbmlutils/docs_builder/notebooks/models/iAT_PLT_636.xml.gz': Problems reading SBML file."
     ]
    }
   ],
   "source": [
    "# create SBML report without performing units checks\n",
    "sbmlreport.create_report(\n",
    "    BASE_DIR / \"models\" / \"iAT_PLT_636.xml.gz\", \n",
    "    output_dir= BASE_DIR / \"reports\", \n",
    "    units_consistency=False, \n",
    "    modeling_practice=False\n",
    ")"
   ]
  },
  {
   "cell_type": "code",
   "execution_count": null,
   "metadata": {},
   "outputs": [],
   "source": []
  }
 ],
 "metadata": {
  "kernelspec": {
   "display_name": "sbmlutils",
   "language": "python",
   "name": "sbmlutils"
  },
  "language_info": {
   "codemirror_mode": {
    "name": "ipython",
    "version": 3
   },
   "file_extension": ".py",
   "mimetype": "text/x-python",
   "name": "python",
   "nbconvert_exporter": "python",
   "pygments_lexer": "ipython3",
   "version": "3.8.2"
  }
 },
 "nbformat": 4,
 "nbformat_minor": 4
}
