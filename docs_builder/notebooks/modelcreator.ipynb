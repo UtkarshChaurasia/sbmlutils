{
 "cells": [
  {
   "cell_type": "markdown",
   "metadata": {},
   "source": [
    "# Modelcreator\n",
    "`sbmlutils` provides helpers for the creation of SBML models from scratch.\n",
    "\n",
    "## Create FBA Model\n",
    "This example demonstrates the creation of an SBML FBA model from scratch."
   ]
  },
  {
   "cell_type": "code",
   "execution_count": 1,
   "metadata": {
    "collapsed": true
   },
   "outputs": [],
   "source": [
    "from __future__ import absolute_import, print_function\n",
    "\n",
    "import libsbml\n",
    "\n",
    "from sbmlutils import comp\n",
    "from sbmlutils import sbmlio\n",
    "from sbmlutils import factory as fac\n",
    "from sbmlutils.dfba import builder, utils"
   ]
  },
  {
   "cell_type": "markdown",
   "metadata": {},
   "source": [
    "### Unit definitions\n",
    "Units for the model are defined in the following manner."
   ]
  },
  {
   "cell_type": "code",
   "execution_count": 2,
   "metadata": {},
   "outputs": [],
   "source": [
    "from libsbml import (UNIT_KIND_SECOND, UNIT_KIND_ITEM, UNIT_KIND_MOLE, \n",
    "                     UNIT_KIND_KILOGRAM, UNIT_KIND_METRE, UNIT_KIND_LITRE)\n",
    "\n",
    "main_units = {\n",
    "    'time': 's',\n",
    "    'extent': UNIT_KIND_ITEM,\n",
    "    'substance': UNIT_KIND_ITEM,\n",
    "    'length': 'm',\n",
    "    'area': 'm2',\n",
    "    'volume': 'm3',\n",
    "}\n",
    "units = [\n",
    "    fac.Unit('s', [(UNIT_KIND_SECOND, 1.0)]),\n",
    "    fac.Unit('kg', [(UNIT_KIND_KILOGRAM, 1.0)]),\n",
    "    fac.Unit('m', [(UNIT_KIND_METRE, 1.0)]),\n",
    "    fac.Unit('m2', [(UNIT_KIND_METRE, 2.0)]),\n",
    "    fac.Unit('m3', [(UNIT_KIND_METRE, 3.0)]),\n",
    "    fac.Unit('mM', [(UNIT_KIND_MOLE, 1.0, 0),\n",
    "                   (UNIT_KIND_METRE, -3.0)]),\n",
    "    fac.Unit('per_s', [(UNIT_KIND_SECOND, -1.0)]),\n",
    "    fac.Unit('item_per_s', [(UNIT_KIND_ITEM, 1.0),\n",
    "                           (UNIT_KIND_SECOND, -1.0)]),\n",
    "    fac.Unit('item_per_m3', [(UNIT_KIND_ITEM, 1.0),\n",
    "                            (UNIT_KIND_METRE, -3.0)]),\n",
    "]\n",
    "\n",
    "UNIT_TIME = 's'\n",
    "UNIT_AMOUNT = UNIT_KIND_ITEM\n",
    "UNIT_AREA = 'm2'\n",
    "UNIT_VOLUME = 'm3'\n",
    "UNIT_CONCENTRATION = 'item_per_m3'\n",
    "UNIT_FLUX = 'item_per_s'"
   ]
  },
  {
   "cell_type": "markdown",
   "metadata": {},
   "source": [
    "### Model building\n",
    "Creation of FBA model using multiple packages (`comp`, `fbc`)."
   ]
  },
  {
   "cell_type": "code",
   "execution_count": 3,
   "metadata": {},
   "outputs": [],
   "source": [
    "# Create SBMLDocument with fba\n",
    "doc = builder.template_doc_fba(model_id=\"toy\")\n",
    "model = doc.getModel()\n",
    "\n",
    "utils.set_units(model, units)\n",
    "utils.set_main_units(model, main_units)\n",
    "\n",
    "objects = [\n",
    "    # compartments\n",
    "    fac.Compartment(sid='extern', value=1.0, unit=UNIT_VOLUME, constant=True, name='external compartment',\n",
    "                   spatialDimensions=3),\n",
    "    fac.Compartment(sid='cell', value=1.0, unit=UNIT_VOLUME, constant=True, name='cell', spatialDimensions=3),\n",
    "    fac.Compartment(sid='membrane', value=1.0, unit=UNIT_AREA, constant=True, name='membrane', spatialDimensions=2),\n",
    "\n",
    "    # exchange species\n",
    "    fac.Species(sid='A', name=\"A\", value=0, unit=UNIT_AMOUNT, hasOnlySubstanceUnits=True,\n",
    "               compartment=\"extern\"),\n",
    "    fac.Species(sid='C', name=\"C\", value=0, unit=UNIT_AMOUNT, hasOnlySubstanceUnits=True,\n",
    "               compartment=\"extern\"),\n",
    "\n",
    "    # internal species\n",
    "    fac.Species(sid='B1', name=\"B1\", value=0, unit=UNIT_AMOUNT, hasOnlySubstanceUnits=True,\n",
    "               compartment=\"cell\"),\n",
    "    fac.Species(sid='B2', name=\"B2\", value=0, unit=UNIT_AMOUNT, hasOnlySubstanceUnits=True,\n",
    "               compartment=\"cell\"),\n",
    "\n",
    "    # bounds\n",
    "    fac.Parameter(sid=\"ub_R1\", value=1.0, unit=UNIT_FLUX, constant=True, sboTerm=builder.FLUX_BOUND_SBO),\n",
    "    fac.Parameter(sid=\"zero\", value=0.0, unit=UNIT_FLUX, constant=True, sboTerm=builder.FLUX_BOUND_SBO),\n",
    "    fac.Parameter(sid=\"ub_default\", value=builder.UPPER_BOUND_DEFAULT, unit=UNIT_FLUX, constant=True,\n",
    "                 sboTerm=builder.FLUX_BOUND_SBO),\n",
    "]\n",
    "fac.create_objects(model, objects)\n",
    "\n",
    "# reactions\n",
    "r1 = fac.create_reaction(model, rid=\"R1\", name=\"A import (R1)\", fast=False, reversible=True,\n",
    "                        reactants={\"A\": 1}, products={\"B1\": 1}, compartment='membrane')\n",
    "r2 = fac.create_reaction(model, rid=\"R2\", name=\"B1 <-> B2 (R2)\", fast=False, reversible=True,\n",
    "                        reactants={\"B1\": 1}, products={\"B2\": 1}, compartment='cell')\n",
    "r3 = fac.create_reaction(model, rid=\"R3\", name=\"B2 export (R3)\", fast=False, reversible=True,\n",
    "                        reactants={\"B2\": 1}, products={\"C\": 1}, compartment='membrane')\n",
    "\n",
    "# flux bounds\n",
    "fac.set_flux_bounds(r1, lb=\"zero\", ub=\"ub_R1\")\n",
    "fac.set_flux_bounds(r2, lb=\"zero\", ub=\"ub_default\")\n",
    "fac.set_flux_bounds(r3, lb=\"zero\", ub=\"ub_default\")\n",
    "\n",
    "# exchange reactions\n",
    "builder.create_exchange_reaction(model, species_id=\"A\", flux_unit=UNIT_FLUX)\n",
    "builder.create_exchange_reaction(model, species_id=\"C\", flux_unit=UNIT_FLUX)\n",
    "\n",
    "# objective function\n",
    "model_fbc = model.getPlugin(\"fbc\")\n",
    "fac.create_objective(model_fbc, oid=\"R3_maximize\", otype=\"maximize\",\n",
    "                    fluxObjectives={\"R3\": 1.0}, active=True)\n",
    "\n",
    "# write SBML file\n",
    "import tempfile\n",
    "sbml_file = tempfile.NamedTemporaryFile(suffix=\".xml\")\n",
    "sbmlio.write_sbml(doc=doc, filepath=sbml_file.name)"
   ]
  },
  {
   "cell_type": "code",
   "execution_count": null,
   "metadata": {
    "collapsed": true
   },
   "outputs": [],
   "source": []
  }
 ],
 "metadata": {
  "kernelspec": {
   "display_name": "Python 2",
   "language": "python",
   "name": "python2"
  },
  "language_info": {
   "codemirror_mode": {
    "name": "ipython",
    "version": 2
   },
   "file_extension": ".py",
   "mimetype": "text/x-python",
   "name": "python",
   "nbconvert_exporter": "python",
   "pygments_lexer": "ipython2",
   "version": "2.7.12"
  }
 },
 "nbformat": 4,
 "nbformat_minor": 1
}
