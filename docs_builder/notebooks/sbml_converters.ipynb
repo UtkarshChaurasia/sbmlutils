{
 "cells": [
  {
   "cell_type": "markdown",
   "metadata": {},
   "source": [
    "# SBML converters\n",
    "`sbmlutils` provides functionality for converting formats to SBML and SBML to some formats."
   ]
  },
  {
   "cell_type": "code",
   "execution_count": 1,
   "metadata": {},
   "outputs": [],
   "source": [
    "from sbmlutils.report import sbmlreport"
   ]
  },
  {
   "cell_type": "markdown",
   "metadata": {},
   "source": [
    "## XPP to SBML\n",
    "In this example a given xpp model is converted to SBML."
   ]
  },
  {
   "cell_type": "code",
   "execution_count": 2,
   "metadata": {},
   "outputs": [
    {
     "name": "stderr",
     "output_type": "stream",
     "text": [
      "ERROR:root:Using notes strings is deprecated, use 'Notes' instead.\n"
     ]
    },
    {
     "name": "stdout",
     "output_type": "stream",
     "text": [
      "--------------------------------------------------------------------------------\n",
      "xpp2sbml:  ./xpp/SkM_AP_KCa.ode -> ./xpp/SkM_AP_KCa.xml\n",
      "--------------------------------------------------------------------------------\n",
      "\u001b[1m\u001b[92m\n",
      "--------------------------------------------------------------------------------\n",
      "/home/mkoenig/git/sbmlutils/docs_builder/notebooks/xpp/SkM_AP_KCa.xml\n",
      "valid                    : TRUE\n",
      "check time (s)           : 0.009\n",
      "--------------------------------------------------------------------------------\n",
      "\u001b[0m\u001b[0m\n"
     ]
    }
   ],
   "source": [
    "from sbmlutils.converters import xpp\n",
    "from sbmlutils import validation\n",
    "\n",
    "# convert to SBML\n",
    "xpp.xpp2sbml(xpp_file=\"./xpp/SkM_AP_KCa.ode\", sbml_file=\"./xpp/SkM_AP_KCa.xml\")"
   ]
  }
 ],
 "metadata": {
  "kernelspec": {
   "display_name": "sbmlutils",
   "language": "python",
   "name": "sbmlutils"
  },
  "language_info": {
   "codemirror_mode": {
    "name": "ipython",
    "version": 3
   },
   "file_extension": ".py",
   "mimetype": "text/x-python",
   "name": "python",
   "nbconvert_exporter": "python",
   "pygments_lexer": "ipython3",
   "version": "3.6.8"
  }
 },
 "nbformat": 4,
 "nbformat_minor": 4
}
