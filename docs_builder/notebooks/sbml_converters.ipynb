{
 "cells": [
  {
   "cell_type": "markdown",
   "metadata": {},
   "source": [
    "# SBML converters\n",
    "`sbmlutils` provides functionality for converting formats to SBML and SBML to some formats."
   ]
  },
  {
   "cell_type": "markdown",
   "metadata": {},
   "source": [
    "## XPP to SBML\n",
    "In this example a given xpp model is converted to SBML."
   ]
  },
  {
   "cell_type": "code",
   "execution_count": 1,
   "metadata": {},
   "outputs": [
    {
     "name": "stderr",
     "output_type": "stream",
     "text": [
      "Using notes strings is deprecated, use 'Notes' instead.\n",
      "All SBML paths should be of type 'Path', but '<class 'str'>' found for: ./xpp/SkM_AP_KCa.xml\n"
     ]
    },
    {
     "name": "stdout",
     "output_type": "stream",
     "text": [
      "--------------------------------------------------------------------------------\n",
      "xpp2sbml:  ./xpp/SkM_AP_KCa.ode -> ./xpp/SkM_AP_KCa.xml\n",
      "--------------------------------------------------------------------------------\n",
      "\u001b[1m\u001b[92m\n",
      "--------------------------------------------------------------------------------\n",
      "./xpp/SkM_AP_KCa.xml\n",
      "valid                    : TRUE\n",
      "check time (s)           : 0.010\n",
      "--------------------------------------------------------------------------------\n",
      "\u001b[0m\u001b[0m\n"
     ]
    }
   ],
   "source": [
    "from sbmlutils.converters import xpp\n",
    "\n",
    "# convert to SBML\n",
    "xpp.xpp2sbml(xpp_file=\"./xpp/SkM_AP_KCa.ode\", sbml_file=\"./xpp/SkM_AP_KCa.xml\")"
   ]
  },
  {
   "cell_type": "code",
   "execution_count": null,
   "metadata": {},
   "outputs": [],
   "source": []
  }
 ],
 "metadata": {
  "kernelspec": {
   "display_name": "sbmlutils",
   "language": "python",
   "name": "sbmlutils"
  },
  "language_info": {
   "codemirror_mode": {
    "name": "ipython",
    "version": 3
   },
   "file_extension": ".py",
   "mimetype": "text/x-python",
   "name": "python",
   "nbconvert_exporter": "python",
   "pygments_lexer": "ipython3",
   "version": "3.8.2"
  }
 },
 "nbformat": 4,
 "nbformat_minor": 4
}
