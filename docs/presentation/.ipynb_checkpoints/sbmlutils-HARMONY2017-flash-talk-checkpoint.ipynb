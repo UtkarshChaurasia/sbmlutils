{
 "cells": [
  {
   "cell_type": "markdown",
   "metadata": {},
   "source": [
    "# sbmlutils"
   ]
  },
  {
   "cell_type": "markdown",
   "metadata": {},
   "source": [
    "* selection of SBML helpers in python\n",
    "* solving recurring problems/tasks\n",
    "\n",
    "Installation\n",
    "```\n",
    "pip install sbmlutils\n",
    "```\n",
    "Availability from \n",
    "\n",
    "http://github.com/matthiaskoenig/sbmlutils"
   ]
  },
  {
   "cell_type": "markdown",
   "metadata": {},
   "source": [
    "## SBML report\n",
    "* create HTML reports of SBML files\n",
    "* easy navigation and filtering\n",
    "* `fbc` and `comp` support"
   ]
  },
  {
   "cell_type": "markdown",
   "metadata": {},
   "source": [
    "## SBML model creator\n",
    "* helper functions for generation of SBML models\n",
    "* constructors with all fields \n",
    "* patterns (like generate `Parameters` for `AssignmentRules`\n",
    "* `fbc` and `comp` helpers\n",
    "* unit support"
   ]
  },
  {
   "cell_type": "markdown",
   "metadata": {},
   "source": [
    "## Dynamic FBA (DFBA)\n",
    "* implementation of dynamic FBA based on comp and fbc"
   ]
  },
  {
   "cell_type": "code",
   "execution_count": null,
   "metadata": {
    "collapsed": true
   },
   "outputs": [],
   "source": []
  }
 ],
 "metadata": {
  "kernelspec": {
   "display_name": "sbmlutils",
   "language": "python",
   "name": "sbmlutils"
  },
  "language_info": {
   "codemirror_mode": {
    "name": "ipython",
    "version": 3
   },
   "file_extension": ".py",
   "mimetype": "text/x-python",
   "name": "python",
   "nbconvert_exporter": "python",
   "pygments_lexer": "ipython3",
   "version": "3.6.1+"
  }
 },
 "nbformat": 4,
 "nbformat_minor": 2
}
